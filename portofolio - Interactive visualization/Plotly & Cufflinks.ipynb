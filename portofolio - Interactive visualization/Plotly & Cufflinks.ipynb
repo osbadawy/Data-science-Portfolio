{
 "cells": [
  {
   "cell_type": "markdown",
   "metadata": {},
   "source": [
    "# CuffLinks and plotly\n",
    "\n",
    "The following libraries are used to create dynamic table and have direct interactions with the user"
   ]
  },
  {
   "cell_type": "code",
   "execution_count": 1,
   "metadata": {
    "collapsed": true
   },
   "outputs": [
    {
     "name": "stderr",
     "output_type": "stream",
     "text": [
      "C:\\Users\\omar\\AppData\\Local\\Temp\\ipykernel_14804\\1776502603.py:1: DeprecationWarning: \n",
      "Pyarrow will become a required dependency of pandas in the next major release of pandas (pandas 3.0),\n",
      "(to allow more performant data types, such as the Arrow string type, and better interoperability with other libraries)\n",
      "but was not found to be installed on your system.\n",
      "If this would cause problems for you,\n",
      "please provide us feedback at https://github.com/pandas-dev/pandas/issues/54466\n",
      "        \n",
      "  import pandas as pd\n"
     ]
    }
   ],
   "source": [
    "import pandas as pd\n",
    "import numpy as np\n",
    "%matplotlib inline"
   ]
  },
  {
   "cell_type": "code",
   "execution_count": 2,
   "metadata": {
    "collapsed": false
   },
   "outputs": [
    {
     "name": "stdout",
     "output_type": "stream",
     "text": [
      "5.18.0\n"
     ]
    }
   ],
   "source": [
    "from plotly import __version__\n",
    "from plotly.offline import download_plotlyjs, init_notebook_mode, plot, iplot\n",
    "\n",
    "print(__version__) # requires version >= 1.9.0"
   ]
  },
  {
   "cell_type": "code",
   "execution_count": 3,
   "metadata": {
    "collapsed": true
   },
   "outputs": [],
   "source": [
    "import cufflinks as cf"
   ]
  },
  {
   "cell_type": "code",
   "execution_count": 4,
   "metadata": {
    "collapsed": false
   },
   "outputs": [
    {
     "data": {
      "text/html": [
       "        <script type=\"text/javascript\">\n",
       "        window.PlotlyConfig = {MathJaxConfig: 'local'};\n",
       "        if (window.MathJax && window.MathJax.Hub && window.MathJax.Hub.Config) {window.MathJax.Hub.Config({SVG: {font: \"STIX-Web\"}});}\n",
       "        if (typeof require !== 'undefined') {\n",
       "        require.undef(\"plotly\");\n",
       "        requirejs.config({\n",
       "            paths: {\n",
       "                'plotly': ['https://cdn.plot.ly/plotly-2.27.0.min']\n",
       "            }\n",
       "        });\n",
       "        require(['plotly'], function(Plotly) {\n",
       "            window._Plotly = Plotly;\n",
       "        });\n",
       "        }\n",
       "        </script>\n",
       "        "
      ]
     },
     "metadata": {},
     "output_type": "display_data"
    }
   ],
   "source": [
    "# For Notebooks\n",
    "init_notebook_mode(connected=True)"
   ]
  },
  {
   "cell_type": "code",
   "execution_count": 5,
   "metadata": {
    "collapsed": false
   },
   "outputs": [
    {
     "data": {
      "text/html": [
       "        <script type=\"text/javascript\">\n",
       "        window.PlotlyConfig = {MathJaxConfig: 'local'};\n",
       "        if (window.MathJax && window.MathJax.Hub && window.MathJax.Hub.Config) {window.MathJax.Hub.Config({SVG: {font: \"STIX-Web\"}});}\n",
       "        if (typeof require !== 'undefined') {\n",
       "        require.undef(\"plotly\");\n",
       "        requirejs.config({\n",
       "            paths: {\n",
       "                'plotly': ['https://cdn.plot.ly/plotly-2.27.0.min']\n",
       "            }\n",
       "        });\n",
       "        require(['plotly'], function(Plotly) {\n",
       "            window._Plotly = Plotly;\n",
       "        });\n",
       "        }\n",
       "        </script>\n",
       "        "
      ]
     },
     "metadata": {},
     "output_type": "display_data"
    }
   ],
   "source": [
    "# For offline use\n",
    "cf.go_offline()"
   ]
  },
  {
   "cell_type": "markdown",
   "metadata": {},
   "source": [
    "### Fake Data"
   ]
  },
  {
   "cell_type": "code",
   "execution_count": 6,
   "metadata": {
    "collapsed": false
   },
   "outputs": [],
   "source": [
    "df = pd.DataFrame(np.random.randn(100,4),columns='A B C D'.split())"
   ]
  },
  {
   "cell_type": "code",
   "execution_count": 7,
   "metadata": {
    "collapsed": false
   },
   "outputs": [
    {
     "data": {
      "text/html": [
       "<div>\n",
       "<style scoped>\n",
       "    .dataframe tbody tr th:only-of-type {\n",
       "        vertical-align: middle;\n",
       "    }\n",
       "\n",
       "    .dataframe tbody tr th {\n",
       "        vertical-align: top;\n",
       "    }\n",
       "\n",
       "    .dataframe thead th {\n",
       "        text-align: right;\n",
       "    }\n",
       "</style>\n",
       "<table border=\"1\" class=\"dataframe\">\n",
       "  <thead>\n",
       "    <tr style=\"text-align: right;\">\n",
       "      <th></th>\n",
       "      <th>A</th>\n",
       "      <th>B</th>\n",
       "      <th>C</th>\n",
       "      <th>D</th>\n",
       "    </tr>\n",
       "  </thead>\n",
       "  <tbody>\n",
       "    <tr>\n",
       "      <th>0</th>\n",
       "      <td>-0.124400</td>\n",
       "      <td>-0.329233</td>\n",
       "      <td>0.722283</td>\n",
       "      <td>-0.265225</td>\n",
       "    </tr>\n",
       "    <tr>\n",
       "      <th>1</th>\n",
       "      <td>0.428896</td>\n",
       "      <td>-0.173065</td>\n",
       "      <td>-2.296893</td>\n",
       "      <td>-1.142562</td>\n",
       "    </tr>\n",
       "    <tr>\n",
       "      <th>2</th>\n",
       "      <td>-0.817530</td>\n",
       "      <td>-0.646489</td>\n",
       "      <td>-0.951485</td>\n",
       "      <td>-0.261637</td>\n",
       "    </tr>\n",
       "    <tr>\n",
       "      <th>3</th>\n",
       "      <td>0.675515</td>\n",
       "      <td>0.035166</td>\n",
       "      <td>0.487866</td>\n",
       "      <td>1.492322</td>\n",
       "    </tr>\n",
       "    <tr>\n",
       "      <th>4</th>\n",
       "      <td>-0.615310</td>\n",
       "      <td>-0.797512</td>\n",
       "      <td>-1.204501</td>\n",
       "      <td>0.726429</td>\n",
       "    </tr>\n",
       "  </tbody>\n",
       "</table>\n",
       "</div>"
      ],
      "text/plain": [
       "          A         B         C         D\n",
       "0 -0.124400 -0.329233  0.722283 -0.265225\n",
       "1  0.428896 -0.173065 -2.296893 -1.142562\n",
       "2 -0.817530 -0.646489 -0.951485 -0.261637\n",
       "3  0.675515  0.035166  0.487866  1.492322\n",
       "4 -0.615310 -0.797512 -1.204501  0.726429"
      ]
     },
     "execution_count": 7,
     "metadata": {},
     "output_type": "execute_result"
    }
   ],
   "source": [
    "df.head()"
   ]
  },
  {
   "cell_type": "code",
   "execution_count": 8,
   "metadata": {
    "collapsed": true
   },
   "outputs": [],
   "source": [
    "df2 = pd.DataFrame({'Category':['A','B','C'],'Values':[32,43,50]})"
   ]
  },
  {
   "cell_type": "code",
   "execution_count": 9,
   "metadata": {
    "collapsed": false
   },
   "outputs": [
    {
     "data": {
      "text/html": [
       "<div>\n",
       "<style scoped>\n",
       "    .dataframe tbody tr th:only-of-type {\n",
       "        vertical-align: middle;\n",
       "    }\n",
       "\n",
       "    .dataframe tbody tr th {\n",
       "        vertical-align: top;\n",
       "    }\n",
       "\n",
       "    .dataframe thead th {\n",
       "        text-align: right;\n",
       "    }\n",
       "</style>\n",
       "<table border=\"1\" class=\"dataframe\">\n",
       "  <thead>\n",
       "    <tr style=\"text-align: right;\">\n",
       "      <th></th>\n",
       "      <th>Category</th>\n",
       "      <th>Values</th>\n",
       "    </tr>\n",
       "  </thead>\n",
       "  <tbody>\n",
       "    <tr>\n",
       "      <th>0</th>\n",
       "      <td>A</td>\n",
       "      <td>32</td>\n",
       "    </tr>\n",
       "    <tr>\n",
       "      <th>1</th>\n",
       "      <td>B</td>\n",
       "      <td>43</td>\n",
       "    </tr>\n",
       "    <tr>\n",
       "      <th>2</th>\n",
       "      <td>C</td>\n",
       "      <td>50</td>\n",
       "    </tr>\n",
       "  </tbody>\n",
       "</table>\n",
       "</div>"
      ],
      "text/plain": [
       "  Category  Values\n",
       "0        A      32\n",
       "1        B      43\n",
       "2        C      50"
      ]
     },
     "execution_count": 9,
     "metadata": {},
     "output_type": "execute_result"
    }
   ],
   "source": [
    "df2.head()"
   ]
  },
  {
   "cell_type": "markdown",
   "metadata": {},
   "source": [
    "## Using Cufflinks and iplot() we create the following\n",
    "\n",
    "* scatter\n",
    "* bar\n",
    "* box\n",
    "* spread\n",
    "* ratio\n",
    "* heatmap\n",
    "* surface\n",
    "* histogram\n",
    "* bubble"
   ]
  },
  {
   "cell_type": "markdown",
   "metadata": {},
   "source": [
    "## Scatter"
   ]
  },
  {
   "cell_type": "code",
   "execution_count": 10,
   "metadata": {
    "collapsed": false
   },
   "outputs": [
    {
     "data": {
      "application/vnd.plotly.v1+json": {
       "config": {
        "linkText": "Export to plot.ly",
        "plotlyServerURL": "https://plot.ly",
        "showLink": true
       },
       "data": [
        {
         "line": {
          "color": "rgba(255, 153, 51, 1.0)",
          "dash": "solid",
          "shape": "linear",
          "width": 1.3
         },
         "marker": {
          "size": 10,
          "symbol": "circle"
         },
         "mode": "markers",
         "name": "B",
         "text": "",
         "type": "scatter",
         "x": [
          -0.12440004220450178,
          0.4288963942097568,
          -0.8175302115327353,
          0.6755147919275547,
          -0.6153104058460623,
          1.5107790308864097,
          1.2082100462808407,
          -0.7482335020176383,
          -0.8536714641638459,
          1.1461753667566097,
          -0.9560439248733608,
          -0.2623236721376535,
          0.6206454997331918,
          -2.7536593672709606,
          -2.551925579372688,
          -0.2957299816380712,
          0.4192856778036452,
          -0.6953491249380691,
          0.15475760941880773,
          0.48617380809704347,
          0.08693627070381736,
          1.9967457573480847,
          0.639658220349158,
          0.1231035628216723,
          -0.1992207583298977,
          -0.1553352084036998,
          0.02128437987210216,
          0.9300513211403425,
          0.10702418457184715,
          0.14128183963017696,
          0.3184902640984109,
          0.15654965123505066,
          0.0037720975098451907,
          0.8574989631151201,
          -1.524873156706026,
          1.2495059653824245,
          0.6073264855357553,
          -0.9875479485181257,
          -1.322169307348878,
          0.9584271726985903,
          0.0782706692974436,
          -1.704483872141633,
          0.44115665830040013,
          0.6622288163647291,
          0.6363588846845296,
          -1.734962860184126,
          -0.2912216451544937,
          0.4950586402213371,
          0.557612547389266,
          -0.06094266421931948,
          0.6869022064867679,
          -0.43415825429348504,
          0.3198079834489686,
          -0.2523467679119873,
          0.9131059077485624,
          -1.4506650781865362,
          -2.1524237796060404,
          -2.3173424895459673,
          -0.9433163103883199,
          -1.0491851949857525,
          1.2235234503502748,
          0.9677371433229299,
          -0.30767172753788974,
          -0.13469480143733428,
          -1.2423329913874182,
          1.8531858555119145,
          0.2112700497316099,
          0.5371965566890142,
          1.3730674720787115,
          1.434921988803041,
          -0.4359874816165674,
          0.3428091469169689,
          1.1070321770260403,
          -1.208607648829903,
          2.63117347542205,
          0.8825160660681278,
          -0.6623201166297342,
          -0.6306833549066874,
          -1.219241361331293,
          0.07525070940976299,
          0.07519785579755203,
          2.0305258977375433,
          0.5110479699335309,
          -0.7954677473214181,
          -0.7044593446025139,
          0.3767881524556384,
          0.3269154608386359,
          -0.06190339297760778,
          -0.4169257177901647,
          0.07500048057030348,
          -1.392003397255068,
          0.4097021895823168,
          -1.3790534978386195,
          0.051186016716467796,
          0.29304475955680076,
          -1.0396697959748253,
          1.7724847298638957,
          0.9293382363986284,
          0.8248476489508761,
          -0.22462868204430908
         ],
         "y": [
          -0.3292325397486561,
          -0.17306522699908652,
          -0.6464893575702781,
          0.035165550743715045,
          -0.7975115999666432,
          -1.430328480017783,
          0.26116558389628347,
          0.07960050613028784,
          0.7028102915581942,
          2.0570382035915005,
          -0.5068918951122974,
          -0.7636371272817802,
          -0.4273639294913696,
          1.9713152588974416,
          -0.24174708148803523,
          -0.5717925095990226,
          -0.03146683755804916,
          0.6564120750201057,
          -0.652438690736643,
          -0.9056675434703751,
          -1.076584825682077,
          1.0776390136450578,
          -0.356327853903885,
          -0.5848105957530477,
          -0.24535200012712352,
          0.444403228371304,
          -1.5351513633084226,
          1.7811615156793303,
          -0.9247780299987302,
          0.31197270302490065,
          0.5550095485631508,
          -0.6185607852307881,
          -1.1388129539863996,
          -1.266412441215088,
          0.5979035395425927,
          1.978510932245443,
          0.06511097243906205,
          -0.5467623530523096,
          -1.178444759499918,
          -0.007838906241009677,
          -0.49944841820271535,
          -0.9303042630160602,
          0.9759709785816392,
          0.5172466497800202,
          -1.1444394974675458,
          -1.7784613832164344,
          0.6638154792009108,
          -0.3622885492260522,
          1.3589544727914418,
          -0.5015129319685158,
          -0.5429978811817414,
          0.10793978065134847,
          -1.0240025991923145,
          -1.0308103961262272,
          1.0974553509396936,
          -0.2708058472723366,
          1.5055398215120048,
          -0.18215823631142825,
          1.7955669320067176,
          0.7691852071196374,
          0.631587772358769,
          0.10386441645062747,
          0.07955685662895058,
          1.429489477411851,
          -0.08232008806820637,
          0.7348310083142334,
          0.3477679524781943,
          -0.259581561491272,
          -1.3952556296419927,
          -0.8754676875006271,
          1.6260696308729057,
          0.9479491547842962,
          0.02757355901737411,
          -0.15976649349700167,
          -0.2417770491794492,
          -0.6396560158854687,
          0.5211048472942529,
          -1.7939978388073674,
          0.46535042408233745,
          -0.02436409592451531,
          0.21566909214220353,
          -2.303823790069858,
          1.3527164139007362,
          1.4973038258870448,
          -1.3369400086152066,
          0.8013792393872382,
          1.454200833131103,
          0.23862706580293014,
          0.32212990417758075,
          0.6816575643769174,
          -0.7105082611355769,
          -1.109037760046857,
          0.5375768406827974,
          0.7037831800759476,
          -0.7304877597086991,
          0.8158754408165058,
          0.9573349468546526,
          -0.33959823506780945,
          -2.5038225065530737,
          -0.4634758667183664
         ]
        }
       ],
       "layout": {
        "legend": {
         "bgcolor": "#F5F6F9",
         "font": {
          "color": "#4D5663"
         }
        },
        "paper_bgcolor": "#F5F6F9",
        "plot_bgcolor": "#F5F6F9",
        "template": {
         "data": {
          "bar": [
           {
            "error_x": {
             "color": "#2a3f5f"
            },
            "error_y": {
             "color": "#2a3f5f"
            },
            "marker": {
             "line": {
              "color": "#E5ECF6",
              "width": 0.5
             },
             "pattern": {
              "fillmode": "overlay",
              "size": 10,
              "solidity": 0.2
             }
            },
            "type": "bar"
           }
          ],
          "barpolar": [
           {
            "marker": {
             "line": {
              "color": "#E5ECF6",
              "width": 0.5
             },
             "pattern": {
              "fillmode": "overlay",
              "size": 10,
              "solidity": 0.2
             }
            },
            "type": "barpolar"
           }
          ],
          "carpet": [
           {
            "aaxis": {
             "endlinecolor": "#2a3f5f",
             "gridcolor": "white",
             "linecolor": "white",
             "minorgridcolor": "white",
             "startlinecolor": "#2a3f5f"
            },
            "baxis": {
             "endlinecolor": "#2a3f5f",
             "gridcolor": "white",
             "linecolor": "white",
             "minorgridcolor": "white",
             "startlinecolor": "#2a3f5f"
            },
            "type": "carpet"
           }
          ],
          "choropleth": [
           {
            "colorbar": {
             "outlinewidth": 0,
             "ticks": ""
            },
            "type": "choropleth"
           }
          ],
          "contour": [
           {
            "colorbar": {
             "outlinewidth": 0,
             "ticks": ""
            },
            "colorscale": [
             [
              0,
              "#0d0887"
             ],
             [
              0.1111111111111111,
              "#46039f"
             ],
             [
              0.2222222222222222,
              "#7201a8"
             ],
             [
              0.3333333333333333,
              "#9c179e"
             ],
             [
              0.4444444444444444,
              "#bd3786"
             ],
             [
              0.5555555555555556,
              "#d8576b"
             ],
             [
              0.6666666666666666,
              "#ed7953"
             ],
             [
              0.7777777777777778,
              "#fb9f3a"
             ],
             [
              0.8888888888888888,
              "#fdca26"
             ],
             [
              1,
              "#f0f921"
             ]
            ],
            "type": "contour"
           }
          ],
          "contourcarpet": [
           {
            "colorbar": {
             "outlinewidth": 0,
             "ticks": ""
            },
            "type": "contourcarpet"
           }
          ],
          "heatmap": [
           {
            "colorbar": {
             "outlinewidth": 0,
             "ticks": ""
            },
            "colorscale": [
             [
              0,
              "#0d0887"
             ],
             [
              0.1111111111111111,
              "#46039f"
             ],
             [
              0.2222222222222222,
              "#7201a8"
             ],
             [
              0.3333333333333333,
              "#9c179e"
             ],
             [
              0.4444444444444444,
              "#bd3786"
             ],
             [
              0.5555555555555556,
              "#d8576b"
             ],
             [
              0.6666666666666666,
              "#ed7953"
             ],
             [
              0.7777777777777778,
              "#fb9f3a"
             ],
             [
              0.8888888888888888,
              "#fdca26"
             ],
             [
              1,
              "#f0f921"
             ]
            ],
            "type": "heatmap"
           }
          ],
          "heatmapgl": [
           {
            "colorbar": {
             "outlinewidth": 0,
             "ticks": ""
            },
            "colorscale": [
             [
              0,
              "#0d0887"
             ],
             [
              0.1111111111111111,
              "#46039f"
             ],
             [
              0.2222222222222222,
              "#7201a8"
             ],
             [
              0.3333333333333333,
              "#9c179e"
             ],
             [
              0.4444444444444444,
              "#bd3786"
             ],
             [
              0.5555555555555556,
              "#d8576b"
             ],
             [
              0.6666666666666666,
              "#ed7953"
             ],
             [
              0.7777777777777778,
              "#fb9f3a"
             ],
             [
              0.8888888888888888,
              "#fdca26"
             ],
             [
              1,
              "#f0f921"
             ]
            ],
            "type": "heatmapgl"
           }
          ],
          "histogram": [
           {
            "marker": {
             "pattern": {
              "fillmode": "overlay",
              "size": 10,
              "solidity": 0.2
             }
            },
            "type": "histogram"
           }
          ],
          "histogram2d": [
           {
            "colorbar": {
             "outlinewidth": 0,
             "ticks": ""
            },
            "colorscale": [
             [
              0,
              "#0d0887"
             ],
             [
              0.1111111111111111,
              "#46039f"
             ],
             [
              0.2222222222222222,
              "#7201a8"
             ],
             [
              0.3333333333333333,
              "#9c179e"
             ],
             [
              0.4444444444444444,
              "#bd3786"
             ],
             [
              0.5555555555555556,
              "#d8576b"
             ],
             [
              0.6666666666666666,
              "#ed7953"
             ],
             [
              0.7777777777777778,
              "#fb9f3a"
             ],
             [
              0.8888888888888888,
              "#fdca26"
             ],
             [
              1,
              "#f0f921"
             ]
            ],
            "type": "histogram2d"
           }
          ],
          "histogram2dcontour": [
           {
            "colorbar": {
             "outlinewidth": 0,
             "ticks": ""
            },
            "colorscale": [
             [
              0,
              "#0d0887"
             ],
             [
              0.1111111111111111,
              "#46039f"
             ],
             [
              0.2222222222222222,
              "#7201a8"
             ],
             [
              0.3333333333333333,
              "#9c179e"
             ],
             [
              0.4444444444444444,
              "#bd3786"
             ],
             [
              0.5555555555555556,
              "#d8576b"
             ],
             [
              0.6666666666666666,
              "#ed7953"
             ],
             [
              0.7777777777777778,
              "#fb9f3a"
             ],
             [
              0.8888888888888888,
              "#fdca26"
             ],
             [
              1,
              "#f0f921"
             ]
            ],
            "type": "histogram2dcontour"
           }
          ],
          "mesh3d": [
           {
            "colorbar": {
             "outlinewidth": 0,
             "ticks": ""
            },
            "type": "mesh3d"
           }
          ],
          "parcoords": [
           {
            "line": {
             "colorbar": {
              "outlinewidth": 0,
              "ticks": ""
             }
            },
            "type": "parcoords"
           }
          ],
          "pie": [
           {
            "automargin": true,
            "type": "pie"
           }
          ],
          "scatter": [
           {
            "fillpattern": {
             "fillmode": "overlay",
             "size": 10,
             "solidity": 0.2
            },
            "type": "scatter"
           }
          ],
          "scatter3d": [
           {
            "line": {
             "colorbar": {
              "outlinewidth": 0,
              "ticks": ""
             }
            },
            "marker": {
             "colorbar": {
              "outlinewidth": 0,
              "ticks": ""
             }
            },
            "type": "scatter3d"
           }
          ],
          "scattercarpet": [
           {
            "marker": {
             "colorbar": {
              "outlinewidth": 0,
              "ticks": ""
             }
            },
            "type": "scattercarpet"
           }
          ],
          "scattergeo": [
           {
            "marker": {
             "colorbar": {
              "outlinewidth": 0,
              "ticks": ""
             }
            },
            "type": "scattergeo"
           }
          ],
          "scattergl": [
           {
            "marker": {
             "colorbar": {
              "outlinewidth": 0,
              "ticks": ""
             }
            },
            "type": "scattergl"
           }
          ],
          "scattermapbox": [
           {
            "marker": {
             "colorbar": {
              "outlinewidth": 0,
              "ticks": ""
             }
            },
            "type": "scattermapbox"
           }
          ],
          "scatterpolar": [
           {
            "marker": {
             "colorbar": {
              "outlinewidth": 0,
              "ticks": ""
             }
            },
            "type": "scatterpolar"
           }
          ],
          "scatterpolargl": [
           {
            "marker": {
             "colorbar": {
              "outlinewidth": 0,
              "ticks": ""
             }
            },
            "type": "scatterpolargl"
           }
          ],
          "scatterternary": [
           {
            "marker": {
             "colorbar": {
              "outlinewidth": 0,
              "ticks": ""
             }
            },
            "type": "scatterternary"
           }
          ],
          "surface": [
           {
            "colorbar": {
             "outlinewidth": 0,
             "ticks": ""
            },
            "colorscale": [
             [
              0,
              "#0d0887"
             ],
             [
              0.1111111111111111,
              "#46039f"
             ],
             [
              0.2222222222222222,
              "#7201a8"
             ],
             [
              0.3333333333333333,
              "#9c179e"
             ],
             [
              0.4444444444444444,
              "#bd3786"
             ],
             [
              0.5555555555555556,
              "#d8576b"
             ],
             [
              0.6666666666666666,
              "#ed7953"
             ],
             [
              0.7777777777777778,
              "#fb9f3a"
             ],
             [
              0.8888888888888888,
              "#fdca26"
             ],
             [
              1,
              "#f0f921"
             ]
            ],
            "type": "surface"
           }
          ],
          "table": [
           {
            "cells": {
             "fill": {
              "color": "#EBF0F8"
             },
             "line": {
              "color": "white"
             }
            },
            "header": {
             "fill": {
              "color": "#C8D4E3"
             },
             "line": {
              "color": "white"
             }
            },
            "type": "table"
           }
          ]
         },
         "layout": {
          "annotationdefaults": {
           "arrowcolor": "#2a3f5f",
           "arrowhead": 0,
           "arrowwidth": 1
          },
          "autotypenumbers": "strict",
          "coloraxis": {
           "colorbar": {
            "outlinewidth": 0,
            "ticks": ""
           }
          },
          "colorscale": {
           "diverging": [
            [
             0,
             "#8e0152"
            ],
            [
             0.1,
             "#c51b7d"
            ],
            [
             0.2,
             "#de77ae"
            ],
            [
             0.3,
             "#f1b6da"
            ],
            [
             0.4,
             "#fde0ef"
            ],
            [
             0.5,
             "#f7f7f7"
            ],
            [
             0.6,
             "#e6f5d0"
            ],
            [
             0.7,
             "#b8e186"
            ],
            [
             0.8,
             "#7fbc41"
            ],
            [
             0.9,
             "#4d9221"
            ],
            [
             1,
             "#276419"
            ]
           ],
           "sequential": [
            [
             0,
             "#0d0887"
            ],
            [
             0.1111111111111111,
             "#46039f"
            ],
            [
             0.2222222222222222,
             "#7201a8"
            ],
            [
             0.3333333333333333,
             "#9c179e"
            ],
            [
             0.4444444444444444,
             "#bd3786"
            ],
            [
             0.5555555555555556,
             "#d8576b"
            ],
            [
             0.6666666666666666,
             "#ed7953"
            ],
            [
             0.7777777777777778,
             "#fb9f3a"
            ],
            [
             0.8888888888888888,
             "#fdca26"
            ],
            [
             1,
             "#f0f921"
            ]
           ],
           "sequentialminus": [
            [
             0,
             "#0d0887"
            ],
            [
             0.1111111111111111,
             "#46039f"
            ],
            [
             0.2222222222222222,
             "#7201a8"
            ],
            [
             0.3333333333333333,
             "#9c179e"
            ],
            [
             0.4444444444444444,
             "#bd3786"
            ],
            [
             0.5555555555555556,
             "#d8576b"
            ],
            [
             0.6666666666666666,
             "#ed7953"
            ],
            [
             0.7777777777777778,
             "#fb9f3a"
            ],
            [
             0.8888888888888888,
             "#fdca26"
            ],
            [
             1,
             "#f0f921"
            ]
           ]
          },
          "colorway": [
           "#636efa",
           "#EF553B",
           "#00cc96",
           "#ab63fa",
           "#FFA15A",
           "#19d3f3",
           "#FF6692",
           "#B6E880",
           "#FF97FF",
           "#FECB52"
          ],
          "font": {
           "color": "#2a3f5f"
          },
          "geo": {
           "bgcolor": "white",
           "lakecolor": "white",
           "landcolor": "#E5ECF6",
           "showlakes": true,
           "showland": true,
           "subunitcolor": "white"
          },
          "hoverlabel": {
           "align": "left"
          },
          "hovermode": "closest",
          "mapbox": {
           "style": "light"
          },
          "paper_bgcolor": "white",
          "plot_bgcolor": "#E5ECF6",
          "polar": {
           "angularaxis": {
            "gridcolor": "white",
            "linecolor": "white",
            "ticks": ""
           },
           "bgcolor": "#E5ECF6",
           "radialaxis": {
            "gridcolor": "white",
            "linecolor": "white",
            "ticks": ""
           }
          },
          "scene": {
           "xaxis": {
            "backgroundcolor": "#E5ECF6",
            "gridcolor": "white",
            "gridwidth": 2,
            "linecolor": "white",
            "showbackground": true,
            "ticks": "",
            "zerolinecolor": "white"
           },
           "yaxis": {
            "backgroundcolor": "#E5ECF6",
            "gridcolor": "white",
            "gridwidth": 2,
            "linecolor": "white",
            "showbackground": true,
            "ticks": "",
            "zerolinecolor": "white"
           },
           "zaxis": {
            "backgroundcolor": "#E5ECF6",
            "gridcolor": "white",
            "gridwidth": 2,
            "linecolor": "white",
            "showbackground": true,
            "ticks": "",
            "zerolinecolor": "white"
           }
          },
          "shapedefaults": {
           "line": {
            "color": "#2a3f5f"
           }
          },
          "ternary": {
           "aaxis": {
            "gridcolor": "white",
            "linecolor": "white",
            "ticks": ""
           },
           "baxis": {
            "gridcolor": "white",
            "linecolor": "white",
            "ticks": ""
           },
           "bgcolor": "#E5ECF6",
           "caxis": {
            "gridcolor": "white",
            "linecolor": "white",
            "ticks": ""
           }
          },
          "title": {
           "x": 0.05
          },
          "xaxis": {
           "automargin": true,
           "gridcolor": "white",
           "linecolor": "white",
           "ticks": "",
           "title": {
            "standoff": 15
           },
           "zerolinecolor": "white",
           "zerolinewidth": 2
          },
          "yaxis": {
           "automargin": true,
           "gridcolor": "white",
           "linecolor": "white",
           "ticks": "",
           "title": {
            "standoff": 15
           },
           "zerolinecolor": "white",
           "zerolinewidth": 2
          }
         }
        },
        "title": {
         "font": {
          "color": "#4D5663"
         }
        },
        "xaxis": {
         "gridcolor": "#E1E5ED",
         "showgrid": true,
         "tickfont": {
          "color": "#4D5663"
         },
         "title": {
          "font": {
           "color": "#4D5663"
          },
          "text": ""
         },
         "zerolinecolor": "#E1E5ED"
        },
        "yaxis": {
         "gridcolor": "#E1E5ED",
         "showgrid": true,
         "tickfont": {
          "color": "#4D5663"
         },
         "title": {
          "font": {
           "color": "#4D5663"
          },
          "text": ""
         },
         "zerolinecolor": "#E1E5ED"
        }
       }
      },
      "text/html": [
       "<div>                            <div id=\"3f94b76b-79d9-48ec-a8b0-bc87118190fd\" class=\"plotly-graph-div\" style=\"height:525px; width:100%;\"></div>            <script type=\"text/javascript\">                require([\"plotly\"], function(Plotly) {                    window.PLOTLYENV=window.PLOTLYENV || {};\n",
       "                    window.PLOTLYENV.BASE_URL='https://plot.ly';                                    if (document.getElementById(\"3f94b76b-79d9-48ec-a8b0-bc87118190fd\")) {                    Plotly.newPlot(                        \"3f94b76b-79d9-48ec-a8b0-bc87118190fd\",                        [{\"line\":{\"color\":\"rgba(255, 153, 51, 1.0)\",\"dash\":\"solid\",\"shape\":\"linear\",\"width\":1.3},\"marker\":{\"size\":10,\"symbol\":\"circle\"},\"mode\":\"markers\",\"name\":\"B\",\"text\":\"\",\"x\":[-0.12440004220450178,0.4288963942097568,-0.8175302115327353,0.6755147919275547,-0.6153104058460623,1.5107790308864097,1.2082100462808407,-0.7482335020176383,-0.8536714641638459,1.1461753667566097,-0.9560439248733608,-0.2623236721376535,0.6206454997331918,-2.7536593672709606,-2.551925579372688,-0.2957299816380712,0.4192856778036452,-0.6953491249380691,0.15475760941880773,0.48617380809704347,0.08693627070381736,1.9967457573480847,0.639658220349158,0.1231035628216723,-0.1992207583298977,-0.1553352084036998,0.02128437987210216,0.9300513211403425,0.10702418457184715,0.14128183963017696,0.3184902640984109,0.15654965123505066,0.0037720975098451907,0.8574989631151201,-1.524873156706026,1.2495059653824245,0.6073264855357553,-0.9875479485181257,-1.322169307348878,0.9584271726985903,0.0782706692974436,-1.704483872141633,0.44115665830040013,0.6622288163647291,0.6363588846845296,-1.734962860184126,-0.2912216451544937,0.4950586402213371,0.557612547389266,-0.06094266421931948,0.6869022064867679,-0.43415825429348504,0.3198079834489686,-0.2523467679119873,0.9131059077485624,-1.4506650781865362,-2.1524237796060404,-2.3173424895459673,-0.9433163103883199,-1.0491851949857525,1.2235234503502748,0.9677371433229299,-0.30767172753788974,-0.13469480143733428,-1.2423329913874182,1.8531858555119145,0.2112700497316099,0.5371965566890142,1.3730674720787115,1.434921988803041,-0.4359874816165674,0.3428091469169689,1.1070321770260403,-1.208607648829903,2.63117347542205,0.8825160660681278,-0.6623201166297342,-0.6306833549066874,-1.219241361331293,0.07525070940976299,0.07519785579755203,2.0305258977375433,0.5110479699335309,-0.7954677473214181,-0.7044593446025139,0.3767881524556384,0.3269154608386359,-0.06190339297760778,-0.4169257177901647,0.07500048057030348,-1.392003397255068,0.4097021895823168,-1.3790534978386195,0.051186016716467796,0.29304475955680076,-1.0396697959748253,1.7724847298638957,0.9293382363986284,0.8248476489508761,-0.22462868204430908],\"y\":[-0.3292325397486561,-0.17306522699908652,-0.6464893575702781,0.035165550743715045,-0.7975115999666432,-1.430328480017783,0.26116558389628347,0.07960050613028784,0.7028102915581942,2.0570382035915005,-0.5068918951122974,-0.7636371272817802,-0.4273639294913696,1.9713152588974416,-0.24174708148803523,-0.5717925095990226,-0.03146683755804916,0.6564120750201057,-0.652438690736643,-0.9056675434703751,-1.076584825682077,1.0776390136450578,-0.356327853903885,-0.5848105957530477,-0.24535200012712352,0.444403228371304,-1.5351513633084226,1.7811615156793303,-0.9247780299987302,0.31197270302490065,0.5550095485631508,-0.6185607852307881,-1.1388129539863996,-1.266412441215088,0.5979035395425927,1.978510932245443,0.06511097243906205,-0.5467623530523096,-1.178444759499918,-0.007838906241009677,-0.49944841820271535,-0.9303042630160602,0.9759709785816392,0.5172466497800202,-1.1444394974675458,-1.7784613832164344,0.6638154792009108,-0.3622885492260522,1.3589544727914418,-0.5015129319685158,-0.5429978811817414,0.10793978065134847,-1.0240025991923145,-1.0308103961262272,1.0974553509396936,-0.2708058472723366,1.5055398215120048,-0.18215823631142825,1.7955669320067176,0.7691852071196374,0.631587772358769,0.10386441645062747,0.07955685662895058,1.429489477411851,-0.08232008806820637,0.7348310083142334,0.3477679524781943,-0.259581561491272,-1.3952556296419927,-0.8754676875006271,1.6260696308729057,0.9479491547842962,0.02757355901737411,-0.15976649349700167,-0.2417770491794492,-0.6396560158854687,0.5211048472942529,-1.7939978388073674,0.46535042408233745,-0.02436409592451531,0.21566909214220353,-2.303823790069858,1.3527164139007362,1.4973038258870448,-1.3369400086152066,0.8013792393872382,1.454200833131103,0.23862706580293014,0.32212990417758075,0.6816575643769174,-0.7105082611355769,-1.109037760046857,0.5375768406827974,0.7037831800759476,-0.7304877597086991,0.8158754408165058,0.9573349468546526,-0.33959823506780945,-2.5038225065530737,-0.4634758667183664],\"type\":\"scatter\"}],                        {\"legend\":{\"bgcolor\":\"#F5F6F9\",\"font\":{\"color\":\"#4D5663\"}},\"paper_bgcolor\":\"#F5F6F9\",\"plot_bgcolor\":\"#F5F6F9\",\"template\":{\"data\":{\"barpolar\":[{\"marker\":{\"line\":{\"color\":\"#E5ECF6\",\"width\":0.5},\"pattern\":{\"fillmode\":\"overlay\",\"size\":10,\"solidity\":0.2}},\"type\":\"barpolar\"}],\"bar\":[{\"error_x\":{\"color\":\"#2a3f5f\"},\"error_y\":{\"color\":\"#2a3f5f\"},\"marker\":{\"line\":{\"color\":\"#E5ECF6\",\"width\":0.5},\"pattern\":{\"fillmode\":\"overlay\",\"size\":10,\"solidity\":0.2}},\"type\":\"bar\"}],\"carpet\":[{\"aaxis\":{\"endlinecolor\":\"#2a3f5f\",\"gridcolor\":\"white\",\"linecolor\":\"white\",\"minorgridcolor\":\"white\",\"startlinecolor\":\"#2a3f5f\"},\"baxis\":{\"endlinecolor\":\"#2a3f5f\",\"gridcolor\":\"white\",\"linecolor\":\"white\",\"minorgridcolor\":\"white\",\"startlinecolor\":\"#2a3f5f\"},\"type\":\"carpet\"}],\"choropleth\":[{\"colorbar\":{\"outlinewidth\":0,\"ticks\":\"\"},\"type\":\"choropleth\"}],\"contourcarpet\":[{\"colorbar\":{\"outlinewidth\":0,\"ticks\":\"\"},\"type\":\"contourcarpet\"}],\"contour\":[{\"colorbar\":{\"outlinewidth\":0,\"ticks\":\"\"},\"colorscale\":[[0.0,\"#0d0887\"],[0.1111111111111111,\"#46039f\"],[0.2222222222222222,\"#7201a8\"],[0.3333333333333333,\"#9c179e\"],[0.4444444444444444,\"#bd3786\"],[0.5555555555555556,\"#d8576b\"],[0.6666666666666666,\"#ed7953\"],[0.7777777777777778,\"#fb9f3a\"],[0.8888888888888888,\"#fdca26\"],[1.0,\"#f0f921\"]],\"type\":\"contour\"}],\"heatmapgl\":[{\"colorbar\":{\"outlinewidth\":0,\"ticks\":\"\"},\"colorscale\":[[0.0,\"#0d0887\"],[0.1111111111111111,\"#46039f\"],[0.2222222222222222,\"#7201a8\"],[0.3333333333333333,\"#9c179e\"],[0.4444444444444444,\"#bd3786\"],[0.5555555555555556,\"#d8576b\"],[0.6666666666666666,\"#ed7953\"],[0.7777777777777778,\"#fb9f3a\"],[0.8888888888888888,\"#fdca26\"],[1.0,\"#f0f921\"]],\"type\":\"heatmapgl\"}],\"heatmap\":[{\"colorbar\":{\"outlinewidth\":0,\"ticks\":\"\"},\"colorscale\":[[0.0,\"#0d0887\"],[0.1111111111111111,\"#46039f\"],[0.2222222222222222,\"#7201a8\"],[0.3333333333333333,\"#9c179e\"],[0.4444444444444444,\"#bd3786\"],[0.5555555555555556,\"#d8576b\"],[0.6666666666666666,\"#ed7953\"],[0.7777777777777778,\"#fb9f3a\"],[0.8888888888888888,\"#fdca26\"],[1.0,\"#f0f921\"]],\"type\":\"heatmap\"}],\"histogram2dcontour\":[{\"colorbar\":{\"outlinewidth\":0,\"ticks\":\"\"},\"colorscale\":[[0.0,\"#0d0887\"],[0.1111111111111111,\"#46039f\"],[0.2222222222222222,\"#7201a8\"],[0.3333333333333333,\"#9c179e\"],[0.4444444444444444,\"#bd3786\"],[0.5555555555555556,\"#d8576b\"],[0.6666666666666666,\"#ed7953\"],[0.7777777777777778,\"#fb9f3a\"],[0.8888888888888888,\"#fdca26\"],[1.0,\"#f0f921\"]],\"type\":\"histogram2dcontour\"}],\"histogram2d\":[{\"colorbar\":{\"outlinewidth\":0,\"ticks\":\"\"},\"colorscale\":[[0.0,\"#0d0887\"],[0.1111111111111111,\"#46039f\"],[0.2222222222222222,\"#7201a8\"],[0.3333333333333333,\"#9c179e\"],[0.4444444444444444,\"#bd3786\"],[0.5555555555555556,\"#d8576b\"],[0.6666666666666666,\"#ed7953\"],[0.7777777777777778,\"#fb9f3a\"],[0.8888888888888888,\"#fdca26\"],[1.0,\"#f0f921\"]],\"type\":\"histogram2d\"}],\"histogram\":[{\"marker\":{\"pattern\":{\"fillmode\":\"overlay\",\"size\":10,\"solidity\":0.2}},\"type\":\"histogram\"}],\"mesh3d\":[{\"colorbar\":{\"outlinewidth\":0,\"ticks\":\"\"},\"type\":\"mesh3d\"}],\"parcoords\":[{\"line\":{\"colorbar\":{\"outlinewidth\":0,\"ticks\":\"\"}},\"type\":\"parcoords\"}],\"pie\":[{\"automargin\":true,\"type\":\"pie\"}],\"scatter3d\":[{\"line\":{\"colorbar\":{\"outlinewidth\":0,\"ticks\":\"\"}},\"marker\":{\"colorbar\":{\"outlinewidth\":0,\"ticks\":\"\"}},\"type\":\"scatter3d\"}],\"scattercarpet\":[{\"marker\":{\"colorbar\":{\"outlinewidth\":0,\"ticks\":\"\"}},\"type\":\"scattercarpet\"}],\"scattergeo\":[{\"marker\":{\"colorbar\":{\"outlinewidth\":0,\"ticks\":\"\"}},\"type\":\"scattergeo\"}],\"scattergl\":[{\"marker\":{\"colorbar\":{\"outlinewidth\":0,\"ticks\":\"\"}},\"type\":\"scattergl\"}],\"scattermapbox\":[{\"marker\":{\"colorbar\":{\"outlinewidth\":0,\"ticks\":\"\"}},\"type\":\"scattermapbox\"}],\"scatterpolargl\":[{\"marker\":{\"colorbar\":{\"outlinewidth\":0,\"ticks\":\"\"}},\"type\":\"scatterpolargl\"}],\"scatterpolar\":[{\"marker\":{\"colorbar\":{\"outlinewidth\":0,\"ticks\":\"\"}},\"type\":\"scatterpolar\"}],\"scatter\":[{\"fillpattern\":{\"fillmode\":\"overlay\",\"size\":10,\"solidity\":0.2},\"type\":\"scatter\"}],\"scatterternary\":[{\"marker\":{\"colorbar\":{\"outlinewidth\":0,\"ticks\":\"\"}},\"type\":\"scatterternary\"}],\"surface\":[{\"colorbar\":{\"outlinewidth\":0,\"ticks\":\"\"},\"colorscale\":[[0.0,\"#0d0887\"],[0.1111111111111111,\"#46039f\"],[0.2222222222222222,\"#7201a8\"],[0.3333333333333333,\"#9c179e\"],[0.4444444444444444,\"#bd3786\"],[0.5555555555555556,\"#d8576b\"],[0.6666666666666666,\"#ed7953\"],[0.7777777777777778,\"#fb9f3a\"],[0.8888888888888888,\"#fdca26\"],[1.0,\"#f0f921\"]],\"type\":\"surface\"}],\"table\":[{\"cells\":{\"fill\":{\"color\":\"#EBF0F8\"},\"line\":{\"color\":\"white\"}},\"header\":{\"fill\":{\"color\":\"#C8D4E3\"},\"line\":{\"color\":\"white\"}},\"type\":\"table\"}]},\"layout\":{\"annotationdefaults\":{\"arrowcolor\":\"#2a3f5f\",\"arrowhead\":0,\"arrowwidth\":1},\"autotypenumbers\":\"strict\",\"coloraxis\":{\"colorbar\":{\"outlinewidth\":0,\"ticks\":\"\"}},\"colorscale\":{\"diverging\":[[0,\"#8e0152\"],[0.1,\"#c51b7d\"],[0.2,\"#de77ae\"],[0.3,\"#f1b6da\"],[0.4,\"#fde0ef\"],[0.5,\"#f7f7f7\"],[0.6,\"#e6f5d0\"],[0.7,\"#b8e186\"],[0.8,\"#7fbc41\"],[0.9,\"#4d9221\"],[1,\"#276419\"]],\"sequential\":[[0.0,\"#0d0887\"],[0.1111111111111111,\"#46039f\"],[0.2222222222222222,\"#7201a8\"],[0.3333333333333333,\"#9c179e\"],[0.4444444444444444,\"#bd3786\"],[0.5555555555555556,\"#d8576b\"],[0.6666666666666666,\"#ed7953\"],[0.7777777777777778,\"#fb9f3a\"],[0.8888888888888888,\"#fdca26\"],[1.0,\"#f0f921\"]],\"sequentialminus\":[[0.0,\"#0d0887\"],[0.1111111111111111,\"#46039f\"],[0.2222222222222222,\"#7201a8\"],[0.3333333333333333,\"#9c179e\"],[0.4444444444444444,\"#bd3786\"],[0.5555555555555556,\"#d8576b\"],[0.6666666666666666,\"#ed7953\"],[0.7777777777777778,\"#fb9f3a\"],[0.8888888888888888,\"#fdca26\"],[1.0,\"#f0f921\"]]},\"colorway\":[\"#636efa\",\"#EF553B\",\"#00cc96\",\"#ab63fa\",\"#FFA15A\",\"#19d3f3\",\"#FF6692\",\"#B6E880\",\"#FF97FF\",\"#FECB52\"],\"font\":{\"color\":\"#2a3f5f\"},\"geo\":{\"bgcolor\":\"white\",\"lakecolor\":\"white\",\"landcolor\":\"#E5ECF6\",\"showlakes\":true,\"showland\":true,\"subunitcolor\":\"white\"},\"hoverlabel\":{\"align\":\"left\"},\"hovermode\":\"closest\",\"mapbox\":{\"style\":\"light\"},\"paper_bgcolor\":\"white\",\"plot_bgcolor\":\"#E5ECF6\",\"polar\":{\"angularaxis\":{\"gridcolor\":\"white\",\"linecolor\":\"white\",\"ticks\":\"\"},\"bgcolor\":\"#E5ECF6\",\"radialaxis\":{\"gridcolor\":\"white\",\"linecolor\":\"white\",\"ticks\":\"\"}},\"scene\":{\"xaxis\":{\"backgroundcolor\":\"#E5ECF6\",\"gridcolor\":\"white\",\"gridwidth\":2,\"linecolor\":\"white\",\"showbackground\":true,\"ticks\":\"\",\"zerolinecolor\":\"white\"},\"yaxis\":{\"backgroundcolor\":\"#E5ECF6\",\"gridcolor\":\"white\",\"gridwidth\":2,\"linecolor\":\"white\",\"showbackground\":true,\"ticks\":\"\",\"zerolinecolor\":\"white\"},\"zaxis\":{\"backgroundcolor\":\"#E5ECF6\",\"gridcolor\":\"white\",\"gridwidth\":2,\"linecolor\":\"white\",\"showbackground\":true,\"ticks\":\"\",\"zerolinecolor\":\"white\"}},\"shapedefaults\":{\"line\":{\"color\":\"#2a3f5f\"}},\"ternary\":{\"aaxis\":{\"gridcolor\":\"white\",\"linecolor\":\"white\",\"ticks\":\"\"},\"baxis\":{\"gridcolor\":\"white\",\"linecolor\":\"white\",\"ticks\":\"\"},\"bgcolor\":\"#E5ECF6\",\"caxis\":{\"gridcolor\":\"white\",\"linecolor\":\"white\",\"ticks\":\"\"}},\"title\":{\"x\":0.05},\"xaxis\":{\"automargin\":true,\"gridcolor\":\"white\",\"linecolor\":\"white\",\"ticks\":\"\",\"title\":{\"standoff\":15},\"zerolinecolor\":\"white\",\"zerolinewidth\":2},\"yaxis\":{\"automargin\":true,\"gridcolor\":\"white\",\"linecolor\":\"white\",\"ticks\":\"\",\"title\":{\"standoff\":15},\"zerolinecolor\":\"white\",\"zerolinewidth\":2}}},\"title\":{\"font\":{\"color\":\"#4D5663\"}},\"xaxis\":{\"gridcolor\":\"#E1E5ED\",\"showgrid\":true,\"tickfont\":{\"color\":\"#4D5663\"},\"title\":{\"font\":{\"color\":\"#4D5663\"},\"text\":\"\"},\"zerolinecolor\":\"#E1E5ED\"},\"yaxis\":{\"gridcolor\":\"#E1E5ED\",\"showgrid\":true,\"tickfont\":{\"color\":\"#4D5663\"},\"title\":{\"font\":{\"color\":\"#4D5663\"},\"text\":\"\"},\"zerolinecolor\":\"#E1E5ED\"}},                        {\"showLink\": true, \"linkText\": \"Export to plot.ly\", \"plotlyServerURL\": \"https://plot.ly\", \"responsive\": true}                    ).then(function(){\n",
       "                            \n",
       "var gd = document.getElementById('3f94b76b-79d9-48ec-a8b0-bc87118190fd');\n",
       "var x = new MutationObserver(function (mutations, observer) {{\n",
       "        var display = window.getComputedStyle(gd).display;\n",
       "        if (!display || display === 'none') {{\n",
       "            console.log([gd, 'removed!']);\n",
       "            Plotly.purge(gd);\n",
       "            observer.disconnect();\n",
       "        }}\n",
       "}});\n",
       "\n",
       "// Listen for the removal of the full notebook cells\n",
       "var notebookContainer = gd.closest('#notebook-container');\n",
       "if (notebookContainer) {{\n",
       "    x.observe(notebookContainer, {childList: true});\n",
       "}}\n",
       "\n",
       "// Listen for the clearing of the current output cell\n",
       "var outputEl = gd.closest('.output');\n",
       "if (outputEl) {{\n",
       "    x.observe(outputEl, {childList: true});\n",
       "}}\n",
       "\n",
       "                        })                };                });            </script>        </div>"
      ]
     },
     "metadata": {},
     "output_type": "display_data"
    }
   ],
   "source": [
    "df.iplot(kind='scatter',x='A',y='B',mode='markers',size=10)"
   ]
  },
  {
   "cell_type": "markdown",
   "metadata": {},
   "source": [
    "## Bar Plots"
   ]
  },
  {
   "cell_type": "code",
   "execution_count": 11,
   "metadata": {
    "collapsed": false
   },
   "outputs": [
    {
     "data": {
      "application/vnd.plotly.v1+json": {
       "config": {
        "linkText": "Export to plot.ly",
        "plotlyServerURL": "https://plot.ly",
        "showLink": true
       },
       "data": [
        {
         "marker": {
          "color": "rgba(255, 153, 51, 0.6)",
          "line": {
           "color": "rgba(255, 153, 51, 1.0)",
           "width": 1
          }
         },
         "name": "Values",
         "orientation": "v",
         "text": "",
         "type": "bar",
         "x": [
          "A",
          "B",
          "C"
         ],
         "y": [
          32,
          43,
          50
         ]
        }
       ],
       "layout": {
        "legend": {
         "bgcolor": "#F5F6F9",
         "font": {
          "color": "#4D5663"
         }
        },
        "paper_bgcolor": "#F5F6F9",
        "plot_bgcolor": "#F5F6F9",
        "template": {
         "data": {
          "bar": [
           {
            "error_x": {
             "color": "#2a3f5f"
            },
            "error_y": {
             "color": "#2a3f5f"
            },
            "marker": {
             "line": {
              "color": "#E5ECF6",
              "width": 0.5
             },
             "pattern": {
              "fillmode": "overlay",
              "size": 10,
              "solidity": 0.2
             }
            },
            "type": "bar"
           }
          ],
          "barpolar": [
           {
            "marker": {
             "line": {
              "color": "#E5ECF6",
              "width": 0.5
             },
             "pattern": {
              "fillmode": "overlay",
              "size": 10,
              "solidity": 0.2
             }
            },
            "type": "barpolar"
           }
          ],
          "carpet": [
           {
            "aaxis": {
             "endlinecolor": "#2a3f5f",
             "gridcolor": "white",
             "linecolor": "white",
             "minorgridcolor": "white",
             "startlinecolor": "#2a3f5f"
            },
            "baxis": {
             "endlinecolor": "#2a3f5f",
             "gridcolor": "white",
             "linecolor": "white",
             "minorgridcolor": "white",
             "startlinecolor": "#2a3f5f"
            },
            "type": "carpet"
           }
          ],
          "choropleth": [
           {
            "colorbar": {
             "outlinewidth": 0,
             "ticks": ""
            },
            "type": "choropleth"
           }
          ],
          "contour": [
           {
            "colorbar": {
             "outlinewidth": 0,
             "ticks": ""
            },
            "colorscale": [
             [
              0,
              "#0d0887"
             ],
             [
              0.1111111111111111,
              "#46039f"
             ],
             [
              0.2222222222222222,
              "#7201a8"
             ],
             [
              0.3333333333333333,
              "#9c179e"
             ],
             [
              0.4444444444444444,
              "#bd3786"
             ],
             [
              0.5555555555555556,
              "#d8576b"
             ],
             [
              0.6666666666666666,
              "#ed7953"
             ],
             [
              0.7777777777777778,
              "#fb9f3a"
             ],
             [
              0.8888888888888888,
              "#fdca26"
             ],
             [
              1,
              "#f0f921"
             ]
            ],
            "type": "contour"
           }
          ],
          "contourcarpet": [
           {
            "colorbar": {
             "outlinewidth": 0,
             "ticks": ""
            },
            "type": "contourcarpet"
           }
          ],
          "heatmap": [
           {
            "colorbar": {
             "outlinewidth": 0,
             "ticks": ""
            },
            "colorscale": [
             [
              0,
              "#0d0887"
             ],
             [
              0.1111111111111111,
              "#46039f"
             ],
             [
              0.2222222222222222,
              "#7201a8"
             ],
             [
              0.3333333333333333,
              "#9c179e"
             ],
             [
              0.4444444444444444,
              "#bd3786"
             ],
             [
              0.5555555555555556,
              "#d8576b"
             ],
             [
              0.6666666666666666,
              "#ed7953"
             ],
             [
              0.7777777777777778,
              "#fb9f3a"
             ],
             [
              0.8888888888888888,
              "#fdca26"
             ],
             [
              1,
              "#f0f921"
             ]
            ],
            "type": "heatmap"
           }
          ],
          "heatmapgl": [
           {
            "colorbar": {
             "outlinewidth": 0,
             "ticks": ""
            },
            "colorscale": [
             [
              0,
              "#0d0887"
             ],
             [
              0.1111111111111111,
              "#46039f"
             ],
             [
              0.2222222222222222,
              "#7201a8"
             ],
             [
              0.3333333333333333,
              "#9c179e"
             ],
             [
              0.4444444444444444,
              "#bd3786"
             ],
             [
              0.5555555555555556,
              "#d8576b"
             ],
             [
              0.6666666666666666,
              "#ed7953"
             ],
             [
              0.7777777777777778,
              "#fb9f3a"
             ],
             [
              0.8888888888888888,
              "#fdca26"
             ],
             [
              1,
              "#f0f921"
             ]
            ],
            "type": "heatmapgl"
           }
          ],
          "histogram": [
           {
            "marker": {
             "pattern": {
              "fillmode": "overlay",
              "size": 10,
              "solidity": 0.2
             }
            },
            "type": "histogram"
           }
          ],
          "histogram2d": [
           {
            "colorbar": {
             "outlinewidth": 0,
             "ticks": ""
            },
            "colorscale": [
             [
              0,
              "#0d0887"
             ],
             [
              0.1111111111111111,
              "#46039f"
             ],
             [
              0.2222222222222222,
              "#7201a8"
             ],
             [
              0.3333333333333333,
              "#9c179e"
             ],
             [
              0.4444444444444444,
              "#bd3786"
             ],
             [
              0.5555555555555556,
              "#d8576b"
             ],
             [
              0.6666666666666666,
              "#ed7953"
             ],
             [
              0.7777777777777778,
              "#fb9f3a"
             ],
             [
              0.8888888888888888,
              "#fdca26"
             ],
             [
              1,
              "#f0f921"
             ]
            ],
            "type": "histogram2d"
           }
          ],
          "histogram2dcontour": [
           {
            "colorbar": {
             "outlinewidth": 0,
             "ticks": ""
            },
            "colorscale": [
             [
              0,
              "#0d0887"
             ],
             [
              0.1111111111111111,
              "#46039f"
             ],
             [
              0.2222222222222222,
              "#7201a8"
             ],
             [
              0.3333333333333333,
              "#9c179e"
             ],
             [
              0.4444444444444444,
              "#bd3786"
             ],
             [
              0.5555555555555556,
              "#d8576b"
             ],
             [
              0.6666666666666666,
              "#ed7953"
             ],
             [
              0.7777777777777778,
              "#fb9f3a"
             ],
             [
              0.8888888888888888,
              "#fdca26"
             ],
             [
              1,
              "#f0f921"
             ]
            ],
            "type": "histogram2dcontour"
           }
          ],
          "mesh3d": [
           {
            "colorbar": {
             "outlinewidth": 0,
             "ticks": ""
            },
            "type": "mesh3d"
           }
          ],
          "parcoords": [
           {
            "line": {
             "colorbar": {
              "outlinewidth": 0,
              "ticks": ""
             }
            },
            "type": "parcoords"
           }
          ],
          "pie": [
           {
            "automargin": true,
            "type": "pie"
           }
          ],
          "scatter": [
           {
            "fillpattern": {
             "fillmode": "overlay",
             "size": 10,
             "solidity": 0.2
            },
            "type": "scatter"
           }
          ],
          "scatter3d": [
           {
            "line": {
             "colorbar": {
              "outlinewidth": 0,
              "ticks": ""
             }
            },
            "marker": {
             "colorbar": {
              "outlinewidth": 0,
              "ticks": ""
             }
            },
            "type": "scatter3d"
           }
          ],
          "scattercarpet": [
           {
            "marker": {
             "colorbar": {
              "outlinewidth": 0,
              "ticks": ""
             }
            },
            "type": "scattercarpet"
           }
          ],
          "scattergeo": [
           {
            "marker": {
             "colorbar": {
              "outlinewidth": 0,
              "ticks": ""
             }
            },
            "type": "scattergeo"
           }
          ],
          "scattergl": [
           {
            "marker": {
             "colorbar": {
              "outlinewidth": 0,
              "ticks": ""
             }
            },
            "type": "scattergl"
           }
          ],
          "scattermapbox": [
           {
            "marker": {
             "colorbar": {
              "outlinewidth": 0,
              "ticks": ""
             }
            },
            "type": "scattermapbox"
           }
          ],
          "scatterpolar": [
           {
            "marker": {
             "colorbar": {
              "outlinewidth": 0,
              "ticks": ""
             }
            },
            "type": "scatterpolar"
           }
          ],
          "scatterpolargl": [
           {
            "marker": {
             "colorbar": {
              "outlinewidth": 0,
              "ticks": ""
             }
            },
            "type": "scatterpolargl"
           }
          ],
          "scatterternary": [
           {
            "marker": {
             "colorbar": {
              "outlinewidth": 0,
              "ticks": ""
             }
            },
            "type": "scatterternary"
           }
          ],
          "surface": [
           {
            "colorbar": {
             "outlinewidth": 0,
             "ticks": ""
            },
            "colorscale": [
             [
              0,
              "#0d0887"
             ],
             [
              0.1111111111111111,
              "#46039f"
             ],
             [
              0.2222222222222222,
              "#7201a8"
             ],
             [
              0.3333333333333333,
              "#9c179e"
             ],
             [
              0.4444444444444444,
              "#bd3786"
             ],
             [
              0.5555555555555556,
              "#d8576b"
             ],
             [
              0.6666666666666666,
              "#ed7953"
             ],
             [
              0.7777777777777778,
              "#fb9f3a"
             ],
             [
              0.8888888888888888,
              "#fdca26"
             ],
             [
              1,
              "#f0f921"
             ]
            ],
            "type": "surface"
           }
          ],
          "table": [
           {
            "cells": {
             "fill": {
              "color": "#EBF0F8"
             },
             "line": {
              "color": "white"
             }
            },
            "header": {
             "fill": {
              "color": "#C8D4E3"
             },
             "line": {
              "color": "white"
             }
            },
            "type": "table"
           }
          ]
         },
         "layout": {
          "annotationdefaults": {
           "arrowcolor": "#2a3f5f",
           "arrowhead": 0,
           "arrowwidth": 1
          },
          "autotypenumbers": "strict",
          "coloraxis": {
           "colorbar": {
            "outlinewidth": 0,
            "ticks": ""
           }
          },
          "colorscale": {
           "diverging": [
            [
             0,
             "#8e0152"
            ],
            [
             0.1,
             "#c51b7d"
            ],
            [
             0.2,
             "#de77ae"
            ],
            [
             0.3,
             "#f1b6da"
            ],
            [
             0.4,
             "#fde0ef"
            ],
            [
             0.5,
             "#f7f7f7"
            ],
            [
             0.6,
             "#e6f5d0"
            ],
            [
             0.7,
             "#b8e186"
            ],
            [
             0.8,
             "#7fbc41"
            ],
            [
             0.9,
             "#4d9221"
            ],
            [
             1,
             "#276419"
            ]
           ],
           "sequential": [
            [
             0,
             "#0d0887"
            ],
            [
             0.1111111111111111,
             "#46039f"
            ],
            [
             0.2222222222222222,
             "#7201a8"
            ],
            [
             0.3333333333333333,
             "#9c179e"
            ],
            [
             0.4444444444444444,
             "#bd3786"
            ],
            [
             0.5555555555555556,
             "#d8576b"
            ],
            [
             0.6666666666666666,
             "#ed7953"
            ],
            [
             0.7777777777777778,
             "#fb9f3a"
            ],
            [
             0.8888888888888888,
             "#fdca26"
            ],
            [
             1,
             "#f0f921"
            ]
           ],
           "sequentialminus": [
            [
             0,
             "#0d0887"
            ],
            [
             0.1111111111111111,
             "#46039f"
            ],
            [
             0.2222222222222222,
             "#7201a8"
            ],
            [
             0.3333333333333333,
             "#9c179e"
            ],
            [
             0.4444444444444444,
             "#bd3786"
            ],
            [
             0.5555555555555556,
             "#d8576b"
            ],
            [
             0.6666666666666666,
             "#ed7953"
            ],
            [
             0.7777777777777778,
             "#fb9f3a"
            ],
            [
             0.8888888888888888,
             "#fdca26"
            ],
            [
             1,
             "#f0f921"
            ]
           ]
          },
          "colorway": [
           "#636efa",
           "#EF553B",
           "#00cc96",
           "#ab63fa",
           "#FFA15A",
           "#19d3f3",
           "#FF6692",
           "#B6E880",
           "#FF97FF",
           "#FECB52"
          ],
          "font": {
           "color": "#2a3f5f"
          },
          "geo": {
           "bgcolor": "white",
           "lakecolor": "white",
           "landcolor": "#E5ECF6",
           "showlakes": true,
           "showland": true,
           "subunitcolor": "white"
          },
          "hoverlabel": {
           "align": "left"
          },
          "hovermode": "closest",
          "mapbox": {
           "style": "light"
          },
          "paper_bgcolor": "white",
          "plot_bgcolor": "#E5ECF6",
          "polar": {
           "angularaxis": {
            "gridcolor": "white",
            "linecolor": "white",
            "ticks": ""
           },
           "bgcolor": "#E5ECF6",
           "radialaxis": {
            "gridcolor": "white",
            "linecolor": "white",
            "ticks": ""
           }
          },
          "scene": {
           "xaxis": {
            "backgroundcolor": "#E5ECF6",
            "gridcolor": "white",
            "gridwidth": 2,
            "linecolor": "white",
            "showbackground": true,
            "ticks": "",
            "zerolinecolor": "white"
           },
           "yaxis": {
            "backgroundcolor": "#E5ECF6",
            "gridcolor": "white",
            "gridwidth": 2,
            "linecolor": "white",
            "showbackground": true,
            "ticks": "",
            "zerolinecolor": "white"
           },
           "zaxis": {
            "backgroundcolor": "#E5ECF6",
            "gridcolor": "white",
            "gridwidth": 2,
            "linecolor": "white",
            "showbackground": true,
            "ticks": "",
            "zerolinecolor": "white"
           }
          },
          "shapedefaults": {
           "line": {
            "color": "#2a3f5f"
           }
          },
          "ternary": {
           "aaxis": {
            "gridcolor": "white",
            "linecolor": "white",
            "ticks": ""
           },
           "baxis": {
            "gridcolor": "white",
            "linecolor": "white",
            "ticks": ""
           },
           "bgcolor": "#E5ECF6",
           "caxis": {
            "gridcolor": "white",
            "linecolor": "white",
            "ticks": ""
           }
          },
          "title": {
           "x": 0.05
          },
          "xaxis": {
           "automargin": true,
           "gridcolor": "white",
           "linecolor": "white",
           "ticks": "",
           "title": {
            "standoff": 15
           },
           "zerolinecolor": "white",
           "zerolinewidth": 2
          },
          "yaxis": {
           "automargin": true,
           "gridcolor": "white",
           "linecolor": "white",
           "ticks": "",
           "title": {
            "standoff": 15
           },
           "zerolinecolor": "white",
           "zerolinewidth": 2
          }
         }
        },
        "title": {
         "font": {
          "color": "#4D5663"
         }
        },
        "xaxis": {
         "gridcolor": "#E1E5ED",
         "showgrid": true,
         "tickfont": {
          "color": "#4D5663"
         },
         "title": {
          "font": {
           "color": "#4D5663"
          },
          "text": ""
         },
         "zerolinecolor": "#E1E5ED"
        },
        "yaxis": {
         "gridcolor": "#E1E5ED",
         "showgrid": true,
         "tickfont": {
          "color": "#4D5663"
         },
         "title": {
          "font": {
           "color": "#4D5663"
          },
          "text": ""
         },
         "zerolinecolor": "#E1E5ED"
        }
       }
      },
      "text/html": [
       "<div>                            <div id=\"91added8-82f6-4a6b-adb5-713fb1146b34\" class=\"plotly-graph-div\" style=\"height:525px; width:100%;\"></div>            <script type=\"text/javascript\">                require([\"plotly\"], function(Plotly) {                    window.PLOTLYENV=window.PLOTLYENV || {};\n",
       "                    window.PLOTLYENV.BASE_URL='https://plot.ly';                                    if (document.getElementById(\"91added8-82f6-4a6b-adb5-713fb1146b34\")) {                    Plotly.newPlot(                        \"91added8-82f6-4a6b-adb5-713fb1146b34\",                        [{\"marker\":{\"color\":\"rgba(255, 153, 51, 0.6)\",\"line\":{\"color\":\"rgba(255, 153, 51, 1.0)\",\"width\":1}},\"name\":\"Values\",\"orientation\":\"v\",\"text\":\"\",\"x\":[\"A\",\"B\",\"C\"],\"y\":[32,43,50],\"type\":\"bar\"}],                        {\"legend\":{\"bgcolor\":\"#F5F6F9\",\"font\":{\"color\":\"#4D5663\"}},\"paper_bgcolor\":\"#F5F6F9\",\"plot_bgcolor\":\"#F5F6F9\",\"template\":{\"data\":{\"barpolar\":[{\"marker\":{\"line\":{\"color\":\"#E5ECF6\",\"width\":0.5},\"pattern\":{\"fillmode\":\"overlay\",\"size\":10,\"solidity\":0.2}},\"type\":\"barpolar\"}],\"bar\":[{\"error_x\":{\"color\":\"#2a3f5f\"},\"error_y\":{\"color\":\"#2a3f5f\"},\"marker\":{\"line\":{\"color\":\"#E5ECF6\",\"width\":0.5},\"pattern\":{\"fillmode\":\"overlay\",\"size\":10,\"solidity\":0.2}},\"type\":\"bar\"}],\"carpet\":[{\"aaxis\":{\"endlinecolor\":\"#2a3f5f\",\"gridcolor\":\"white\",\"linecolor\":\"white\",\"minorgridcolor\":\"white\",\"startlinecolor\":\"#2a3f5f\"},\"baxis\":{\"endlinecolor\":\"#2a3f5f\",\"gridcolor\":\"white\",\"linecolor\":\"white\",\"minorgridcolor\":\"white\",\"startlinecolor\":\"#2a3f5f\"},\"type\":\"carpet\"}],\"choropleth\":[{\"colorbar\":{\"outlinewidth\":0,\"ticks\":\"\"},\"type\":\"choropleth\"}],\"contourcarpet\":[{\"colorbar\":{\"outlinewidth\":0,\"ticks\":\"\"},\"type\":\"contourcarpet\"}],\"contour\":[{\"colorbar\":{\"outlinewidth\":0,\"ticks\":\"\"},\"colorscale\":[[0.0,\"#0d0887\"],[0.1111111111111111,\"#46039f\"],[0.2222222222222222,\"#7201a8\"],[0.3333333333333333,\"#9c179e\"],[0.4444444444444444,\"#bd3786\"],[0.5555555555555556,\"#d8576b\"],[0.6666666666666666,\"#ed7953\"],[0.7777777777777778,\"#fb9f3a\"],[0.8888888888888888,\"#fdca26\"],[1.0,\"#f0f921\"]],\"type\":\"contour\"}],\"heatmapgl\":[{\"colorbar\":{\"outlinewidth\":0,\"ticks\":\"\"},\"colorscale\":[[0.0,\"#0d0887\"],[0.1111111111111111,\"#46039f\"],[0.2222222222222222,\"#7201a8\"],[0.3333333333333333,\"#9c179e\"],[0.4444444444444444,\"#bd3786\"],[0.5555555555555556,\"#d8576b\"],[0.6666666666666666,\"#ed7953\"],[0.7777777777777778,\"#fb9f3a\"],[0.8888888888888888,\"#fdca26\"],[1.0,\"#f0f921\"]],\"type\":\"heatmapgl\"}],\"heatmap\":[{\"colorbar\":{\"outlinewidth\":0,\"ticks\":\"\"},\"colorscale\":[[0.0,\"#0d0887\"],[0.1111111111111111,\"#46039f\"],[0.2222222222222222,\"#7201a8\"],[0.3333333333333333,\"#9c179e\"],[0.4444444444444444,\"#bd3786\"],[0.5555555555555556,\"#d8576b\"],[0.6666666666666666,\"#ed7953\"],[0.7777777777777778,\"#fb9f3a\"],[0.8888888888888888,\"#fdca26\"],[1.0,\"#f0f921\"]],\"type\":\"heatmap\"}],\"histogram2dcontour\":[{\"colorbar\":{\"outlinewidth\":0,\"ticks\":\"\"},\"colorscale\":[[0.0,\"#0d0887\"],[0.1111111111111111,\"#46039f\"],[0.2222222222222222,\"#7201a8\"],[0.3333333333333333,\"#9c179e\"],[0.4444444444444444,\"#bd3786\"],[0.5555555555555556,\"#d8576b\"],[0.6666666666666666,\"#ed7953\"],[0.7777777777777778,\"#fb9f3a\"],[0.8888888888888888,\"#fdca26\"],[1.0,\"#f0f921\"]],\"type\":\"histogram2dcontour\"}],\"histogram2d\":[{\"colorbar\":{\"outlinewidth\":0,\"ticks\":\"\"},\"colorscale\":[[0.0,\"#0d0887\"],[0.1111111111111111,\"#46039f\"],[0.2222222222222222,\"#7201a8\"],[0.3333333333333333,\"#9c179e\"],[0.4444444444444444,\"#bd3786\"],[0.5555555555555556,\"#d8576b\"],[0.6666666666666666,\"#ed7953\"],[0.7777777777777778,\"#fb9f3a\"],[0.8888888888888888,\"#fdca26\"],[1.0,\"#f0f921\"]],\"type\":\"histogram2d\"}],\"histogram\":[{\"marker\":{\"pattern\":{\"fillmode\":\"overlay\",\"size\":10,\"solidity\":0.2}},\"type\":\"histogram\"}],\"mesh3d\":[{\"colorbar\":{\"outlinewidth\":0,\"ticks\":\"\"},\"type\":\"mesh3d\"}],\"parcoords\":[{\"line\":{\"colorbar\":{\"outlinewidth\":0,\"ticks\":\"\"}},\"type\":\"parcoords\"}],\"pie\":[{\"automargin\":true,\"type\":\"pie\"}],\"scatter3d\":[{\"line\":{\"colorbar\":{\"outlinewidth\":0,\"ticks\":\"\"}},\"marker\":{\"colorbar\":{\"outlinewidth\":0,\"ticks\":\"\"}},\"type\":\"scatter3d\"}],\"scattercarpet\":[{\"marker\":{\"colorbar\":{\"outlinewidth\":0,\"ticks\":\"\"}},\"type\":\"scattercarpet\"}],\"scattergeo\":[{\"marker\":{\"colorbar\":{\"outlinewidth\":0,\"ticks\":\"\"}},\"type\":\"scattergeo\"}],\"scattergl\":[{\"marker\":{\"colorbar\":{\"outlinewidth\":0,\"ticks\":\"\"}},\"type\":\"scattergl\"}],\"scattermapbox\":[{\"marker\":{\"colorbar\":{\"outlinewidth\":0,\"ticks\":\"\"}},\"type\":\"scattermapbox\"}],\"scatterpolargl\":[{\"marker\":{\"colorbar\":{\"outlinewidth\":0,\"ticks\":\"\"}},\"type\":\"scatterpolargl\"}],\"scatterpolar\":[{\"marker\":{\"colorbar\":{\"outlinewidth\":0,\"ticks\":\"\"}},\"type\":\"scatterpolar\"}],\"scatter\":[{\"fillpattern\":{\"fillmode\":\"overlay\",\"size\":10,\"solidity\":0.2},\"type\":\"scatter\"}],\"scatterternary\":[{\"marker\":{\"colorbar\":{\"outlinewidth\":0,\"ticks\":\"\"}},\"type\":\"scatterternary\"}],\"surface\":[{\"colorbar\":{\"outlinewidth\":0,\"ticks\":\"\"},\"colorscale\":[[0.0,\"#0d0887\"],[0.1111111111111111,\"#46039f\"],[0.2222222222222222,\"#7201a8\"],[0.3333333333333333,\"#9c179e\"],[0.4444444444444444,\"#bd3786\"],[0.5555555555555556,\"#d8576b\"],[0.6666666666666666,\"#ed7953\"],[0.7777777777777778,\"#fb9f3a\"],[0.8888888888888888,\"#fdca26\"],[1.0,\"#f0f921\"]],\"type\":\"surface\"}],\"table\":[{\"cells\":{\"fill\":{\"color\":\"#EBF0F8\"},\"line\":{\"color\":\"white\"}},\"header\":{\"fill\":{\"color\":\"#C8D4E3\"},\"line\":{\"color\":\"white\"}},\"type\":\"table\"}]},\"layout\":{\"annotationdefaults\":{\"arrowcolor\":\"#2a3f5f\",\"arrowhead\":0,\"arrowwidth\":1},\"autotypenumbers\":\"strict\",\"coloraxis\":{\"colorbar\":{\"outlinewidth\":0,\"ticks\":\"\"}},\"colorscale\":{\"diverging\":[[0,\"#8e0152\"],[0.1,\"#c51b7d\"],[0.2,\"#de77ae\"],[0.3,\"#f1b6da\"],[0.4,\"#fde0ef\"],[0.5,\"#f7f7f7\"],[0.6,\"#e6f5d0\"],[0.7,\"#b8e186\"],[0.8,\"#7fbc41\"],[0.9,\"#4d9221\"],[1,\"#276419\"]],\"sequential\":[[0.0,\"#0d0887\"],[0.1111111111111111,\"#46039f\"],[0.2222222222222222,\"#7201a8\"],[0.3333333333333333,\"#9c179e\"],[0.4444444444444444,\"#bd3786\"],[0.5555555555555556,\"#d8576b\"],[0.6666666666666666,\"#ed7953\"],[0.7777777777777778,\"#fb9f3a\"],[0.8888888888888888,\"#fdca26\"],[1.0,\"#f0f921\"]],\"sequentialminus\":[[0.0,\"#0d0887\"],[0.1111111111111111,\"#46039f\"],[0.2222222222222222,\"#7201a8\"],[0.3333333333333333,\"#9c179e\"],[0.4444444444444444,\"#bd3786\"],[0.5555555555555556,\"#d8576b\"],[0.6666666666666666,\"#ed7953\"],[0.7777777777777778,\"#fb9f3a\"],[0.8888888888888888,\"#fdca26\"],[1.0,\"#f0f921\"]]},\"colorway\":[\"#636efa\",\"#EF553B\",\"#00cc96\",\"#ab63fa\",\"#FFA15A\",\"#19d3f3\",\"#FF6692\",\"#B6E880\",\"#FF97FF\",\"#FECB52\"],\"font\":{\"color\":\"#2a3f5f\"},\"geo\":{\"bgcolor\":\"white\",\"lakecolor\":\"white\",\"landcolor\":\"#E5ECF6\",\"showlakes\":true,\"showland\":true,\"subunitcolor\":\"white\"},\"hoverlabel\":{\"align\":\"left\"},\"hovermode\":\"closest\",\"mapbox\":{\"style\":\"light\"},\"paper_bgcolor\":\"white\",\"plot_bgcolor\":\"#E5ECF6\",\"polar\":{\"angularaxis\":{\"gridcolor\":\"white\",\"linecolor\":\"white\",\"ticks\":\"\"},\"bgcolor\":\"#E5ECF6\",\"radialaxis\":{\"gridcolor\":\"white\",\"linecolor\":\"white\",\"ticks\":\"\"}},\"scene\":{\"xaxis\":{\"backgroundcolor\":\"#E5ECF6\",\"gridcolor\":\"white\",\"gridwidth\":2,\"linecolor\":\"white\",\"showbackground\":true,\"ticks\":\"\",\"zerolinecolor\":\"white\"},\"yaxis\":{\"backgroundcolor\":\"#E5ECF6\",\"gridcolor\":\"white\",\"gridwidth\":2,\"linecolor\":\"white\",\"showbackground\":true,\"ticks\":\"\",\"zerolinecolor\":\"white\"},\"zaxis\":{\"backgroundcolor\":\"#E5ECF6\",\"gridcolor\":\"white\",\"gridwidth\":2,\"linecolor\":\"white\",\"showbackground\":true,\"ticks\":\"\",\"zerolinecolor\":\"white\"}},\"shapedefaults\":{\"line\":{\"color\":\"#2a3f5f\"}},\"ternary\":{\"aaxis\":{\"gridcolor\":\"white\",\"linecolor\":\"white\",\"ticks\":\"\"},\"baxis\":{\"gridcolor\":\"white\",\"linecolor\":\"white\",\"ticks\":\"\"},\"bgcolor\":\"#E5ECF6\",\"caxis\":{\"gridcolor\":\"white\",\"linecolor\":\"white\",\"ticks\":\"\"}},\"title\":{\"x\":0.05},\"xaxis\":{\"automargin\":true,\"gridcolor\":\"white\",\"linecolor\":\"white\",\"ticks\":\"\",\"title\":{\"standoff\":15},\"zerolinecolor\":\"white\",\"zerolinewidth\":2},\"yaxis\":{\"automargin\":true,\"gridcolor\":\"white\",\"linecolor\":\"white\",\"ticks\":\"\",\"title\":{\"standoff\":15},\"zerolinecolor\":\"white\",\"zerolinewidth\":2}}},\"title\":{\"font\":{\"color\":\"#4D5663\"}},\"xaxis\":{\"gridcolor\":\"#E1E5ED\",\"showgrid\":true,\"tickfont\":{\"color\":\"#4D5663\"},\"title\":{\"font\":{\"color\":\"#4D5663\"},\"text\":\"\"},\"zerolinecolor\":\"#E1E5ED\"},\"yaxis\":{\"gridcolor\":\"#E1E5ED\",\"showgrid\":true,\"tickfont\":{\"color\":\"#4D5663\"},\"title\":{\"font\":{\"color\":\"#4D5663\"},\"text\":\"\"},\"zerolinecolor\":\"#E1E5ED\"}},                        {\"showLink\": true, \"linkText\": \"Export to plot.ly\", \"plotlyServerURL\": \"https://plot.ly\", \"responsive\": true}                    ).then(function(){\n",
       "                            \n",
       "var gd = document.getElementById('91added8-82f6-4a6b-adb5-713fb1146b34');\n",
       "var x = new MutationObserver(function (mutations, observer) {{\n",
       "        var display = window.getComputedStyle(gd).display;\n",
       "        if (!display || display === 'none') {{\n",
       "            console.log([gd, 'removed!']);\n",
       "            Plotly.purge(gd);\n",
       "            observer.disconnect();\n",
       "        }}\n",
       "}});\n",
       "\n",
       "// Listen for the removal of the full notebook cells\n",
       "var notebookContainer = gd.closest('#notebook-container');\n",
       "if (notebookContainer) {{\n",
       "    x.observe(notebookContainer, {childList: true});\n",
       "}}\n",
       "\n",
       "// Listen for the clearing of the current output cell\n",
       "var outputEl = gd.closest('.output');\n",
       "if (outputEl) {{\n",
       "    x.observe(outputEl, {childList: true});\n",
       "}}\n",
       "\n",
       "                        })                };                });            </script>        </div>"
      ]
     },
     "metadata": {},
     "output_type": "display_data"
    }
   ],
   "source": [
    "df2.iplot(kind='bar',x='Category',y='Values')"
   ]
  },
  {
   "cell_type": "code",
   "execution_count": 12,
   "metadata": {
    "collapsed": false
   },
   "outputs": [
    {
     "data": {
      "application/vnd.plotly.v1+json": {
       "config": {
        "linkText": "Export to plot.ly",
        "plotlyServerURL": "https://plot.ly",
        "showLink": true
       },
       "data": [
        {
         "marker": {
          "color": "rgba(255, 153, 51, 0.6)",
          "line": {
           "color": "rgba(255, 153, 51, 1.0)",
           "width": 1
          }
         },
         "name": "None",
         "orientation": "v",
         "text": "",
         "type": "bar",
         "x": [
          "A",
          "B",
          "C",
          "D"
         ],
         "y": [
          100,
          100,
          100,
          100
         ]
        }
       ],
       "layout": {
        "legend": {
         "bgcolor": "#F5F6F9",
         "font": {
          "color": "#4D5663"
         }
        },
        "paper_bgcolor": "#F5F6F9",
        "plot_bgcolor": "#F5F6F9",
        "template": {
         "data": {
          "bar": [
           {
            "error_x": {
             "color": "#2a3f5f"
            },
            "error_y": {
             "color": "#2a3f5f"
            },
            "marker": {
             "line": {
              "color": "#E5ECF6",
              "width": 0.5
             },
             "pattern": {
              "fillmode": "overlay",
              "size": 10,
              "solidity": 0.2
             }
            },
            "type": "bar"
           }
          ],
          "barpolar": [
           {
            "marker": {
             "line": {
              "color": "#E5ECF6",
              "width": 0.5
             },
             "pattern": {
              "fillmode": "overlay",
              "size": 10,
              "solidity": 0.2
             }
            },
            "type": "barpolar"
           }
          ],
          "carpet": [
           {
            "aaxis": {
             "endlinecolor": "#2a3f5f",
             "gridcolor": "white",
             "linecolor": "white",
             "minorgridcolor": "white",
             "startlinecolor": "#2a3f5f"
            },
            "baxis": {
             "endlinecolor": "#2a3f5f",
             "gridcolor": "white",
             "linecolor": "white",
             "minorgridcolor": "white",
             "startlinecolor": "#2a3f5f"
            },
            "type": "carpet"
           }
          ],
          "choropleth": [
           {
            "colorbar": {
             "outlinewidth": 0,
             "ticks": ""
            },
            "type": "choropleth"
           }
          ],
          "contour": [
           {
            "colorbar": {
             "outlinewidth": 0,
             "ticks": ""
            },
            "colorscale": [
             [
              0,
              "#0d0887"
             ],
             [
              0.1111111111111111,
              "#46039f"
             ],
             [
              0.2222222222222222,
              "#7201a8"
             ],
             [
              0.3333333333333333,
              "#9c179e"
             ],
             [
              0.4444444444444444,
              "#bd3786"
             ],
             [
              0.5555555555555556,
              "#d8576b"
             ],
             [
              0.6666666666666666,
              "#ed7953"
             ],
             [
              0.7777777777777778,
              "#fb9f3a"
             ],
             [
              0.8888888888888888,
              "#fdca26"
             ],
             [
              1,
              "#f0f921"
             ]
            ],
            "type": "contour"
           }
          ],
          "contourcarpet": [
           {
            "colorbar": {
             "outlinewidth": 0,
             "ticks": ""
            },
            "type": "contourcarpet"
           }
          ],
          "heatmap": [
           {
            "colorbar": {
             "outlinewidth": 0,
             "ticks": ""
            },
            "colorscale": [
             [
              0,
              "#0d0887"
             ],
             [
              0.1111111111111111,
              "#46039f"
             ],
             [
              0.2222222222222222,
              "#7201a8"
             ],
             [
              0.3333333333333333,
              "#9c179e"
             ],
             [
              0.4444444444444444,
              "#bd3786"
             ],
             [
              0.5555555555555556,
              "#d8576b"
             ],
             [
              0.6666666666666666,
              "#ed7953"
             ],
             [
              0.7777777777777778,
              "#fb9f3a"
             ],
             [
              0.8888888888888888,
              "#fdca26"
             ],
             [
              1,
              "#f0f921"
             ]
            ],
            "type": "heatmap"
           }
          ],
          "heatmapgl": [
           {
            "colorbar": {
             "outlinewidth": 0,
             "ticks": ""
            },
            "colorscale": [
             [
              0,
              "#0d0887"
             ],
             [
              0.1111111111111111,
              "#46039f"
             ],
             [
              0.2222222222222222,
              "#7201a8"
             ],
             [
              0.3333333333333333,
              "#9c179e"
             ],
             [
              0.4444444444444444,
              "#bd3786"
             ],
             [
              0.5555555555555556,
              "#d8576b"
             ],
             [
              0.6666666666666666,
              "#ed7953"
             ],
             [
              0.7777777777777778,
              "#fb9f3a"
             ],
             [
              0.8888888888888888,
              "#fdca26"
             ],
             [
              1,
              "#f0f921"
             ]
            ],
            "type": "heatmapgl"
           }
          ],
          "histogram": [
           {
            "marker": {
             "pattern": {
              "fillmode": "overlay",
              "size": 10,
              "solidity": 0.2
             }
            },
            "type": "histogram"
           }
          ],
          "histogram2d": [
           {
            "colorbar": {
             "outlinewidth": 0,
             "ticks": ""
            },
            "colorscale": [
             [
              0,
              "#0d0887"
             ],
             [
              0.1111111111111111,
              "#46039f"
             ],
             [
              0.2222222222222222,
              "#7201a8"
             ],
             [
              0.3333333333333333,
              "#9c179e"
             ],
             [
              0.4444444444444444,
              "#bd3786"
             ],
             [
              0.5555555555555556,
              "#d8576b"
             ],
             [
              0.6666666666666666,
              "#ed7953"
             ],
             [
              0.7777777777777778,
              "#fb9f3a"
             ],
             [
              0.8888888888888888,
              "#fdca26"
             ],
             [
              1,
              "#f0f921"
             ]
            ],
            "type": "histogram2d"
           }
          ],
          "histogram2dcontour": [
           {
            "colorbar": {
             "outlinewidth": 0,
             "ticks": ""
            },
            "colorscale": [
             [
              0,
              "#0d0887"
             ],
             [
              0.1111111111111111,
              "#46039f"
             ],
             [
              0.2222222222222222,
              "#7201a8"
             ],
             [
              0.3333333333333333,
              "#9c179e"
             ],
             [
              0.4444444444444444,
              "#bd3786"
             ],
             [
              0.5555555555555556,
              "#d8576b"
             ],
             [
              0.6666666666666666,
              "#ed7953"
             ],
             [
              0.7777777777777778,
              "#fb9f3a"
             ],
             [
              0.8888888888888888,
              "#fdca26"
             ],
             [
              1,
              "#f0f921"
             ]
            ],
            "type": "histogram2dcontour"
           }
          ],
          "mesh3d": [
           {
            "colorbar": {
             "outlinewidth": 0,
             "ticks": ""
            },
            "type": "mesh3d"
           }
          ],
          "parcoords": [
           {
            "line": {
             "colorbar": {
              "outlinewidth": 0,
              "ticks": ""
             }
            },
            "type": "parcoords"
           }
          ],
          "pie": [
           {
            "automargin": true,
            "type": "pie"
           }
          ],
          "scatter": [
           {
            "fillpattern": {
             "fillmode": "overlay",
             "size": 10,
             "solidity": 0.2
            },
            "type": "scatter"
           }
          ],
          "scatter3d": [
           {
            "line": {
             "colorbar": {
              "outlinewidth": 0,
              "ticks": ""
             }
            },
            "marker": {
             "colorbar": {
              "outlinewidth": 0,
              "ticks": ""
             }
            },
            "type": "scatter3d"
           }
          ],
          "scattercarpet": [
           {
            "marker": {
             "colorbar": {
              "outlinewidth": 0,
              "ticks": ""
             }
            },
            "type": "scattercarpet"
           }
          ],
          "scattergeo": [
           {
            "marker": {
             "colorbar": {
              "outlinewidth": 0,
              "ticks": ""
             }
            },
            "type": "scattergeo"
           }
          ],
          "scattergl": [
           {
            "marker": {
             "colorbar": {
              "outlinewidth": 0,
              "ticks": ""
             }
            },
            "type": "scattergl"
           }
          ],
          "scattermapbox": [
           {
            "marker": {
             "colorbar": {
              "outlinewidth": 0,
              "ticks": ""
             }
            },
            "type": "scattermapbox"
           }
          ],
          "scatterpolar": [
           {
            "marker": {
             "colorbar": {
              "outlinewidth": 0,
              "ticks": ""
             }
            },
            "type": "scatterpolar"
           }
          ],
          "scatterpolargl": [
           {
            "marker": {
             "colorbar": {
              "outlinewidth": 0,
              "ticks": ""
             }
            },
            "type": "scatterpolargl"
           }
          ],
          "scatterternary": [
           {
            "marker": {
             "colorbar": {
              "outlinewidth": 0,
              "ticks": ""
             }
            },
            "type": "scatterternary"
           }
          ],
          "surface": [
           {
            "colorbar": {
             "outlinewidth": 0,
             "ticks": ""
            },
            "colorscale": [
             [
              0,
              "#0d0887"
             ],
             [
              0.1111111111111111,
              "#46039f"
             ],
             [
              0.2222222222222222,
              "#7201a8"
             ],
             [
              0.3333333333333333,
              "#9c179e"
             ],
             [
              0.4444444444444444,
              "#bd3786"
             ],
             [
              0.5555555555555556,
              "#d8576b"
             ],
             [
              0.6666666666666666,
              "#ed7953"
             ],
             [
              0.7777777777777778,
              "#fb9f3a"
             ],
             [
              0.8888888888888888,
              "#fdca26"
             ],
             [
              1,
              "#f0f921"
             ]
            ],
            "type": "surface"
           }
          ],
          "table": [
           {
            "cells": {
             "fill": {
              "color": "#EBF0F8"
             },
             "line": {
              "color": "white"
             }
            },
            "header": {
             "fill": {
              "color": "#C8D4E3"
             },
             "line": {
              "color": "white"
             }
            },
            "type": "table"
           }
          ]
         },
         "layout": {
          "annotationdefaults": {
           "arrowcolor": "#2a3f5f",
           "arrowhead": 0,
           "arrowwidth": 1
          },
          "autotypenumbers": "strict",
          "coloraxis": {
           "colorbar": {
            "outlinewidth": 0,
            "ticks": ""
           }
          },
          "colorscale": {
           "diverging": [
            [
             0,
             "#8e0152"
            ],
            [
             0.1,
             "#c51b7d"
            ],
            [
             0.2,
             "#de77ae"
            ],
            [
             0.3,
             "#f1b6da"
            ],
            [
             0.4,
             "#fde0ef"
            ],
            [
             0.5,
             "#f7f7f7"
            ],
            [
             0.6,
             "#e6f5d0"
            ],
            [
             0.7,
             "#b8e186"
            ],
            [
             0.8,
             "#7fbc41"
            ],
            [
             0.9,
             "#4d9221"
            ],
            [
             1,
             "#276419"
            ]
           ],
           "sequential": [
            [
             0,
             "#0d0887"
            ],
            [
             0.1111111111111111,
             "#46039f"
            ],
            [
             0.2222222222222222,
             "#7201a8"
            ],
            [
             0.3333333333333333,
             "#9c179e"
            ],
            [
             0.4444444444444444,
             "#bd3786"
            ],
            [
             0.5555555555555556,
             "#d8576b"
            ],
            [
             0.6666666666666666,
             "#ed7953"
            ],
            [
             0.7777777777777778,
             "#fb9f3a"
            ],
            [
             0.8888888888888888,
             "#fdca26"
            ],
            [
             1,
             "#f0f921"
            ]
           ],
           "sequentialminus": [
            [
             0,
             "#0d0887"
            ],
            [
             0.1111111111111111,
             "#46039f"
            ],
            [
             0.2222222222222222,
             "#7201a8"
            ],
            [
             0.3333333333333333,
             "#9c179e"
            ],
            [
             0.4444444444444444,
             "#bd3786"
            ],
            [
             0.5555555555555556,
             "#d8576b"
            ],
            [
             0.6666666666666666,
             "#ed7953"
            ],
            [
             0.7777777777777778,
             "#fb9f3a"
            ],
            [
             0.8888888888888888,
             "#fdca26"
            ],
            [
             1,
             "#f0f921"
            ]
           ]
          },
          "colorway": [
           "#636efa",
           "#EF553B",
           "#00cc96",
           "#ab63fa",
           "#FFA15A",
           "#19d3f3",
           "#FF6692",
           "#B6E880",
           "#FF97FF",
           "#FECB52"
          ],
          "font": {
           "color": "#2a3f5f"
          },
          "geo": {
           "bgcolor": "white",
           "lakecolor": "white",
           "landcolor": "#E5ECF6",
           "showlakes": true,
           "showland": true,
           "subunitcolor": "white"
          },
          "hoverlabel": {
           "align": "left"
          },
          "hovermode": "closest",
          "mapbox": {
           "style": "light"
          },
          "paper_bgcolor": "white",
          "plot_bgcolor": "#E5ECF6",
          "polar": {
           "angularaxis": {
            "gridcolor": "white",
            "linecolor": "white",
            "ticks": ""
           },
           "bgcolor": "#E5ECF6",
           "radialaxis": {
            "gridcolor": "white",
            "linecolor": "white",
            "ticks": ""
           }
          },
          "scene": {
           "xaxis": {
            "backgroundcolor": "#E5ECF6",
            "gridcolor": "white",
            "gridwidth": 2,
            "linecolor": "white",
            "showbackground": true,
            "ticks": "",
            "zerolinecolor": "white"
           },
           "yaxis": {
            "backgroundcolor": "#E5ECF6",
            "gridcolor": "white",
            "gridwidth": 2,
            "linecolor": "white",
            "showbackground": true,
            "ticks": "",
            "zerolinecolor": "white"
           },
           "zaxis": {
            "backgroundcolor": "#E5ECF6",
            "gridcolor": "white",
            "gridwidth": 2,
            "linecolor": "white",
            "showbackground": true,
            "ticks": "",
            "zerolinecolor": "white"
           }
          },
          "shapedefaults": {
           "line": {
            "color": "#2a3f5f"
           }
          },
          "ternary": {
           "aaxis": {
            "gridcolor": "white",
            "linecolor": "white",
            "ticks": ""
           },
           "baxis": {
            "gridcolor": "white",
            "linecolor": "white",
            "ticks": ""
           },
           "bgcolor": "#E5ECF6",
           "caxis": {
            "gridcolor": "white",
            "linecolor": "white",
            "ticks": ""
           }
          },
          "title": {
           "x": 0.05
          },
          "xaxis": {
           "automargin": true,
           "gridcolor": "white",
           "linecolor": "white",
           "ticks": "",
           "title": {
            "standoff": 15
           },
           "zerolinecolor": "white",
           "zerolinewidth": 2
          },
          "yaxis": {
           "automargin": true,
           "gridcolor": "white",
           "linecolor": "white",
           "ticks": "",
           "title": {
            "standoff": 15
           },
           "zerolinecolor": "white",
           "zerolinewidth": 2
          }
         }
        },
        "title": {
         "font": {
          "color": "#4D5663"
         }
        },
        "xaxis": {
         "gridcolor": "#E1E5ED",
         "showgrid": true,
         "tickfont": {
          "color": "#4D5663"
         },
         "title": {
          "font": {
           "color": "#4D5663"
          },
          "text": ""
         },
         "zerolinecolor": "#E1E5ED"
        },
        "yaxis": {
         "gridcolor": "#E1E5ED",
         "showgrid": true,
         "tickfont": {
          "color": "#4D5663"
         },
         "title": {
          "font": {
           "color": "#4D5663"
          },
          "text": ""
         },
         "zerolinecolor": "#E1E5ED"
        }
       }
      },
      "text/html": [
       "<div>                            <div id=\"512921aa-402d-44aa-b522-4369e99c7832\" class=\"plotly-graph-div\" style=\"height:525px; width:100%;\"></div>            <script type=\"text/javascript\">                require([\"plotly\"], function(Plotly) {                    window.PLOTLYENV=window.PLOTLYENV || {};\n",
       "                    window.PLOTLYENV.BASE_URL='https://plot.ly';                                    if (document.getElementById(\"512921aa-402d-44aa-b522-4369e99c7832\")) {                    Plotly.newPlot(                        \"512921aa-402d-44aa-b522-4369e99c7832\",                        [{\"marker\":{\"color\":\"rgba(255, 153, 51, 0.6)\",\"line\":{\"color\":\"rgba(255, 153, 51, 1.0)\",\"width\":1}},\"name\":\"None\",\"orientation\":\"v\",\"text\":\"\",\"x\":[\"A\",\"B\",\"C\",\"D\"],\"y\":[100,100,100,100],\"type\":\"bar\"}],                        {\"legend\":{\"bgcolor\":\"#F5F6F9\",\"font\":{\"color\":\"#4D5663\"}},\"paper_bgcolor\":\"#F5F6F9\",\"plot_bgcolor\":\"#F5F6F9\",\"template\":{\"data\":{\"barpolar\":[{\"marker\":{\"line\":{\"color\":\"#E5ECF6\",\"width\":0.5},\"pattern\":{\"fillmode\":\"overlay\",\"size\":10,\"solidity\":0.2}},\"type\":\"barpolar\"}],\"bar\":[{\"error_x\":{\"color\":\"#2a3f5f\"},\"error_y\":{\"color\":\"#2a3f5f\"},\"marker\":{\"line\":{\"color\":\"#E5ECF6\",\"width\":0.5},\"pattern\":{\"fillmode\":\"overlay\",\"size\":10,\"solidity\":0.2}},\"type\":\"bar\"}],\"carpet\":[{\"aaxis\":{\"endlinecolor\":\"#2a3f5f\",\"gridcolor\":\"white\",\"linecolor\":\"white\",\"minorgridcolor\":\"white\",\"startlinecolor\":\"#2a3f5f\"},\"baxis\":{\"endlinecolor\":\"#2a3f5f\",\"gridcolor\":\"white\",\"linecolor\":\"white\",\"minorgridcolor\":\"white\",\"startlinecolor\":\"#2a3f5f\"},\"type\":\"carpet\"}],\"choropleth\":[{\"colorbar\":{\"outlinewidth\":0,\"ticks\":\"\"},\"type\":\"choropleth\"}],\"contourcarpet\":[{\"colorbar\":{\"outlinewidth\":0,\"ticks\":\"\"},\"type\":\"contourcarpet\"}],\"contour\":[{\"colorbar\":{\"outlinewidth\":0,\"ticks\":\"\"},\"colorscale\":[[0.0,\"#0d0887\"],[0.1111111111111111,\"#46039f\"],[0.2222222222222222,\"#7201a8\"],[0.3333333333333333,\"#9c179e\"],[0.4444444444444444,\"#bd3786\"],[0.5555555555555556,\"#d8576b\"],[0.6666666666666666,\"#ed7953\"],[0.7777777777777778,\"#fb9f3a\"],[0.8888888888888888,\"#fdca26\"],[1.0,\"#f0f921\"]],\"type\":\"contour\"}],\"heatmapgl\":[{\"colorbar\":{\"outlinewidth\":0,\"ticks\":\"\"},\"colorscale\":[[0.0,\"#0d0887\"],[0.1111111111111111,\"#46039f\"],[0.2222222222222222,\"#7201a8\"],[0.3333333333333333,\"#9c179e\"],[0.4444444444444444,\"#bd3786\"],[0.5555555555555556,\"#d8576b\"],[0.6666666666666666,\"#ed7953\"],[0.7777777777777778,\"#fb9f3a\"],[0.8888888888888888,\"#fdca26\"],[1.0,\"#f0f921\"]],\"type\":\"heatmapgl\"}],\"heatmap\":[{\"colorbar\":{\"outlinewidth\":0,\"ticks\":\"\"},\"colorscale\":[[0.0,\"#0d0887\"],[0.1111111111111111,\"#46039f\"],[0.2222222222222222,\"#7201a8\"],[0.3333333333333333,\"#9c179e\"],[0.4444444444444444,\"#bd3786\"],[0.5555555555555556,\"#d8576b\"],[0.6666666666666666,\"#ed7953\"],[0.7777777777777778,\"#fb9f3a\"],[0.8888888888888888,\"#fdca26\"],[1.0,\"#f0f921\"]],\"type\":\"heatmap\"}],\"histogram2dcontour\":[{\"colorbar\":{\"outlinewidth\":0,\"ticks\":\"\"},\"colorscale\":[[0.0,\"#0d0887\"],[0.1111111111111111,\"#46039f\"],[0.2222222222222222,\"#7201a8\"],[0.3333333333333333,\"#9c179e\"],[0.4444444444444444,\"#bd3786\"],[0.5555555555555556,\"#d8576b\"],[0.6666666666666666,\"#ed7953\"],[0.7777777777777778,\"#fb9f3a\"],[0.8888888888888888,\"#fdca26\"],[1.0,\"#f0f921\"]],\"type\":\"histogram2dcontour\"}],\"histogram2d\":[{\"colorbar\":{\"outlinewidth\":0,\"ticks\":\"\"},\"colorscale\":[[0.0,\"#0d0887\"],[0.1111111111111111,\"#46039f\"],[0.2222222222222222,\"#7201a8\"],[0.3333333333333333,\"#9c179e\"],[0.4444444444444444,\"#bd3786\"],[0.5555555555555556,\"#d8576b\"],[0.6666666666666666,\"#ed7953\"],[0.7777777777777778,\"#fb9f3a\"],[0.8888888888888888,\"#fdca26\"],[1.0,\"#f0f921\"]],\"type\":\"histogram2d\"}],\"histogram\":[{\"marker\":{\"pattern\":{\"fillmode\":\"overlay\",\"size\":10,\"solidity\":0.2}},\"type\":\"histogram\"}],\"mesh3d\":[{\"colorbar\":{\"outlinewidth\":0,\"ticks\":\"\"},\"type\":\"mesh3d\"}],\"parcoords\":[{\"line\":{\"colorbar\":{\"outlinewidth\":0,\"ticks\":\"\"}},\"type\":\"parcoords\"}],\"pie\":[{\"automargin\":true,\"type\":\"pie\"}],\"scatter3d\":[{\"line\":{\"colorbar\":{\"outlinewidth\":0,\"ticks\":\"\"}},\"marker\":{\"colorbar\":{\"outlinewidth\":0,\"ticks\":\"\"}},\"type\":\"scatter3d\"}],\"scattercarpet\":[{\"marker\":{\"colorbar\":{\"outlinewidth\":0,\"ticks\":\"\"}},\"type\":\"scattercarpet\"}],\"scattergeo\":[{\"marker\":{\"colorbar\":{\"outlinewidth\":0,\"ticks\":\"\"}},\"type\":\"scattergeo\"}],\"scattergl\":[{\"marker\":{\"colorbar\":{\"outlinewidth\":0,\"ticks\":\"\"}},\"type\":\"scattergl\"}],\"scattermapbox\":[{\"marker\":{\"colorbar\":{\"outlinewidth\":0,\"ticks\":\"\"}},\"type\":\"scattermapbox\"}],\"scatterpolargl\":[{\"marker\":{\"colorbar\":{\"outlinewidth\":0,\"ticks\":\"\"}},\"type\":\"scatterpolargl\"}],\"scatterpolar\":[{\"marker\":{\"colorbar\":{\"outlinewidth\":0,\"ticks\":\"\"}},\"type\":\"scatterpolar\"}],\"scatter\":[{\"fillpattern\":{\"fillmode\":\"overlay\",\"size\":10,\"solidity\":0.2},\"type\":\"scatter\"}],\"scatterternary\":[{\"marker\":{\"colorbar\":{\"outlinewidth\":0,\"ticks\":\"\"}},\"type\":\"scatterternary\"}],\"surface\":[{\"colorbar\":{\"outlinewidth\":0,\"ticks\":\"\"},\"colorscale\":[[0.0,\"#0d0887\"],[0.1111111111111111,\"#46039f\"],[0.2222222222222222,\"#7201a8\"],[0.3333333333333333,\"#9c179e\"],[0.4444444444444444,\"#bd3786\"],[0.5555555555555556,\"#d8576b\"],[0.6666666666666666,\"#ed7953\"],[0.7777777777777778,\"#fb9f3a\"],[0.8888888888888888,\"#fdca26\"],[1.0,\"#f0f921\"]],\"type\":\"surface\"}],\"table\":[{\"cells\":{\"fill\":{\"color\":\"#EBF0F8\"},\"line\":{\"color\":\"white\"}},\"header\":{\"fill\":{\"color\":\"#C8D4E3\"},\"line\":{\"color\":\"white\"}},\"type\":\"table\"}]},\"layout\":{\"annotationdefaults\":{\"arrowcolor\":\"#2a3f5f\",\"arrowhead\":0,\"arrowwidth\":1},\"autotypenumbers\":\"strict\",\"coloraxis\":{\"colorbar\":{\"outlinewidth\":0,\"ticks\":\"\"}},\"colorscale\":{\"diverging\":[[0,\"#8e0152\"],[0.1,\"#c51b7d\"],[0.2,\"#de77ae\"],[0.3,\"#f1b6da\"],[0.4,\"#fde0ef\"],[0.5,\"#f7f7f7\"],[0.6,\"#e6f5d0\"],[0.7,\"#b8e186\"],[0.8,\"#7fbc41\"],[0.9,\"#4d9221\"],[1,\"#276419\"]],\"sequential\":[[0.0,\"#0d0887\"],[0.1111111111111111,\"#46039f\"],[0.2222222222222222,\"#7201a8\"],[0.3333333333333333,\"#9c179e\"],[0.4444444444444444,\"#bd3786\"],[0.5555555555555556,\"#d8576b\"],[0.6666666666666666,\"#ed7953\"],[0.7777777777777778,\"#fb9f3a\"],[0.8888888888888888,\"#fdca26\"],[1.0,\"#f0f921\"]],\"sequentialminus\":[[0.0,\"#0d0887\"],[0.1111111111111111,\"#46039f\"],[0.2222222222222222,\"#7201a8\"],[0.3333333333333333,\"#9c179e\"],[0.4444444444444444,\"#bd3786\"],[0.5555555555555556,\"#d8576b\"],[0.6666666666666666,\"#ed7953\"],[0.7777777777777778,\"#fb9f3a\"],[0.8888888888888888,\"#fdca26\"],[1.0,\"#f0f921\"]]},\"colorway\":[\"#636efa\",\"#EF553B\",\"#00cc96\",\"#ab63fa\",\"#FFA15A\",\"#19d3f3\",\"#FF6692\",\"#B6E880\",\"#FF97FF\",\"#FECB52\"],\"font\":{\"color\":\"#2a3f5f\"},\"geo\":{\"bgcolor\":\"white\",\"lakecolor\":\"white\",\"landcolor\":\"#E5ECF6\",\"showlakes\":true,\"showland\":true,\"subunitcolor\":\"white\"},\"hoverlabel\":{\"align\":\"left\"},\"hovermode\":\"closest\",\"mapbox\":{\"style\":\"light\"},\"paper_bgcolor\":\"white\",\"plot_bgcolor\":\"#E5ECF6\",\"polar\":{\"angularaxis\":{\"gridcolor\":\"white\",\"linecolor\":\"white\",\"ticks\":\"\"},\"bgcolor\":\"#E5ECF6\",\"radialaxis\":{\"gridcolor\":\"white\",\"linecolor\":\"white\",\"ticks\":\"\"}},\"scene\":{\"xaxis\":{\"backgroundcolor\":\"#E5ECF6\",\"gridcolor\":\"white\",\"gridwidth\":2,\"linecolor\":\"white\",\"showbackground\":true,\"ticks\":\"\",\"zerolinecolor\":\"white\"},\"yaxis\":{\"backgroundcolor\":\"#E5ECF6\",\"gridcolor\":\"white\",\"gridwidth\":2,\"linecolor\":\"white\",\"showbackground\":true,\"ticks\":\"\",\"zerolinecolor\":\"white\"},\"zaxis\":{\"backgroundcolor\":\"#E5ECF6\",\"gridcolor\":\"white\",\"gridwidth\":2,\"linecolor\":\"white\",\"showbackground\":true,\"ticks\":\"\",\"zerolinecolor\":\"white\"}},\"shapedefaults\":{\"line\":{\"color\":\"#2a3f5f\"}},\"ternary\":{\"aaxis\":{\"gridcolor\":\"white\",\"linecolor\":\"white\",\"ticks\":\"\"},\"baxis\":{\"gridcolor\":\"white\",\"linecolor\":\"white\",\"ticks\":\"\"},\"bgcolor\":\"#E5ECF6\",\"caxis\":{\"gridcolor\":\"white\",\"linecolor\":\"white\",\"ticks\":\"\"}},\"title\":{\"x\":0.05},\"xaxis\":{\"automargin\":true,\"gridcolor\":\"white\",\"linecolor\":\"white\",\"ticks\":\"\",\"title\":{\"standoff\":15},\"zerolinecolor\":\"white\",\"zerolinewidth\":2},\"yaxis\":{\"automargin\":true,\"gridcolor\":\"white\",\"linecolor\":\"white\",\"ticks\":\"\",\"title\":{\"standoff\":15},\"zerolinecolor\":\"white\",\"zerolinewidth\":2}}},\"title\":{\"font\":{\"color\":\"#4D5663\"}},\"xaxis\":{\"gridcolor\":\"#E1E5ED\",\"showgrid\":true,\"tickfont\":{\"color\":\"#4D5663\"},\"title\":{\"font\":{\"color\":\"#4D5663\"},\"text\":\"\"},\"zerolinecolor\":\"#E1E5ED\"},\"yaxis\":{\"gridcolor\":\"#E1E5ED\",\"showgrid\":true,\"tickfont\":{\"color\":\"#4D5663\"},\"title\":{\"font\":{\"color\":\"#4D5663\"},\"text\":\"\"},\"zerolinecolor\":\"#E1E5ED\"}},                        {\"showLink\": true, \"linkText\": \"Export to plot.ly\", \"plotlyServerURL\": \"https://plot.ly\", \"responsive\": true}                    ).then(function(){\n",
       "                            \n",
       "var gd = document.getElementById('512921aa-402d-44aa-b522-4369e99c7832');\n",
       "var x = new MutationObserver(function (mutations, observer) {{\n",
       "        var display = window.getComputedStyle(gd).display;\n",
       "        if (!display || display === 'none') {{\n",
       "            console.log([gd, 'removed!']);\n",
       "            Plotly.purge(gd);\n",
       "            observer.disconnect();\n",
       "        }}\n",
       "}});\n",
       "\n",
       "// Listen for the removal of the full notebook cells\n",
       "var notebookContainer = gd.closest('#notebook-container');\n",
       "if (notebookContainer) {{\n",
       "    x.observe(notebookContainer, {childList: true});\n",
       "}}\n",
       "\n",
       "// Listen for the clearing of the current output cell\n",
       "var outputEl = gd.closest('.output');\n",
       "if (outputEl) {{\n",
       "    x.observe(outputEl, {childList: true});\n",
       "}}\n",
       "\n",
       "                        })                };                });            </script>        </div>"
      ]
     },
     "metadata": {},
     "output_type": "display_data"
    }
   ],
   "source": [
    "df.count().iplot(kind='bar')"
   ]
  },
  {
   "cell_type": "markdown",
   "metadata": {},
   "source": [
    "## Boxplots"
   ]
  },
  {
   "cell_type": "code",
   "execution_count": 13,
   "metadata": {
    "collapsed": false
   },
   "outputs": [
    {
     "data": {
      "application/vnd.plotly.v1+json": {
       "config": {
        "linkText": "Export to plot.ly",
        "plotlyServerURL": "https://plot.ly",
        "showLink": true
       },
       "data": [
        {
         "boxpoints": false,
         "line": {
          "width": 1.3
         },
         "marker": {
          "color": "rgba(255, 153, 51, 1.0)"
         },
         "name": "A",
         "orientation": "v",
         "type": "box",
         "y": [
          -0.12440004220450178,
          0.4288963942097568,
          -0.8175302115327353,
          0.6755147919275547,
          -0.6153104058460623,
          1.5107790308864097,
          1.2082100462808407,
          -0.7482335020176383,
          -0.8536714641638459,
          1.1461753667566097,
          -0.9560439248733608,
          -0.2623236721376535,
          0.6206454997331918,
          -2.7536593672709606,
          -2.551925579372688,
          -0.2957299816380712,
          0.4192856778036452,
          -0.6953491249380691,
          0.15475760941880773,
          0.48617380809704347,
          0.08693627070381736,
          1.9967457573480847,
          0.639658220349158,
          0.1231035628216723,
          -0.1992207583298977,
          -0.1553352084036998,
          0.02128437987210216,
          0.9300513211403425,
          0.10702418457184715,
          0.14128183963017696,
          0.3184902640984109,
          0.15654965123505066,
          0.0037720975098451907,
          0.8574989631151201,
          -1.524873156706026,
          1.2495059653824245,
          0.6073264855357553,
          -0.9875479485181257,
          -1.322169307348878,
          0.9584271726985903,
          0.0782706692974436,
          -1.704483872141633,
          0.44115665830040013,
          0.6622288163647291,
          0.6363588846845296,
          -1.734962860184126,
          -0.2912216451544937,
          0.4950586402213371,
          0.557612547389266,
          -0.06094266421931948,
          0.6869022064867679,
          -0.43415825429348504,
          0.3198079834489686,
          -0.2523467679119873,
          0.9131059077485624,
          -1.4506650781865362,
          -2.1524237796060404,
          -2.3173424895459673,
          -0.9433163103883199,
          -1.0491851949857525,
          1.2235234503502748,
          0.9677371433229299,
          -0.30767172753788974,
          -0.13469480143733428,
          -1.2423329913874182,
          1.8531858555119145,
          0.2112700497316099,
          0.5371965566890142,
          1.3730674720787115,
          1.434921988803041,
          -0.4359874816165674,
          0.3428091469169689,
          1.1070321770260403,
          -1.208607648829903,
          2.63117347542205,
          0.8825160660681278,
          -0.6623201166297342,
          -0.6306833549066874,
          -1.219241361331293,
          0.07525070940976299,
          0.07519785579755203,
          2.0305258977375433,
          0.5110479699335309,
          -0.7954677473214181,
          -0.7044593446025139,
          0.3767881524556384,
          0.3269154608386359,
          -0.06190339297760778,
          -0.4169257177901647,
          0.07500048057030348,
          -1.392003397255068,
          0.4097021895823168,
          -1.3790534978386195,
          0.051186016716467796,
          0.29304475955680076,
          -1.0396697959748253,
          1.7724847298638957,
          0.9293382363986284,
          0.8248476489508761,
          -0.22462868204430908
         ]
        },
        {
         "boxpoints": false,
         "line": {
          "width": 1.3
         },
         "marker": {
          "color": "rgba(55, 128, 191, 1.0)"
         },
         "name": "B",
         "orientation": "v",
         "type": "box",
         "y": [
          -0.3292325397486561,
          -0.17306522699908652,
          -0.6464893575702781,
          0.035165550743715045,
          -0.7975115999666432,
          -1.430328480017783,
          0.26116558389628347,
          0.07960050613028784,
          0.7028102915581942,
          2.0570382035915005,
          -0.5068918951122974,
          -0.7636371272817802,
          -0.4273639294913696,
          1.9713152588974416,
          -0.24174708148803523,
          -0.5717925095990226,
          -0.03146683755804916,
          0.6564120750201057,
          -0.652438690736643,
          -0.9056675434703751,
          -1.076584825682077,
          1.0776390136450578,
          -0.356327853903885,
          -0.5848105957530477,
          -0.24535200012712352,
          0.444403228371304,
          -1.5351513633084226,
          1.7811615156793303,
          -0.9247780299987302,
          0.31197270302490065,
          0.5550095485631508,
          -0.6185607852307881,
          -1.1388129539863996,
          -1.266412441215088,
          0.5979035395425927,
          1.978510932245443,
          0.06511097243906205,
          -0.5467623530523096,
          -1.178444759499918,
          -0.007838906241009677,
          -0.49944841820271535,
          -0.9303042630160602,
          0.9759709785816392,
          0.5172466497800202,
          -1.1444394974675458,
          -1.7784613832164344,
          0.6638154792009108,
          -0.3622885492260522,
          1.3589544727914418,
          -0.5015129319685158,
          -0.5429978811817414,
          0.10793978065134847,
          -1.0240025991923145,
          -1.0308103961262272,
          1.0974553509396936,
          -0.2708058472723366,
          1.5055398215120048,
          -0.18215823631142825,
          1.7955669320067176,
          0.7691852071196374,
          0.631587772358769,
          0.10386441645062747,
          0.07955685662895058,
          1.429489477411851,
          -0.08232008806820637,
          0.7348310083142334,
          0.3477679524781943,
          -0.259581561491272,
          -1.3952556296419927,
          -0.8754676875006271,
          1.6260696308729057,
          0.9479491547842962,
          0.02757355901737411,
          -0.15976649349700167,
          -0.2417770491794492,
          -0.6396560158854687,
          0.5211048472942529,
          -1.7939978388073674,
          0.46535042408233745,
          -0.02436409592451531,
          0.21566909214220353,
          -2.303823790069858,
          1.3527164139007362,
          1.4973038258870448,
          -1.3369400086152066,
          0.8013792393872382,
          1.454200833131103,
          0.23862706580293014,
          0.32212990417758075,
          0.6816575643769174,
          -0.7105082611355769,
          -1.109037760046857,
          0.5375768406827974,
          0.7037831800759476,
          -0.7304877597086991,
          0.8158754408165058,
          0.9573349468546526,
          -0.33959823506780945,
          -2.5038225065530737,
          -0.4634758667183664
         ]
        },
        {
         "boxpoints": false,
         "line": {
          "width": 1.3
         },
         "marker": {
          "color": "rgba(50, 171, 96, 1.0)"
         },
         "name": "C",
         "orientation": "v",
         "type": "box",
         "y": [
          0.7222831491201205,
          -2.296893373557001,
          -0.9514846621369799,
          0.4878656536717068,
          -1.204500985459564,
          -0.71657070536086,
          -2.6086380990757,
          -0.4645106846928102,
          0.6365012353242219,
          0.5484487769567372,
          1.1703198480595607,
          -0.7668137333809377,
          -0.5095147635392293,
          1.1517081315698932,
          -0.3170121084782209,
          1.0496050016970198,
          0.8117472747136824,
          -0.1962422196878374,
          0.02093483927191635,
          1.6629061494081,
          1.8972009358937585,
          0.740639715357248,
          -0.4162362834949462,
          -0.41027079985010284,
          -0.8084779105360417,
          0.7317122954613846,
          -2.0533645797842586,
          0.25973848437167424,
          1.2657945132888098,
          -1.104292497061763,
          -0.14908556947487261,
          -0.9792381695082234,
          0.19931844185183348,
          0.6353293320854605,
          0.23684686481465728,
          -0.00004328701907809816,
          -0.9584400643821612,
          -1.7721276090380729,
          0.4885363189218579,
          0.8153994614809292,
          1.8047938579452167,
          -0.11813571543306897,
          -0.35936368359341364,
          0.8854602574190062,
          0.9818414737260609,
          1.5604974436335939,
          0.25405005946705567,
          -0.014545398592931424,
          1.9537061002678235,
          -0.16066286797581827,
          0.41763070616142917,
          0.3543134045403085,
          0.6108391995996915,
          1.2001695196236635,
          0.10757293156127155,
          -1.417937377609837,
          1.0009288475656837,
          0.07278346072057543,
          -0.11355648884132326,
          1.5590187932866566,
          1.0497455983382646,
          -0.32828431874117314,
          1.3496036579759836,
          -0.09664953478072369,
          -0.8868912179847095,
          -0.288538546172643,
          0.47429991028781676,
          -0.37077973396465935,
          2.259007501258914,
          1.1295705479562885,
          -0.39940958412144123,
          2.4976455428056608,
          0.32944304579035905,
          -0.30906311859830454,
          -2.4190144896892,
          0.3899297113192504,
          -0.5788404558758334,
          -1.5868677398077473,
          0.5053865441811288,
          1.1846812384427776,
          0.6972874000180896,
          0.8203378111149934,
          -1.317316887758314,
          -0.9271318760034939,
          -0.3897576825508226,
          0.42853222437658417,
          0.9417738879405237,
          1.2777586978658635,
          -0.5348376571806567,
          0.4265725451300481,
          0.861345328889857,
          -0.3599043442189083,
          -1.4001968597624057,
          0.6274017191038457,
          0.4527475878800311,
          -0.7479558765701726,
          -0.02854602917519827,
          1.472720229867451,
          -0.5925202559393768,
          -1.4722353158995045
         ]
        },
        {
         "boxpoints": false,
         "line": {
          "width": 1.3
         },
         "marker": {
          "color": "rgba(128, 0, 128, 1.0)"
         },
         "name": "D",
         "orientation": "v",
         "type": "box",
         "y": [
          -0.26522503792552254,
          -1.1425615889423173,
          -0.26163701936859746,
          1.4923223417703781,
          0.7264289776111549,
          -2.1464551341213878,
          -0.1385299663923213,
          0.5191769097241302,
          0.24998405485175337,
          0.04416682569297171,
          -1.4031880942613844,
          -0.22515664837213129,
          -0.15677734354915096,
          -0.5908021150505197,
          0.7573157073125226,
          -0.8191401233988489,
          0.2665345291796723,
          1.2162499594215463,
          -0.21294470021652956,
          0.5573424770690906,
          1.6754164535322895,
          1.2025684752364034,
          -2.172613082675401,
          0.7857879937866677,
          0.33188830353214943,
          -1.3336058284668435,
          -2.047347104623378,
          -0.11324985255820672,
          -0.9882835555184477,
          0.17453045638027517,
          -1.5101642160861162,
          1.3640072021726177,
          1.206170804213018,
          -0.2638399832977407,
          0.32746016782678833,
          0.36297685278103997,
          -0.660536666725527,
          1.4720246539576813,
          0.7934578047897171,
          0.03921398779772697,
          -0.7977646312968549,
          0.8358876122751778,
          2.2146344282961086,
          -1.2310989399862209,
          1.5787976507912858,
          0.4277023542750409,
          0.4714535911523593,
          -0.6130335395192607,
          -0.2190006682888357,
          0.1427114866115953,
          0.8067733948772188,
          -0.13196912385356796,
          0.2225136183425238,
          0.08970339406595677,
          0.48568837887014427,
          -0.09380129204078046,
          1.3403068833877072,
          0.39700045699838266,
          0.9967077564660008,
          0.7750367176629562,
          -0.42240095385441434,
          -1.1585624594425623,
          -1.0242266547551049,
          0.1104521392124219,
          0.4329795547704835,
          0.9498326109312207,
          -0.724801288623274,
          -1.2544871905657253,
          -0.1121904020466736,
          1.4924131732855943,
          1.7574708482455839,
          0.7844983327501531,
          1.3843612130266856,
          -1.3570927209936914,
          0.41621295533200736,
          0.8493293037052111,
          0.9215011811171258,
          1.0612038021861123,
          -0.11736195541293107,
          0.604443712641654,
          0.7530102489289536,
          -0.44475351247942607,
          -0.4074864623740178,
          0.04532665117285895,
          -1.710486871473883,
          -1.180632803318249,
          -1.0194785020787356,
          -0.2873878080625621,
          -0.38313156282065075,
          0.3519135012856905,
          -0.892249840949631,
          -1.5310558380872876,
          -0.8956839831632065,
          -0.4089702432090396,
          -1.5700775629787924,
          -1.4642421686220066,
          -1.4852160891896857,
          0.4242270764137463,
          -0.7101870094387682,
          0.43459589920061
         ]
        }
       ],
       "layout": {
        "legend": {
         "bgcolor": "#F5F6F9",
         "font": {
          "color": "#4D5663"
         }
        },
        "paper_bgcolor": "#F5F6F9",
        "plot_bgcolor": "#F5F6F9",
        "template": {
         "data": {
          "bar": [
           {
            "error_x": {
             "color": "#2a3f5f"
            },
            "error_y": {
             "color": "#2a3f5f"
            },
            "marker": {
             "line": {
              "color": "#E5ECF6",
              "width": 0.5
             },
             "pattern": {
              "fillmode": "overlay",
              "size": 10,
              "solidity": 0.2
             }
            },
            "type": "bar"
           }
          ],
          "barpolar": [
           {
            "marker": {
             "line": {
              "color": "#E5ECF6",
              "width": 0.5
             },
             "pattern": {
              "fillmode": "overlay",
              "size": 10,
              "solidity": 0.2
             }
            },
            "type": "barpolar"
           }
          ],
          "carpet": [
           {
            "aaxis": {
             "endlinecolor": "#2a3f5f",
             "gridcolor": "white",
             "linecolor": "white",
             "minorgridcolor": "white",
             "startlinecolor": "#2a3f5f"
            },
            "baxis": {
             "endlinecolor": "#2a3f5f",
             "gridcolor": "white",
             "linecolor": "white",
             "minorgridcolor": "white",
             "startlinecolor": "#2a3f5f"
            },
            "type": "carpet"
           }
          ],
          "choropleth": [
           {
            "colorbar": {
             "outlinewidth": 0,
             "ticks": ""
            },
            "type": "choropleth"
           }
          ],
          "contour": [
           {
            "colorbar": {
             "outlinewidth": 0,
             "ticks": ""
            },
            "colorscale": [
             [
              0,
              "#0d0887"
             ],
             [
              0.1111111111111111,
              "#46039f"
             ],
             [
              0.2222222222222222,
              "#7201a8"
             ],
             [
              0.3333333333333333,
              "#9c179e"
             ],
             [
              0.4444444444444444,
              "#bd3786"
             ],
             [
              0.5555555555555556,
              "#d8576b"
             ],
             [
              0.6666666666666666,
              "#ed7953"
             ],
             [
              0.7777777777777778,
              "#fb9f3a"
             ],
             [
              0.8888888888888888,
              "#fdca26"
             ],
             [
              1,
              "#f0f921"
             ]
            ],
            "type": "contour"
           }
          ],
          "contourcarpet": [
           {
            "colorbar": {
             "outlinewidth": 0,
             "ticks": ""
            },
            "type": "contourcarpet"
           }
          ],
          "heatmap": [
           {
            "colorbar": {
             "outlinewidth": 0,
             "ticks": ""
            },
            "colorscale": [
             [
              0,
              "#0d0887"
             ],
             [
              0.1111111111111111,
              "#46039f"
             ],
             [
              0.2222222222222222,
              "#7201a8"
             ],
             [
              0.3333333333333333,
              "#9c179e"
             ],
             [
              0.4444444444444444,
              "#bd3786"
             ],
             [
              0.5555555555555556,
              "#d8576b"
             ],
             [
              0.6666666666666666,
              "#ed7953"
             ],
             [
              0.7777777777777778,
              "#fb9f3a"
             ],
             [
              0.8888888888888888,
              "#fdca26"
             ],
             [
              1,
              "#f0f921"
             ]
            ],
            "type": "heatmap"
           }
          ],
          "heatmapgl": [
           {
            "colorbar": {
             "outlinewidth": 0,
             "ticks": ""
            },
            "colorscale": [
             [
              0,
              "#0d0887"
             ],
             [
              0.1111111111111111,
              "#46039f"
             ],
             [
              0.2222222222222222,
              "#7201a8"
             ],
             [
              0.3333333333333333,
              "#9c179e"
             ],
             [
              0.4444444444444444,
              "#bd3786"
             ],
             [
              0.5555555555555556,
              "#d8576b"
             ],
             [
              0.6666666666666666,
              "#ed7953"
             ],
             [
              0.7777777777777778,
              "#fb9f3a"
             ],
             [
              0.8888888888888888,
              "#fdca26"
             ],
             [
              1,
              "#f0f921"
             ]
            ],
            "type": "heatmapgl"
           }
          ],
          "histogram": [
           {
            "marker": {
             "pattern": {
              "fillmode": "overlay",
              "size": 10,
              "solidity": 0.2
             }
            },
            "type": "histogram"
           }
          ],
          "histogram2d": [
           {
            "colorbar": {
             "outlinewidth": 0,
             "ticks": ""
            },
            "colorscale": [
             [
              0,
              "#0d0887"
             ],
             [
              0.1111111111111111,
              "#46039f"
             ],
             [
              0.2222222222222222,
              "#7201a8"
             ],
             [
              0.3333333333333333,
              "#9c179e"
             ],
             [
              0.4444444444444444,
              "#bd3786"
             ],
             [
              0.5555555555555556,
              "#d8576b"
             ],
             [
              0.6666666666666666,
              "#ed7953"
             ],
             [
              0.7777777777777778,
              "#fb9f3a"
             ],
             [
              0.8888888888888888,
              "#fdca26"
             ],
             [
              1,
              "#f0f921"
             ]
            ],
            "type": "histogram2d"
           }
          ],
          "histogram2dcontour": [
           {
            "colorbar": {
             "outlinewidth": 0,
             "ticks": ""
            },
            "colorscale": [
             [
              0,
              "#0d0887"
             ],
             [
              0.1111111111111111,
              "#46039f"
             ],
             [
              0.2222222222222222,
              "#7201a8"
             ],
             [
              0.3333333333333333,
              "#9c179e"
             ],
             [
              0.4444444444444444,
              "#bd3786"
             ],
             [
              0.5555555555555556,
              "#d8576b"
             ],
             [
              0.6666666666666666,
              "#ed7953"
             ],
             [
              0.7777777777777778,
              "#fb9f3a"
             ],
             [
              0.8888888888888888,
              "#fdca26"
             ],
             [
              1,
              "#f0f921"
             ]
            ],
            "type": "histogram2dcontour"
           }
          ],
          "mesh3d": [
           {
            "colorbar": {
             "outlinewidth": 0,
             "ticks": ""
            },
            "type": "mesh3d"
           }
          ],
          "parcoords": [
           {
            "line": {
             "colorbar": {
              "outlinewidth": 0,
              "ticks": ""
             }
            },
            "type": "parcoords"
           }
          ],
          "pie": [
           {
            "automargin": true,
            "type": "pie"
           }
          ],
          "scatter": [
           {
            "fillpattern": {
             "fillmode": "overlay",
             "size": 10,
             "solidity": 0.2
            },
            "type": "scatter"
           }
          ],
          "scatter3d": [
           {
            "line": {
             "colorbar": {
              "outlinewidth": 0,
              "ticks": ""
             }
            },
            "marker": {
             "colorbar": {
              "outlinewidth": 0,
              "ticks": ""
             }
            },
            "type": "scatter3d"
           }
          ],
          "scattercarpet": [
           {
            "marker": {
             "colorbar": {
              "outlinewidth": 0,
              "ticks": ""
             }
            },
            "type": "scattercarpet"
           }
          ],
          "scattergeo": [
           {
            "marker": {
             "colorbar": {
              "outlinewidth": 0,
              "ticks": ""
             }
            },
            "type": "scattergeo"
           }
          ],
          "scattergl": [
           {
            "marker": {
             "colorbar": {
              "outlinewidth": 0,
              "ticks": ""
             }
            },
            "type": "scattergl"
           }
          ],
          "scattermapbox": [
           {
            "marker": {
             "colorbar": {
              "outlinewidth": 0,
              "ticks": ""
             }
            },
            "type": "scattermapbox"
           }
          ],
          "scatterpolar": [
           {
            "marker": {
             "colorbar": {
              "outlinewidth": 0,
              "ticks": ""
             }
            },
            "type": "scatterpolar"
           }
          ],
          "scatterpolargl": [
           {
            "marker": {
             "colorbar": {
              "outlinewidth": 0,
              "ticks": ""
             }
            },
            "type": "scatterpolargl"
           }
          ],
          "scatterternary": [
           {
            "marker": {
             "colorbar": {
              "outlinewidth": 0,
              "ticks": ""
             }
            },
            "type": "scatterternary"
           }
          ],
          "surface": [
           {
            "colorbar": {
             "outlinewidth": 0,
             "ticks": ""
            },
            "colorscale": [
             [
              0,
              "#0d0887"
             ],
             [
              0.1111111111111111,
              "#46039f"
             ],
             [
              0.2222222222222222,
              "#7201a8"
             ],
             [
              0.3333333333333333,
              "#9c179e"
             ],
             [
              0.4444444444444444,
              "#bd3786"
             ],
             [
              0.5555555555555556,
              "#d8576b"
             ],
             [
              0.6666666666666666,
              "#ed7953"
             ],
             [
              0.7777777777777778,
              "#fb9f3a"
             ],
             [
              0.8888888888888888,
              "#fdca26"
             ],
             [
              1,
              "#f0f921"
             ]
            ],
            "type": "surface"
           }
          ],
          "table": [
           {
            "cells": {
             "fill": {
              "color": "#EBF0F8"
             },
             "line": {
              "color": "white"
             }
            },
            "header": {
             "fill": {
              "color": "#C8D4E3"
             },
             "line": {
              "color": "white"
             }
            },
            "type": "table"
           }
          ]
         },
         "layout": {
          "annotationdefaults": {
           "arrowcolor": "#2a3f5f",
           "arrowhead": 0,
           "arrowwidth": 1
          },
          "autotypenumbers": "strict",
          "coloraxis": {
           "colorbar": {
            "outlinewidth": 0,
            "ticks": ""
           }
          },
          "colorscale": {
           "diverging": [
            [
             0,
             "#8e0152"
            ],
            [
             0.1,
             "#c51b7d"
            ],
            [
             0.2,
             "#de77ae"
            ],
            [
             0.3,
             "#f1b6da"
            ],
            [
             0.4,
             "#fde0ef"
            ],
            [
             0.5,
             "#f7f7f7"
            ],
            [
             0.6,
             "#e6f5d0"
            ],
            [
             0.7,
             "#b8e186"
            ],
            [
             0.8,
             "#7fbc41"
            ],
            [
             0.9,
             "#4d9221"
            ],
            [
             1,
             "#276419"
            ]
           ],
           "sequential": [
            [
             0,
             "#0d0887"
            ],
            [
             0.1111111111111111,
             "#46039f"
            ],
            [
             0.2222222222222222,
             "#7201a8"
            ],
            [
             0.3333333333333333,
             "#9c179e"
            ],
            [
             0.4444444444444444,
             "#bd3786"
            ],
            [
             0.5555555555555556,
             "#d8576b"
            ],
            [
             0.6666666666666666,
             "#ed7953"
            ],
            [
             0.7777777777777778,
             "#fb9f3a"
            ],
            [
             0.8888888888888888,
             "#fdca26"
            ],
            [
             1,
             "#f0f921"
            ]
           ],
           "sequentialminus": [
            [
             0,
             "#0d0887"
            ],
            [
             0.1111111111111111,
             "#46039f"
            ],
            [
             0.2222222222222222,
             "#7201a8"
            ],
            [
             0.3333333333333333,
             "#9c179e"
            ],
            [
             0.4444444444444444,
             "#bd3786"
            ],
            [
             0.5555555555555556,
             "#d8576b"
            ],
            [
             0.6666666666666666,
             "#ed7953"
            ],
            [
             0.7777777777777778,
             "#fb9f3a"
            ],
            [
             0.8888888888888888,
             "#fdca26"
            ],
            [
             1,
             "#f0f921"
            ]
           ]
          },
          "colorway": [
           "#636efa",
           "#EF553B",
           "#00cc96",
           "#ab63fa",
           "#FFA15A",
           "#19d3f3",
           "#FF6692",
           "#B6E880",
           "#FF97FF",
           "#FECB52"
          ],
          "font": {
           "color": "#2a3f5f"
          },
          "geo": {
           "bgcolor": "white",
           "lakecolor": "white",
           "landcolor": "#E5ECF6",
           "showlakes": true,
           "showland": true,
           "subunitcolor": "white"
          },
          "hoverlabel": {
           "align": "left"
          },
          "hovermode": "closest",
          "mapbox": {
           "style": "light"
          },
          "paper_bgcolor": "white",
          "plot_bgcolor": "#E5ECF6",
          "polar": {
           "angularaxis": {
            "gridcolor": "white",
            "linecolor": "white",
            "ticks": ""
           },
           "bgcolor": "#E5ECF6",
           "radialaxis": {
            "gridcolor": "white",
            "linecolor": "white",
            "ticks": ""
           }
          },
          "scene": {
           "xaxis": {
            "backgroundcolor": "#E5ECF6",
            "gridcolor": "white",
            "gridwidth": 2,
            "linecolor": "white",
            "showbackground": true,
            "ticks": "",
            "zerolinecolor": "white"
           },
           "yaxis": {
            "backgroundcolor": "#E5ECF6",
            "gridcolor": "white",
            "gridwidth": 2,
            "linecolor": "white",
            "showbackground": true,
            "ticks": "",
            "zerolinecolor": "white"
           },
           "zaxis": {
            "backgroundcolor": "#E5ECF6",
            "gridcolor": "white",
            "gridwidth": 2,
            "linecolor": "white",
            "showbackground": true,
            "ticks": "",
            "zerolinecolor": "white"
           }
          },
          "shapedefaults": {
           "line": {
            "color": "#2a3f5f"
           }
          },
          "ternary": {
           "aaxis": {
            "gridcolor": "white",
            "linecolor": "white",
            "ticks": ""
           },
           "baxis": {
            "gridcolor": "white",
            "linecolor": "white",
            "ticks": ""
           },
           "bgcolor": "#E5ECF6",
           "caxis": {
            "gridcolor": "white",
            "linecolor": "white",
            "ticks": ""
           }
          },
          "title": {
           "x": 0.05
          },
          "xaxis": {
           "automargin": true,
           "gridcolor": "white",
           "linecolor": "white",
           "ticks": "",
           "title": {
            "standoff": 15
           },
           "zerolinecolor": "white",
           "zerolinewidth": 2
          },
          "yaxis": {
           "automargin": true,
           "gridcolor": "white",
           "linecolor": "white",
           "ticks": "",
           "title": {
            "standoff": 15
           },
           "zerolinecolor": "white",
           "zerolinewidth": 2
          }
         }
        },
        "title": {
         "font": {
          "color": "#4D5663"
         }
        },
        "xaxis": {
         "gridcolor": "#E1E5ED",
         "showgrid": true,
         "tickfont": {
          "color": "#4D5663"
         },
         "title": {
          "font": {
           "color": "#4D5663"
          },
          "text": ""
         },
         "zerolinecolor": "#E1E5ED"
        },
        "yaxis": {
         "gridcolor": "#E1E5ED",
         "showgrid": true,
         "tickfont": {
          "color": "#4D5663"
         },
         "title": {
          "font": {
           "color": "#4D5663"
          },
          "text": ""
         },
         "zerolinecolor": "#E1E5ED"
        }
       }
      },
      "text/html": [
       "<div>                            <div id=\"54a2bd8a-8284-46ff-96e1-81ccf78a6f59\" class=\"plotly-graph-div\" style=\"height:525px; width:100%;\"></div>            <script type=\"text/javascript\">                require([\"plotly\"], function(Plotly) {                    window.PLOTLYENV=window.PLOTLYENV || {};\n",
       "                    window.PLOTLYENV.BASE_URL='https://plot.ly';                                    if (document.getElementById(\"54a2bd8a-8284-46ff-96e1-81ccf78a6f59\")) {                    Plotly.newPlot(                        \"54a2bd8a-8284-46ff-96e1-81ccf78a6f59\",                        [{\"boxpoints\":false,\"line\":{\"width\":1.3},\"marker\":{\"color\":\"rgba(255, 153, 51, 1.0)\"},\"name\":\"A\",\"orientation\":\"v\",\"y\":[-0.12440004220450178,0.4288963942097568,-0.8175302115327353,0.6755147919275547,-0.6153104058460623,1.5107790308864097,1.2082100462808407,-0.7482335020176383,-0.8536714641638459,1.1461753667566097,-0.9560439248733608,-0.2623236721376535,0.6206454997331918,-2.7536593672709606,-2.551925579372688,-0.2957299816380712,0.4192856778036452,-0.6953491249380691,0.15475760941880773,0.48617380809704347,0.08693627070381736,1.9967457573480847,0.639658220349158,0.1231035628216723,-0.1992207583298977,-0.1553352084036998,0.02128437987210216,0.9300513211403425,0.10702418457184715,0.14128183963017696,0.3184902640984109,0.15654965123505066,0.0037720975098451907,0.8574989631151201,-1.524873156706026,1.2495059653824245,0.6073264855357553,-0.9875479485181257,-1.322169307348878,0.9584271726985903,0.0782706692974436,-1.704483872141633,0.44115665830040013,0.6622288163647291,0.6363588846845296,-1.734962860184126,-0.2912216451544937,0.4950586402213371,0.557612547389266,-0.06094266421931948,0.6869022064867679,-0.43415825429348504,0.3198079834489686,-0.2523467679119873,0.9131059077485624,-1.4506650781865362,-2.1524237796060404,-2.3173424895459673,-0.9433163103883199,-1.0491851949857525,1.2235234503502748,0.9677371433229299,-0.30767172753788974,-0.13469480143733428,-1.2423329913874182,1.8531858555119145,0.2112700497316099,0.5371965566890142,1.3730674720787115,1.434921988803041,-0.4359874816165674,0.3428091469169689,1.1070321770260403,-1.208607648829903,2.63117347542205,0.8825160660681278,-0.6623201166297342,-0.6306833549066874,-1.219241361331293,0.07525070940976299,0.07519785579755203,2.0305258977375433,0.5110479699335309,-0.7954677473214181,-0.7044593446025139,0.3767881524556384,0.3269154608386359,-0.06190339297760778,-0.4169257177901647,0.07500048057030348,-1.392003397255068,0.4097021895823168,-1.3790534978386195,0.051186016716467796,0.29304475955680076,-1.0396697959748253,1.7724847298638957,0.9293382363986284,0.8248476489508761,-0.22462868204430908],\"type\":\"box\"},{\"boxpoints\":false,\"line\":{\"width\":1.3},\"marker\":{\"color\":\"rgba(55, 128, 191, 1.0)\"},\"name\":\"B\",\"orientation\":\"v\",\"y\":[-0.3292325397486561,-0.17306522699908652,-0.6464893575702781,0.035165550743715045,-0.7975115999666432,-1.430328480017783,0.26116558389628347,0.07960050613028784,0.7028102915581942,2.0570382035915005,-0.5068918951122974,-0.7636371272817802,-0.4273639294913696,1.9713152588974416,-0.24174708148803523,-0.5717925095990226,-0.03146683755804916,0.6564120750201057,-0.652438690736643,-0.9056675434703751,-1.076584825682077,1.0776390136450578,-0.356327853903885,-0.5848105957530477,-0.24535200012712352,0.444403228371304,-1.5351513633084226,1.7811615156793303,-0.9247780299987302,0.31197270302490065,0.5550095485631508,-0.6185607852307881,-1.1388129539863996,-1.266412441215088,0.5979035395425927,1.978510932245443,0.06511097243906205,-0.5467623530523096,-1.178444759499918,-0.007838906241009677,-0.49944841820271535,-0.9303042630160602,0.9759709785816392,0.5172466497800202,-1.1444394974675458,-1.7784613832164344,0.6638154792009108,-0.3622885492260522,1.3589544727914418,-0.5015129319685158,-0.5429978811817414,0.10793978065134847,-1.0240025991923145,-1.0308103961262272,1.0974553509396936,-0.2708058472723366,1.5055398215120048,-0.18215823631142825,1.7955669320067176,0.7691852071196374,0.631587772358769,0.10386441645062747,0.07955685662895058,1.429489477411851,-0.08232008806820637,0.7348310083142334,0.3477679524781943,-0.259581561491272,-1.3952556296419927,-0.8754676875006271,1.6260696308729057,0.9479491547842962,0.02757355901737411,-0.15976649349700167,-0.2417770491794492,-0.6396560158854687,0.5211048472942529,-1.7939978388073674,0.46535042408233745,-0.02436409592451531,0.21566909214220353,-2.303823790069858,1.3527164139007362,1.4973038258870448,-1.3369400086152066,0.8013792393872382,1.454200833131103,0.23862706580293014,0.32212990417758075,0.6816575643769174,-0.7105082611355769,-1.109037760046857,0.5375768406827974,0.7037831800759476,-0.7304877597086991,0.8158754408165058,0.9573349468546526,-0.33959823506780945,-2.5038225065530737,-0.4634758667183664],\"type\":\"box\"},{\"boxpoints\":false,\"line\":{\"width\":1.3},\"marker\":{\"color\":\"rgba(50, 171, 96, 1.0)\"},\"name\":\"C\",\"orientation\":\"v\",\"y\":[0.7222831491201205,-2.296893373557001,-0.9514846621369799,0.4878656536717068,-1.204500985459564,-0.71657070536086,-2.6086380990757,-0.4645106846928102,0.6365012353242219,0.5484487769567372,1.1703198480595607,-0.7668137333809377,-0.5095147635392293,1.1517081315698932,-0.3170121084782209,1.0496050016970198,0.8117472747136824,-0.1962422196878374,0.02093483927191635,1.6629061494081,1.8972009358937585,0.740639715357248,-0.4162362834949462,-0.41027079985010284,-0.8084779105360417,0.7317122954613846,-2.0533645797842586,0.25973848437167424,1.2657945132888098,-1.104292497061763,-0.14908556947487261,-0.9792381695082234,0.19931844185183348,0.6353293320854605,0.23684686481465728,-4.328701907809816e-05,-0.9584400643821612,-1.7721276090380729,0.4885363189218579,0.8153994614809292,1.8047938579452167,-0.11813571543306897,-0.35936368359341364,0.8854602574190062,0.9818414737260609,1.5604974436335939,0.25405005946705567,-0.014545398592931424,1.9537061002678235,-0.16066286797581827,0.41763070616142917,0.3543134045403085,0.6108391995996915,1.2001695196236635,0.10757293156127155,-1.417937377609837,1.0009288475656837,0.07278346072057543,-0.11355648884132326,1.5590187932866566,1.0497455983382646,-0.32828431874117314,1.3496036579759836,-0.09664953478072369,-0.8868912179847095,-0.288538546172643,0.47429991028781676,-0.37077973396465935,2.259007501258914,1.1295705479562885,-0.39940958412144123,2.4976455428056608,0.32944304579035905,-0.30906311859830454,-2.4190144896892,0.3899297113192504,-0.5788404558758334,-1.5868677398077473,0.5053865441811288,1.1846812384427776,0.6972874000180896,0.8203378111149934,-1.317316887758314,-0.9271318760034939,-0.3897576825508226,0.42853222437658417,0.9417738879405237,1.2777586978658635,-0.5348376571806567,0.4265725451300481,0.861345328889857,-0.3599043442189083,-1.4001968597624057,0.6274017191038457,0.4527475878800311,-0.7479558765701726,-0.02854602917519827,1.472720229867451,-0.5925202559393768,-1.4722353158995045],\"type\":\"box\"},{\"boxpoints\":false,\"line\":{\"width\":1.3},\"marker\":{\"color\":\"rgba(128, 0, 128, 1.0)\"},\"name\":\"D\",\"orientation\":\"v\",\"y\":[-0.26522503792552254,-1.1425615889423173,-0.26163701936859746,1.4923223417703781,0.7264289776111549,-2.1464551341213878,-0.1385299663923213,0.5191769097241302,0.24998405485175337,0.04416682569297171,-1.4031880942613844,-0.22515664837213129,-0.15677734354915096,-0.5908021150505197,0.7573157073125226,-0.8191401233988489,0.2665345291796723,1.2162499594215463,-0.21294470021652956,0.5573424770690906,1.6754164535322895,1.2025684752364034,-2.172613082675401,0.7857879937866677,0.33188830353214943,-1.3336058284668435,-2.047347104623378,-0.11324985255820672,-0.9882835555184477,0.17453045638027517,-1.5101642160861162,1.3640072021726177,1.206170804213018,-0.2638399832977407,0.32746016782678833,0.36297685278103997,-0.660536666725527,1.4720246539576813,0.7934578047897171,0.03921398779772697,-0.7977646312968549,0.8358876122751778,2.2146344282961086,-1.2310989399862209,1.5787976507912858,0.4277023542750409,0.4714535911523593,-0.6130335395192607,-0.2190006682888357,0.1427114866115953,0.8067733948772188,-0.13196912385356796,0.2225136183425238,0.08970339406595677,0.48568837887014427,-0.09380129204078046,1.3403068833877072,0.39700045699838266,0.9967077564660008,0.7750367176629562,-0.42240095385441434,-1.1585624594425623,-1.0242266547551049,0.1104521392124219,0.4329795547704835,0.9498326109312207,-0.724801288623274,-1.2544871905657253,-0.1121904020466736,1.4924131732855943,1.7574708482455839,0.7844983327501531,1.3843612130266856,-1.3570927209936914,0.41621295533200736,0.8493293037052111,0.9215011811171258,1.0612038021861123,-0.11736195541293107,0.604443712641654,0.7530102489289536,-0.44475351247942607,-0.4074864623740178,0.04532665117285895,-1.710486871473883,-1.180632803318249,-1.0194785020787356,-0.2873878080625621,-0.38313156282065075,0.3519135012856905,-0.892249840949631,-1.5310558380872876,-0.8956839831632065,-0.4089702432090396,-1.5700775629787924,-1.4642421686220066,-1.4852160891896857,0.4242270764137463,-0.7101870094387682,0.43459589920061],\"type\":\"box\"}],                        {\"legend\":{\"bgcolor\":\"#F5F6F9\",\"font\":{\"color\":\"#4D5663\"}},\"paper_bgcolor\":\"#F5F6F9\",\"plot_bgcolor\":\"#F5F6F9\",\"template\":{\"data\":{\"barpolar\":[{\"marker\":{\"line\":{\"color\":\"#E5ECF6\",\"width\":0.5},\"pattern\":{\"fillmode\":\"overlay\",\"size\":10,\"solidity\":0.2}},\"type\":\"barpolar\"}],\"bar\":[{\"error_x\":{\"color\":\"#2a3f5f\"},\"error_y\":{\"color\":\"#2a3f5f\"},\"marker\":{\"line\":{\"color\":\"#E5ECF6\",\"width\":0.5},\"pattern\":{\"fillmode\":\"overlay\",\"size\":10,\"solidity\":0.2}},\"type\":\"bar\"}],\"carpet\":[{\"aaxis\":{\"endlinecolor\":\"#2a3f5f\",\"gridcolor\":\"white\",\"linecolor\":\"white\",\"minorgridcolor\":\"white\",\"startlinecolor\":\"#2a3f5f\"},\"baxis\":{\"endlinecolor\":\"#2a3f5f\",\"gridcolor\":\"white\",\"linecolor\":\"white\",\"minorgridcolor\":\"white\",\"startlinecolor\":\"#2a3f5f\"},\"type\":\"carpet\"}],\"choropleth\":[{\"colorbar\":{\"outlinewidth\":0,\"ticks\":\"\"},\"type\":\"choropleth\"}],\"contourcarpet\":[{\"colorbar\":{\"outlinewidth\":0,\"ticks\":\"\"},\"type\":\"contourcarpet\"}],\"contour\":[{\"colorbar\":{\"outlinewidth\":0,\"ticks\":\"\"},\"colorscale\":[[0.0,\"#0d0887\"],[0.1111111111111111,\"#46039f\"],[0.2222222222222222,\"#7201a8\"],[0.3333333333333333,\"#9c179e\"],[0.4444444444444444,\"#bd3786\"],[0.5555555555555556,\"#d8576b\"],[0.6666666666666666,\"#ed7953\"],[0.7777777777777778,\"#fb9f3a\"],[0.8888888888888888,\"#fdca26\"],[1.0,\"#f0f921\"]],\"type\":\"contour\"}],\"heatmapgl\":[{\"colorbar\":{\"outlinewidth\":0,\"ticks\":\"\"},\"colorscale\":[[0.0,\"#0d0887\"],[0.1111111111111111,\"#46039f\"],[0.2222222222222222,\"#7201a8\"],[0.3333333333333333,\"#9c179e\"],[0.4444444444444444,\"#bd3786\"],[0.5555555555555556,\"#d8576b\"],[0.6666666666666666,\"#ed7953\"],[0.7777777777777778,\"#fb9f3a\"],[0.8888888888888888,\"#fdca26\"],[1.0,\"#f0f921\"]],\"type\":\"heatmapgl\"}],\"heatmap\":[{\"colorbar\":{\"outlinewidth\":0,\"ticks\":\"\"},\"colorscale\":[[0.0,\"#0d0887\"],[0.1111111111111111,\"#46039f\"],[0.2222222222222222,\"#7201a8\"],[0.3333333333333333,\"#9c179e\"],[0.4444444444444444,\"#bd3786\"],[0.5555555555555556,\"#d8576b\"],[0.6666666666666666,\"#ed7953\"],[0.7777777777777778,\"#fb9f3a\"],[0.8888888888888888,\"#fdca26\"],[1.0,\"#f0f921\"]],\"type\":\"heatmap\"}],\"histogram2dcontour\":[{\"colorbar\":{\"outlinewidth\":0,\"ticks\":\"\"},\"colorscale\":[[0.0,\"#0d0887\"],[0.1111111111111111,\"#46039f\"],[0.2222222222222222,\"#7201a8\"],[0.3333333333333333,\"#9c179e\"],[0.4444444444444444,\"#bd3786\"],[0.5555555555555556,\"#d8576b\"],[0.6666666666666666,\"#ed7953\"],[0.7777777777777778,\"#fb9f3a\"],[0.8888888888888888,\"#fdca26\"],[1.0,\"#f0f921\"]],\"type\":\"histogram2dcontour\"}],\"histogram2d\":[{\"colorbar\":{\"outlinewidth\":0,\"ticks\":\"\"},\"colorscale\":[[0.0,\"#0d0887\"],[0.1111111111111111,\"#46039f\"],[0.2222222222222222,\"#7201a8\"],[0.3333333333333333,\"#9c179e\"],[0.4444444444444444,\"#bd3786\"],[0.5555555555555556,\"#d8576b\"],[0.6666666666666666,\"#ed7953\"],[0.7777777777777778,\"#fb9f3a\"],[0.8888888888888888,\"#fdca26\"],[1.0,\"#f0f921\"]],\"type\":\"histogram2d\"}],\"histogram\":[{\"marker\":{\"pattern\":{\"fillmode\":\"overlay\",\"size\":10,\"solidity\":0.2}},\"type\":\"histogram\"}],\"mesh3d\":[{\"colorbar\":{\"outlinewidth\":0,\"ticks\":\"\"},\"type\":\"mesh3d\"}],\"parcoords\":[{\"line\":{\"colorbar\":{\"outlinewidth\":0,\"ticks\":\"\"}},\"type\":\"parcoords\"}],\"pie\":[{\"automargin\":true,\"type\":\"pie\"}],\"scatter3d\":[{\"line\":{\"colorbar\":{\"outlinewidth\":0,\"ticks\":\"\"}},\"marker\":{\"colorbar\":{\"outlinewidth\":0,\"ticks\":\"\"}},\"type\":\"scatter3d\"}],\"scattercarpet\":[{\"marker\":{\"colorbar\":{\"outlinewidth\":0,\"ticks\":\"\"}},\"type\":\"scattercarpet\"}],\"scattergeo\":[{\"marker\":{\"colorbar\":{\"outlinewidth\":0,\"ticks\":\"\"}},\"type\":\"scattergeo\"}],\"scattergl\":[{\"marker\":{\"colorbar\":{\"outlinewidth\":0,\"ticks\":\"\"}},\"type\":\"scattergl\"}],\"scattermapbox\":[{\"marker\":{\"colorbar\":{\"outlinewidth\":0,\"ticks\":\"\"}},\"type\":\"scattermapbox\"}],\"scatterpolargl\":[{\"marker\":{\"colorbar\":{\"outlinewidth\":0,\"ticks\":\"\"}},\"type\":\"scatterpolargl\"}],\"scatterpolar\":[{\"marker\":{\"colorbar\":{\"outlinewidth\":0,\"ticks\":\"\"}},\"type\":\"scatterpolar\"}],\"scatter\":[{\"fillpattern\":{\"fillmode\":\"overlay\",\"size\":10,\"solidity\":0.2},\"type\":\"scatter\"}],\"scatterternary\":[{\"marker\":{\"colorbar\":{\"outlinewidth\":0,\"ticks\":\"\"}},\"type\":\"scatterternary\"}],\"surface\":[{\"colorbar\":{\"outlinewidth\":0,\"ticks\":\"\"},\"colorscale\":[[0.0,\"#0d0887\"],[0.1111111111111111,\"#46039f\"],[0.2222222222222222,\"#7201a8\"],[0.3333333333333333,\"#9c179e\"],[0.4444444444444444,\"#bd3786\"],[0.5555555555555556,\"#d8576b\"],[0.6666666666666666,\"#ed7953\"],[0.7777777777777778,\"#fb9f3a\"],[0.8888888888888888,\"#fdca26\"],[1.0,\"#f0f921\"]],\"type\":\"surface\"}],\"table\":[{\"cells\":{\"fill\":{\"color\":\"#EBF0F8\"},\"line\":{\"color\":\"white\"}},\"header\":{\"fill\":{\"color\":\"#C8D4E3\"},\"line\":{\"color\":\"white\"}},\"type\":\"table\"}]},\"layout\":{\"annotationdefaults\":{\"arrowcolor\":\"#2a3f5f\",\"arrowhead\":0,\"arrowwidth\":1},\"autotypenumbers\":\"strict\",\"coloraxis\":{\"colorbar\":{\"outlinewidth\":0,\"ticks\":\"\"}},\"colorscale\":{\"diverging\":[[0,\"#8e0152\"],[0.1,\"#c51b7d\"],[0.2,\"#de77ae\"],[0.3,\"#f1b6da\"],[0.4,\"#fde0ef\"],[0.5,\"#f7f7f7\"],[0.6,\"#e6f5d0\"],[0.7,\"#b8e186\"],[0.8,\"#7fbc41\"],[0.9,\"#4d9221\"],[1,\"#276419\"]],\"sequential\":[[0.0,\"#0d0887\"],[0.1111111111111111,\"#46039f\"],[0.2222222222222222,\"#7201a8\"],[0.3333333333333333,\"#9c179e\"],[0.4444444444444444,\"#bd3786\"],[0.5555555555555556,\"#d8576b\"],[0.6666666666666666,\"#ed7953\"],[0.7777777777777778,\"#fb9f3a\"],[0.8888888888888888,\"#fdca26\"],[1.0,\"#f0f921\"]],\"sequentialminus\":[[0.0,\"#0d0887\"],[0.1111111111111111,\"#46039f\"],[0.2222222222222222,\"#7201a8\"],[0.3333333333333333,\"#9c179e\"],[0.4444444444444444,\"#bd3786\"],[0.5555555555555556,\"#d8576b\"],[0.6666666666666666,\"#ed7953\"],[0.7777777777777778,\"#fb9f3a\"],[0.8888888888888888,\"#fdca26\"],[1.0,\"#f0f921\"]]},\"colorway\":[\"#636efa\",\"#EF553B\",\"#00cc96\",\"#ab63fa\",\"#FFA15A\",\"#19d3f3\",\"#FF6692\",\"#B6E880\",\"#FF97FF\",\"#FECB52\"],\"font\":{\"color\":\"#2a3f5f\"},\"geo\":{\"bgcolor\":\"white\",\"lakecolor\":\"white\",\"landcolor\":\"#E5ECF6\",\"showlakes\":true,\"showland\":true,\"subunitcolor\":\"white\"},\"hoverlabel\":{\"align\":\"left\"},\"hovermode\":\"closest\",\"mapbox\":{\"style\":\"light\"},\"paper_bgcolor\":\"white\",\"plot_bgcolor\":\"#E5ECF6\",\"polar\":{\"angularaxis\":{\"gridcolor\":\"white\",\"linecolor\":\"white\",\"ticks\":\"\"},\"bgcolor\":\"#E5ECF6\",\"radialaxis\":{\"gridcolor\":\"white\",\"linecolor\":\"white\",\"ticks\":\"\"}},\"scene\":{\"xaxis\":{\"backgroundcolor\":\"#E5ECF6\",\"gridcolor\":\"white\",\"gridwidth\":2,\"linecolor\":\"white\",\"showbackground\":true,\"ticks\":\"\",\"zerolinecolor\":\"white\"},\"yaxis\":{\"backgroundcolor\":\"#E5ECF6\",\"gridcolor\":\"white\",\"gridwidth\":2,\"linecolor\":\"white\",\"showbackground\":true,\"ticks\":\"\",\"zerolinecolor\":\"white\"},\"zaxis\":{\"backgroundcolor\":\"#E5ECF6\",\"gridcolor\":\"white\",\"gridwidth\":2,\"linecolor\":\"white\",\"showbackground\":true,\"ticks\":\"\",\"zerolinecolor\":\"white\"}},\"shapedefaults\":{\"line\":{\"color\":\"#2a3f5f\"}},\"ternary\":{\"aaxis\":{\"gridcolor\":\"white\",\"linecolor\":\"white\",\"ticks\":\"\"},\"baxis\":{\"gridcolor\":\"white\",\"linecolor\":\"white\",\"ticks\":\"\"},\"bgcolor\":\"#E5ECF6\",\"caxis\":{\"gridcolor\":\"white\",\"linecolor\":\"white\",\"ticks\":\"\"}},\"title\":{\"x\":0.05},\"xaxis\":{\"automargin\":true,\"gridcolor\":\"white\",\"linecolor\":\"white\",\"ticks\":\"\",\"title\":{\"standoff\":15},\"zerolinecolor\":\"white\",\"zerolinewidth\":2},\"yaxis\":{\"automargin\":true,\"gridcolor\":\"white\",\"linecolor\":\"white\",\"ticks\":\"\",\"title\":{\"standoff\":15},\"zerolinecolor\":\"white\",\"zerolinewidth\":2}}},\"title\":{\"font\":{\"color\":\"#4D5663\"}},\"xaxis\":{\"gridcolor\":\"#E1E5ED\",\"showgrid\":true,\"tickfont\":{\"color\":\"#4D5663\"},\"title\":{\"font\":{\"color\":\"#4D5663\"},\"text\":\"\"},\"zerolinecolor\":\"#E1E5ED\"},\"yaxis\":{\"gridcolor\":\"#E1E5ED\",\"showgrid\":true,\"tickfont\":{\"color\":\"#4D5663\"},\"title\":{\"font\":{\"color\":\"#4D5663\"},\"text\":\"\"},\"zerolinecolor\":\"#E1E5ED\"}},                        {\"showLink\": true, \"linkText\": \"Export to plot.ly\", \"plotlyServerURL\": \"https://plot.ly\", \"responsive\": true}                    ).then(function(){\n",
       "                            \n",
       "var gd = document.getElementById('54a2bd8a-8284-46ff-96e1-81ccf78a6f59');\n",
       "var x = new MutationObserver(function (mutations, observer) {{\n",
       "        var display = window.getComputedStyle(gd).display;\n",
       "        if (!display || display === 'none') {{\n",
       "            console.log([gd, 'removed!']);\n",
       "            Plotly.purge(gd);\n",
       "            observer.disconnect();\n",
       "        }}\n",
       "}});\n",
       "\n",
       "// Listen for the removal of the full notebook cells\n",
       "var notebookContainer = gd.closest('#notebook-container');\n",
       "if (notebookContainer) {{\n",
       "    x.observe(notebookContainer, {childList: true});\n",
       "}}\n",
       "\n",
       "// Listen for the clearing of the current output cell\n",
       "var outputEl = gd.closest('.output');\n",
       "if (outputEl) {{\n",
       "    x.observe(outputEl, {childList: true});\n",
       "}}\n",
       "\n",
       "                        })                };                });            </script>        </div>"
      ]
     },
     "metadata": {},
     "output_type": "display_data"
    }
   ],
   "source": [
    "df.iplot(kind='box')"
   ]
  },
  {
   "cell_type": "markdown",
   "metadata": {},
   "source": [
    "## 3d Surface"
   ]
  },
  {
   "cell_type": "code",
   "execution_count": 14,
   "metadata": {
    "collapsed": false
   },
   "outputs": [
    {
     "data": {
      "application/vnd.plotly.v1+json": {
       "config": {
        "linkText": "Export to plot.ly",
        "plotlyServerURL": "https://plot.ly",
        "showLink": true
       },
       "data": [
        {
         "colorscale": [
          [
           0,
           "rgb(165,0,38)"
          ],
          [
           0.1,
           "rgb(215,48,39)"
          ],
          [
           0.2,
           "rgb(244,109,67)"
          ],
          [
           0.3,
           "rgb(253,174,97)"
          ],
          [
           0.4,
           "rgb(254,224,144)"
          ],
          [
           0.5,
           "rgb(255,255,191)"
          ],
          [
           0.6,
           "rgb(224,243,248)"
          ],
          [
           0.7,
           "rgb(171,217,233)"
          ],
          [
           0.8,
           "rgb(116,173,209)"
          ],
          [
           0.9,
           "rgb(69,117,180)"
          ],
          [
           1,
           "rgb(49,54,149)"
          ]
         ],
         "type": "surface",
         "x": [
          0,
          1,
          2,
          3,
          4
         ],
         "y": [
          "x",
          "y",
          "z"
         ],
         "z": [
          [
           1,
           2,
           3,
           4,
           5
          ],
          [
           10,
           20,
           30,
           20,
           10
          ],
          [
           5,
           4,
           3,
           2,
           1
          ]
         ]
        }
       ],
       "layout": {
        "legend": {
         "bgcolor": "#F5F6F9",
         "font": {
          "color": "#4D5663"
         }
        },
        "paper_bgcolor": "#F5F6F9",
        "plot_bgcolor": "#F5F6F9",
        "template": {
         "data": {
          "bar": [
           {
            "error_x": {
             "color": "#2a3f5f"
            },
            "error_y": {
             "color": "#2a3f5f"
            },
            "marker": {
             "line": {
              "color": "#E5ECF6",
              "width": 0.5
             },
             "pattern": {
              "fillmode": "overlay",
              "size": 10,
              "solidity": 0.2
             }
            },
            "type": "bar"
           }
          ],
          "barpolar": [
           {
            "marker": {
             "line": {
              "color": "#E5ECF6",
              "width": 0.5
             },
             "pattern": {
              "fillmode": "overlay",
              "size": 10,
              "solidity": 0.2
             }
            },
            "type": "barpolar"
           }
          ],
          "carpet": [
           {
            "aaxis": {
             "endlinecolor": "#2a3f5f",
             "gridcolor": "white",
             "linecolor": "white",
             "minorgridcolor": "white",
             "startlinecolor": "#2a3f5f"
            },
            "baxis": {
             "endlinecolor": "#2a3f5f",
             "gridcolor": "white",
             "linecolor": "white",
             "minorgridcolor": "white",
             "startlinecolor": "#2a3f5f"
            },
            "type": "carpet"
           }
          ],
          "choropleth": [
           {
            "colorbar": {
             "outlinewidth": 0,
             "ticks": ""
            },
            "type": "choropleth"
           }
          ],
          "contour": [
           {
            "colorbar": {
             "outlinewidth": 0,
             "ticks": ""
            },
            "colorscale": [
             [
              0,
              "#0d0887"
             ],
             [
              0.1111111111111111,
              "#46039f"
             ],
             [
              0.2222222222222222,
              "#7201a8"
             ],
             [
              0.3333333333333333,
              "#9c179e"
             ],
             [
              0.4444444444444444,
              "#bd3786"
             ],
             [
              0.5555555555555556,
              "#d8576b"
             ],
             [
              0.6666666666666666,
              "#ed7953"
             ],
             [
              0.7777777777777778,
              "#fb9f3a"
             ],
             [
              0.8888888888888888,
              "#fdca26"
             ],
             [
              1,
              "#f0f921"
             ]
            ],
            "type": "contour"
           }
          ],
          "contourcarpet": [
           {
            "colorbar": {
             "outlinewidth": 0,
             "ticks": ""
            },
            "type": "contourcarpet"
           }
          ],
          "heatmap": [
           {
            "colorbar": {
             "outlinewidth": 0,
             "ticks": ""
            },
            "colorscale": [
             [
              0,
              "#0d0887"
             ],
             [
              0.1111111111111111,
              "#46039f"
             ],
             [
              0.2222222222222222,
              "#7201a8"
             ],
             [
              0.3333333333333333,
              "#9c179e"
             ],
             [
              0.4444444444444444,
              "#bd3786"
             ],
             [
              0.5555555555555556,
              "#d8576b"
             ],
             [
              0.6666666666666666,
              "#ed7953"
             ],
             [
              0.7777777777777778,
              "#fb9f3a"
             ],
             [
              0.8888888888888888,
              "#fdca26"
             ],
             [
              1,
              "#f0f921"
             ]
            ],
            "type": "heatmap"
           }
          ],
          "heatmapgl": [
           {
            "colorbar": {
             "outlinewidth": 0,
             "ticks": ""
            },
            "colorscale": [
             [
              0,
              "#0d0887"
             ],
             [
              0.1111111111111111,
              "#46039f"
             ],
             [
              0.2222222222222222,
              "#7201a8"
             ],
             [
              0.3333333333333333,
              "#9c179e"
             ],
             [
              0.4444444444444444,
              "#bd3786"
             ],
             [
              0.5555555555555556,
              "#d8576b"
             ],
             [
              0.6666666666666666,
              "#ed7953"
             ],
             [
              0.7777777777777778,
              "#fb9f3a"
             ],
             [
              0.8888888888888888,
              "#fdca26"
             ],
             [
              1,
              "#f0f921"
             ]
            ],
            "type": "heatmapgl"
           }
          ],
          "histogram": [
           {
            "marker": {
             "pattern": {
              "fillmode": "overlay",
              "size": 10,
              "solidity": 0.2
             }
            },
            "type": "histogram"
           }
          ],
          "histogram2d": [
           {
            "colorbar": {
             "outlinewidth": 0,
             "ticks": ""
            },
            "colorscale": [
             [
              0,
              "#0d0887"
             ],
             [
              0.1111111111111111,
              "#46039f"
             ],
             [
              0.2222222222222222,
              "#7201a8"
             ],
             [
              0.3333333333333333,
              "#9c179e"
             ],
             [
              0.4444444444444444,
              "#bd3786"
             ],
             [
              0.5555555555555556,
              "#d8576b"
             ],
             [
              0.6666666666666666,
              "#ed7953"
             ],
             [
              0.7777777777777778,
              "#fb9f3a"
             ],
             [
              0.8888888888888888,
              "#fdca26"
             ],
             [
              1,
              "#f0f921"
             ]
            ],
            "type": "histogram2d"
           }
          ],
          "histogram2dcontour": [
           {
            "colorbar": {
             "outlinewidth": 0,
             "ticks": ""
            },
            "colorscale": [
             [
              0,
              "#0d0887"
             ],
             [
              0.1111111111111111,
              "#46039f"
             ],
             [
              0.2222222222222222,
              "#7201a8"
             ],
             [
              0.3333333333333333,
              "#9c179e"
             ],
             [
              0.4444444444444444,
              "#bd3786"
             ],
             [
              0.5555555555555556,
              "#d8576b"
             ],
             [
              0.6666666666666666,
              "#ed7953"
             ],
             [
              0.7777777777777778,
              "#fb9f3a"
             ],
             [
              0.8888888888888888,
              "#fdca26"
             ],
             [
              1,
              "#f0f921"
             ]
            ],
            "type": "histogram2dcontour"
           }
          ],
          "mesh3d": [
           {
            "colorbar": {
             "outlinewidth": 0,
             "ticks": ""
            },
            "type": "mesh3d"
           }
          ],
          "parcoords": [
           {
            "line": {
             "colorbar": {
              "outlinewidth": 0,
              "ticks": ""
             }
            },
            "type": "parcoords"
           }
          ],
          "pie": [
           {
            "automargin": true,
            "type": "pie"
           }
          ],
          "scatter": [
           {
            "fillpattern": {
             "fillmode": "overlay",
             "size": 10,
             "solidity": 0.2
            },
            "type": "scatter"
           }
          ],
          "scatter3d": [
           {
            "line": {
             "colorbar": {
              "outlinewidth": 0,
              "ticks": ""
             }
            },
            "marker": {
             "colorbar": {
              "outlinewidth": 0,
              "ticks": ""
             }
            },
            "type": "scatter3d"
           }
          ],
          "scattercarpet": [
           {
            "marker": {
             "colorbar": {
              "outlinewidth": 0,
              "ticks": ""
             }
            },
            "type": "scattercarpet"
           }
          ],
          "scattergeo": [
           {
            "marker": {
             "colorbar": {
              "outlinewidth": 0,
              "ticks": ""
             }
            },
            "type": "scattergeo"
           }
          ],
          "scattergl": [
           {
            "marker": {
             "colorbar": {
              "outlinewidth": 0,
              "ticks": ""
             }
            },
            "type": "scattergl"
           }
          ],
          "scattermapbox": [
           {
            "marker": {
             "colorbar": {
              "outlinewidth": 0,
              "ticks": ""
             }
            },
            "type": "scattermapbox"
           }
          ],
          "scatterpolar": [
           {
            "marker": {
             "colorbar": {
              "outlinewidth": 0,
              "ticks": ""
             }
            },
            "type": "scatterpolar"
           }
          ],
          "scatterpolargl": [
           {
            "marker": {
             "colorbar": {
              "outlinewidth": 0,
              "ticks": ""
             }
            },
            "type": "scatterpolargl"
           }
          ],
          "scatterternary": [
           {
            "marker": {
             "colorbar": {
              "outlinewidth": 0,
              "ticks": ""
             }
            },
            "type": "scatterternary"
           }
          ],
          "surface": [
           {
            "colorbar": {
             "outlinewidth": 0,
             "ticks": ""
            },
            "colorscale": [
             [
              0,
              "#0d0887"
             ],
             [
              0.1111111111111111,
              "#46039f"
             ],
             [
              0.2222222222222222,
              "#7201a8"
             ],
             [
              0.3333333333333333,
              "#9c179e"
             ],
             [
              0.4444444444444444,
              "#bd3786"
             ],
             [
              0.5555555555555556,
              "#d8576b"
             ],
             [
              0.6666666666666666,
              "#ed7953"
             ],
             [
              0.7777777777777778,
              "#fb9f3a"
             ],
             [
              0.8888888888888888,
              "#fdca26"
             ],
             [
              1,
              "#f0f921"
             ]
            ],
            "type": "surface"
           }
          ],
          "table": [
           {
            "cells": {
             "fill": {
              "color": "#EBF0F8"
             },
             "line": {
              "color": "white"
             }
            },
            "header": {
             "fill": {
              "color": "#C8D4E3"
             },
             "line": {
              "color": "white"
             }
            },
            "type": "table"
           }
          ]
         },
         "layout": {
          "annotationdefaults": {
           "arrowcolor": "#2a3f5f",
           "arrowhead": 0,
           "arrowwidth": 1
          },
          "autotypenumbers": "strict",
          "coloraxis": {
           "colorbar": {
            "outlinewidth": 0,
            "ticks": ""
           }
          },
          "colorscale": {
           "diverging": [
            [
             0,
             "#8e0152"
            ],
            [
             0.1,
             "#c51b7d"
            ],
            [
             0.2,
             "#de77ae"
            ],
            [
             0.3,
             "#f1b6da"
            ],
            [
             0.4,
             "#fde0ef"
            ],
            [
             0.5,
             "#f7f7f7"
            ],
            [
             0.6,
             "#e6f5d0"
            ],
            [
             0.7,
             "#b8e186"
            ],
            [
             0.8,
             "#7fbc41"
            ],
            [
             0.9,
             "#4d9221"
            ],
            [
             1,
             "#276419"
            ]
           ],
           "sequential": [
            [
             0,
             "#0d0887"
            ],
            [
             0.1111111111111111,
             "#46039f"
            ],
            [
             0.2222222222222222,
             "#7201a8"
            ],
            [
             0.3333333333333333,
             "#9c179e"
            ],
            [
             0.4444444444444444,
             "#bd3786"
            ],
            [
             0.5555555555555556,
             "#d8576b"
            ],
            [
             0.6666666666666666,
             "#ed7953"
            ],
            [
             0.7777777777777778,
             "#fb9f3a"
            ],
            [
             0.8888888888888888,
             "#fdca26"
            ],
            [
             1,
             "#f0f921"
            ]
           ],
           "sequentialminus": [
            [
             0,
             "#0d0887"
            ],
            [
             0.1111111111111111,
             "#46039f"
            ],
            [
             0.2222222222222222,
             "#7201a8"
            ],
            [
             0.3333333333333333,
             "#9c179e"
            ],
            [
             0.4444444444444444,
             "#bd3786"
            ],
            [
             0.5555555555555556,
             "#d8576b"
            ],
            [
             0.6666666666666666,
             "#ed7953"
            ],
            [
             0.7777777777777778,
             "#fb9f3a"
            ],
            [
             0.8888888888888888,
             "#fdca26"
            ],
            [
             1,
             "#f0f921"
            ]
           ]
          },
          "colorway": [
           "#636efa",
           "#EF553B",
           "#00cc96",
           "#ab63fa",
           "#FFA15A",
           "#19d3f3",
           "#FF6692",
           "#B6E880",
           "#FF97FF",
           "#FECB52"
          ],
          "font": {
           "color": "#2a3f5f"
          },
          "geo": {
           "bgcolor": "white",
           "lakecolor": "white",
           "landcolor": "#E5ECF6",
           "showlakes": true,
           "showland": true,
           "subunitcolor": "white"
          },
          "hoverlabel": {
           "align": "left"
          },
          "hovermode": "closest",
          "mapbox": {
           "style": "light"
          },
          "paper_bgcolor": "white",
          "plot_bgcolor": "#E5ECF6",
          "polar": {
           "angularaxis": {
            "gridcolor": "white",
            "linecolor": "white",
            "ticks": ""
           },
           "bgcolor": "#E5ECF6",
           "radialaxis": {
            "gridcolor": "white",
            "linecolor": "white",
            "ticks": ""
           }
          },
          "scene": {
           "xaxis": {
            "backgroundcolor": "#E5ECF6",
            "gridcolor": "white",
            "gridwidth": 2,
            "linecolor": "white",
            "showbackground": true,
            "ticks": "",
            "zerolinecolor": "white"
           },
           "yaxis": {
            "backgroundcolor": "#E5ECF6",
            "gridcolor": "white",
            "gridwidth": 2,
            "linecolor": "white",
            "showbackground": true,
            "ticks": "",
            "zerolinecolor": "white"
           },
           "zaxis": {
            "backgroundcolor": "#E5ECF6",
            "gridcolor": "white",
            "gridwidth": 2,
            "linecolor": "white",
            "showbackground": true,
            "ticks": "",
            "zerolinecolor": "white"
           }
          },
          "shapedefaults": {
           "line": {
            "color": "#2a3f5f"
           }
          },
          "ternary": {
           "aaxis": {
            "gridcolor": "white",
            "linecolor": "white",
            "ticks": ""
           },
           "baxis": {
            "gridcolor": "white",
            "linecolor": "white",
            "ticks": ""
           },
           "bgcolor": "#E5ECF6",
           "caxis": {
            "gridcolor": "white",
            "linecolor": "white",
            "ticks": ""
           }
          },
          "title": {
           "x": 0.05
          },
          "xaxis": {
           "automargin": true,
           "gridcolor": "white",
           "linecolor": "white",
           "ticks": "",
           "title": {
            "standoff": 15
           },
           "zerolinecolor": "white",
           "zerolinewidth": 2
          },
          "yaxis": {
           "automargin": true,
           "gridcolor": "white",
           "linecolor": "white",
           "ticks": "",
           "title": {
            "standoff": 15
           },
           "zerolinecolor": "white",
           "zerolinewidth": 2
          }
         }
        },
        "title": {
         "font": {
          "color": "#4D5663"
         }
        },
        "xaxis": {
         "gridcolor": "#E1E5ED",
         "showgrid": true,
         "tickfont": {
          "color": "#4D5663"
         },
         "title": {
          "font": {
           "color": "#4D5663"
          },
          "text": ""
         },
         "zerolinecolor": "#E1E5ED"
        },
        "yaxis": {
         "gridcolor": "#E1E5ED",
         "showgrid": true,
         "tickfont": {
          "color": "#4D5663"
         },
         "title": {
          "font": {
           "color": "#4D5663"
          },
          "text": ""
         },
         "zerolinecolor": "#E1E5ED"
        }
       }
      },
      "text/html": [
       "<div>                            <div id=\"f2f2e0c4-2a6f-47d5-87dc-fc1ff11d6fd3\" class=\"plotly-graph-div\" style=\"height:525px; width:100%;\"></div>            <script type=\"text/javascript\">                require([\"plotly\"], function(Plotly) {                    window.PLOTLYENV=window.PLOTLYENV || {};\n",
       "                    window.PLOTLYENV.BASE_URL='https://plot.ly';                                    if (document.getElementById(\"f2f2e0c4-2a6f-47d5-87dc-fc1ff11d6fd3\")) {                    Plotly.newPlot(                        \"f2f2e0c4-2a6f-47d5-87dc-fc1ff11d6fd3\",                        [{\"colorscale\":[[0.0,\"rgb(165,0,38)\"],[0.1,\"rgb(215,48,39)\"],[0.2,\"rgb(244,109,67)\"],[0.3,\"rgb(253,174,97)\"],[0.4,\"rgb(254,224,144)\"],[0.5,\"rgb(255,255,191)\"],[0.6,\"rgb(224,243,248)\"],[0.7,\"rgb(171,217,233)\"],[0.8,\"rgb(116,173,209)\"],[0.9,\"rgb(69,117,180)\"],[1.0,\"rgb(49,54,149)\"]],\"x\":[0,1,2,3,4],\"y\":[\"x\",\"y\",\"z\"],\"z\":[[1,2,3,4,5],[10,20,30,20,10],[5,4,3,2,1]],\"type\":\"surface\"}],                        {\"legend\":{\"bgcolor\":\"#F5F6F9\",\"font\":{\"color\":\"#4D5663\"}},\"paper_bgcolor\":\"#F5F6F9\",\"plot_bgcolor\":\"#F5F6F9\",\"template\":{\"data\":{\"barpolar\":[{\"marker\":{\"line\":{\"color\":\"#E5ECF6\",\"width\":0.5},\"pattern\":{\"fillmode\":\"overlay\",\"size\":10,\"solidity\":0.2}},\"type\":\"barpolar\"}],\"bar\":[{\"error_x\":{\"color\":\"#2a3f5f\"},\"error_y\":{\"color\":\"#2a3f5f\"},\"marker\":{\"line\":{\"color\":\"#E5ECF6\",\"width\":0.5},\"pattern\":{\"fillmode\":\"overlay\",\"size\":10,\"solidity\":0.2}},\"type\":\"bar\"}],\"carpet\":[{\"aaxis\":{\"endlinecolor\":\"#2a3f5f\",\"gridcolor\":\"white\",\"linecolor\":\"white\",\"minorgridcolor\":\"white\",\"startlinecolor\":\"#2a3f5f\"},\"baxis\":{\"endlinecolor\":\"#2a3f5f\",\"gridcolor\":\"white\",\"linecolor\":\"white\",\"minorgridcolor\":\"white\",\"startlinecolor\":\"#2a3f5f\"},\"type\":\"carpet\"}],\"choropleth\":[{\"colorbar\":{\"outlinewidth\":0,\"ticks\":\"\"},\"type\":\"choropleth\"}],\"contourcarpet\":[{\"colorbar\":{\"outlinewidth\":0,\"ticks\":\"\"},\"type\":\"contourcarpet\"}],\"contour\":[{\"colorbar\":{\"outlinewidth\":0,\"ticks\":\"\"},\"colorscale\":[[0.0,\"#0d0887\"],[0.1111111111111111,\"#46039f\"],[0.2222222222222222,\"#7201a8\"],[0.3333333333333333,\"#9c179e\"],[0.4444444444444444,\"#bd3786\"],[0.5555555555555556,\"#d8576b\"],[0.6666666666666666,\"#ed7953\"],[0.7777777777777778,\"#fb9f3a\"],[0.8888888888888888,\"#fdca26\"],[1.0,\"#f0f921\"]],\"type\":\"contour\"}],\"heatmapgl\":[{\"colorbar\":{\"outlinewidth\":0,\"ticks\":\"\"},\"colorscale\":[[0.0,\"#0d0887\"],[0.1111111111111111,\"#46039f\"],[0.2222222222222222,\"#7201a8\"],[0.3333333333333333,\"#9c179e\"],[0.4444444444444444,\"#bd3786\"],[0.5555555555555556,\"#d8576b\"],[0.6666666666666666,\"#ed7953\"],[0.7777777777777778,\"#fb9f3a\"],[0.8888888888888888,\"#fdca26\"],[1.0,\"#f0f921\"]],\"type\":\"heatmapgl\"}],\"heatmap\":[{\"colorbar\":{\"outlinewidth\":0,\"ticks\":\"\"},\"colorscale\":[[0.0,\"#0d0887\"],[0.1111111111111111,\"#46039f\"],[0.2222222222222222,\"#7201a8\"],[0.3333333333333333,\"#9c179e\"],[0.4444444444444444,\"#bd3786\"],[0.5555555555555556,\"#d8576b\"],[0.6666666666666666,\"#ed7953\"],[0.7777777777777778,\"#fb9f3a\"],[0.8888888888888888,\"#fdca26\"],[1.0,\"#f0f921\"]],\"type\":\"heatmap\"}],\"histogram2dcontour\":[{\"colorbar\":{\"outlinewidth\":0,\"ticks\":\"\"},\"colorscale\":[[0.0,\"#0d0887\"],[0.1111111111111111,\"#46039f\"],[0.2222222222222222,\"#7201a8\"],[0.3333333333333333,\"#9c179e\"],[0.4444444444444444,\"#bd3786\"],[0.5555555555555556,\"#d8576b\"],[0.6666666666666666,\"#ed7953\"],[0.7777777777777778,\"#fb9f3a\"],[0.8888888888888888,\"#fdca26\"],[1.0,\"#f0f921\"]],\"type\":\"histogram2dcontour\"}],\"histogram2d\":[{\"colorbar\":{\"outlinewidth\":0,\"ticks\":\"\"},\"colorscale\":[[0.0,\"#0d0887\"],[0.1111111111111111,\"#46039f\"],[0.2222222222222222,\"#7201a8\"],[0.3333333333333333,\"#9c179e\"],[0.4444444444444444,\"#bd3786\"],[0.5555555555555556,\"#d8576b\"],[0.6666666666666666,\"#ed7953\"],[0.7777777777777778,\"#fb9f3a\"],[0.8888888888888888,\"#fdca26\"],[1.0,\"#f0f921\"]],\"type\":\"histogram2d\"}],\"histogram\":[{\"marker\":{\"pattern\":{\"fillmode\":\"overlay\",\"size\":10,\"solidity\":0.2}},\"type\":\"histogram\"}],\"mesh3d\":[{\"colorbar\":{\"outlinewidth\":0,\"ticks\":\"\"},\"type\":\"mesh3d\"}],\"parcoords\":[{\"line\":{\"colorbar\":{\"outlinewidth\":0,\"ticks\":\"\"}},\"type\":\"parcoords\"}],\"pie\":[{\"automargin\":true,\"type\":\"pie\"}],\"scatter3d\":[{\"line\":{\"colorbar\":{\"outlinewidth\":0,\"ticks\":\"\"}},\"marker\":{\"colorbar\":{\"outlinewidth\":0,\"ticks\":\"\"}},\"type\":\"scatter3d\"}],\"scattercarpet\":[{\"marker\":{\"colorbar\":{\"outlinewidth\":0,\"ticks\":\"\"}},\"type\":\"scattercarpet\"}],\"scattergeo\":[{\"marker\":{\"colorbar\":{\"outlinewidth\":0,\"ticks\":\"\"}},\"type\":\"scattergeo\"}],\"scattergl\":[{\"marker\":{\"colorbar\":{\"outlinewidth\":0,\"ticks\":\"\"}},\"type\":\"scattergl\"}],\"scattermapbox\":[{\"marker\":{\"colorbar\":{\"outlinewidth\":0,\"ticks\":\"\"}},\"type\":\"scattermapbox\"}],\"scatterpolargl\":[{\"marker\":{\"colorbar\":{\"outlinewidth\":0,\"ticks\":\"\"}},\"type\":\"scatterpolargl\"}],\"scatterpolar\":[{\"marker\":{\"colorbar\":{\"outlinewidth\":0,\"ticks\":\"\"}},\"type\":\"scatterpolar\"}],\"scatter\":[{\"fillpattern\":{\"fillmode\":\"overlay\",\"size\":10,\"solidity\":0.2},\"type\":\"scatter\"}],\"scatterternary\":[{\"marker\":{\"colorbar\":{\"outlinewidth\":0,\"ticks\":\"\"}},\"type\":\"scatterternary\"}],\"surface\":[{\"colorbar\":{\"outlinewidth\":0,\"ticks\":\"\"},\"colorscale\":[[0.0,\"#0d0887\"],[0.1111111111111111,\"#46039f\"],[0.2222222222222222,\"#7201a8\"],[0.3333333333333333,\"#9c179e\"],[0.4444444444444444,\"#bd3786\"],[0.5555555555555556,\"#d8576b\"],[0.6666666666666666,\"#ed7953\"],[0.7777777777777778,\"#fb9f3a\"],[0.8888888888888888,\"#fdca26\"],[1.0,\"#f0f921\"]],\"type\":\"surface\"}],\"table\":[{\"cells\":{\"fill\":{\"color\":\"#EBF0F8\"},\"line\":{\"color\":\"white\"}},\"header\":{\"fill\":{\"color\":\"#C8D4E3\"},\"line\":{\"color\":\"white\"}},\"type\":\"table\"}]},\"layout\":{\"annotationdefaults\":{\"arrowcolor\":\"#2a3f5f\",\"arrowhead\":0,\"arrowwidth\":1},\"autotypenumbers\":\"strict\",\"coloraxis\":{\"colorbar\":{\"outlinewidth\":0,\"ticks\":\"\"}},\"colorscale\":{\"diverging\":[[0,\"#8e0152\"],[0.1,\"#c51b7d\"],[0.2,\"#de77ae\"],[0.3,\"#f1b6da\"],[0.4,\"#fde0ef\"],[0.5,\"#f7f7f7\"],[0.6,\"#e6f5d0\"],[0.7,\"#b8e186\"],[0.8,\"#7fbc41\"],[0.9,\"#4d9221\"],[1,\"#276419\"]],\"sequential\":[[0.0,\"#0d0887\"],[0.1111111111111111,\"#46039f\"],[0.2222222222222222,\"#7201a8\"],[0.3333333333333333,\"#9c179e\"],[0.4444444444444444,\"#bd3786\"],[0.5555555555555556,\"#d8576b\"],[0.6666666666666666,\"#ed7953\"],[0.7777777777777778,\"#fb9f3a\"],[0.8888888888888888,\"#fdca26\"],[1.0,\"#f0f921\"]],\"sequentialminus\":[[0.0,\"#0d0887\"],[0.1111111111111111,\"#46039f\"],[0.2222222222222222,\"#7201a8\"],[0.3333333333333333,\"#9c179e\"],[0.4444444444444444,\"#bd3786\"],[0.5555555555555556,\"#d8576b\"],[0.6666666666666666,\"#ed7953\"],[0.7777777777777778,\"#fb9f3a\"],[0.8888888888888888,\"#fdca26\"],[1.0,\"#f0f921\"]]},\"colorway\":[\"#636efa\",\"#EF553B\",\"#00cc96\",\"#ab63fa\",\"#FFA15A\",\"#19d3f3\",\"#FF6692\",\"#B6E880\",\"#FF97FF\",\"#FECB52\"],\"font\":{\"color\":\"#2a3f5f\"},\"geo\":{\"bgcolor\":\"white\",\"lakecolor\":\"white\",\"landcolor\":\"#E5ECF6\",\"showlakes\":true,\"showland\":true,\"subunitcolor\":\"white\"},\"hoverlabel\":{\"align\":\"left\"},\"hovermode\":\"closest\",\"mapbox\":{\"style\":\"light\"},\"paper_bgcolor\":\"white\",\"plot_bgcolor\":\"#E5ECF6\",\"polar\":{\"angularaxis\":{\"gridcolor\":\"white\",\"linecolor\":\"white\",\"ticks\":\"\"},\"bgcolor\":\"#E5ECF6\",\"radialaxis\":{\"gridcolor\":\"white\",\"linecolor\":\"white\",\"ticks\":\"\"}},\"scene\":{\"xaxis\":{\"backgroundcolor\":\"#E5ECF6\",\"gridcolor\":\"white\",\"gridwidth\":2,\"linecolor\":\"white\",\"showbackground\":true,\"ticks\":\"\",\"zerolinecolor\":\"white\"},\"yaxis\":{\"backgroundcolor\":\"#E5ECF6\",\"gridcolor\":\"white\",\"gridwidth\":2,\"linecolor\":\"white\",\"showbackground\":true,\"ticks\":\"\",\"zerolinecolor\":\"white\"},\"zaxis\":{\"backgroundcolor\":\"#E5ECF6\",\"gridcolor\":\"white\",\"gridwidth\":2,\"linecolor\":\"white\",\"showbackground\":true,\"ticks\":\"\",\"zerolinecolor\":\"white\"}},\"shapedefaults\":{\"line\":{\"color\":\"#2a3f5f\"}},\"ternary\":{\"aaxis\":{\"gridcolor\":\"white\",\"linecolor\":\"white\",\"ticks\":\"\"},\"baxis\":{\"gridcolor\":\"white\",\"linecolor\":\"white\",\"ticks\":\"\"},\"bgcolor\":\"#E5ECF6\",\"caxis\":{\"gridcolor\":\"white\",\"linecolor\":\"white\",\"ticks\":\"\"}},\"title\":{\"x\":0.05},\"xaxis\":{\"automargin\":true,\"gridcolor\":\"white\",\"linecolor\":\"white\",\"ticks\":\"\",\"title\":{\"standoff\":15},\"zerolinecolor\":\"white\",\"zerolinewidth\":2},\"yaxis\":{\"automargin\":true,\"gridcolor\":\"white\",\"linecolor\":\"white\",\"ticks\":\"\",\"title\":{\"standoff\":15},\"zerolinecolor\":\"white\",\"zerolinewidth\":2}}},\"title\":{\"font\":{\"color\":\"#4D5663\"}},\"xaxis\":{\"gridcolor\":\"#E1E5ED\",\"showgrid\":true,\"tickfont\":{\"color\":\"#4D5663\"},\"title\":{\"font\":{\"color\":\"#4D5663\"},\"text\":\"\"},\"zerolinecolor\":\"#E1E5ED\"},\"yaxis\":{\"gridcolor\":\"#E1E5ED\",\"showgrid\":true,\"tickfont\":{\"color\":\"#4D5663\"},\"title\":{\"font\":{\"color\":\"#4D5663\"},\"text\":\"\"},\"zerolinecolor\":\"#E1E5ED\"}},                        {\"showLink\": true, \"linkText\": \"Export to plot.ly\", \"plotlyServerURL\": \"https://plot.ly\", \"responsive\": true}                    ).then(function(){\n",
       "                            \n",
       "var gd = document.getElementById('f2f2e0c4-2a6f-47d5-87dc-fc1ff11d6fd3');\n",
       "var x = new MutationObserver(function (mutations, observer) {{\n",
       "        var display = window.getComputedStyle(gd).display;\n",
       "        if (!display || display === 'none') {{\n",
       "            console.log([gd, 'removed!']);\n",
       "            Plotly.purge(gd);\n",
       "            observer.disconnect();\n",
       "        }}\n",
       "}});\n",
       "\n",
       "// Listen for the removal of the full notebook cells\n",
       "var notebookContainer = gd.closest('#notebook-container');\n",
       "if (notebookContainer) {{\n",
       "    x.observe(notebookContainer, {childList: true});\n",
       "}}\n",
       "\n",
       "// Listen for the clearing of the current output cell\n",
       "var outputEl = gd.closest('.output');\n",
       "if (outputEl) {{\n",
       "    x.observe(outputEl, {childList: true});\n",
       "}}\n",
       "\n",
       "                        })                };                });            </script>        </div>"
      ]
     },
     "metadata": {},
     "output_type": "display_data"
    }
   ],
   "source": [
    "df3 = pd.DataFrame({'x':[1,2,3,4,5],'y':[10,20,30,20,10],'z':[5,4,3,2,1]})\n",
    "df3.iplot(kind='surface',colorscale='rdylbu')"
   ]
  },
  {
   "cell_type": "markdown",
   "metadata": {},
   "source": [
    "## Spread"
   ]
  },
  {
   "cell_type": "code",
   "execution_count": 16,
   "metadata": {
    "collapsed": false
   },
   "outputs": [
    {
     "ename": "ValueError",
     "evalue": "spread is not a valid plot kind Valid plot kinds: ('line', 'bar', 'barh', 'kde', 'density', 'area', 'hist', 'box', 'pie', 'scatter', 'hexbin')",
     "output_type": "error",
     "traceback": [
      "\u001b[1;31m---------------------------------------------------------------------------\u001b[0m",
      "\u001b[1;31mValueError\u001b[0m                                Traceback (most recent call last)",
      "Cell \u001b[1;32mIn[16], line 1\u001b[0m\n\u001b[1;32m----> 1\u001b[0m \u001b[43mdf\u001b[49m\u001b[43m[\u001b[49m\u001b[43m[\u001b[49m\u001b[38;5;124;43m'\u001b[39;49m\u001b[38;5;124;43mA\u001b[39;49m\u001b[38;5;124;43m'\u001b[39;49m\u001b[43m,\u001b[49m\u001b[38;5;124;43m'\u001b[39;49m\u001b[38;5;124;43mB\u001b[39;49m\u001b[38;5;124;43m'\u001b[39;49m\u001b[43m]\u001b[49m\u001b[43m]\u001b[49m\u001b[38;5;241;43m.\u001b[39;49m\u001b[43mplot\u001b[49m\u001b[43m(\u001b[49m\u001b[43mkind\u001b[49m\u001b[38;5;241;43m=\u001b[39;49m\u001b[38;5;124;43m'\u001b[39;49m\u001b[38;5;124;43mspread\u001b[39;49m\u001b[38;5;124;43m'\u001b[39;49m\u001b[43m)\u001b[49m\n",
      "File \u001b[1;32mc:\\Users\\omar\\AppData\\Local\\Programs\\Python\\Python312\\Lib\\site-packages\\pandas\\plotting\\_core.py:960\u001b[0m, in \u001b[0;36mPlotAccessor.__call__\u001b[1;34m(self, *args, **kwargs)\u001b[0m\n\u001b[0;32m    957\u001b[0m     \u001b[38;5;28;01mreturn\u001b[39;00m plot_backend\u001b[38;5;241m.\u001b[39mplot(\u001b[38;5;28mself\u001b[39m\u001b[38;5;241m.\u001b[39m_parent, x\u001b[38;5;241m=\u001b[39mx, y\u001b[38;5;241m=\u001b[39my, kind\u001b[38;5;241m=\u001b[39mkind, \u001b[38;5;241m*\u001b[39m\u001b[38;5;241m*\u001b[39mkwargs)\n\u001b[0;32m    959\u001b[0m \u001b[38;5;28;01mif\u001b[39;00m kind \u001b[38;5;129;01mnot\u001b[39;00m \u001b[38;5;129;01min\u001b[39;00m \u001b[38;5;28mself\u001b[39m\u001b[38;5;241m.\u001b[39m_all_kinds:\n\u001b[1;32m--> 960\u001b[0m     \u001b[38;5;28;01mraise\u001b[39;00m \u001b[38;5;167;01mValueError\u001b[39;00m(\n\u001b[0;32m    961\u001b[0m         \u001b[38;5;124mf\u001b[39m\u001b[38;5;124m\"\u001b[39m\u001b[38;5;132;01m{\u001b[39;00mkind\u001b[38;5;132;01m}\u001b[39;00m\u001b[38;5;124m is not a valid plot kind \u001b[39m\u001b[38;5;124m\"\u001b[39m\n\u001b[0;32m    962\u001b[0m         \u001b[38;5;124mf\u001b[39m\u001b[38;5;124m\"\u001b[39m\u001b[38;5;124mValid plot kinds: \u001b[39m\u001b[38;5;132;01m{\u001b[39;00m\u001b[38;5;28mself\u001b[39m\u001b[38;5;241m.\u001b[39m_all_kinds\u001b[38;5;132;01m}\u001b[39;00m\u001b[38;5;124m\"\u001b[39m\n\u001b[0;32m    963\u001b[0m     )\n\u001b[0;32m    965\u001b[0m \u001b[38;5;66;03m# The original data structured can be transformed before passed to the\u001b[39;00m\n\u001b[0;32m    966\u001b[0m \u001b[38;5;66;03m# backend. For example, for DataFrame is common to set the index as the\u001b[39;00m\n\u001b[0;32m    967\u001b[0m \u001b[38;5;66;03m# `x` parameter, and return a Series with the parameter `y` as values.\u001b[39;00m\n\u001b[0;32m    968\u001b[0m data \u001b[38;5;241m=\u001b[39m \u001b[38;5;28mself\u001b[39m\u001b[38;5;241m.\u001b[39m_parent\u001b[38;5;241m.\u001b[39mcopy()\n",
      "\u001b[1;31mValueError\u001b[0m: spread is not a valid plot kind Valid plot kinds: ('line', 'bar', 'barh', 'kde', 'density', 'area', 'hist', 'box', 'pie', 'scatter', 'hexbin')"
     ]
    }
   ],
   "source": [
    "df[['A','B']].iplot(kind='spread')"
   ]
  },
  {
   "cell_type": "markdown",
   "metadata": {},
   "source": [
    "## histogram"
   ]
  },
  {
   "cell_type": "code",
   "execution_count": 17,
   "metadata": {
    "collapsed": false
   },
   "outputs": [
    {
     "data": {
      "application/vnd.plotly.v1+json": {
       "config": {
        "linkText": "Export to plot.ly",
        "plotlyServerURL": "https://plot.ly",
        "showLink": true
       },
       "data": [
        {
         "histfunc": "count",
         "histnorm": "",
         "marker": {
          "color": "rgba(255, 153, 51, 1.0)",
          "line": {
           "color": "#4D5663",
           "width": 1.3
          }
         },
         "name": "A",
         "nbinsx": 25,
         "opacity": 0.8,
         "orientation": "v",
         "type": "histogram",
         "x": [
          -0.12440004220450178,
          0.4288963942097568,
          -0.8175302115327353,
          0.6755147919275547,
          -0.6153104058460623,
          1.5107790308864097,
          1.2082100462808407,
          -0.7482335020176383,
          -0.8536714641638459,
          1.1461753667566097,
          -0.9560439248733608,
          -0.2623236721376535,
          0.6206454997331918,
          -2.7536593672709606,
          -2.551925579372688,
          -0.2957299816380712,
          0.4192856778036452,
          -0.6953491249380691,
          0.15475760941880773,
          0.48617380809704347,
          0.08693627070381736,
          1.9967457573480847,
          0.639658220349158,
          0.1231035628216723,
          -0.1992207583298977,
          -0.1553352084036998,
          0.02128437987210216,
          0.9300513211403425,
          0.10702418457184715,
          0.14128183963017696,
          0.3184902640984109,
          0.15654965123505066,
          0.0037720975098451907,
          0.8574989631151201,
          -1.524873156706026,
          1.2495059653824245,
          0.6073264855357553,
          -0.9875479485181257,
          -1.322169307348878,
          0.9584271726985903,
          0.0782706692974436,
          -1.704483872141633,
          0.44115665830040013,
          0.6622288163647291,
          0.6363588846845296,
          -1.734962860184126,
          -0.2912216451544937,
          0.4950586402213371,
          0.557612547389266,
          -0.06094266421931948,
          0.6869022064867679,
          -0.43415825429348504,
          0.3198079834489686,
          -0.2523467679119873,
          0.9131059077485624,
          -1.4506650781865362,
          -2.1524237796060404,
          -2.3173424895459673,
          -0.9433163103883199,
          -1.0491851949857525,
          1.2235234503502748,
          0.9677371433229299,
          -0.30767172753788974,
          -0.13469480143733428,
          -1.2423329913874182,
          1.8531858555119145,
          0.2112700497316099,
          0.5371965566890142,
          1.3730674720787115,
          1.434921988803041,
          -0.4359874816165674,
          0.3428091469169689,
          1.1070321770260403,
          -1.208607648829903,
          2.63117347542205,
          0.8825160660681278,
          -0.6623201166297342,
          -0.6306833549066874,
          -1.219241361331293,
          0.07525070940976299,
          0.07519785579755203,
          2.0305258977375433,
          0.5110479699335309,
          -0.7954677473214181,
          -0.7044593446025139,
          0.3767881524556384,
          0.3269154608386359,
          -0.06190339297760778,
          -0.4169257177901647,
          0.07500048057030348,
          -1.392003397255068,
          0.4097021895823168,
          -1.3790534978386195,
          0.051186016716467796,
          0.29304475955680076,
          -1.0396697959748253,
          1.7724847298638957,
          0.9293382363986284,
          0.8248476489508761,
          -0.22462868204430908
         ]
        }
       ],
       "layout": {
        "barmode": "overlay",
        "legend": {
         "bgcolor": "#F5F6F9",
         "font": {
          "color": "#4D5663"
         }
        },
        "paper_bgcolor": "#F5F6F9",
        "plot_bgcolor": "#F5F6F9",
        "template": {
         "data": {
          "bar": [
           {
            "error_x": {
             "color": "#2a3f5f"
            },
            "error_y": {
             "color": "#2a3f5f"
            },
            "marker": {
             "line": {
              "color": "#E5ECF6",
              "width": 0.5
             },
             "pattern": {
              "fillmode": "overlay",
              "size": 10,
              "solidity": 0.2
             }
            },
            "type": "bar"
           }
          ],
          "barpolar": [
           {
            "marker": {
             "line": {
              "color": "#E5ECF6",
              "width": 0.5
             },
             "pattern": {
              "fillmode": "overlay",
              "size": 10,
              "solidity": 0.2
             }
            },
            "type": "barpolar"
           }
          ],
          "carpet": [
           {
            "aaxis": {
             "endlinecolor": "#2a3f5f",
             "gridcolor": "white",
             "linecolor": "white",
             "minorgridcolor": "white",
             "startlinecolor": "#2a3f5f"
            },
            "baxis": {
             "endlinecolor": "#2a3f5f",
             "gridcolor": "white",
             "linecolor": "white",
             "minorgridcolor": "white",
             "startlinecolor": "#2a3f5f"
            },
            "type": "carpet"
           }
          ],
          "choropleth": [
           {
            "colorbar": {
             "outlinewidth": 0,
             "ticks": ""
            },
            "type": "choropleth"
           }
          ],
          "contour": [
           {
            "colorbar": {
             "outlinewidth": 0,
             "ticks": ""
            },
            "colorscale": [
             [
              0,
              "#0d0887"
             ],
             [
              0.1111111111111111,
              "#46039f"
             ],
             [
              0.2222222222222222,
              "#7201a8"
             ],
             [
              0.3333333333333333,
              "#9c179e"
             ],
             [
              0.4444444444444444,
              "#bd3786"
             ],
             [
              0.5555555555555556,
              "#d8576b"
             ],
             [
              0.6666666666666666,
              "#ed7953"
             ],
             [
              0.7777777777777778,
              "#fb9f3a"
             ],
             [
              0.8888888888888888,
              "#fdca26"
             ],
             [
              1,
              "#f0f921"
             ]
            ],
            "type": "contour"
           }
          ],
          "contourcarpet": [
           {
            "colorbar": {
             "outlinewidth": 0,
             "ticks": ""
            },
            "type": "contourcarpet"
           }
          ],
          "heatmap": [
           {
            "colorbar": {
             "outlinewidth": 0,
             "ticks": ""
            },
            "colorscale": [
             [
              0,
              "#0d0887"
             ],
             [
              0.1111111111111111,
              "#46039f"
             ],
             [
              0.2222222222222222,
              "#7201a8"
             ],
             [
              0.3333333333333333,
              "#9c179e"
             ],
             [
              0.4444444444444444,
              "#bd3786"
             ],
             [
              0.5555555555555556,
              "#d8576b"
             ],
             [
              0.6666666666666666,
              "#ed7953"
             ],
             [
              0.7777777777777778,
              "#fb9f3a"
             ],
             [
              0.8888888888888888,
              "#fdca26"
             ],
             [
              1,
              "#f0f921"
             ]
            ],
            "type": "heatmap"
           }
          ],
          "heatmapgl": [
           {
            "colorbar": {
             "outlinewidth": 0,
             "ticks": ""
            },
            "colorscale": [
             [
              0,
              "#0d0887"
             ],
             [
              0.1111111111111111,
              "#46039f"
             ],
             [
              0.2222222222222222,
              "#7201a8"
             ],
             [
              0.3333333333333333,
              "#9c179e"
             ],
             [
              0.4444444444444444,
              "#bd3786"
             ],
             [
              0.5555555555555556,
              "#d8576b"
             ],
             [
              0.6666666666666666,
              "#ed7953"
             ],
             [
              0.7777777777777778,
              "#fb9f3a"
             ],
             [
              0.8888888888888888,
              "#fdca26"
             ],
             [
              1,
              "#f0f921"
             ]
            ],
            "type": "heatmapgl"
           }
          ],
          "histogram": [
           {
            "marker": {
             "pattern": {
              "fillmode": "overlay",
              "size": 10,
              "solidity": 0.2
             }
            },
            "type": "histogram"
           }
          ],
          "histogram2d": [
           {
            "colorbar": {
             "outlinewidth": 0,
             "ticks": ""
            },
            "colorscale": [
             [
              0,
              "#0d0887"
             ],
             [
              0.1111111111111111,
              "#46039f"
             ],
             [
              0.2222222222222222,
              "#7201a8"
             ],
             [
              0.3333333333333333,
              "#9c179e"
             ],
             [
              0.4444444444444444,
              "#bd3786"
             ],
             [
              0.5555555555555556,
              "#d8576b"
             ],
             [
              0.6666666666666666,
              "#ed7953"
             ],
             [
              0.7777777777777778,
              "#fb9f3a"
             ],
             [
              0.8888888888888888,
              "#fdca26"
             ],
             [
              1,
              "#f0f921"
             ]
            ],
            "type": "histogram2d"
           }
          ],
          "histogram2dcontour": [
           {
            "colorbar": {
             "outlinewidth": 0,
             "ticks": ""
            },
            "colorscale": [
             [
              0,
              "#0d0887"
             ],
             [
              0.1111111111111111,
              "#46039f"
             ],
             [
              0.2222222222222222,
              "#7201a8"
             ],
             [
              0.3333333333333333,
              "#9c179e"
             ],
             [
              0.4444444444444444,
              "#bd3786"
             ],
             [
              0.5555555555555556,
              "#d8576b"
             ],
             [
              0.6666666666666666,
              "#ed7953"
             ],
             [
              0.7777777777777778,
              "#fb9f3a"
             ],
             [
              0.8888888888888888,
              "#fdca26"
             ],
             [
              1,
              "#f0f921"
             ]
            ],
            "type": "histogram2dcontour"
           }
          ],
          "mesh3d": [
           {
            "colorbar": {
             "outlinewidth": 0,
             "ticks": ""
            },
            "type": "mesh3d"
           }
          ],
          "parcoords": [
           {
            "line": {
             "colorbar": {
              "outlinewidth": 0,
              "ticks": ""
             }
            },
            "type": "parcoords"
           }
          ],
          "pie": [
           {
            "automargin": true,
            "type": "pie"
           }
          ],
          "scatter": [
           {
            "fillpattern": {
             "fillmode": "overlay",
             "size": 10,
             "solidity": 0.2
            },
            "type": "scatter"
           }
          ],
          "scatter3d": [
           {
            "line": {
             "colorbar": {
              "outlinewidth": 0,
              "ticks": ""
             }
            },
            "marker": {
             "colorbar": {
              "outlinewidth": 0,
              "ticks": ""
             }
            },
            "type": "scatter3d"
           }
          ],
          "scattercarpet": [
           {
            "marker": {
             "colorbar": {
              "outlinewidth": 0,
              "ticks": ""
             }
            },
            "type": "scattercarpet"
           }
          ],
          "scattergeo": [
           {
            "marker": {
             "colorbar": {
              "outlinewidth": 0,
              "ticks": ""
             }
            },
            "type": "scattergeo"
           }
          ],
          "scattergl": [
           {
            "marker": {
             "colorbar": {
              "outlinewidth": 0,
              "ticks": ""
             }
            },
            "type": "scattergl"
           }
          ],
          "scattermapbox": [
           {
            "marker": {
             "colorbar": {
              "outlinewidth": 0,
              "ticks": ""
             }
            },
            "type": "scattermapbox"
           }
          ],
          "scatterpolar": [
           {
            "marker": {
             "colorbar": {
              "outlinewidth": 0,
              "ticks": ""
             }
            },
            "type": "scatterpolar"
           }
          ],
          "scatterpolargl": [
           {
            "marker": {
             "colorbar": {
              "outlinewidth": 0,
              "ticks": ""
             }
            },
            "type": "scatterpolargl"
           }
          ],
          "scatterternary": [
           {
            "marker": {
             "colorbar": {
              "outlinewidth": 0,
              "ticks": ""
             }
            },
            "type": "scatterternary"
           }
          ],
          "surface": [
           {
            "colorbar": {
             "outlinewidth": 0,
             "ticks": ""
            },
            "colorscale": [
             [
              0,
              "#0d0887"
             ],
             [
              0.1111111111111111,
              "#46039f"
             ],
             [
              0.2222222222222222,
              "#7201a8"
             ],
             [
              0.3333333333333333,
              "#9c179e"
             ],
             [
              0.4444444444444444,
              "#bd3786"
             ],
             [
              0.5555555555555556,
              "#d8576b"
             ],
             [
              0.6666666666666666,
              "#ed7953"
             ],
             [
              0.7777777777777778,
              "#fb9f3a"
             ],
             [
              0.8888888888888888,
              "#fdca26"
             ],
             [
              1,
              "#f0f921"
             ]
            ],
            "type": "surface"
           }
          ],
          "table": [
           {
            "cells": {
             "fill": {
              "color": "#EBF0F8"
             },
             "line": {
              "color": "white"
             }
            },
            "header": {
             "fill": {
              "color": "#C8D4E3"
             },
             "line": {
              "color": "white"
             }
            },
            "type": "table"
           }
          ]
         },
         "layout": {
          "annotationdefaults": {
           "arrowcolor": "#2a3f5f",
           "arrowhead": 0,
           "arrowwidth": 1
          },
          "autotypenumbers": "strict",
          "coloraxis": {
           "colorbar": {
            "outlinewidth": 0,
            "ticks": ""
           }
          },
          "colorscale": {
           "diverging": [
            [
             0,
             "#8e0152"
            ],
            [
             0.1,
             "#c51b7d"
            ],
            [
             0.2,
             "#de77ae"
            ],
            [
             0.3,
             "#f1b6da"
            ],
            [
             0.4,
             "#fde0ef"
            ],
            [
             0.5,
             "#f7f7f7"
            ],
            [
             0.6,
             "#e6f5d0"
            ],
            [
             0.7,
             "#b8e186"
            ],
            [
             0.8,
             "#7fbc41"
            ],
            [
             0.9,
             "#4d9221"
            ],
            [
             1,
             "#276419"
            ]
           ],
           "sequential": [
            [
             0,
             "#0d0887"
            ],
            [
             0.1111111111111111,
             "#46039f"
            ],
            [
             0.2222222222222222,
             "#7201a8"
            ],
            [
             0.3333333333333333,
             "#9c179e"
            ],
            [
             0.4444444444444444,
             "#bd3786"
            ],
            [
             0.5555555555555556,
             "#d8576b"
            ],
            [
             0.6666666666666666,
             "#ed7953"
            ],
            [
             0.7777777777777778,
             "#fb9f3a"
            ],
            [
             0.8888888888888888,
             "#fdca26"
            ],
            [
             1,
             "#f0f921"
            ]
           ],
           "sequentialminus": [
            [
             0,
             "#0d0887"
            ],
            [
             0.1111111111111111,
             "#46039f"
            ],
            [
             0.2222222222222222,
             "#7201a8"
            ],
            [
             0.3333333333333333,
             "#9c179e"
            ],
            [
             0.4444444444444444,
             "#bd3786"
            ],
            [
             0.5555555555555556,
             "#d8576b"
            ],
            [
             0.6666666666666666,
             "#ed7953"
            ],
            [
             0.7777777777777778,
             "#fb9f3a"
            ],
            [
             0.8888888888888888,
             "#fdca26"
            ],
            [
             1,
             "#f0f921"
            ]
           ]
          },
          "colorway": [
           "#636efa",
           "#EF553B",
           "#00cc96",
           "#ab63fa",
           "#FFA15A",
           "#19d3f3",
           "#FF6692",
           "#B6E880",
           "#FF97FF",
           "#FECB52"
          ],
          "font": {
           "color": "#2a3f5f"
          },
          "geo": {
           "bgcolor": "white",
           "lakecolor": "white",
           "landcolor": "#E5ECF6",
           "showlakes": true,
           "showland": true,
           "subunitcolor": "white"
          },
          "hoverlabel": {
           "align": "left"
          },
          "hovermode": "closest",
          "mapbox": {
           "style": "light"
          },
          "paper_bgcolor": "white",
          "plot_bgcolor": "#E5ECF6",
          "polar": {
           "angularaxis": {
            "gridcolor": "white",
            "linecolor": "white",
            "ticks": ""
           },
           "bgcolor": "#E5ECF6",
           "radialaxis": {
            "gridcolor": "white",
            "linecolor": "white",
            "ticks": ""
           }
          },
          "scene": {
           "xaxis": {
            "backgroundcolor": "#E5ECF6",
            "gridcolor": "white",
            "gridwidth": 2,
            "linecolor": "white",
            "showbackground": true,
            "ticks": "",
            "zerolinecolor": "white"
           },
           "yaxis": {
            "backgroundcolor": "#E5ECF6",
            "gridcolor": "white",
            "gridwidth": 2,
            "linecolor": "white",
            "showbackground": true,
            "ticks": "",
            "zerolinecolor": "white"
           },
           "zaxis": {
            "backgroundcolor": "#E5ECF6",
            "gridcolor": "white",
            "gridwidth": 2,
            "linecolor": "white",
            "showbackground": true,
            "ticks": "",
            "zerolinecolor": "white"
           }
          },
          "shapedefaults": {
           "line": {
            "color": "#2a3f5f"
           }
          },
          "ternary": {
           "aaxis": {
            "gridcolor": "white",
            "linecolor": "white",
            "ticks": ""
           },
           "baxis": {
            "gridcolor": "white",
            "linecolor": "white",
            "ticks": ""
           },
           "bgcolor": "#E5ECF6",
           "caxis": {
            "gridcolor": "white",
            "linecolor": "white",
            "ticks": ""
           }
          },
          "title": {
           "x": 0.05
          },
          "xaxis": {
           "automargin": true,
           "gridcolor": "white",
           "linecolor": "white",
           "ticks": "",
           "title": {
            "standoff": 15
           },
           "zerolinecolor": "white",
           "zerolinewidth": 2
          },
          "yaxis": {
           "automargin": true,
           "gridcolor": "white",
           "linecolor": "white",
           "ticks": "",
           "title": {
            "standoff": 15
           },
           "zerolinecolor": "white",
           "zerolinewidth": 2
          }
         }
        },
        "title": {
         "font": {
          "color": "#4D5663"
         }
        },
        "xaxis": {
         "gridcolor": "#E1E5ED",
         "showgrid": true,
         "tickfont": {
          "color": "#4D5663"
         },
         "title": {
          "font": {
           "color": "#4D5663"
          },
          "text": ""
         },
         "zerolinecolor": "#E1E5ED"
        },
        "yaxis": {
         "gridcolor": "#E1E5ED",
         "showgrid": true,
         "tickfont": {
          "color": "#4D5663"
         },
         "title": {
          "font": {
           "color": "#4D5663"
          },
          "text": ""
         },
         "zerolinecolor": "#E1E5ED"
        }
       }
      },
      "text/html": [
       "<div>                            <div id=\"5dc31da5-3094-4377-bb46-164683abe2a7\" class=\"plotly-graph-div\" style=\"height:525px; width:100%;\"></div>            <script type=\"text/javascript\">                require([\"plotly\"], function(Plotly) {                    window.PLOTLYENV=window.PLOTLYENV || {};\n",
       "                    window.PLOTLYENV.BASE_URL='https://plot.ly';                                    if (document.getElementById(\"5dc31da5-3094-4377-bb46-164683abe2a7\")) {                    Plotly.newPlot(                        \"5dc31da5-3094-4377-bb46-164683abe2a7\",                        [{\"histfunc\":\"count\",\"histnorm\":\"\",\"marker\":{\"color\":\"rgba(255, 153, 51, 1.0)\",\"line\":{\"color\":\"#4D5663\",\"width\":1.3}},\"name\":\"A\",\"nbinsx\":25,\"opacity\":0.8,\"orientation\":\"v\",\"x\":[-0.12440004220450178,0.4288963942097568,-0.8175302115327353,0.6755147919275547,-0.6153104058460623,1.5107790308864097,1.2082100462808407,-0.7482335020176383,-0.8536714641638459,1.1461753667566097,-0.9560439248733608,-0.2623236721376535,0.6206454997331918,-2.7536593672709606,-2.551925579372688,-0.2957299816380712,0.4192856778036452,-0.6953491249380691,0.15475760941880773,0.48617380809704347,0.08693627070381736,1.9967457573480847,0.639658220349158,0.1231035628216723,-0.1992207583298977,-0.1553352084036998,0.02128437987210216,0.9300513211403425,0.10702418457184715,0.14128183963017696,0.3184902640984109,0.15654965123505066,0.0037720975098451907,0.8574989631151201,-1.524873156706026,1.2495059653824245,0.6073264855357553,-0.9875479485181257,-1.322169307348878,0.9584271726985903,0.0782706692974436,-1.704483872141633,0.44115665830040013,0.6622288163647291,0.6363588846845296,-1.734962860184126,-0.2912216451544937,0.4950586402213371,0.557612547389266,-0.06094266421931948,0.6869022064867679,-0.43415825429348504,0.3198079834489686,-0.2523467679119873,0.9131059077485624,-1.4506650781865362,-2.1524237796060404,-2.3173424895459673,-0.9433163103883199,-1.0491851949857525,1.2235234503502748,0.9677371433229299,-0.30767172753788974,-0.13469480143733428,-1.2423329913874182,1.8531858555119145,0.2112700497316099,0.5371965566890142,1.3730674720787115,1.434921988803041,-0.4359874816165674,0.3428091469169689,1.1070321770260403,-1.208607648829903,2.63117347542205,0.8825160660681278,-0.6623201166297342,-0.6306833549066874,-1.219241361331293,0.07525070940976299,0.07519785579755203,2.0305258977375433,0.5110479699335309,-0.7954677473214181,-0.7044593446025139,0.3767881524556384,0.3269154608386359,-0.06190339297760778,-0.4169257177901647,0.07500048057030348,-1.392003397255068,0.4097021895823168,-1.3790534978386195,0.051186016716467796,0.29304475955680076,-1.0396697959748253,1.7724847298638957,0.9293382363986284,0.8248476489508761,-0.22462868204430908],\"type\":\"histogram\"}],                        {\"barmode\":\"overlay\",\"legend\":{\"bgcolor\":\"#F5F6F9\",\"font\":{\"color\":\"#4D5663\"}},\"paper_bgcolor\":\"#F5F6F9\",\"plot_bgcolor\":\"#F5F6F9\",\"template\":{\"data\":{\"barpolar\":[{\"marker\":{\"line\":{\"color\":\"#E5ECF6\",\"width\":0.5},\"pattern\":{\"fillmode\":\"overlay\",\"size\":10,\"solidity\":0.2}},\"type\":\"barpolar\"}],\"bar\":[{\"error_x\":{\"color\":\"#2a3f5f\"},\"error_y\":{\"color\":\"#2a3f5f\"},\"marker\":{\"line\":{\"color\":\"#E5ECF6\",\"width\":0.5},\"pattern\":{\"fillmode\":\"overlay\",\"size\":10,\"solidity\":0.2}},\"type\":\"bar\"}],\"carpet\":[{\"aaxis\":{\"endlinecolor\":\"#2a3f5f\",\"gridcolor\":\"white\",\"linecolor\":\"white\",\"minorgridcolor\":\"white\",\"startlinecolor\":\"#2a3f5f\"},\"baxis\":{\"endlinecolor\":\"#2a3f5f\",\"gridcolor\":\"white\",\"linecolor\":\"white\",\"minorgridcolor\":\"white\",\"startlinecolor\":\"#2a3f5f\"},\"type\":\"carpet\"}],\"choropleth\":[{\"colorbar\":{\"outlinewidth\":0,\"ticks\":\"\"},\"type\":\"choropleth\"}],\"contourcarpet\":[{\"colorbar\":{\"outlinewidth\":0,\"ticks\":\"\"},\"type\":\"contourcarpet\"}],\"contour\":[{\"colorbar\":{\"outlinewidth\":0,\"ticks\":\"\"},\"colorscale\":[[0.0,\"#0d0887\"],[0.1111111111111111,\"#46039f\"],[0.2222222222222222,\"#7201a8\"],[0.3333333333333333,\"#9c179e\"],[0.4444444444444444,\"#bd3786\"],[0.5555555555555556,\"#d8576b\"],[0.6666666666666666,\"#ed7953\"],[0.7777777777777778,\"#fb9f3a\"],[0.8888888888888888,\"#fdca26\"],[1.0,\"#f0f921\"]],\"type\":\"contour\"}],\"heatmapgl\":[{\"colorbar\":{\"outlinewidth\":0,\"ticks\":\"\"},\"colorscale\":[[0.0,\"#0d0887\"],[0.1111111111111111,\"#46039f\"],[0.2222222222222222,\"#7201a8\"],[0.3333333333333333,\"#9c179e\"],[0.4444444444444444,\"#bd3786\"],[0.5555555555555556,\"#d8576b\"],[0.6666666666666666,\"#ed7953\"],[0.7777777777777778,\"#fb9f3a\"],[0.8888888888888888,\"#fdca26\"],[1.0,\"#f0f921\"]],\"type\":\"heatmapgl\"}],\"heatmap\":[{\"colorbar\":{\"outlinewidth\":0,\"ticks\":\"\"},\"colorscale\":[[0.0,\"#0d0887\"],[0.1111111111111111,\"#46039f\"],[0.2222222222222222,\"#7201a8\"],[0.3333333333333333,\"#9c179e\"],[0.4444444444444444,\"#bd3786\"],[0.5555555555555556,\"#d8576b\"],[0.6666666666666666,\"#ed7953\"],[0.7777777777777778,\"#fb9f3a\"],[0.8888888888888888,\"#fdca26\"],[1.0,\"#f0f921\"]],\"type\":\"heatmap\"}],\"histogram2dcontour\":[{\"colorbar\":{\"outlinewidth\":0,\"ticks\":\"\"},\"colorscale\":[[0.0,\"#0d0887\"],[0.1111111111111111,\"#46039f\"],[0.2222222222222222,\"#7201a8\"],[0.3333333333333333,\"#9c179e\"],[0.4444444444444444,\"#bd3786\"],[0.5555555555555556,\"#d8576b\"],[0.6666666666666666,\"#ed7953\"],[0.7777777777777778,\"#fb9f3a\"],[0.8888888888888888,\"#fdca26\"],[1.0,\"#f0f921\"]],\"type\":\"histogram2dcontour\"}],\"histogram2d\":[{\"colorbar\":{\"outlinewidth\":0,\"ticks\":\"\"},\"colorscale\":[[0.0,\"#0d0887\"],[0.1111111111111111,\"#46039f\"],[0.2222222222222222,\"#7201a8\"],[0.3333333333333333,\"#9c179e\"],[0.4444444444444444,\"#bd3786\"],[0.5555555555555556,\"#d8576b\"],[0.6666666666666666,\"#ed7953\"],[0.7777777777777778,\"#fb9f3a\"],[0.8888888888888888,\"#fdca26\"],[1.0,\"#f0f921\"]],\"type\":\"histogram2d\"}],\"histogram\":[{\"marker\":{\"pattern\":{\"fillmode\":\"overlay\",\"size\":10,\"solidity\":0.2}},\"type\":\"histogram\"}],\"mesh3d\":[{\"colorbar\":{\"outlinewidth\":0,\"ticks\":\"\"},\"type\":\"mesh3d\"}],\"parcoords\":[{\"line\":{\"colorbar\":{\"outlinewidth\":0,\"ticks\":\"\"}},\"type\":\"parcoords\"}],\"pie\":[{\"automargin\":true,\"type\":\"pie\"}],\"scatter3d\":[{\"line\":{\"colorbar\":{\"outlinewidth\":0,\"ticks\":\"\"}},\"marker\":{\"colorbar\":{\"outlinewidth\":0,\"ticks\":\"\"}},\"type\":\"scatter3d\"}],\"scattercarpet\":[{\"marker\":{\"colorbar\":{\"outlinewidth\":0,\"ticks\":\"\"}},\"type\":\"scattercarpet\"}],\"scattergeo\":[{\"marker\":{\"colorbar\":{\"outlinewidth\":0,\"ticks\":\"\"}},\"type\":\"scattergeo\"}],\"scattergl\":[{\"marker\":{\"colorbar\":{\"outlinewidth\":0,\"ticks\":\"\"}},\"type\":\"scattergl\"}],\"scattermapbox\":[{\"marker\":{\"colorbar\":{\"outlinewidth\":0,\"ticks\":\"\"}},\"type\":\"scattermapbox\"}],\"scatterpolargl\":[{\"marker\":{\"colorbar\":{\"outlinewidth\":0,\"ticks\":\"\"}},\"type\":\"scatterpolargl\"}],\"scatterpolar\":[{\"marker\":{\"colorbar\":{\"outlinewidth\":0,\"ticks\":\"\"}},\"type\":\"scatterpolar\"}],\"scatter\":[{\"fillpattern\":{\"fillmode\":\"overlay\",\"size\":10,\"solidity\":0.2},\"type\":\"scatter\"}],\"scatterternary\":[{\"marker\":{\"colorbar\":{\"outlinewidth\":0,\"ticks\":\"\"}},\"type\":\"scatterternary\"}],\"surface\":[{\"colorbar\":{\"outlinewidth\":0,\"ticks\":\"\"},\"colorscale\":[[0.0,\"#0d0887\"],[0.1111111111111111,\"#46039f\"],[0.2222222222222222,\"#7201a8\"],[0.3333333333333333,\"#9c179e\"],[0.4444444444444444,\"#bd3786\"],[0.5555555555555556,\"#d8576b\"],[0.6666666666666666,\"#ed7953\"],[0.7777777777777778,\"#fb9f3a\"],[0.8888888888888888,\"#fdca26\"],[1.0,\"#f0f921\"]],\"type\":\"surface\"}],\"table\":[{\"cells\":{\"fill\":{\"color\":\"#EBF0F8\"},\"line\":{\"color\":\"white\"}},\"header\":{\"fill\":{\"color\":\"#C8D4E3\"},\"line\":{\"color\":\"white\"}},\"type\":\"table\"}]},\"layout\":{\"annotationdefaults\":{\"arrowcolor\":\"#2a3f5f\",\"arrowhead\":0,\"arrowwidth\":1},\"autotypenumbers\":\"strict\",\"coloraxis\":{\"colorbar\":{\"outlinewidth\":0,\"ticks\":\"\"}},\"colorscale\":{\"diverging\":[[0,\"#8e0152\"],[0.1,\"#c51b7d\"],[0.2,\"#de77ae\"],[0.3,\"#f1b6da\"],[0.4,\"#fde0ef\"],[0.5,\"#f7f7f7\"],[0.6,\"#e6f5d0\"],[0.7,\"#b8e186\"],[0.8,\"#7fbc41\"],[0.9,\"#4d9221\"],[1,\"#276419\"]],\"sequential\":[[0.0,\"#0d0887\"],[0.1111111111111111,\"#46039f\"],[0.2222222222222222,\"#7201a8\"],[0.3333333333333333,\"#9c179e\"],[0.4444444444444444,\"#bd3786\"],[0.5555555555555556,\"#d8576b\"],[0.6666666666666666,\"#ed7953\"],[0.7777777777777778,\"#fb9f3a\"],[0.8888888888888888,\"#fdca26\"],[1.0,\"#f0f921\"]],\"sequentialminus\":[[0.0,\"#0d0887\"],[0.1111111111111111,\"#46039f\"],[0.2222222222222222,\"#7201a8\"],[0.3333333333333333,\"#9c179e\"],[0.4444444444444444,\"#bd3786\"],[0.5555555555555556,\"#d8576b\"],[0.6666666666666666,\"#ed7953\"],[0.7777777777777778,\"#fb9f3a\"],[0.8888888888888888,\"#fdca26\"],[1.0,\"#f0f921\"]]},\"colorway\":[\"#636efa\",\"#EF553B\",\"#00cc96\",\"#ab63fa\",\"#FFA15A\",\"#19d3f3\",\"#FF6692\",\"#B6E880\",\"#FF97FF\",\"#FECB52\"],\"font\":{\"color\":\"#2a3f5f\"},\"geo\":{\"bgcolor\":\"white\",\"lakecolor\":\"white\",\"landcolor\":\"#E5ECF6\",\"showlakes\":true,\"showland\":true,\"subunitcolor\":\"white\"},\"hoverlabel\":{\"align\":\"left\"},\"hovermode\":\"closest\",\"mapbox\":{\"style\":\"light\"},\"paper_bgcolor\":\"white\",\"plot_bgcolor\":\"#E5ECF6\",\"polar\":{\"angularaxis\":{\"gridcolor\":\"white\",\"linecolor\":\"white\",\"ticks\":\"\"},\"bgcolor\":\"#E5ECF6\",\"radialaxis\":{\"gridcolor\":\"white\",\"linecolor\":\"white\",\"ticks\":\"\"}},\"scene\":{\"xaxis\":{\"backgroundcolor\":\"#E5ECF6\",\"gridcolor\":\"white\",\"gridwidth\":2,\"linecolor\":\"white\",\"showbackground\":true,\"ticks\":\"\",\"zerolinecolor\":\"white\"},\"yaxis\":{\"backgroundcolor\":\"#E5ECF6\",\"gridcolor\":\"white\",\"gridwidth\":2,\"linecolor\":\"white\",\"showbackground\":true,\"ticks\":\"\",\"zerolinecolor\":\"white\"},\"zaxis\":{\"backgroundcolor\":\"#E5ECF6\",\"gridcolor\":\"white\",\"gridwidth\":2,\"linecolor\":\"white\",\"showbackground\":true,\"ticks\":\"\",\"zerolinecolor\":\"white\"}},\"shapedefaults\":{\"line\":{\"color\":\"#2a3f5f\"}},\"ternary\":{\"aaxis\":{\"gridcolor\":\"white\",\"linecolor\":\"white\",\"ticks\":\"\"},\"baxis\":{\"gridcolor\":\"white\",\"linecolor\":\"white\",\"ticks\":\"\"},\"bgcolor\":\"#E5ECF6\",\"caxis\":{\"gridcolor\":\"white\",\"linecolor\":\"white\",\"ticks\":\"\"}},\"title\":{\"x\":0.05},\"xaxis\":{\"automargin\":true,\"gridcolor\":\"white\",\"linecolor\":\"white\",\"ticks\":\"\",\"title\":{\"standoff\":15},\"zerolinecolor\":\"white\",\"zerolinewidth\":2},\"yaxis\":{\"automargin\":true,\"gridcolor\":\"white\",\"linecolor\":\"white\",\"ticks\":\"\",\"title\":{\"standoff\":15},\"zerolinecolor\":\"white\",\"zerolinewidth\":2}}},\"title\":{\"font\":{\"color\":\"#4D5663\"}},\"xaxis\":{\"gridcolor\":\"#E1E5ED\",\"showgrid\":true,\"tickfont\":{\"color\":\"#4D5663\"},\"title\":{\"font\":{\"color\":\"#4D5663\"},\"text\":\"\"},\"zerolinecolor\":\"#E1E5ED\"},\"yaxis\":{\"gridcolor\":\"#E1E5ED\",\"showgrid\":true,\"tickfont\":{\"color\":\"#4D5663\"},\"title\":{\"font\":{\"color\":\"#4D5663\"},\"text\":\"\"},\"zerolinecolor\":\"#E1E5ED\"}},                        {\"showLink\": true, \"linkText\": \"Export to plot.ly\", \"plotlyServerURL\": \"https://plot.ly\", \"responsive\": true}                    ).then(function(){\n",
       "                            \n",
       "var gd = document.getElementById('5dc31da5-3094-4377-bb46-164683abe2a7');\n",
       "var x = new MutationObserver(function (mutations, observer) {{\n",
       "        var display = window.getComputedStyle(gd).display;\n",
       "        if (!display || display === 'none') {{\n",
       "            console.log([gd, 'removed!']);\n",
       "            Plotly.purge(gd);\n",
       "            observer.disconnect();\n",
       "        }}\n",
       "}});\n",
       "\n",
       "// Listen for the removal of the full notebook cells\n",
       "var notebookContainer = gd.closest('#notebook-container');\n",
       "if (notebookContainer) {{\n",
       "    x.observe(notebookContainer, {childList: true});\n",
       "}}\n",
       "\n",
       "// Listen for the clearing of the current output cell\n",
       "var outputEl = gd.closest('.output');\n",
       "if (outputEl) {{\n",
       "    x.observe(outputEl, {childList: true});\n",
       "}}\n",
       "\n",
       "                        })                };                });            </script>        </div>"
      ]
     },
     "metadata": {},
     "output_type": "display_data"
    }
   ],
   "source": [
    "df['A'].iplot(kind='hist',bins=25)"
   ]
  },
  {
   "cell_type": "code",
   "execution_count": 18,
   "metadata": {
    "collapsed": false
   },
   "outputs": [
    {
     "data": {
      "application/vnd.plotly.v1+json": {
       "config": {
        "linkText": "Export to plot.ly",
        "plotlyServerURL": "https://plot.ly",
        "showLink": true
       },
       "data": [
        {
         "marker": {
          "color": [
           "rgb(255, 153, 51)",
           "rgb(55, 128, 191)",
           "rgb(50, 171, 96)",
           "rgb(128, 0, 128)",
           "rgb(219, 64, 82)",
           "rgb(0, 128, 128)",
           "rgb(255, 255, 51)",
           "rgb(128, 128, 0)",
           "rgb(251, 128, 114)",
           "rgb(128, 177, 211)"
          ],
          "line": {
           "width": 1.3
          },
          "size": [
           77,
           18,
           44,
           72,
           39,
           49,
           12,
           53,
           75,
           73,
           86,
           48,
           53,
           85,
           56,
           83,
           78,
           59,
           63,
           95,
           100,
           77,
           54,
           55,
           47,
           77,
           22,
           68,
           87,
           41,
           60,
           43,
           66,
           75,
           67,
           63,
           44,
           28,
           72,
           79,
           98,
           60,
           56,
           80,
           82,
           93,
           68,
           62,
           101,
           59,
           71,
           70,
           75,
           86,
           65,
           35,
           82,
           64,
           60,
           93,
           83,
           56,
           89,
           61,
           45,
           57,
           72,
           55,
           107,
           85,
           55,
           112,
           69,
           57,
           15,
           70,
           51,
           32,
           72,
           86,
           76,
           79,
           37,
           44,
           55,
           71,
           81,
           88,
           52,
           71,
           79,
           56,
           35,
           75,
           71,
           48,
           62,
           91,
           51,
           34
          ],
          "symbol": "circle"
         },
         "mode": "markers",
         "text": "",
         "type": "scatter",
         "x": [
          -0.12440004220450178,
          0.4288963942097568,
          -0.8175302115327353,
          0.6755147919275547,
          -0.6153104058460623,
          1.5107790308864097,
          1.2082100462808407,
          -0.7482335020176383,
          -0.8536714641638459,
          1.1461753667566097,
          -0.9560439248733608,
          -0.2623236721376535,
          0.6206454997331918,
          -2.7536593672709606,
          -2.551925579372688,
          -0.2957299816380712,
          0.4192856778036452,
          -0.6953491249380691,
          0.15475760941880773,
          0.48617380809704347,
          0.08693627070381736,
          1.9967457573480847,
          0.639658220349158,
          0.1231035628216723,
          -0.1992207583298977,
          -0.1553352084036998,
          0.02128437987210216,
          0.9300513211403425,
          0.10702418457184715,
          0.14128183963017696,
          0.3184902640984109,
          0.15654965123505066,
          0.0037720975098451907,
          0.8574989631151201,
          -1.524873156706026,
          1.2495059653824245,
          0.6073264855357553,
          -0.9875479485181257,
          -1.322169307348878,
          0.9584271726985903,
          0.0782706692974436,
          -1.704483872141633,
          0.44115665830040013,
          0.6622288163647291,
          0.6363588846845296,
          -1.734962860184126,
          -0.2912216451544937,
          0.4950586402213371,
          0.557612547389266,
          -0.06094266421931948,
          0.6869022064867679,
          -0.43415825429348504,
          0.3198079834489686,
          -0.2523467679119873,
          0.9131059077485624,
          -1.4506650781865362,
          -2.1524237796060404,
          -2.3173424895459673,
          -0.9433163103883199,
          -1.0491851949857525,
          1.2235234503502748,
          0.9677371433229299,
          -0.30767172753788974,
          -0.13469480143733428,
          -1.2423329913874182,
          1.8531858555119145,
          0.2112700497316099,
          0.5371965566890142,
          1.3730674720787115,
          1.434921988803041,
          -0.4359874816165674,
          0.3428091469169689,
          1.1070321770260403,
          -1.208607648829903,
          2.63117347542205,
          0.8825160660681278,
          -0.6623201166297342,
          -0.6306833549066874,
          -1.219241361331293,
          0.07525070940976299,
          0.07519785579755203,
          2.0305258977375433,
          0.5110479699335309,
          -0.7954677473214181,
          -0.7044593446025139,
          0.3767881524556384,
          0.3269154608386359,
          -0.06190339297760778,
          -0.4169257177901647,
          0.07500048057030348,
          -1.392003397255068,
          0.4097021895823168,
          -1.3790534978386195,
          0.051186016716467796,
          0.29304475955680076,
          -1.0396697959748253,
          1.7724847298638957,
          0.9293382363986284,
          0.8248476489508761,
          -0.22462868204430908
         ],
         "y": [
          -0.3292325397486561,
          -0.17306522699908652,
          -0.6464893575702781,
          0.035165550743715045,
          -0.7975115999666432,
          -1.430328480017783,
          0.26116558389628347,
          0.07960050613028784,
          0.7028102915581942,
          2.0570382035915005,
          -0.5068918951122974,
          -0.7636371272817802,
          -0.4273639294913696,
          1.9713152588974416,
          -0.24174708148803523,
          -0.5717925095990226,
          -0.03146683755804916,
          0.6564120750201057,
          -0.652438690736643,
          -0.9056675434703751,
          -1.076584825682077,
          1.0776390136450578,
          -0.356327853903885,
          -0.5848105957530477,
          -0.24535200012712352,
          0.444403228371304,
          -1.5351513633084226,
          1.7811615156793303,
          -0.9247780299987302,
          0.31197270302490065,
          0.5550095485631508,
          -0.6185607852307881,
          -1.1388129539863996,
          -1.266412441215088,
          0.5979035395425927,
          1.978510932245443,
          0.06511097243906205,
          -0.5467623530523096,
          -1.178444759499918,
          -0.007838906241009677,
          -0.49944841820271535,
          -0.9303042630160602,
          0.9759709785816392,
          0.5172466497800202,
          -1.1444394974675458,
          -1.7784613832164344,
          0.6638154792009108,
          -0.3622885492260522,
          1.3589544727914418,
          -0.5015129319685158,
          -0.5429978811817414,
          0.10793978065134847,
          -1.0240025991923145,
          -1.0308103961262272,
          1.0974553509396936,
          -0.2708058472723366,
          1.5055398215120048,
          -0.18215823631142825,
          1.7955669320067176,
          0.7691852071196374,
          0.631587772358769,
          0.10386441645062747,
          0.07955685662895058,
          1.429489477411851,
          -0.08232008806820637,
          0.7348310083142334,
          0.3477679524781943,
          -0.259581561491272,
          -1.3952556296419927,
          -0.8754676875006271,
          1.6260696308729057,
          0.9479491547842962,
          0.02757355901737411,
          -0.15976649349700167,
          -0.2417770491794492,
          -0.6396560158854687,
          0.5211048472942529,
          -1.7939978388073674,
          0.46535042408233745,
          -0.02436409592451531,
          0.21566909214220353,
          -2.303823790069858,
          1.3527164139007362,
          1.4973038258870448,
          -1.3369400086152066,
          0.8013792393872382,
          1.454200833131103,
          0.23862706580293014,
          0.32212990417758075,
          0.6816575643769174,
          -0.7105082611355769,
          -1.109037760046857,
          0.5375768406827974,
          0.7037831800759476,
          -0.7304877597086991,
          0.8158754408165058,
          0.9573349468546526,
          -0.33959823506780945,
          -2.5038225065530737,
          -0.4634758667183664
         ]
        }
       ],
       "layout": {
        "legend": {
         "bgcolor": "#F5F6F9",
         "font": {
          "color": "#4D5663"
         }
        },
        "paper_bgcolor": "#F5F6F9",
        "plot_bgcolor": "#F5F6F9",
        "template": {
         "data": {
          "bar": [
           {
            "error_x": {
             "color": "#2a3f5f"
            },
            "error_y": {
             "color": "#2a3f5f"
            },
            "marker": {
             "line": {
              "color": "#E5ECF6",
              "width": 0.5
             },
             "pattern": {
              "fillmode": "overlay",
              "size": 10,
              "solidity": 0.2
             }
            },
            "type": "bar"
           }
          ],
          "barpolar": [
           {
            "marker": {
             "line": {
              "color": "#E5ECF6",
              "width": 0.5
             },
             "pattern": {
              "fillmode": "overlay",
              "size": 10,
              "solidity": 0.2
             }
            },
            "type": "barpolar"
           }
          ],
          "carpet": [
           {
            "aaxis": {
             "endlinecolor": "#2a3f5f",
             "gridcolor": "white",
             "linecolor": "white",
             "minorgridcolor": "white",
             "startlinecolor": "#2a3f5f"
            },
            "baxis": {
             "endlinecolor": "#2a3f5f",
             "gridcolor": "white",
             "linecolor": "white",
             "minorgridcolor": "white",
             "startlinecolor": "#2a3f5f"
            },
            "type": "carpet"
           }
          ],
          "choropleth": [
           {
            "colorbar": {
             "outlinewidth": 0,
             "ticks": ""
            },
            "type": "choropleth"
           }
          ],
          "contour": [
           {
            "colorbar": {
             "outlinewidth": 0,
             "ticks": ""
            },
            "colorscale": [
             [
              0,
              "#0d0887"
             ],
             [
              0.1111111111111111,
              "#46039f"
             ],
             [
              0.2222222222222222,
              "#7201a8"
             ],
             [
              0.3333333333333333,
              "#9c179e"
             ],
             [
              0.4444444444444444,
              "#bd3786"
             ],
             [
              0.5555555555555556,
              "#d8576b"
             ],
             [
              0.6666666666666666,
              "#ed7953"
             ],
             [
              0.7777777777777778,
              "#fb9f3a"
             ],
             [
              0.8888888888888888,
              "#fdca26"
             ],
             [
              1,
              "#f0f921"
             ]
            ],
            "type": "contour"
           }
          ],
          "contourcarpet": [
           {
            "colorbar": {
             "outlinewidth": 0,
             "ticks": ""
            },
            "type": "contourcarpet"
           }
          ],
          "heatmap": [
           {
            "colorbar": {
             "outlinewidth": 0,
             "ticks": ""
            },
            "colorscale": [
             [
              0,
              "#0d0887"
             ],
             [
              0.1111111111111111,
              "#46039f"
             ],
             [
              0.2222222222222222,
              "#7201a8"
             ],
             [
              0.3333333333333333,
              "#9c179e"
             ],
             [
              0.4444444444444444,
              "#bd3786"
             ],
             [
              0.5555555555555556,
              "#d8576b"
             ],
             [
              0.6666666666666666,
              "#ed7953"
             ],
             [
              0.7777777777777778,
              "#fb9f3a"
             ],
             [
              0.8888888888888888,
              "#fdca26"
             ],
             [
              1,
              "#f0f921"
             ]
            ],
            "type": "heatmap"
           }
          ],
          "heatmapgl": [
           {
            "colorbar": {
             "outlinewidth": 0,
             "ticks": ""
            },
            "colorscale": [
             [
              0,
              "#0d0887"
             ],
             [
              0.1111111111111111,
              "#46039f"
             ],
             [
              0.2222222222222222,
              "#7201a8"
             ],
             [
              0.3333333333333333,
              "#9c179e"
             ],
             [
              0.4444444444444444,
              "#bd3786"
             ],
             [
              0.5555555555555556,
              "#d8576b"
             ],
             [
              0.6666666666666666,
              "#ed7953"
             ],
             [
              0.7777777777777778,
              "#fb9f3a"
             ],
             [
              0.8888888888888888,
              "#fdca26"
             ],
             [
              1,
              "#f0f921"
             ]
            ],
            "type": "heatmapgl"
           }
          ],
          "histogram": [
           {
            "marker": {
             "pattern": {
              "fillmode": "overlay",
              "size": 10,
              "solidity": 0.2
             }
            },
            "type": "histogram"
           }
          ],
          "histogram2d": [
           {
            "colorbar": {
             "outlinewidth": 0,
             "ticks": ""
            },
            "colorscale": [
             [
              0,
              "#0d0887"
             ],
             [
              0.1111111111111111,
              "#46039f"
             ],
             [
              0.2222222222222222,
              "#7201a8"
             ],
             [
              0.3333333333333333,
              "#9c179e"
             ],
             [
              0.4444444444444444,
              "#bd3786"
             ],
             [
              0.5555555555555556,
              "#d8576b"
             ],
             [
              0.6666666666666666,
              "#ed7953"
             ],
             [
              0.7777777777777778,
              "#fb9f3a"
             ],
             [
              0.8888888888888888,
              "#fdca26"
             ],
             [
              1,
              "#f0f921"
             ]
            ],
            "type": "histogram2d"
           }
          ],
          "histogram2dcontour": [
           {
            "colorbar": {
             "outlinewidth": 0,
             "ticks": ""
            },
            "colorscale": [
             [
              0,
              "#0d0887"
             ],
             [
              0.1111111111111111,
              "#46039f"
             ],
             [
              0.2222222222222222,
              "#7201a8"
             ],
             [
              0.3333333333333333,
              "#9c179e"
             ],
             [
              0.4444444444444444,
              "#bd3786"
             ],
             [
              0.5555555555555556,
              "#d8576b"
             ],
             [
              0.6666666666666666,
              "#ed7953"
             ],
             [
              0.7777777777777778,
              "#fb9f3a"
             ],
             [
              0.8888888888888888,
              "#fdca26"
             ],
             [
              1,
              "#f0f921"
             ]
            ],
            "type": "histogram2dcontour"
           }
          ],
          "mesh3d": [
           {
            "colorbar": {
             "outlinewidth": 0,
             "ticks": ""
            },
            "type": "mesh3d"
           }
          ],
          "parcoords": [
           {
            "line": {
             "colorbar": {
              "outlinewidth": 0,
              "ticks": ""
             }
            },
            "type": "parcoords"
           }
          ],
          "pie": [
           {
            "automargin": true,
            "type": "pie"
           }
          ],
          "scatter": [
           {
            "fillpattern": {
             "fillmode": "overlay",
             "size": 10,
             "solidity": 0.2
            },
            "type": "scatter"
           }
          ],
          "scatter3d": [
           {
            "line": {
             "colorbar": {
              "outlinewidth": 0,
              "ticks": ""
             }
            },
            "marker": {
             "colorbar": {
              "outlinewidth": 0,
              "ticks": ""
             }
            },
            "type": "scatter3d"
           }
          ],
          "scattercarpet": [
           {
            "marker": {
             "colorbar": {
              "outlinewidth": 0,
              "ticks": ""
             }
            },
            "type": "scattercarpet"
           }
          ],
          "scattergeo": [
           {
            "marker": {
             "colorbar": {
              "outlinewidth": 0,
              "ticks": ""
             }
            },
            "type": "scattergeo"
           }
          ],
          "scattergl": [
           {
            "marker": {
             "colorbar": {
              "outlinewidth": 0,
              "ticks": ""
             }
            },
            "type": "scattergl"
           }
          ],
          "scattermapbox": [
           {
            "marker": {
             "colorbar": {
              "outlinewidth": 0,
              "ticks": ""
             }
            },
            "type": "scattermapbox"
           }
          ],
          "scatterpolar": [
           {
            "marker": {
             "colorbar": {
              "outlinewidth": 0,
              "ticks": ""
             }
            },
            "type": "scatterpolar"
           }
          ],
          "scatterpolargl": [
           {
            "marker": {
             "colorbar": {
              "outlinewidth": 0,
              "ticks": ""
             }
            },
            "type": "scatterpolargl"
           }
          ],
          "scatterternary": [
           {
            "marker": {
             "colorbar": {
              "outlinewidth": 0,
              "ticks": ""
             }
            },
            "type": "scatterternary"
           }
          ],
          "surface": [
           {
            "colorbar": {
             "outlinewidth": 0,
             "ticks": ""
            },
            "colorscale": [
             [
              0,
              "#0d0887"
             ],
             [
              0.1111111111111111,
              "#46039f"
             ],
             [
              0.2222222222222222,
              "#7201a8"
             ],
             [
              0.3333333333333333,
              "#9c179e"
             ],
             [
              0.4444444444444444,
              "#bd3786"
             ],
             [
              0.5555555555555556,
              "#d8576b"
             ],
             [
              0.6666666666666666,
              "#ed7953"
             ],
             [
              0.7777777777777778,
              "#fb9f3a"
             ],
             [
              0.8888888888888888,
              "#fdca26"
             ],
             [
              1,
              "#f0f921"
             ]
            ],
            "type": "surface"
           }
          ],
          "table": [
           {
            "cells": {
             "fill": {
              "color": "#EBF0F8"
             },
             "line": {
              "color": "white"
             }
            },
            "header": {
             "fill": {
              "color": "#C8D4E3"
             },
             "line": {
              "color": "white"
             }
            },
            "type": "table"
           }
          ]
         },
         "layout": {
          "annotationdefaults": {
           "arrowcolor": "#2a3f5f",
           "arrowhead": 0,
           "arrowwidth": 1
          },
          "autotypenumbers": "strict",
          "coloraxis": {
           "colorbar": {
            "outlinewidth": 0,
            "ticks": ""
           }
          },
          "colorscale": {
           "diverging": [
            [
             0,
             "#8e0152"
            ],
            [
             0.1,
             "#c51b7d"
            ],
            [
             0.2,
             "#de77ae"
            ],
            [
             0.3,
             "#f1b6da"
            ],
            [
             0.4,
             "#fde0ef"
            ],
            [
             0.5,
             "#f7f7f7"
            ],
            [
             0.6,
             "#e6f5d0"
            ],
            [
             0.7,
             "#b8e186"
            ],
            [
             0.8,
             "#7fbc41"
            ],
            [
             0.9,
             "#4d9221"
            ],
            [
             1,
             "#276419"
            ]
           ],
           "sequential": [
            [
             0,
             "#0d0887"
            ],
            [
             0.1111111111111111,
             "#46039f"
            ],
            [
             0.2222222222222222,
             "#7201a8"
            ],
            [
             0.3333333333333333,
             "#9c179e"
            ],
            [
             0.4444444444444444,
             "#bd3786"
            ],
            [
             0.5555555555555556,
             "#d8576b"
            ],
            [
             0.6666666666666666,
             "#ed7953"
            ],
            [
             0.7777777777777778,
             "#fb9f3a"
            ],
            [
             0.8888888888888888,
             "#fdca26"
            ],
            [
             1,
             "#f0f921"
            ]
           ],
           "sequentialminus": [
            [
             0,
             "#0d0887"
            ],
            [
             0.1111111111111111,
             "#46039f"
            ],
            [
             0.2222222222222222,
             "#7201a8"
            ],
            [
             0.3333333333333333,
             "#9c179e"
            ],
            [
             0.4444444444444444,
             "#bd3786"
            ],
            [
             0.5555555555555556,
             "#d8576b"
            ],
            [
             0.6666666666666666,
             "#ed7953"
            ],
            [
             0.7777777777777778,
             "#fb9f3a"
            ],
            [
             0.8888888888888888,
             "#fdca26"
            ],
            [
             1,
             "#f0f921"
            ]
           ]
          },
          "colorway": [
           "#636efa",
           "#EF553B",
           "#00cc96",
           "#ab63fa",
           "#FFA15A",
           "#19d3f3",
           "#FF6692",
           "#B6E880",
           "#FF97FF",
           "#FECB52"
          ],
          "font": {
           "color": "#2a3f5f"
          },
          "geo": {
           "bgcolor": "white",
           "lakecolor": "white",
           "landcolor": "#E5ECF6",
           "showlakes": true,
           "showland": true,
           "subunitcolor": "white"
          },
          "hoverlabel": {
           "align": "left"
          },
          "hovermode": "closest",
          "mapbox": {
           "style": "light"
          },
          "paper_bgcolor": "white",
          "plot_bgcolor": "#E5ECF6",
          "polar": {
           "angularaxis": {
            "gridcolor": "white",
            "linecolor": "white",
            "ticks": ""
           },
           "bgcolor": "#E5ECF6",
           "radialaxis": {
            "gridcolor": "white",
            "linecolor": "white",
            "ticks": ""
           }
          },
          "scene": {
           "xaxis": {
            "backgroundcolor": "#E5ECF6",
            "gridcolor": "white",
            "gridwidth": 2,
            "linecolor": "white",
            "showbackground": true,
            "ticks": "",
            "zerolinecolor": "white"
           },
           "yaxis": {
            "backgroundcolor": "#E5ECF6",
            "gridcolor": "white",
            "gridwidth": 2,
            "linecolor": "white",
            "showbackground": true,
            "ticks": "",
            "zerolinecolor": "white"
           },
           "zaxis": {
            "backgroundcolor": "#E5ECF6",
            "gridcolor": "white",
            "gridwidth": 2,
            "linecolor": "white",
            "showbackground": true,
            "ticks": "",
            "zerolinecolor": "white"
           }
          },
          "shapedefaults": {
           "line": {
            "color": "#2a3f5f"
           }
          },
          "ternary": {
           "aaxis": {
            "gridcolor": "white",
            "linecolor": "white",
            "ticks": ""
           },
           "baxis": {
            "gridcolor": "white",
            "linecolor": "white",
            "ticks": ""
           },
           "bgcolor": "#E5ECF6",
           "caxis": {
            "gridcolor": "white",
            "linecolor": "white",
            "ticks": ""
           }
          },
          "title": {
           "x": 0.05
          },
          "xaxis": {
           "automargin": true,
           "gridcolor": "white",
           "linecolor": "white",
           "ticks": "",
           "title": {
            "standoff": 15
           },
           "zerolinecolor": "white",
           "zerolinewidth": 2
          },
          "yaxis": {
           "automargin": true,
           "gridcolor": "white",
           "linecolor": "white",
           "ticks": "",
           "title": {
            "standoff": 15
           },
           "zerolinecolor": "white",
           "zerolinewidth": 2
          }
         }
        },
        "title": {
         "font": {
          "color": "#4D5663"
         }
        },
        "xaxis": {
         "gridcolor": "#E1E5ED",
         "showgrid": true,
         "tickfont": {
          "color": "#4D5663"
         },
         "title": {
          "font": {
           "color": "#4D5663"
          },
          "text": ""
         },
         "zerolinecolor": "#E1E5ED"
        },
        "yaxis": {
         "gridcolor": "#E1E5ED",
         "showgrid": true,
         "tickfont": {
          "color": "#4D5663"
         },
         "title": {
          "font": {
           "color": "#4D5663"
          },
          "text": ""
         },
         "zerolinecolor": "#E1E5ED"
        }
       }
      },
      "text/html": [
       "<div>                            <div id=\"82da9ae9-71ef-4393-a346-5f5dcdba6e17\" class=\"plotly-graph-div\" style=\"height:525px; width:100%;\"></div>            <script type=\"text/javascript\">                require([\"plotly\"], function(Plotly) {                    window.PLOTLYENV=window.PLOTLYENV || {};\n",
       "                    window.PLOTLYENV.BASE_URL='https://plot.ly';                                    if (document.getElementById(\"82da9ae9-71ef-4393-a346-5f5dcdba6e17\")) {                    Plotly.newPlot(                        \"82da9ae9-71ef-4393-a346-5f5dcdba6e17\",                        [{\"marker\":{\"color\":[\"rgb(255, 153, 51)\",\"rgb(55, 128, 191)\",\"rgb(50, 171, 96)\",\"rgb(128, 0, 128)\",\"rgb(219, 64, 82)\",\"rgb(0, 128, 128)\",\"rgb(255, 255, 51)\",\"rgb(128, 128, 0)\",\"rgb(251, 128, 114)\",\"rgb(128, 177, 211)\"],\"line\":{\"width\":1.3},\"size\":[77,18,44,72,39,49,12,53,75,73,86,48,53,85,56,83,78,59,63,95,100,77,54,55,47,77,22,68,87,41,60,43,66,75,67,63,44,28,72,79,98,60,56,80,82,93,68,62,101,59,71,70,75,86,65,35,82,64,60,93,83,56,89,61,45,57,72,55,107,85,55,112,69,57,15,70,51,32,72,86,76,79,37,44,55,71,81,88,52,71,79,56,35,75,71,48,62,91,51,34],\"symbol\":\"circle\"},\"mode\":\"markers\",\"text\":\"\",\"x\":[-0.12440004220450178,0.4288963942097568,-0.8175302115327353,0.6755147919275547,-0.6153104058460623,1.5107790308864097,1.2082100462808407,-0.7482335020176383,-0.8536714641638459,1.1461753667566097,-0.9560439248733608,-0.2623236721376535,0.6206454997331918,-2.7536593672709606,-2.551925579372688,-0.2957299816380712,0.4192856778036452,-0.6953491249380691,0.15475760941880773,0.48617380809704347,0.08693627070381736,1.9967457573480847,0.639658220349158,0.1231035628216723,-0.1992207583298977,-0.1553352084036998,0.02128437987210216,0.9300513211403425,0.10702418457184715,0.14128183963017696,0.3184902640984109,0.15654965123505066,0.0037720975098451907,0.8574989631151201,-1.524873156706026,1.2495059653824245,0.6073264855357553,-0.9875479485181257,-1.322169307348878,0.9584271726985903,0.0782706692974436,-1.704483872141633,0.44115665830040013,0.6622288163647291,0.6363588846845296,-1.734962860184126,-0.2912216451544937,0.4950586402213371,0.557612547389266,-0.06094266421931948,0.6869022064867679,-0.43415825429348504,0.3198079834489686,-0.2523467679119873,0.9131059077485624,-1.4506650781865362,-2.1524237796060404,-2.3173424895459673,-0.9433163103883199,-1.0491851949857525,1.2235234503502748,0.9677371433229299,-0.30767172753788974,-0.13469480143733428,-1.2423329913874182,1.8531858555119145,0.2112700497316099,0.5371965566890142,1.3730674720787115,1.434921988803041,-0.4359874816165674,0.3428091469169689,1.1070321770260403,-1.208607648829903,2.63117347542205,0.8825160660681278,-0.6623201166297342,-0.6306833549066874,-1.219241361331293,0.07525070940976299,0.07519785579755203,2.0305258977375433,0.5110479699335309,-0.7954677473214181,-0.7044593446025139,0.3767881524556384,0.3269154608386359,-0.06190339297760778,-0.4169257177901647,0.07500048057030348,-1.392003397255068,0.4097021895823168,-1.3790534978386195,0.051186016716467796,0.29304475955680076,-1.0396697959748253,1.7724847298638957,0.9293382363986284,0.8248476489508761,-0.22462868204430908],\"y\":[-0.3292325397486561,-0.17306522699908652,-0.6464893575702781,0.035165550743715045,-0.7975115999666432,-1.430328480017783,0.26116558389628347,0.07960050613028784,0.7028102915581942,2.0570382035915005,-0.5068918951122974,-0.7636371272817802,-0.4273639294913696,1.9713152588974416,-0.24174708148803523,-0.5717925095990226,-0.03146683755804916,0.6564120750201057,-0.652438690736643,-0.9056675434703751,-1.076584825682077,1.0776390136450578,-0.356327853903885,-0.5848105957530477,-0.24535200012712352,0.444403228371304,-1.5351513633084226,1.7811615156793303,-0.9247780299987302,0.31197270302490065,0.5550095485631508,-0.6185607852307881,-1.1388129539863996,-1.266412441215088,0.5979035395425927,1.978510932245443,0.06511097243906205,-0.5467623530523096,-1.178444759499918,-0.007838906241009677,-0.49944841820271535,-0.9303042630160602,0.9759709785816392,0.5172466497800202,-1.1444394974675458,-1.7784613832164344,0.6638154792009108,-0.3622885492260522,1.3589544727914418,-0.5015129319685158,-0.5429978811817414,0.10793978065134847,-1.0240025991923145,-1.0308103961262272,1.0974553509396936,-0.2708058472723366,1.5055398215120048,-0.18215823631142825,1.7955669320067176,0.7691852071196374,0.631587772358769,0.10386441645062747,0.07955685662895058,1.429489477411851,-0.08232008806820637,0.7348310083142334,0.3477679524781943,-0.259581561491272,-1.3952556296419927,-0.8754676875006271,1.6260696308729057,0.9479491547842962,0.02757355901737411,-0.15976649349700167,-0.2417770491794492,-0.6396560158854687,0.5211048472942529,-1.7939978388073674,0.46535042408233745,-0.02436409592451531,0.21566909214220353,-2.303823790069858,1.3527164139007362,1.4973038258870448,-1.3369400086152066,0.8013792393872382,1.454200833131103,0.23862706580293014,0.32212990417758075,0.6816575643769174,-0.7105082611355769,-1.109037760046857,0.5375768406827974,0.7037831800759476,-0.7304877597086991,0.8158754408165058,0.9573349468546526,-0.33959823506780945,-2.5038225065530737,-0.4634758667183664],\"type\":\"scatter\"}],                        {\"legend\":{\"bgcolor\":\"#F5F6F9\",\"font\":{\"color\":\"#4D5663\"}},\"paper_bgcolor\":\"#F5F6F9\",\"plot_bgcolor\":\"#F5F6F9\",\"template\":{\"data\":{\"barpolar\":[{\"marker\":{\"line\":{\"color\":\"#E5ECF6\",\"width\":0.5},\"pattern\":{\"fillmode\":\"overlay\",\"size\":10,\"solidity\":0.2}},\"type\":\"barpolar\"}],\"bar\":[{\"error_x\":{\"color\":\"#2a3f5f\"},\"error_y\":{\"color\":\"#2a3f5f\"},\"marker\":{\"line\":{\"color\":\"#E5ECF6\",\"width\":0.5},\"pattern\":{\"fillmode\":\"overlay\",\"size\":10,\"solidity\":0.2}},\"type\":\"bar\"}],\"carpet\":[{\"aaxis\":{\"endlinecolor\":\"#2a3f5f\",\"gridcolor\":\"white\",\"linecolor\":\"white\",\"minorgridcolor\":\"white\",\"startlinecolor\":\"#2a3f5f\"},\"baxis\":{\"endlinecolor\":\"#2a3f5f\",\"gridcolor\":\"white\",\"linecolor\":\"white\",\"minorgridcolor\":\"white\",\"startlinecolor\":\"#2a3f5f\"},\"type\":\"carpet\"}],\"choropleth\":[{\"colorbar\":{\"outlinewidth\":0,\"ticks\":\"\"},\"type\":\"choropleth\"}],\"contourcarpet\":[{\"colorbar\":{\"outlinewidth\":0,\"ticks\":\"\"},\"type\":\"contourcarpet\"}],\"contour\":[{\"colorbar\":{\"outlinewidth\":0,\"ticks\":\"\"},\"colorscale\":[[0.0,\"#0d0887\"],[0.1111111111111111,\"#46039f\"],[0.2222222222222222,\"#7201a8\"],[0.3333333333333333,\"#9c179e\"],[0.4444444444444444,\"#bd3786\"],[0.5555555555555556,\"#d8576b\"],[0.6666666666666666,\"#ed7953\"],[0.7777777777777778,\"#fb9f3a\"],[0.8888888888888888,\"#fdca26\"],[1.0,\"#f0f921\"]],\"type\":\"contour\"}],\"heatmapgl\":[{\"colorbar\":{\"outlinewidth\":0,\"ticks\":\"\"},\"colorscale\":[[0.0,\"#0d0887\"],[0.1111111111111111,\"#46039f\"],[0.2222222222222222,\"#7201a8\"],[0.3333333333333333,\"#9c179e\"],[0.4444444444444444,\"#bd3786\"],[0.5555555555555556,\"#d8576b\"],[0.6666666666666666,\"#ed7953\"],[0.7777777777777778,\"#fb9f3a\"],[0.8888888888888888,\"#fdca26\"],[1.0,\"#f0f921\"]],\"type\":\"heatmapgl\"}],\"heatmap\":[{\"colorbar\":{\"outlinewidth\":0,\"ticks\":\"\"},\"colorscale\":[[0.0,\"#0d0887\"],[0.1111111111111111,\"#46039f\"],[0.2222222222222222,\"#7201a8\"],[0.3333333333333333,\"#9c179e\"],[0.4444444444444444,\"#bd3786\"],[0.5555555555555556,\"#d8576b\"],[0.6666666666666666,\"#ed7953\"],[0.7777777777777778,\"#fb9f3a\"],[0.8888888888888888,\"#fdca26\"],[1.0,\"#f0f921\"]],\"type\":\"heatmap\"}],\"histogram2dcontour\":[{\"colorbar\":{\"outlinewidth\":0,\"ticks\":\"\"},\"colorscale\":[[0.0,\"#0d0887\"],[0.1111111111111111,\"#46039f\"],[0.2222222222222222,\"#7201a8\"],[0.3333333333333333,\"#9c179e\"],[0.4444444444444444,\"#bd3786\"],[0.5555555555555556,\"#d8576b\"],[0.6666666666666666,\"#ed7953\"],[0.7777777777777778,\"#fb9f3a\"],[0.8888888888888888,\"#fdca26\"],[1.0,\"#f0f921\"]],\"type\":\"histogram2dcontour\"}],\"histogram2d\":[{\"colorbar\":{\"outlinewidth\":0,\"ticks\":\"\"},\"colorscale\":[[0.0,\"#0d0887\"],[0.1111111111111111,\"#46039f\"],[0.2222222222222222,\"#7201a8\"],[0.3333333333333333,\"#9c179e\"],[0.4444444444444444,\"#bd3786\"],[0.5555555555555556,\"#d8576b\"],[0.6666666666666666,\"#ed7953\"],[0.7777777777777778,\"#fb9f3a\"],[0.8888888888888888,\"#fdca26\"],[1.0,\"#f0f921\"]],\"type\":\"histogram2d\"}],\"histogram\":[{\"marker\":{\"pattern\":{\"fillmode\":\"overlay\",\"size\":10,\"solidity\":0.2}},\"type\":\"histogram\"}],\"mesh3d\":[{\"colorbar\":{\"outlinewidth\":0,\"ticks\":\"\"},\"type\":\"mesh3d\"}],\"parcoords\":[{\"line\":{\"colorbar\":{\"outlinewidth\":0,\"ticks\":\"\"}},\"type\":\"parcoords\"}],\"pie\":[{\"automargin\":true,\"type\":\"pie\"}],\"scatter3d\":[{\"line\":{\"colorbar\":{\"outlinewidth\":0,\"ticks\":\"\"}},\"marker\":{\"colorbar\":{\"outlinewidth\":0,\"ticks\":\"\"}},\"type\":\"scatter3d\"}],\"scattercarpet\":[{\"marker\":{\"colorbar\":{\"outlinewidth\":0,\"ticks\":\"\"}},\"type\":\"scattercarpet\"}],\"scattergeo\":[{\"marker\":{\"colorbar\":{\"outlinewidth\":0,\"ticks\":\"\"}},\"type\":\"scattergeo\"}],\"scattergl\":[{\"marker\":{\"colorbar\":{\"outlinewidth\":0,\"ticks\":\"\"}},\"type\":\"scattergl\"}],\"scattermapbox\":[{\"marker\":{\"colorbar\":{\"outlinewidth\":0,\"ticks\":\"\"}},\"type\":\"scattermapbox\"}],\"scatterpolargl\":[{\"marker\":{\"colorbar\":{\"outlinewidth\":0,\"ticks\":\"\"}},\"type\":\"scatterpolargl\"}],\"scatterpolar\":[{\"marker\":{\"colorbar\":{\"outlinewidth\":0,\"ticks\":\"\"}},\"type\":\"scatterpolar\"}],\"scatter\":[{\"fillpattern\":{\"fillmode\":\"overlay\",\"size\":10,\"solidity\":0.2},\"type\":\"scatter\"}],\"scatterternary\":[{\"marker\":{\"colorbar\":{\"outlinewidth\":0,\"ticks\":\"\"}},\"type\":\"scatterternary\"}],\"surface\":[{\"colorbar\":{\"outlinewidth\":0,\"ticks\":\"\"},\"colorscale\":[[0.0,\"#0d0887\"],[0.1111111111111111,\"#46039f\"],[0.2222222222222222,\"#7201a8\"],[0.3333333333333333,\"#9c179e\"],[0.4444444444444444,\"#bd3786\"],[0.5555555555555556,\"#d8576b\"],[0.6666666666666666,\"#ed7953\"],[0.7777777777777778,\"#fb9f3a\"],[0.8888888888888888,\"#fdca26\"],[1.0,\"#f0f921\"]],\"type\":\"surface\"}],\"table\":[{\"cells\":{\"fill\":{\"color\":\"#EBF0F8\"},\"line\":{\"color\":\"white\"}},\"header\":{\"fill\":{\"color\":\"#C8D4E3\"},\"line\":{\"color\":\"white\"}},\"type\":\"table\"}]},\"layout\":{\"annotationdefaults\":{\"arrowcolor\":\"#2a3f5f\",\"arrowhead\":0,\"arrowwidth\":1},\"autotypenumbers\":\"strict\",\"coloraxis\":{\"colorbar\":{\"outlinewidth\":0,\"ticks\":\"\"}},\"colorscale\":{\"diverging\":[[0,\"#8e0152\"],[0.1,\"#c51b7d\"],[0.2,\"#de77ae\"],[0.3,\"#f1b6da\"],[0.4,\"#fde0ef\"],[0.5,\"#f7f7f7\"],[0.6,\"#e6f5d0\"],[0.7,\"#b8e186\"],[0.8,\"#7fbc41\"],[0.9,\"#4d9221\"],[1,\"#276419\"]],\"sequential\":[[0.0,\"#0d0887\"],[0.1111111111111111,\"#46039f\"],[0.2222222222222222,\"#7201a8\"],[0.3333333333333333,\"#9c179e\"],[0.4444444444444444,\"#bd3786\"],[0.5555555555555556,\"#d8576b\"],[0.6666666666666666,\"#ed7953\"],[0.7777777777777778,\"#fb9f3a\"],[0.8888888888888888,\"#fdca26\"],[1.0,\"#f0f921\"]],\"sequentialminus\":[[0.0,\"#0d0887\"],[0.1111111111111111,\"#46039f\"],[0.2222222222222222,\"#7201a8\"],[0.3333333333333333,\"#9c179e\"],[0.4444444444444444,\"#bd3786\"],[0.5555555555555556,\"#d8576b\"],[0.6666666666666666,\"#ed7953\"],[0.7777777777777778,\"#fb9f3a\"],[0.8888888888888888,\"#fdca26\"],[1.0,\"#f0f921\"]]},\"colorway\":[\"#636efa\",\"#EF553B\",\"#00cc96\",\"#ab63fa\",\"#FFA15A\",\"#19d3f3\",\"#FF6692\",\"#B6E880\",\"#FF97FF\",\"#FECB52\"],\"font\":{\"color\":\"#2a3f5f\"},\"geo\":{\"bgcolor\":\"white\",\"lakecolor\":\"white\",\"landcolor\":\"#E5ECF6\",\"showlakes\":true,\"showland\":true,\"subunitcolor\":\"white\"},\"hoverlabel\":{\"align\":\"left\"},\"hovermode\":\"closest\",\"mapbox\":{\"style\":\"light\"},\"paper_bgcolor\":\"white\",\"plot_bgcolor\":\"#E5ECF6\",\"polar\":{\"angularaxis\":{\"gridcolor\":\"white\",\"linecolor\":\"white\",\"ticks\":\"\"},\"bgcolor\":\"#E5ECF6\",\"radialaxis\":{\"gridcolor\":\"white\",\"linecolor\":\"white\",\"ticks\":\"\"}},\"scene\":{\"xaxis\":{\"backgroundcolor\":\"#E5ECF6\",\"gridcolor\":\"white\",\"gridwidth\":2,\"linecolor\":\"white\",\"showbackground\":true,\"ticks\":\"\",\"zerolinecolor\":\"white\"},\"yaxis\":{\"backgroundcolor\":\"#E5ECF6\",\"gridcolor\":\"white\",\"gridwidth\":2,\"linecolor\":\"white\",\"showbackground\":true,\"ticks\":\"\",\"zerolinecolor\":\"white\"},\"zaxis\":{\"backgroundcolor\":\"#E5ECF6\",\"gridcolor\":\"white\",\"gridwidth\":2,\"linecolor\":\"white\",\"showbackground\":true,\"ticks\":\"\",\"zerolinecolor\":\"white\"}},\"shapedefaults\":{\"line\":{\"color\":\"#2a3f5f\"}},\"ternary\":{\"aaxis\":{\"gridcolor\":\"white\",\"linecolor\":\"white\",\"ticks\":\"\"},\"baxis\":{\"gridcolor\":\"white\",\"linecolor\":\"white\",\"ticks\":\"\"},\"bgcolor\":\"#E5ECF6\",\"caxis\":{\"gridcolor\":\"white\",\"linecolor\":\"white\",\"ticks\":\"\"}},\"title\":{\"x\":0.05},\"xaxis\":{\"automargin\":true,\"gridcolor\":\"white\",\"linecolor\":\"white\",\"ticks\":\"\",\"title\":{\"standoff\":15},\"zerolinecolor\":\"white\",\"zerolinewidth\":2},\"yaxis\":{\"automargin\":true,\"gridcolor\":\"white\",\"linecolor\":\"white\",\"ticks\":\"\",\"title\":{\"standoff\":15},\"zerolinecolor\":\"white\",\"zerolinewidth\":2}}},\"title\":{\"font\":{\"color\":\"#4D5663\"}},\"xaxis\":{\"gridcolor\":\"#E1E5ED\",\"showgrid\":true,\"tickfont\":{\"color\":\"#4D5663\"},\"title\":{\"font\":{\"color\":\"#4D5663\"},\"text\":\"\"},\"zerolinecolor\":\"#E1E5ED\"},\"yaxis\":{\"gridcolor\":\"#E1E5ED\",\"showgrid\":true,\"tickfont\":{\"color\":\"#4D5663\"},\"title\":{\"font\":{\"color\":\"#4D5663\"},\"text\":\"\"},\"zerolinecolor\":\"#E1E5ED\"}},                        {\"showLink\": true, \"linkText\": \"Export to plot.ly\", \"plotlyServerURL\": \"https://plot.ly\", \"responsive\": true}                    ).then(function(){\n",
       "                            \n",
       "var gd = document.getElementById('82da9ae9-71ef-4393-a346-5f5dcdba6e17');\n",
       "var x = new MutationObserver(function (mutations, observer) {{\n",
       "        var display = window.getComputedStyle(gd).display;\n",
       "        if (!display || display === 'none') {{\n",
       "            console.log([gd, 'removed!']);\n",
       "            Plotly.purge(gd);\n",
       "            observer.disconnect();\n",
       "        }}\n",
       "}});\n",
       "\n",
       "// Listen for the removal of the full notebook cells\n",
       "var notebookContainer = gd.closest('#notebook-container');\n",
       "if (notebookContainer) {{\n",
       "    x.observe(notebookContainer, {childList: true});\n",
       "}}\n",
       "\n",
       "// Listen for the clearing of the current output cell\n",
       "var outputEl = gd.closest('.output');\n",
       "if (outputEl) {{\n",
       "    x.observe(outputEl, {childList: true});\n",
       "}}\n",
       "\n",
       "                        })                };                });            </script>        </div>"
      ]
     },
     "metadata": {},
     "output_type": "display_data"
    }
   ],
   "source": [
    "df.iplot(kind='bubble',x='A',y='B',size='C')"
   ]
  },
  {
   "cell_type": "markdown",
   "metadata": {},
   "source": [
    "## scatter_matrix()\n",
    "\n",
    "Similar to sns.pairplot()"
   ]
  },
  {
   "cell_type": "code",
   "execution_count": 19,
   "metadata": {
    "collapsed": false
   },
   "outputs": [
    {
     "data": {
      "application/vnd.plotly.v1+json": {
       "config": {
        "linkText": "Export to plot.ly",
        "plotlyServerURL": "https://plot.ly",
        "showLink": true
       },
       "data": [
        {
         "histfunc": "count",
         "histnorm": "",
         "marker": {
          "color": "rgba(255, 153, 51, 1.0)",
          "line": {
           "color": "#4D5663",
           "width": 1.3
          }
         },
         "name": "A",
         "nbinsx": 10,
         "opacity": 0.8,
         "orientation": "v",
         "type": "histogram",
         "x": [
          -0.12440004220450178,
          0.4288963942097568,
          -0.8175302115327353,
          0.6755147919275547,
          -0.6153104058460623,
          1.5107790308864097,
          1.2082100462808407,
          -0.7482335020176383,
          -0.8536714641638459,
          1.1461753667566097,
          -0.9560439248733608,
          -0.2623236721376535,
          0.6206454997331918,
          -2.7536593672709606,
          -2.551925579372688,
          -0.2957299816380712,
          0.4192856778036452,
          -0.6953491249380691,
          0.15475760941880773,
          0.48617380809704347,
          0.08693627070381736,
          1.9967457573480847,
          0.639658220349158,
          0.1231035628216723,
          -0.1992207583298977,
          -0.1553352084036998,
          0.02128437987210216,
          0.9300513211403425,
          0.10702418457184715,
          0.14128183963017696,
          0.3184902640984109,
          0.15654965123505066,
          0.0037720975098451907,
          0.8574989631151201,
          -1.524873156706026,
          1.2495059653824245,
          0.6073264855357553,
          -0.9875479485181257,
          -1.322169307348878,
          0.9584271726985903,
          0.0782706692974436,
          -1.704483872141633,
          0.44115665830040013,
          0.6622288163647291,
          0.6363588846845296,
          -1.734962860184126,
          -0.2912216451544937,
          0.4950586402213371,
          0.557612547389266,
          -0.06094266421931948,
          0.6869022064867679,
          -0.43415825429348504,
          0.3198079834489686,
          -0.2523467679119873,
          0.9131059077485624,
          -1.4506650781865362,
          -2.1524237796060404,
          -2.3173424895459673,
          -0.9433163103883199,
          -1.0491851949857525,
          1.2235234503502748,
          0.9677371433229299,
          -0.30767172753788974,
          -0.13469480143733428,
          -1.2423329913874182,
          1.8531858555119145,
          0.2112700497316099,
          0.5371965566890142,
          1.3730674720787115,
          1.434921988803041,
          -0.4359874816165674,
          0.3428091469169689,
          1.1070321770260403,
          -1.208607648829903,
          2.63117347542205,
          0.8825160660681278,
          -0.6623201166297342,
          -0.6306833549066874,
          -1.219241361331293,
          0.07525070940976299,
          0.07519785579755203,
          2.0305258977375433,
          0.5110479699335309,
          -0.7954677473214181,
          -0.7044593446025139,
          0.3767881524556384,
          0.3269154608386359,
          -0.06190339297760778,
          -0.4169257177901647,
          0.07500048057030348,
          -1.392003397255068,
          0.4097021895823168,
          -1.3790534978386195,
          0.051186016716467796,
          0.29304475955680076,
          -1.0396697959748253,
          1.7724847298638957,
          0.9293382363986284,
          0.8248476489508761,
          -0.22462868204430908
         ],
         "xaxis": "x",
         "yaxis": "y"
        },
        {
         "line": {
          "color": "rgba(128, 128, 128, 1.0)",
          "dash": "solid",
          "shape": "linear",
          "width": 1.3
         },
         "marker": {
          "size": 2,
          "symbol": "circle"
         },
         "mode": "markers",
         "name": "A",
         "text": "",
         "type": "scatter",
         "x": [
          -0.3292325397486561,
          -0.17306522699908652,
          -0.6464893575702781,
          0.035165550743715045,
          -0.7975115999666432,
          -1.430328480017783,
          0.26116558389628347,
          0.07960050613028784,
          0.7028102915581942,
          2.0570382035915005,
          -0.5068918951122974,
          -0.7636371272817802,
          -0.4273639294913696,
          1.9713152588974416,
          -0.24174708148803523,
          -0.5717925095990226,
          -0.03146683755804916,
          0.6564120750201057,
          -0.652438690736643,
          -0.9056675434703751,
          -1.076584825682077,
          1.0776390136450578,
          -0.356327853903885,
          -0.5848105957530477,
          -0.24535200012712352,
          0.444403228371304,
          -1.5351513633084226,
          1.7811615156793303,
          -0.9247780299987302,
          0.31197270302490065,
          0.5550095485631508,
          -0.6185607852307881,
          -1.1388129539863996,
          -1.266412441215088,
          0.5979035395425927,
          1.978510932245443,
          0.06511097243906205,
          -0.5467623530523096,
          -1.178444759499918,
          -0.007838906241009677,
          -0.49944841820271535,
          -0.9303042630160602,
          0.9759709785816392,
          0.5172466497800202,
          -1.1444394974675458,
          -1.7784613832164344,
          0.6638154792009108,
          -0.3622885492260522,
          1.3589544727914418,
          -0.5015129319685158,
          -0.5429978811817414,
          0.10793978065134847,
          -1.0240025991923145,
          -1.0308103961262272,
          1.0974553509396936,
          -0.2708058472723366,
          1.5055398215120048,
          -0.18215823631142825,
          1.7955669320067176,
          0.7691852071196374,
          0.631587772358769,
          0.10386441645062747,
          0.07955685662895058,
          1.429489477411851,
          -0.08232008806820637,
          0.7348310083142334,
          0.3477679524781943,
          -0.259581561491272,
          -1.3952556296419927,
          -0.8754676875006271,
          1.6260696308729057,
          0.9479491547842962,
          0.02757355901737411,
          -0.15976649349700167,
          -0.2417770491794492,
          -0.6396560158854687,
          0.5211048472942529,
          -1.7939978388073674,
          0.46535042408233745,
          -0.02436409592451531,
          0.21566909214220353,
          -2.303823790069858,
          1.3527164139007362,
          1.4973038258870448,
          -1.3369400086152066,
          0.8013792393872382,
          1.454200833131103,
          0.23862706580293014,
          0.32212990417758075,
          0.6816575643769174,
          -0.7105082611355769,
          -1.109037760046857,
          0.5375768406827974,
          0.7037831800759476,
          -0.7304877597086991,
          0.8158754408165058,
          0.9573349468546526,
          -0.33959823506780945,
          -2.5038225065530737,
          -0.4634758667183664
         ],
         "xaxis": "x2",
         "y": [
          -0.12440004220450178,
          0.4288963942097568,
          -0.8175302115327353,
          0.6755147919275547,
          -0.6153104058460623,
          1.5107790308864097,
          1.2082100462808407,
          -0.7482335020176383,
          -0.8536714641638459,
          1.1461753667566097,
          -0.9560439248733608,
          -0.2623236721376535,
          0.6206454997331918,
          -2.7536593672709606,
          -2.551925579372688,
          -0.2957299816380712,
          0.4192856778036452,
          -0.6953491249380691,
          0.15475760941880773,
          0.48617380809704347,
          0.08693627070381736,
          1.9967457573480847,
          0.639658220349158,
          0.1231035628216723,
          -0.1992207583298977,
          -0.1553352084036998,
          0.02128437987210216,
          0.9300513211403425,
          0.10702418457184715,
          0.14128183963017696,
          0.3184902640984109,
          0.15654965123505066,
          0.0037720975098451907,
          0.8574989631151201,
          -1.524873156706026,
          1.2495059653824245,
          0.6073264855357553,
          -0.9875479485181257,
          -1.322169307348878,
          0.9584271726985903,
          0.0782706692974436,
          -1.704483872141633,
          0.44115665830040013,
          0.6622288163647291,
          0.6363588846845296,
          -1.734962860184126,
          -0.2912216451544937,
          0.4950586402213371,
          0.557612547389266,
          -0.06094266421931948,
          0.6869022064867679,
          -0.43415825429348504,
          0.3198079834489686,
          -0.2523467679119873,
          0.9131059077485624,
          -1.4506650781865362,
          -2.1524237796060404,
          -2.3173424895459673,
          -0.9433163103883199,
          -1.0491851949857525,
          1.2235234503502748,
          0.9677371433229299,
          -0.30767172753788974,
          -0.13469480143733428,
          -1.2423329913874182,
          1.8531858555119145,
          0.2112700497316099,
          0.5371965566890142,
          1.3730674720787115,
          1.434921988803041,
          -0.4359874816165674,
          0.3428091469169689,
          1.1070321770260403,
          -1.208607648829903,
          2.63117347542205,
          0.8825160660681278,
          -0.6623201166297342,
          -0.6306833549066874,
          -1.219241361331293,
          0.07525070940976299,
          0.07519785579755203,
          2.0305258977375433,
          0.5110479699335309,
          -0.7954677473214181,
          -0.7044593446025139,
          0.3767881524556384,
          0.3269154608386359,
          -0.06190339297760778,
          -0.4169257177901647,
          0.07500048057030348,
          -1.392003397255068,
          0.4097021895823168,
          -1.3790534978386195,
          0.051186016716467796,
          0.29304475955680076,
          -1.0396697959748253,
          1.7724847298638957,
          0.9293382363986284,
          0.8248476489508761,
          -0.22462868204430908
         ],
         "yaxis": "y2"
        },
        {
         "line": {
          "color": "rgba(128, 128, 128, 1.0)",
          "dash": "solid",
          "shape": "linear",
          "width": 1.3
         },
         "marker": {
          "size": 2,
          "symbol": "circle"
         },
         "mode": "markers",
         "name": "A",
         "text": "",
         "type": "scatter",
         "x": [
          0.7222831491201205,
          -2.296893373557001,
          -0.9514846621369799,
          0.4878656536717068,
          -1.204500985459564,
          -0.71657070536086,
          -2.6086380990757,
          -0.4645106846928102,
          0.6365012353242219,
          0.5484487769567372,
          1.1703198480595607,
          -0.7668137333809377,
          -0.5095147635392293,
          1.1517081315698932,
          -0.3170121084782209,
          1.0496050016970198,
          0.8117472747136824,
          -0.1962422196878374,
          0.02093483927191635,
          1.6629061494081,
          1.8972009358937585,
          0.740639715357248,
          -0.4162362834949462,
          -0.41027079985010284,
          -0.8084779105360417,
          0.7317122954613846,
          -2.0533645797842586,
          0.25973848437167424,
          1.2657945132888098,
          -1.104292497061763,
          -0.14908556947487261,
          -0.9792381695082234,
          0.19931844185183348,
          0.6353293320854605,
          0.23684686481465728,
          -0.00004328701907809816,
          -0.9584400643821612,
          -1.7721276090380729,
          0.4885363189218579,
          0.8153994614809292,
          1.8047938579452167,
          -0.11813571543306897,
          -0.35936368359341364,
          0.8854602574190062,
          0.9818414737260609,
          1.5604974436335939,
          0.25405005946705567,
          -0.014545398592931424,
          1.9537061002678235,
          -0.16066286797581827,
          0.41763070616142917,
          0.3543134045403085,
          0.6108391995996915,
          1.2001695196236635,
          0.10757293156127155,
          -1.417937377609837,
          1.0009288475656837,
          0.07278346072057543,
          -0.11355648884132326,
          1.5590187932866566,
          1.0497455983382646,
          -0.32828431874117314,
          1.3496036579759836,
          -0.09664953478072369,
          -0.8868912179847095,
          -0.288538546172643,
          0.47429991028781676,
          -0.37077973396465935,
          2.259007501258914,
          1.1295705479562885,
          -0.39940958412144123,
          2.4976455428056608,
          0.32944304579035905,
          -0.30906311859830454,
          -2.4190144896892,
          0.3899297113192504,
          -0.5788404558758334,
          -1.5868677398077473,
          0.5053865441811288,
          1.1846812384427776,
          0.6972874000180896,
          0.8203378111149934,
          -1.317316887758314,
          -0.9271318760034939,
          -0.3897576825508226,
          0.42853222437658417,
          0.9417738879405237,
          1.2777586978658635,
          -0.5348376571806567,
          0.4265725451300481,
          0.861345328889857,
          -0.3599043442189083,
          -1.4001968597624057,
          0.6274017191038457,
          0.4527475878800311,
          -0.7479558765701726,
          -0.02854602917519827,
          1.472720229867451,
          -0.5925202559393768,
          -1.4722353158995045
         ],
         "xaxis": "x3",
         "y": [
          -0.12440004220450178,
          0.4288963942097568,
          -0.8175302115327353,
          0.6755147919275547,
          -0.6153104058460623,
          1.5107790308864097,
          1.2082100462808407,
          -0.7482335020176383,
          -0.8536714641638459,
          1.1461753667566097,
          -0.9560439248733608,
          -0.2623236721376535,
          0.6206454997331918,
          -2.7536593672709606,
          -2.551925579372688,
          -0.2957299816380712,
          0.4192856778036452,
          -0.6953491249380691,
          0.15475760941880773,
          0.48617380809704347,
          0.08693627070381736,
          1.9967457573480847,
          0.639658220349158,
          0.1231035628216723,
          -0.1992207583298977,
          -0.1553352084036998,
          0.02128437987210216,
          0.9300513211403425,
          0.10702418457184715,
          0.14128183963017696,
          0.3184902640984109,
          0.15654965123505066,
          0.0037720975098451907,
          0.8574989631151201,
          -1.524873156706026,
          1.2495059653824245,
          0.6073264855357553,
          -0.9875479485181257,
          -1.322169307348878,
          0.9584271726985903,
          0.0782706692974436,
          -1.704483872141633,
          0.44115665830040013,
          0.6622288163647291,
          0.6363588846845296,
          -1.734962860184126,
          -0.2912216451544937,
          0.4950586402213371,
          0.557612547389266,
          -0.06094266421931948,
          0.6869022064867679,
          -0.43415825429348504,
          0.3198079834489686,
          -0.2523467679119873,
          0.9131059077485624,
          -1.4506650781865362,
          -2.1524237796060404,
          -2.3173424895459673,
          -0.9433163103883199,
          -1.0491851949857525,
          1.2235234503502748,
          0.9677371433229299,
          -0.30767172753788974,
          -0.13469480143733428,
          -1.2423329913874182,
          1.8531858555119145,
          0.2112700497316099,
          0.5371965566890142,
          1.3730674720787115,
          1.434921988803041,
          -0.4359874816165674,
          0.3428091469169689,
          1.1070321770260403,
          -1.208607648829903,
          2.63117347542205,
          0.8825160660681278,
          -0.6623201166297342,
          -0.6306833549066874,
          -1.219241361331293,
          0.07525070940976299,
          0.07519785579755203,
          2.0305258977375433,
          0.5110479699335309,
          -0.7954677473214181,
          -0.7044593446025139,
          0.3767881524556384,
          0.3269154608386359,
          -0.06190339297760778,
          -0.4169257177901647,
          0.07500048057030348,
          -1.392003397255068,
          0.4097021895823168,
          -1.3790534978386195,
          0.051186016716467796,
          0.29304475955680076,
          -1.0396697959748253,
          1.7724847298638957,
          0.9293382363986284,
          0.8248476489508761,
          -0.22462868204430908
         ],
         "yaxis": "y3"
        },
        {
         "line": {
          "color": "rgba(128, 128, 128, 1.0)",
          "dash": "solid",
          "shape": "linear",
          "width": 1.3
         },
         "marker": {
          "size": 2,
          "symbol": "circle"
         },
         "mode": "markers",
         "name": "A",
         "text": "",
         "type": "scatter",
         "x": [
          -0.26522503792552254,
          -1.1425615889423173,
          -0.26163701936859746,
          1.4923223417703781,
          0.7264289776111549,
          -2.1464551341213878,
          -0.1385299663923213,
          0.5191769097241302,
          0.24998405485175337,
          0.04416682569297171,
          -1.4031880942613844,
          -0.22515664837213129,
          -0.15677734354915096,
          -0.5908021150505197,
          0.7573157073125226,
          -0.8191401233988489,
          0.2665345291796723,
          1.2162499594215463,
          -0.21294470021652956,
          0.5573424770690906,
          1.6754164535322895,
          1.2025684752364034,
          -2.172613082675401,
          0.7857879937866677,
          0.33188830353214943,
          -1.3336058284668435,
          -2.047347104623378,
          -0.11324985255820672,
          -0.9882835555184477,
          0.17453045638027517,
          -1.5101642160861162,
          1.3640072021726177,
          1.206170804213018,
          -0.2638399832977407,
          0.32746016782678833,
          0.36297685278103997,
          -0.660536666725527,
          1.4720246539576813,
          0.7934578047897171,
          0.03921398779772697,
          -0.7977646312968549,
          0.8358876122751778,
          2.2146344282961086,
          -1.2310989399862209,
          1.5787976507912858,
          0.4277023542750409,
          0.4714535911523593,
          -0.6130335395192607,
          -0.2190006682888357,
          0.1427114866115953,
          0.8067733948772188,
          -0.13196912385356796,
          0.2225136183425238,
          0.08970339406595677,
          0.48568837887014427,
          -0.09380129204078046,
          1.3403068833877072,
          0.39700045699838266,
          0.9967077564660008,
          0.7750367176629562,
          -0.42240095385441434,
          -1.1585624594425623,
          -1.0242266547551049,
          0.1104521392124219,
          0.4329795547704835,
          0.9498326109312207,
          -0.724801288623274,
          -1.2544871905657253,
          -0.1121904020466736,
          1.4924131732855943,
          1.7574708482455839,
          0.7844983327501531,
          1.3843612130266856,
          -1.3570927209936914,
          0.41621295533200736,
          0.8493293037052111,
          0.9215011811171258,
          1.0612038021861123,
          -0.11736195541293107,
          0.604443712641654,
          0.7530102489289536,
          -0.44475351247942607,
          -0.4074864623740178,
          0.04532665117285895,
          -1.710486871473883,
          -1.180632803318249,
          -1.0194785020787356,
          -0.2873878080625621,
          -0.38313156282065075,
          0.3519135012856905,
          -0.892249840949631,
          -1.5310558380872876,
          -0.8956839831632065,
          -0.4089702432090396,
          -1.5700775629787924,
          -1.4642421686220066,
          -1.4852160891896857,
          0.4242270764137463,
          -0.7101870094387682,
          0.43459589920061
         ],
         "xaxis": "x4",
         "y": [
          -0.12440004220450178,
          0.4288963942097568,
          -0.8175302115327353,
          0.6755147919275547,
          -0.6153104058460623,
          1.5107790308864097,
          1.2082100462808407,
          -0.7482335020176383,
          -0.8536714641638459,
          1.1461753667566097,
          -0.9560439248733608,
          -0.2623236721376535,
          0.6206454997331918,
          -2.7536593672709606,
          -2.551925579372688,
          -0.2957299816380712,
          0.4192856778036452,
          -0.6953491249380691,
          0.15475760941880773,
          0.48617380809704347,
          0.08693627070381736,
          1.9967457573480847,
          0.639658220349158,
          0.1231035628216723,
          -0.1992207583298977,
          -0.1553352084036998,
          0.02128437987210216,
          0.9300513211403425,
          0.10702418457184715,
          0.14128183963017696,
          0.3184902640984109,
          0.15654965123505066,
          0.0037720975098451907,
          0.8574989631151201,
          -1.524873156706026,
          1.2495059653824245,
          0.6073264855357553,
          -0.9875479485181257,
          -1.322169307348878,
          0.9584271726985903,
          0.0782706692974436,
          -1.704483872141633,
          0.44115665830040013,
          0.6622288163647291,
          0.6363588846845296,
          -1.734962860184126,
          -0.2912216451544937,
          0.4950586402213371,
          0.557612547389266,
          -0.06094266421931948,
          0.6869022064867679,
          -0.43415825429348504,
          0.3198079834489686,
          -0.2523467679119873,
          0.9131059077485624,
          -1.4506650781865362,
          -2.1524237796060404,
          -2.3173424895459673,
          -0.9433163103883199,
          -1.0491851949857525,
          1.2235234503502748,
          0.9677371433229299,
          -0.30767172753788974,
          -0.13469480143733428,
          -1.2423329913874182,
          1.8531858555119145,
          0.2112700497316099,
          0.5371965566890142,
          1.3730674720787115,
          1.434921988803041,
          -0.4359874816165674,
          0.3428091469169689,
          1.1070321770260403,
          -1.208607648829903,
          2.63117347542205,
          0.8825160660681278,
          -0.6623201166297342,
          -0.6306833549066874,
          -1.219241361331293,
          0.07525070940976299,
          0.07519785579755203,
          2.0305258977375433,
          0.5110479699335309,
          -0.7954677473214181,
          -0.7044593446025139,
          0.3767881524556384,
          0.3269154608386359,
          -0.06190339297760778,
          -0.4169257177901647,
          0.07500048057030348,
          -1.392003397255068,
          0.4097021895823168,
          -1.3790534978386195,
          0.051186016716467796,
          0.29304475955680076,
          -1.0396697959748253,
          1.7724847298638957,
          0.9293382363986284,
          0.8248476489508761,
          -0.22462868204430908
         ],
         "yaxis": "y4"
        },
        {
         "line": {
          "color": "rgba(128, 128, 128, 1.0)",
          "dash": "solid",
          "shape": "linear",
          "width": 1.3
         },
         "marker": {
          "size": 2,
          "symbol": "circle"
         },
         "mode": "markers",
         "name": "B",
         "text": "",
         "type": "scatter",
         "x": [
          -0.12440004220450178,
          0.4288963942097568,
          -0.8175302115327353,
          0.6755147919275547,
          -0.6153104058460623,
          1.5107790308864097,
          1.2082100462808407,
          -0.7482335020176383,
          -0.8536714641638459,
          1.1461753667566097,
          -0.9560439248733608,
          -0.2623236721376535,
          0.6206454997331918,
          -2.7536593672709606,
          -2.551925579372688,
          -0.2957299816380712,
          0.4192856778036452,
          -0.6953491249380691,
          0.15475760941880773,
          0.48617380809704347,
          0.08693627070381736,
          1.9967457573480847,
          0.639658220349158,
          0.1231035628216723,
          -0.1992207583298977,
          -0.1553352084036998,
          0.02128437987210216,
          0.9300513211403425,
          0.10702418457184715,
          0.14128183963017696,
          0.3184902640984109,
          0.15654965123505066,
          0.0037720975098451907,
          0.8574989631151201,
          -1.524873156706026,
          1.2495059653824245,
          0.6073264855357553,
          -0.9875479485181257,
          -1.322169307348878,
          0.9584271726985903,
          0.0782706692974436,
          -1.704483872141633,
          0.44115665830040013,
          0.6622288163647291,
          0.6363588846845296,
          -1.734962860184126,
          -0.2912216451544937,
          0.4950586402213371,
          0.557612547389266,
          -0.06094266421931948,
          0.6869022064867679,
          -0.43415825429348504,
          0.3198079834489686,
          -0.2523467679119873,
          0.9131059077485624,
          -1.4506650781865362,
          -2.1524237796060404,
          -2.3173424895459673,
          -0.9433163103883199,
          -1.0491851949857525,
          1.2235234503502748,
          0.9677371433229299,
          -0.30767172753788974,
          -0.13469480143733428,
          -1.2423329913874182,
          1.8531858555119145,
          0.2112700497316099,
          0.5371965566890142,
          1.3730674720787115,
          1.434921988803041,
          -0.4359874816165674,
          0.3428091469169689,
          1.1070321770260403,
          -1.208607648829903,
          2.63117347542205,
          0.8825160660681278,
          -0.6623201166297342,
          -0.6306833549066874,
          -1.219241361331293,
          0.07525070940976299,
          0.07519785579755203,
          2.0305258977375433,
          0.5110479699335309,
          -0.7954677473214181,
          -0.7044593446025139,
          0.3767881524556384,
          0.3269154608386359,
          -0.06190339297760778,
          -0.4169257177901647,
          0.07500048057030348,
          -1.392003397255068,
          0.4097021895823168,
          -1.3790534978386195,
          0.051186016716467796,
          0.29304475955680076,
          -1.0396697959748253,
          1.7724847298638957,
          0.9293382363986284,
          0.8248476489508761,
          -0.22462868204430908
         ],
         "xaxis": "x5",
         "y": [
          -0.3292325397486561,
          -0.17306522699908652,
          -0.6464893575702781,
          0.035165550743715045,
          -0.7975115999666432,
          -1.430328480017783,
          0.26116558389628347,
          0.07960050613028784,
          0.7028102915581942,
          2.0570382035915005,
          -0.5068918951122974,
          -0.7636371272817802,
          -0.4273639294913696,
          1.9713152588974416,
          -0.24174708148803523,
          -0.5717925095990226,
          -0.03146683755804916,
          0.6564120750201057,
          -0.652438690736643,
          -0.9056675434703751,
          -1.076584825682077,
          1.0776390136450578,
          -0.356327853903885,
          -0.5848105957530477,
          -0.24535200012712352,
          0.444403228371304,
          -1.5351513633084226,
          1.7811615156793303,
          -0.9247780299987302,
          0.31197270302490065,
          0.5550095485631508,
          -0.6185607852307881,
          -1.1388129539863996,
          -1.266412441215088,
          0.5979035395425927,
          1.978510932245443,
          0.06511097243906205,
          -0.5467623530523096,
          -1.178444759499918,
          -0.007838906241009677,
          -0.49944841820271535,
          -0.9303042630160602,
          0.9759709785816392,
          0.5172466497800202,
          -1.1444394974675458,
          -1.7784613832164344,
          0.6638154792009108,
          -0.3622885492260522,
          1.3589544727914418,
          -0.5015129319685158,
          -0.5429978811817414,
          0.10793978065134847,
          -1.0240025991923145,
          -1.0308103961262272,
          1.0974553509396936,
          -0.2708058472723366,
          1.5055398215120048,
          -0.18215823631142825,
          1.7955669320067176,
          0.7691852071196374,
          0.631587772358769,
          0.10386441645062747,
          0.07955685662895058,
          1.429489477411851,
          -0.08232008806820637,
          0.7348310083142334,
          0.3477679524781943,
          -0.259581561491272,
          -1.3952556296419927,
          -0.8754676875006271,
          1.6260696308729057,
          0.9479491547842962,
          0.02757355901737411,
          -0.15976649349700167,
          -0.2417770491794492,
          -0.6396560158854687,
          0.5211048472942529,
          -1.7939978388073674,
          0.46535042408233745,
          -0.02436409592451531,
          0.21566909214220353,
          -2.303823790069858,
          1.3527164139007362,
          1.4973038258870448,
          -1.3369400086152066,
          0.8013792393872382,
          1.454200833131103,
          0.23862706580293014,
          0.32212990417758075,
          0.6816575643769174,
          -0.7105082611355769,
          -1.109037760046857,
          0.5375768406827974,
          0.7037831800759476,
          -0.7304877597086991,
          0.8158754408165058,
          0.9573349468546526,
          -0.33959823506780945,
          -2.5038225065530737,
          -0.4634758667183664
         ],
         "yaxis": "y5"
        },
        {
         "histfunc": "count",
         "histnorm": "",
         "marker": {
          "color": "rgba(55, 128, 191, 1.0)",
          "line": {
           "color": "#4D5663",
           "width": 1.3
          }
         },
         "name": "B",
         "nbinsx": 10,
         "opacity": 0.8,
         "orientation": "v",
         "type": "histogram",
         "x": [
          -0.3292325397486561,
          -0.17306522699908652,
          -0.6464893575702781,
          0.035165550743715045,
          -0.7975115999666432,
          -1.430328480017783,
          0.26116558389628347,
          0.07960050613028784,
          0.7028102915581942,
          2.0570382035915005,
          -0.5068918951122974,
          -0.7636371272817802,
          -0.4273639294913696,
          1.9713152588974416,
          -0.24174708148803523,
          -0.5717925095990226,
          -0.03146683755804916,
          0.6564120750201057,
          -0.652438690736643,
          -0.9056675434703751,
          -1.076584825682077,
          1.0776390136450578,
          -0.356327853903885,
          -0.5848105957530477,
          -0.24535200012712352,
          0.444403228371304,
          -1.5351513633084226,
          1.7811615156793303,
          -0.9247780299987302,
          0.31197270302490065,
          0.5550095485631508,
          -0.6185607852307881,
          -1.1388129539863996,
          -1.266412441215088,
          0.5979035395425927,
          1.978510932245443,
          0.06511097243906205,
          -0.5467623530523096,
          -1.178444759499918,
          -0.007838906241009677,
          -0.49944841820271535,
          -0.9303042630160602,
          0.9759709785816392,
          0.5172466497800202,
          -1.1444394974675458,
          -1.7784613832164344,
          0.6638154792009108,
          -0.3622885492260522,
          1.3589544727914418,
          -0.5015129319685158,
          -0.5429978811817414,
          0.10793978065134847,
          -1.0240025991923145,
          -1.0308103961262272,
          1.0974553509396936,
          -0.2708058472723366,
          1.5055398215120048,
          -0.18215823631142825,
          1.7955669320067176,
          0.7691852071196374,
          0.631587772358769,
          0.10386441645062747,
          0.07955685662895058,
          1.429489477411851,
          -0.08232008806820637,
          0.7348310083142334,
          0.3477679524781943,
          -0.259581561491272,
          -1.3952556296419927,
          -0.8754676875006271,
          1.6260696308729057,
          0.9479491547842962,
          0.02757355901737411,
          -0.15976649349700167,
          -0.2417770491794492,
          -0.6396560158854687,
          0.5211048472942529,
          -1.7939978388073674,
          0.46535042408233745,
          -0.02436409592451531,
          0.21566909214220353,
          -2.303823790069858,
          1.3527164139007362,
          1.4973038258870448,
          -1.3369400086152066,
          0.8013792393872382,
          1.454200833131103,
          0.23862706580293014,
          0.32212990417758075,
          0.6816575643769174,
          -0.7105082611355769,
          -1.109037760046857,
          0.5375768406827974,
          0.7037831800759476,
          -0.7304877597086991,
          0.8158754408165058,
          0.9573349468546526,
          -0.33959823506780945,
          -2.5038225065530737,
          -0.4634758667183664
         ],
         "xaxis": "x6",
         "yaxis": "y6"
        },
        {
         "line": {
          "color": "rgba(128, 128, 128, 1.0)",
          "dash": "solid",
          "shape": "linear",
          "width": 1.3
         },
         "marker": {
          "size": 2,
          "symbol": "circle"
         },
         "mode": "markers",
         "name": "B",
         "text": "",
         "type": "scatter",
         "x": [
          0.7222831491201205,
          -2.296893373557001,
          -0.9514846621369799,
          0.4878656536717068,
          -1.204500985459564,
          -0.71657070536086,
          -2.6086380990757,
          -0.4645106846928102,
          0.6365012353242219,
          0.5484487769567372,
          1.1703198480595607,
          -0.7668137333809377,
          -0.5095147635392293,
          1.1517081315698932,
          -0.3170121084782209,
          1.0496050016970198,
          0.8117472747136824,
          -0.1962422196878374,
          0.02093483927191635,
          1.6629061494081,
          1.8972009358937585,
          0.740639715357248,
          -0.4162362834949462,
          -0.41027079985010284,
          -0.8084779105360417,
          0.7317122954613846,
          -2.0533645797842586,
          0.25973848437167424,
          1.2657945132888098,
          -1.104292497061763,
          -0.14908556947487261,
          -0.9792381695082234,
          0.19931844185183348,
          0.6353293320854605,
          0.23684686481465728,
          -0.00004328701907809816,
          -0.9584400643821612,
          -1.7721276090380729,
          0.4885363189218579,
          0.8153994614809292,
          1.8047938579452167,
          -0.11813571543306897,
          -0.35936368359341364,
          0.8854602574190062,
          0.9818414737260609,
          1.5604974436335939,
          0.25405005946705567,
          -0.014545398592931424,
          1.9537061002678235,
          -0.16066286797581827,
          0.41763070616142917,
          0.3543134045403085,
          0.6108391995996915,
          1.2001695196236635,
          0.10757293156127155,
          -1.417937377609837,
          1.0009288475656837,
          0.07278346072057543,
          -0.11355648884132326,
          1.5590187932866566,
          1.0497455983382646,
          -0.32828431874117314,
          1.3496036579759836,
          -0.09664953478072369,
          -0.8868912179847095,
          -0.288538546172643,
          0.47429991028781676,
          -0.37077973396465935,
          2.259007501258914,
          1.1295705479562885,
          -0.39940958412144123,
          2.4976455428056608,
          0.32944304579035905,
          -0.30906311859830454,
          -2.4190144896892,
          0.3899297113192504,
          -0.5788404558758334,
          -1.5868677398077473,
          0.5053865441811288,
          1.1846812384427776,
          0.6972874000180896,
          0.8203378111149934,
          -1.317316887758314,
          -0.9271318760034939,
          -0.3897576825508226,
          0.42853222437658417,
          0.9417738879405237,
          1.2777586978658635,
          -0.5348376571806567,
          0.4265725451300481,
          0.861345328889857,
          -0.3599043442189083,
          -1.4001968597624057,
          0.6274017191038457,
          0.4527475878800311,
          -0.7479558765701726,
          -0.02854602917519827,
          1.472720229867451,
          -0.5925202559393768,
          -1.4722353158995045
         ],
         "xaxis": "x7",
         "y": [
          -0.3292325397486561,
          -0.17306522699908652,
          -0.6464893575702781,
          0.035165550743715045,
          -0.7975115999666432,
          -1.430328480017783,
          0.26116558389628347,
          0.07960050613028784,
          0.7028102915581942,
          2.0570382035915005,
          -0.5068918951122974,
          -0.7636371272817802,
          -0.4273639294913696,
          1.9713152588974416,
          -0.24174708148803523,
          -0.5717925095990226,
          -0.03146683755804916,
          0.6564120750201057,
          -0.652438690736643,
          -0.9056675434703751,
          -1.076584825682077,
          1.0776390136450578,
          -0.356327853903885,
          -0.5848105957530477,
          -0.24535200012712352,
          0.444403228371304,
          -1.5351513633084226,
          1.7811615156793303,
          -0.9247780299987302,
          0.31197270302490065,
          0.5550095485631508,
          -0.6185607852307881,
          -1.1388129539863996,
          -1.266412441215088,
          0.5979035395425927,
          1.978510932245443,
          0.06511097243906205,
          -0.5467623530523096,
          -1.178444759499918,
          -0.007838906241009677,
          -0.49944841820271535,
          -0.9303042630160602,
          0.9759709785816392,
          0.5172466497800202,
          -1.1444394974675458,
          -1.7784613832164344,
          0.6638154792009108,
          -0.3622885492260522,
          1.3589544727914418,
          -0.5015129319685158,
          -0.5429978811817414,
          0.10793978065134847,
          -1.0240025991923145,
          -1.0308103961262272,
          1.0974553509396936,
          -0.2708058472723366,
          1.5055398215120048,
          -0.18215823631142825,
          1.7955669320067176,
          0.7691852071196374,
          0.631587772358769,
          0.10386441645062747,
          0.07955685662895058,
          1.429489477411851,
          -0.08232008806820637,
          0.7348310083142334,
          0.3477679524781943,
          -0.259581561491272,
          -1.3952556296419927,
          -0.8754676875006271,
          1.6260696308729057,
          0.9479491547842962,
          0.02757355901737411,
          -0.15976649349700167,
          -0.2417770491794492,
          -0.6396560158854687,
          0.5211048472942529,
          -1.7939978388073674,
          0.46535042408233745,
          -0.02436409592451531,
          0.21566909214220353,
          -2.303823790069858,
          1.3527164139007362,
          1.4973038258870448,
          -1.3369400086152066,
          0.8013792393872382,
          1.454200833131103,
          0.23862706580293014,
          0.32212990417758075,
          0.6816575643769174,
          -0.7105082611355769,
          -1.109037760046857,
          0.5375768406827974,
          0.7037831800759476,
          -0.7304877597086991,
          0.8158754408165058,
          0.9573349468546526,
          -0.33959823506780945,
          -2.5038225065530737,
          -0.4634758667183664
         ],
         "yaxis": "y7"
        },
        {
         "line": {
          "color": "rgba(128, 128, 128, 1.0)",
          "dash": "solid",
          "shape": "linear",
          "width": 1.3
         },
         "marker": {
          "size": 2,
          "symbol": "circle"
         },
         "mode": "markers",
         "name": "B",
         "text": "",
         "type": "scatter",
         "x": [
          -0.26522503792552254,
          -1.1425615889423173,
          -0.26163701936859746,
          1.4923223417703781,
          0.7264289776111549,
          -2.1464551341213878,
          -0.1385299663923213,
          0.5191769097241302,
          0.24998405485175337,
          0.04416682569297171,
          -1.4031880942613844,
          -0.22515664837213129,
          -0.15677734354915096,
          -0.5908021150505197,
          0.7573157073125226,
          -0.8191401233988489,
          0.2665345291796723,
          1.2162499594215463,
          -0.21294470021652956,
          0.5573424770690906,
          1.6754164535322895,
          1.2025684752364034,
          -2.172613082675401,
          0.7857879937866677,
          0.33188830353214943,
          -1.3336058284668435,
          -2.047347104623378,
          -0.11324985255820672,
          -0.9882835555184477,
          0.17453045638027517,
          -1.5101642160861162,
          1.3640072021726177,
          1.206170804213018,
          -0.2638399832977407,
          0.32746016782678833,
          0.36297685278103997,
          -0.660536666725527,
          1.4720246539576813,
          0.7934578047897171,
          0.03921398779772697,
          -0.7977646312968549,
          0.8358876122751778,
          2.2146344282961086,
          -1.2310989399862209,
          1.5787976507912858,
          0.4277023542750409,
          0.4714535911523593,
          -0.6130335395192607,
          -0.2190006682888357,
          0.1427114866115953,
          0.8067733948772188,
          -0.13196912385356796,
          0.2225136183425238,
          0.08970339406595677,
          0.48568837887014427,
          -0.09380129204078046,
          1.3403068833877072,
          0.39700045699838266,
          0.9967077564660008,
          0.7750367176629562,
          -0.42240095385441434,
          -1.1585624594425623,
          -1.0242266547551049,
          0.1104521392124219,
          0.4329795547704835,
          0.9498326109312207,
          -0.724801288623274,
          -1.2544871905657253,
          -0.1121904020466736,
          1.4924131732855943,
          1.7574708482455839,
          0.7844983327501531,
          1.3843612130266856,
          -1.3570927209936914,
          0.41621295533200736,
          0.8493293037052111,
          0.9215011811171258,
          1.0612038021861123,
          -0.11736195541293107,
          0.604443712641654,
          0.7530102489289536,
          -0.44475351247942607,
          -0.4074864623740178,
          0.04532665117285895,
          -1.710486871473883,
          -1.180632803318249,
          -1.0194785020787356,
          -0.2873878080625621,
          -0.38313156282065075,
          0.3519135012856905,
          -0.892249840949631,
          -1.5310558380872876,
          -0.8956839831632065,
          -0.4089702432090396,
          -1.5700775629787924,
          -1.4642421686220066,
          -1.4852160891896857,
          0.4242270764137463,
          -0.7101870094387682,
          0.43459589920061
         ],
         "xaxis": "x8",
         "y": [
          -0.3292325397486561,
          -0.17306522699908652,
          -0.6464893575702781,
          0.035165550743715045,
          -0.7975115999666432,
          -1.430328480017783,
          0.26116558389628347,
          0.07960050613028784,
          0.7028102915581942,
          2.0570382035915005,
          -0.5068918951122974,
          -0.7636371272817802,
          -0.4273639294913696,
          1.9713152588974416,
          -0.24174708148803523,
          -0.5717925095990226,
          -0.03146683755804916,
          0.6564120750201057,
          -0.652438690736643,
          -0.9056675434703751,
          -1.076584825682077,
          1.0776390136450578,
          -0.356327853903885,
          -0.5848105957530477,
          -0.24535200012712352,
          0.444403228371304,
          -1.5351513633084226,
          1.7811615156793303,
          -0.9247780299987302,
          0.31197270302490065,
          0.5550095485631508,
          -0.6185607852307881,
          -1.1388129539863996,
          -1.266412441215088,
          0.5979035395425927,
          1.978510932245443,
          0.06511097243906205,
          -0.5467623530523096,
          -1.178444759499918,
          -0.007838906241009677,
          -0.49944841820271535,
          -0.9303042630160602,
          0.9759709785816392,
          0.5172466497800202,
          -1.1444394974675458,
          -1.7784613832164344,
          0.6638154792009108,
          -0.3622885492260522,
          1.3589544727914418,
          -0.5015129319685158,
          -0.5429978811817414,
          0.10793978065134847,
          -1.0240025991923145,
          -1.0308103961262272,
          1.0974553509396936,
          -0.2708058472723366,
          1.5055398215120048,
          -0.18215823631142825,
          1.7955669320067176,
          0.7691852071196374,
          0.631587772358769,
          0.10386441645062747,
          0.07955685662895058,
          1.429489477411851,
          -0.08232008806820637,
          0.7348310083142334,
          0.3477679524781943,
          -0.259581561491272,
          -1.3952556296419927,
          -0.8754676875006271,
          1.6260696308729057,
          0.9479491547842962,
          0.02757355901737411,
          -0.15976649349700167,
          -0.2417770491794492,
          -0.6396560158854687,
          0.5211048472942529,
          -1.7939978388073674,
          0.46535042408233745,
          -0.02436409592451531,
          0.21566909214220353,
          -2.303823790069858,
          1.3527164139007362,
          1.4973038258870448,
          -1.3369400086152066,
          0.8013792393872382,
          1.454200833131103,
          0.23862706580293014,
          0.32212990417758075,
          0.6816575643769174,
          -0.7105082611355769,
          -1.109037760046857,
          0.5375768406827974,
          0.7037831800759476,
          -0.7304877597086991,
          0.8158754408165058,
          0.9573349468546526,
          -0.33959823506780945,
          -2.5038225065530737,
          -0.4634758667183664
         ],
         "yaxis": "y8"
        },
        {
         "line": {
          "color": "rgba(128, 128, 128, 1.0)",
          "dash": "solid",
          "shape": "linear",
          "width": 1.3
         },
         "marker": {
          "size": 2,
          "symbol": "circle"
         },
         "mode": "markers",
         "name": "C",
         "text": "",
         "type": "scatter",
         "x": [
          -0.12440004220450178,
          0.4288963942097568,
          -0.8175302115327353,
          0.6755147919275547,
          -0.6153104058460623,
          1.5107790308864097,
          1.2082100462808407,
          -0.7482335020176383,
          -0.8536714641638459,
          1.1461753667566097,
          -0.9560439248733608,
          -0.2623236721376535,
          0.6206454997331918,
          -2.7536593672709606,
          -2.551925579372688,
          -0.2957299816380712,
          0.4192856778036452,
          -0.6953491249380691,
          0.15475760941880773,
          0.48617380809704347,
          0.08693627070381736,
          1.9967457573480847,
          0.639658220349158,
          0.1231035628216723,
          -0.1992207583298977,
          -0.1553352084036998,
          0.02128437987210216,
          0.9300513211403425,
          0.10702418457184715,
          0.14128183963017696,
          0.3184902640984109,
          0.15654965123505066,
          0.0037720975098451907,
          0.8574989631151201,
          -1.524873156706026,
          1.2495059653824245,
          0.6073264855357553,
          -0.9875479485181257,
          -1.322169307348878,
          0.9584271726985903,
          0.0782706692974436,
          -1.704483872141633,
          0.44115665830040013,
          0.6622288163647291,
          0.6363588846845296,
          -1.734962860184126,
          -0.2912216451544937,
          0.4950586402213371,
          0.557612547389266,
          -0.06094266421931948,
          0.6869022064867679,
          -0.43415825429348504,
          0.3198079834489686,
          -0.2523467679119873,
          0.9131059077485624,
          -1.4506650781865362,
          -2.1524237796060404,
          -2.3173424895459673,
          -0.9433163103883199,
          -1.0491851949857525,
          1.2235234503502748,
          0.9677371433229299,
          -0.30767172753788974,
          -0.13469480143733428,
          -1.2423329913874182,
          1.8531858555119145,
          0.2112700497316099,
          0.5371965566890142,
          1.3730674720787115,
          1.434921988803041,
          -0.4359874816165674,
          0.3428091469169689,
          1.1070321770260403,
          -1.208607648829903,
          2.63117347542205,
          0.8825160660681278,
          -0.6623201166297342,
          -0.6306833549066874,
          -1.219241361331293,
          0.07525070940976299,
          0.07519785579755203,
          2.0305258977375433,
          0.5110479699335309,
          -0.7954677473214181,
          -0.7044593446025139,
          0.3767881524556384,
          0.3269154608386359,
          -0.06190339297760778,
          -0.4169257177901647,
          0.07500048057030348,
          -1.392003397255068,
          0.4097021895823168,
          -1.3790534978386195,
          0.051186016716467796,
          0.29304475955680076,
          -1.0396697959748253,
          1.7724847298638957,
          0.9293382363986284,
          0.8248476489508761,
          -0.22462868204430908
         ],
         "xaxis": "x9",
         "y": [
          0.7222831491201205,
          -2.296893373557001,
          -0.9514846621369799,
          0.4878656536717068,
          -1.204500985459564,
          -0.71657070536086,
          -2.6086380990757,
          -0.4645106846928102,
          0.6365012353242219,
          0.5484487769567372,
          1.1703198480595607,
          -0.7668137333809377,
          -0.5095147635392293,
          1.1517081315698932,
          -0.3170121084782209,
          1.0496050016970198,
          0.8117472747136824,
          -0.1962422196878374,
          0.02093483927191635,
          1.6629061494081,
          1.8972009358937585,
          0.740639715357248,
          -0.4162362834949462,
          -0.41027079985010284,
          -0.8084779105360417,
          0.7317122954613846,
          -2.0533645797842586,
          0.25973848437167424,
          1.2657945132888098,
          -1.104292497061763,
          -0.14908556947487261,
          -0.9792381695082234,
          0.19931844185183348,
          0.6353293320854605,
          0.23684686481465728,
          -0.00004328701907809816,
          -0.9584400643821612,
          -1.7721276090380729,
          0.4885363189218579,
          0.8153994614809292,
          1.8047938579452167,
          -0.11813571543306897,
          -0.35936368359341364,
          0.8854602574190062,
          0.9818414737260609,
          1.5604974436335939,
          0.25405005946705567,
          -0.014545398592931424,
          1.9537061002678235,
          -0.16066286797581827,
          0.41763070616142917,
          0.3543134045403085,
          0.6108391995996915,
          1.2001695196236635,
          0.10757293156127155,
          -1.417937377609837,
          1.0009288475656837,
          0.07278346072057543,
          -0.11355648884132326,
          1.5590187932866566,
          1.0497455983382646,
          -0.32828431874117314,
          1.3496036579759836,
          -0.09664953478072369,
          -0.8868912179847095,
          -0.288538546172643,
          0.47429991028781676,
          -0.37077973396465935,
          2.259007501258914,
          1.1295705479562885,
          -0.39940958412144123,
          2.4976455428056608,
          0.32944304579035905,
          -0.30906311859830454,
          -2.4190144896892,
          0.3899297113192504,
          -0.5788404558758334,
          -1.5868677398077473,
          0.5053865441811288,
          1.1846812384427776,
          0.6972874000180896,
          0.8203378111149934,
          -1.317316887758314,
          -0.9271318760034939,
          -0.3897576825508226,
          0.42853222437658417,
          0.9417738879405237,
          1.2777586978658635,
          -0.5348376571806567,
          0.4265725451300481,
          0.861345328889857,
          -0.3599043442189083,
          -1.4001968597624057,
          0.6274017191038457,
          0.4527475878800311,
          -0.7479558765701726,
          -0.02854602917519827,
          1.472720229867451,
          -0.5925202559393768,
          -1.4722353158995045
         ],
         "yaxis": "y9"
        },
        {
         "line": {
          "color": "rgba(128, 128, 128, 1.0)",
          "dash": "solid",
          "shape": "linear",
          "width": 1.3
         },
         "marker": {
          "size": 2,
          "symbol": "circle"
         },
         "mode": "markers",
         "name": "C",
         "text": "",
         "type": "scatter",
         "x": [
          -0.3292325397486561,
          -0.17306522699908652,
          -0.6464893575702781,
          0.035165550743715045,
          -0.7975115999666432,
          -1.430328480017783,
          0.26116558389628347,
          0.07960050613028784,
          0.7028102915581942,
          2.0570382035915005,
          -0.5068918951122974,
          -0.7636371272817802,
          -0.4273639294913696,
          1.9713152588974416,
          -0.24174708148803523,
          -0.5717925095990226,
          -0.03146683755804916,
          0.6564120750201057,
          -0.652438690736643,
          -0.9056675434703751,
          -1.076584825682077,
          1.0776390136450578,
          -0.356327853903885,
          -0.5848105957530477,
          -0.24535200012712352,
          0.444403228371304,
          -1.5351513633084226,
          1.7811615156793303,
          -0.9247780299987302,
          0.31197270302490065,
          0.5550095485631508,
          -0.6185607852307881,
          -1.1388129539863996,
          -1.266412441215088,
          0.5979035395425927,
          1.978510932245443,
          0.06511097243906205,
          -0.5467623530523096,
          -1.178444759499918,
          -0.007838906241009677,
          -0.49944841820271535,
          -0.9303042630160602,
          0.9759709785816392,
          0.5172466497800202,
          -1.1444394974675458,
          -1.7784613832164344,
          0.6638154792009108,
          -0.3622885492260522,
          1.3589544727914418,
          -0.5015129319685158,
          -0.5429978811817414,
          0.10793978065134847,
          -1.0240025991923145,
          -1.0308103961262272,
          1.0974553509396936,
          -0.2708058472723366,
          1.5055398215120048,
          -0.18215823631142825,
          1.7955669320067176,
          0.7691852071196374,
          0.631587772358769,
          0.10386441645062747,
          0.07955685662895058,
          1.429489477411851,
          -0.08232008806820637,
          0.7348310083142334,
          0.3477679524781943,
          -0.259581561491272,
          -1.3952556296419927,
          -0.8754676875006271,
          1.6260696308729057,
          0.9479491547842962,
          0.02757355901737411,
          -0.15976649349700167,
          -0.2417770491794492,
          -0.6396560158854687,
          0.5211048472942529,
          -1.7939978388073674,
          0.46535042408233745,
          -0.02436409592451531,
          0.21566909214220353,
          -2.303823790069858,
          1.3527164139007362,
          1.4973038258870448,
          -1.3369400086152066,
          0.8013792393872382,
          1.454200833131103,
          0.23862706580293014,
          0.32212990417758075,
          0.6816575643769174,
          -0.7105082611355769,
          -1.109037760046857,
          0.5375768406827974,
          0.7037831800759476,
          -0.7304877597086991,
          0.8158754408165058,
          0.9573349468546526,
          -0.33959823506780945,
          -2.5038225065530737,
          -0.4634758667183664
         ],
         "xaxis": "x10",
         "y": [
          0.7222831491201205,
          -2.296893373557001,
          -0.9514846621369799,
          0.4878656536717068,
          -1.204500985459564,
          -0.71657070536086,
          -2.6086380990757,
          -0.4645106846928102,
          0.6365012353242219,
          0.5484487769567372,
          1.1703198480595607,
          -0.7668137333809377,
          -0.5095147635392293,
          1.1517081315698932,
          -0.3170121084782209,
          1.0496050016970198,
          0.8117472747136824,
          -0.1962422196878374,
          0.02093483927191635,
          1.6629061494081,
          1.8972009358937585,
          0.740639715357248,
          -0.4162362834949462,
          -0.41027079985010284,
          -0.8084779105360417,
          0.7317122954613846,
          -2.0533645797842586,
          0.25973848437167424,
          1.2657945132888098,
          -1.104292497061763,
          -0.14908556947487261,
          -0.9792381695082234,
          0.19931844185183348,
          0.6353293320854605,
          0.23684686481465728,
          -0.00004328701907809816,
          -0.9584400643821612,
          -1.7721276090380729,
          0.4885363189218579,
          0.8153994614809292,
          1.8047938579452167,
          -0.11813571543306897,
          -0.35936368359341364,
          0.8854602574190062,
          0.9818414737260609,
          1.5604974436335939,
          0.25405005946705567,
          -0.014545398592931424,
          1.9537061002678235,
          -0.16066286797581827,
          0.41763070616142917,
          0.3543134045403085,
          0.6108391995996915,
          1.2001695196236635,
          0.10757293156127155,
          -1.417937377609837,
          1.0009288475656837,
          0.07278346072057543,
          -0.11355648884132326,
          1.5590187932866566,
          1.0497455983382646,
          -0.32828431874117314,
          1.3496036579759836,
          -0.09664953478072369,
          -0.8868912179847095,
          -0.288538546172643,
          0.47429991028781676,
          -0.37077973396465935,
          2.259007501258914,
          1.1295705479562885,
          -0.39940958412144123,
          2.4976455428056608,
          0.32944304579035905,
          -0.30906311859830454,
          -2.4190144896892,
          0.3899297113192504,
          -0.5788404558758334,
          -1.5868677398077473,
          0.5053865441811288,
          1.1846812384427776,
          0.6972874000180896,
          0.8203378111149934,
          -1.317316887758314,
          -0.9271318760034939,
          -0.3897576825508226,
          0.42853222437658417,
          0.9417738879405237,
          1.2777586978658635,
          -0.5348376571806567,
          0.4265725451300481,
          0.861345328889857,
          -0.3599043442189083,
          -1.4001968597624057,
          0.6274017191038457,
          0.4527475878800311,
          -0.7479558765701726,
          -0.02854602917519827,
          1.472720229867451,
          -0.5925202559393768,
          -1.4722353158995045
         ],
         "yaxis": "y10"
        },
        {
         "histfunc": "count",
         "histnorm": "",
         "marker": {
          "color": "rgba(50, 171, 96, 1.0)",
          "line": {
           "color": "#4D5663",
           "width": 1.3
          }
         },
         "name": "C",
         "nbinsx": 10,
         "opacity": 0.8,
         "orientation": "v",
         "type": "histogram",
         "x": [
          0.7222831491201205,
          -2.296893373557001,
          -0.9514846621369799,
          0.4878656536717068,
          -1.204500985459564,
          -0.71657070536086,
          -2.6086380990757,
          -0.4645106846928102,
          0.6365012353242219,
          0.5484487769567372,
          1.1703198480595607,
          -0.7668137333809377,
          -0.5095147635392293,
          1.1517081315698932,
          -0.3170121084782209,
          1.0496050016970198,
          0.8117472747136824,
          -0.1962422196878374,
          0.02093483927191635,
          1.6629061494081,
          1.8972009358937585,
          0.740639715357248,
          -0.4162362834949462,
          -0.41027079985010284,
          -0.8084779105360417,
          0.7317122954613846,
          -2.0533645797842586,
          0.25973848437167424,
          1.2657945132888098,
          -1.104292497061763,
          -0.14908556947487261,
          -0.9792381695082234,
          0.19931844185183348,
          0.6353293320854605,
          0.23684686481465728,
          -0.00004328701907809816,
          -0.9584400643821612,
          -1.7721276090380729,
          0.4885363189218579,
          0.8153994614809292,
          1.8047938579452167,
          -0.11813571543306897,
          -0.35936368359341364,
          0.8854602574190062,
          0.9818414737260609,
          1.5604974436335939,
          0.25405005946705567,
          -0.014545398592931424,
          1.9537061002678235,
          -0.16066286797581827,
          0.41763070616142917,
          0.3543134045403085,
          0.6108391995996915,
          1.2001695196236635,
          0.10757293156127155,
          -1.417937377609837,
          1.0009288475656837,
          0.07278346072057543,
          -0.11355648884132326,
          1.5590187932866566,
          1.0497455983382646,
          -0.32828431874117314,
          1.3496036579759836,
          -0.09664953478072369,
          -0.8868912179847095,
          -0.288538546172643,
          0.47429991028781676,
          -0.37077973396465935,
          2.259007501258914,
          1.1295705479562885,
          -0.39940958412144123,
          2.4976455428056608,
          0.32944304579035905,
          -0.30906311859830454,
          -2.4190144896892,
          0.3899297113192504,
          -0.5788404558758334,
          -1.5868677398077473,
          0.5053865441811288,
          1.1846812384427776,
          0.6972874000180896,
          0.8203378111149934,
          -1.317316887758314,
          -0.9271318760034939,
          -0.3897576825508226,
          0.42853222437658417,
          0.9417738879405237,
          1.2777586978658635,
          -0.5348376571806567,
          0.4265725451300481,
          0.861345328889857,
          -0.3599043442189083,
          -1.4001968597624057,
          0.6274017191038457,
          0.4527475878800311,
          -0.7479558765701726,
          -0.02854602917519827,
          1.472720229867451,
          -0.5925202559393768,
          -1.4722353158995045
         ],
         "xaxis": "x11",
         "yaxis": "y11"
        },
        {
         "line": {
          "color": "rgba(128, 128, 128, 1.0)",
          "dash": "solid",
          "shape": "linear",
          "width": 1.3
         },
         "marker": {
          "size": 2,
          "symbol": "circle"
         },
         "mode": "markers",
         "name": "C",
         "text": "",
         "type": "scatter",
         "x": [
          -0.26522503792552254,
          -1.1425615889423173,
          -0.26163701936859746,
          1.4923223417703781,
          0.7264289776111549,
          -2.1464551341213878,
          -0.1385299663923213,
          0.5191769097241302,
          0.24998405485175337,
          0.04416682569297171,
          -1.4031880942613844,
          -0.22515664837213129,
          -0.15677734354915096,
          -0.5908021150505197,
          0.7573157073125226,
          -0.8191401233988489,
          0.2665345291796723,
          1.2162499594215463,
          -0.21294470021652956,
          0.5573424770690906,
          1.6754164535322895,
          1.2025684752364034,
          -2.172613082675401,
          0.7857879937866677,
          0.33188830353214943,
          -1.3336058284668435,
          -2.047347104623378,
          -0.11324985255820672,
          -0.9882835555184477,
          0.17453045638027517,
          -1.5101642160861162,
          1.3640072021726177,
          1.206170804213018,
          -0.2638399832977407,
          0.32746016782678833,
          0.36297685278103997,
          -0.660536666725527,
          1.4720246539576813,
          0.7934578047897171,
          0.03921398779772697,
          -0.7977646312968549,
          0.8358876122751778,
          2.2146344282961086,
          -1.2310989399862209,
          1.5787976507912858,
          0.4277023542750409,
          0.4714535911523593,
          -0.6130335395192607,
          -0.2190006682888357,
          0.1427114866115953,
          0.8067733948772188,
          -0.13196912385356796,
          0.2225136183425238,
          0.08970339406595677,
          0.48568837887014427,
          -0.09380129204078046,
          1.3403068833877072,
          0.39700045699838266,
          0.9967077564660008,
          0.7750367176629562,
          -0.42240095385441434,
          -1.1585624594425623,
          -1.0242266547551049,
          0.1104521392124219,
          0.4329795547704835,
          0.9498326109312207,
          -0.724801288623274,
          -1.2544871905657253,
          -0.1121904020466736,
          1.4924131732855943,
          1.7574708482455839,
          0.7844983327501531,
          1.3843612130266856,
          -1.3570927209936914,
          0.41621295533200736,
          0.8493293037052111,
          0.9215011811171258,
          1.0612038021861123,
          -0.11736195541293107,
          0.604443712641654,
          0.7530102489289536,
          -0.44475351247942607,
          -0.4074864623740178,
          0.04532665117285895,
          -1.710486871473883,
          -1.180632803318249,
          -1.0194785020787356,
          -0.2873878080625621,
          -0.38313156282065075,
          0.3519135012856905,
          -0.892249840949631,
          -1.5310558380872876,
          -0.8956839831632065,
          -0.4089702432090396,
          -1.5700775629787924,
          -1.4642421686220066,
          -1.4852160891896857,
          0.4242270764137463,
          -0.7101870094387682,
          0.43459589920061
         ],
         "xaxis": "x12",
         "y": [
          0.7222831491201205,
          -2.296893373557001,
          -0.9514846621369799,
          0.4878656536717068,
          -1.204500985459564,
          -0.71657070536086,
          -2.6086380990757,
          -0.4645106846928102,
          0.6365012353242219,
          0.5484487769567372,
          1.1703198480595607,
          -0.7668137333809377,
          -0.5095147635392293,
          1.1517081315698932,
          -0.3170121084782209,
          1.0496050016970198,
          0.8117472747136824,
          -0.1962422196878374,
          0.02093483927191635,
          1.6629061494081,
          1.8972009358937585,
          0.740639715357248,
          -0.4162362834949462,
          -0.41027079985010284,
          -0.8084779105360417,
          0.7317122954613846,
          -2.0533645797842586,
          0.25973848437167424,
          1.2657945132888098,
          -1.104292497061763,
          -0.14908556947487261,
          -0.9792381695082234,
          0.19931844185183348,
          0.6353293320854605,
          0.23684686481465728,
          -0.00004328701907809816,
          -0.9584400643821612,
          -1.7721276090380729,
          0.4885363189218579,
          0.8153994614809292,
          1.8047938579452167,
          -0.11813571543306897,
          -0.35936368359341364,
          0.8854602574190062,
          0.9818414737260609,
          1.5604974436335939,
          0.25405005946705567,
          -0.014545398592931424,
          1.9537061002678235,
          -0.16066286797581827,
          0.41763070616142917,
          0.3543134045403085,
          0.6108391995996915,
          1.2001695196236635,
          0.10757293156127155,
          -1.417937377609837,
          1.0009288475656837,
          0.07278346072057543,
          -0.11355648884132326,
          1.5590187932866566,
          1.0497455983382646,
          -0.32828431874117314,
          1.3496036579759836,
          -0.09664953478072369,
          -0.8868912179847095,
          -0.288538546172643,
          0.47429991028781676,
          -0.37077973396465935,
          2.259007501258914,
          1.1295705479562885,
          -0.39940958412144123,
          2.4976455428056608,
          0.32944304579035905,
          -0.30906311859830454,
          -2.4190144896892,
          0.3899297113192504,
          -0.5788404558758334,
          -1.5868677398077473,
          0.5053865441811288,
          1.1846812384427776,
          0.6972874000180896,
          0.8203378111149934,
          -1.317316887758314,
          -0.9271318760034939,
          -0.3897576825508226,
          0.42853222437658417,
          0.9417738879405237,
          1.2777586978658635,
          -0.5348376571806567,
          0.4265725451300481,
          0.861345328889857,
          -0.3599043442189083,
          -1.4001968597624057,
          0.6274017191038457,
          0.4527475878800311,
          -0.7479558765701726,
          -0.02854602917519827,
          1.472720229867451,
          -0.5925202559393768,
          -1.4722353158995045
         ],
         "yaxis": "y12"
        },
        {
         "line": {
          "color": "rgba(128, 128, 128, 1.0)",
          "dash": "solid",
          "shape": "linear",
          "width": 1.3
         },
         "marker": {
          "size": 2,
          "symbol": "circle"
         },
         "mode": "markers",
         "name": "D",
         "text": "",
         "type": "scatter",
         "x": [
          -0.12440004220450178,
          0.4288963942097568,
          -0.8175302115327353,
          0.6755147919275547,
          -0.6153104058460623,
          1.5107790308864097,
          1.2082100462808407,
          -0.7482335020176383,
          -0.8536714641638459,
          1.1461753667566097,
          -0.9560439248733608,
          -0.2623236721376535,
          0.6206454997331918,
          -2.7536593672709606,
          -2.551925579372688,
          -0.2957299816380712,
          0.4192856778036452,
          -0.6953491249380691,
          0.15475760941880773,
          0.48617380809704347,
          0.08693627070381736,
          1.9967457573480847,
          0.639658220349158,
          0.1231035628216723,
          -0.1992207583298977,
          -0.1553352084036998,
          0.02128437987210216,
          0.9300513211403425,
          0.10702418457184715,
          0.14128183963017696,
          0.3184902640984109,
          0.15654965123505066,
          0.0037720975098451907,
          0.8574989631151201,
          -1.524873156706026,
          1.2495059653824245,
          0.6073264855357553,
          -0.9875479485181257,
          -1.322169307348878,
          0.9584271726985903,
          0.0782706692974436,
          -1.704483872141633,
          0.44115665830040013,
          0.6622288163647291,
          0.6363588846845296,
          -1.734962860184126,
          -0.2912216451544937,
          0.4950586402213371,
          0.557612547389266,
          -0.06094266421931948,
          0.6869022064867679,
          -0.43415825429348504,
          0.3198079834489686,
          -0.2523467679119873,
          0.9131059077485624,
          -1.4506650781865362,
          -2.1524237796060404,
          -2.3173424895459673,
          -0.9433163103883199,
          -1.0491851949857525,
          1.2235234503502748,
          0.9677371433229299,
          -0.30767172753788974,
          -0.13469480143733428,
          -1.2423329913874182,
          1.8531858555119145,
          0.2112700497316099,
          0.5371965566890142,
          1.3730674720787115,
          1.434921988803041,
          -0.4359874816165674,
          0.3428091469169689,
          1.1070321770260403,
          -1.208607648829903,
          2.63117347542205,
          0.8825160660681278,
          -0.6623201166297342,
          -0.6306833549066874,
          -1.219241361331293,
          0.07525070940976299,
          0.07519785579755203,
          2.0305258977375433,
          0.5110479699335309,
          -0.7954677473214181,
          -0.7044593446025139,
          0.3767881524556384,
          0.3269154608386359,
          -0.06190339297760778,
          -0.4169257177901647,
          0.07500048057030348,
          -1.392003397255068,
          0.4097021895823168,
          -1.3790534978386195,
          0.051186016716467796,
          0.29304475955680076,
          -1.0396697959748253,
          1.7724847298638957,
          0.9293382363986284,
          0.8248476489508761,
          -0.22462868204430908
         ],
         "xaxis": "x13",
         "y": [
          -0.26522503792552254,
          -1.1425615889423173,
          -0.26163701936859746,
          1.4923223417703781,
          0.7264289776111549,
          -2.1464551341213878,
          -0.1385299663923213,
          0.5191769097241302,
          0.24998405485175337,
          0.04416682569297171,
          -1.4031880942613844,
          -0.22515664837213129,
          -0.15677734354915096,
          -0.5908021150505197,
          0.7573157073125226,
          -0.8191401233988489,
          0.2665345291796723,
          1.2162499594215463,
          -0.21294470021652956,
          0.5573424770690906,
          1.6754164535322895,
          1.2025684752364034,
          -2.172613082675401,
          0.7857879937866677,
          0.33188830353214943,
          -1.3336058284668435,
          -2.047347104623378,
          -0.11324985255820672,
          -0.9882835555184477,
          0.17453045638027517,
          -1.5101642160861162,
          1.3640072021726177,
          1.206170804213018,
          -0.2638399832977407,
          0.32746016782678833,
          0.36297685278103997,
          -0.660536666725527,
          1.4720246539576813,
          0.7934578047897171,
          0.03921398779772697,
          -0.7977646312968549,
          0.8358876122751778,
          2.2146344282961086,
          -1.2310989399862209,
          1.5787976507912858,
          0.4277023542750409,
          0.4714535911523593,
          -0.6130335395192607,
          -0.2190006682888357,
          0.1427114866115953,
          0.8067733948772188,
          -0.13196912385356796,
          0.2225136183425238,
          0.08970339406595677,
          0.48568837887014427,
          -0.09380129204078046,
          1.3403068833877072,
          0.39700045699838266,
          0.9967077564660008,
          0.7750367176629562,
          -0.42240095385441434,
          -1.1585624594425623,
          -1.0242266547551049,
          0.1104521392124219,
          0.4329795547704835,
          0.9498326109312207,
          -0.724801288623274,
          -1.2544871905657253,
          -0.1121904020466736,
          1.4924131732855943,
          1.7574708482455839,
          0.7844983327501531,
          1.3843612130266856,
          -1.3570927209936914,
          0.41621295533200736,
          0.8493293037052111,
          0.9215011811171258,
          1.0612038021861123,
          -0.11736195541293107,
          0.604443712641654,
          0.7530102489289536,
          -0.44475351247942607,
          -0.4074864623740178,
          0.04532665117285895,
          -1.710486871473883,
          -1.180632803318249,
          -1.0194785020787356,
          -0.2873878080625621,
          -0.38313156282065075,
          0.3519135012856905,
          -0.892249840949631,
          -1.5310558380872876,
          -0.8956839831632065,
          -0.4089702432090396,
          -1.5700775629787924,
          -1.4642421686220066,
          -1.4852160891896857,
          0.4242270764137463,
          -0.7101870094387682,
          0.43459589920061
         ],
         "yaxis": "y13"
        },
        {
         "line": {
          "color": "rgba(128, 128, 128, 1.0)",
          "dash": "solid",
          "shape": "linear",
          "width": 1.3
         },
         "marker": {
          "size": 2,
          "symbol": "circle"
         },
         "mode": "markers",
         "name": "D",
         "text": "",
         "type": "scatter",
         "x": [
          -0.3292325397486561,
          -0.17306522699908652,
          -0.6464893575702781,
          0.035165550743715045,
          -0.7975115999666432,
          -1.430328480017783,
          0.26116558389628347,
          0.07960050613028784,
          0.7028102915581942,
          2.0570382035915005,
          -0.5068918951122974,
          -0.7636371272817802,
          -0.4273639294913696,
          1.9713152588974416,
          -0.24174708148803523,
          -0.5717925095990226,
          -0.03146683755804916,
          0.6564120750201057,
          -0.652438690736643,
          -0.9056675434703751,
          -1.076584825682077,
          1.0776390136450578,
          -0.356327853903885,
          -0.5848105957530477,
          -0.24535200012712352,
          0.444403228371304,
          -1.5351513633084226,
          1.7811615156793303,
          -0.9247780299987302,
          0.31197270302490065,
          0.5550095485631508,
          -0.6185607852307881,
          -1.1388129539863996,
          -1.266412441215088,
          0.5979035395425927,
          1.978510932245443,
          0.06511097243906205,
          -0.5467623530523096,
          -1.178444759499918,
          -0.007838906241009677,
          -0.49944841820271535,
          -0.9303042630160602,
          0.9759709785816392,
          0.5172466497800202,
          -1.1444394974675458,
          -1.7784613832164344,
          0.6638154792009108,
          -0.3622885492260522,
          1.3589544727914418,
          -0.5015129319685158,
          -0.5429978811817414,
          0.10793978065134847,
          -1.0240025991923145,
          -1.0308103961262272,
          1.0974553509396936,
          -0.2708058472723366,
          1.5055398215120048,
          -0.18215823631142825,
          1.7955669320067176,
          0.7691852071196374,
          0.631587772358769,
          0.10386441645062747,
          0.07955685662895058,
          1.429489477411851,
          -0.08232008806820637,
          0.7348310083142334,
          0.3477679524781943,
          -0.259581561491272,
          -1.3952556296419927,
          -0.8754676875006271,
          1.6260696308729057,
          0.9479491547842962,
          0.02757355901737411,
          -0.15976649349700167,
          -0.2417770491794492,
          -0.6396560158854687,
          0.5211048472942529,
          -1.7939978388073674,
          0.46535042408233745,
          -0.02436409592451531,
          0.21566909214220353,
          -2.303823790069858,
          1.3527164139007362,
          1.4973038258870448,
          -1.3369400086152066,
          0.8013792393872382,
          1.454200833131103,
          0.23862706580293014,
          0.32212990417758075,
          0.6816575643769174,
          -0.7105082611355769,
          -1.109037760046857,
          0.5375768406827974,
          0.7037831800759476,
          -0.7304877597086991,
          0.8158754408165058,
          0.9573349468546526,
          -0.33959823506780945,
          -2.5038225065530737,
          -0.4634758667183664
         ],
         "xaxis": "x14",
         "y": [
          -0.26522503792552254,
          -1.1425615889423173,
          -0.26163701936859746,
          1.4923223417703781,
          0.7264289776111549,
          -2.1464551341213878,
          -0.1385299663923213,
          0.5191769097241302,
          0.24998405485175337,
          0.04416682569297171,
          -1.4031880942613844,
          -0.22515664837213129,
          -0.15677734354915096,
          -0.5908021150505197,
          0.7573157073125226,
          -0.8191401233988489,
          0.2665345291796723,
          1.2162499594215463,
          -0.21294470021652956,
          0.5573424770690906,
          1.6754164535322895,
          1.2025684752364034,
          -2.172613082675401,
          0.7857879937866677,
          0.33188830353214943,
          -1.3336058284668435,
          -2.047347104623378,
          -0.11324985255820672,
          -0.9882835555184477,
          0.17453045638027517,
          -1.5101642160861162,
          1.3640072021726177,
          1.206170804213018,
          -0.2638399832977407,
          0.32746016782678833,
          0.36297685278103997,
          -0.660536666725527,
          1.4720246539576813,
          0.7934578047897171,
          0.03921398779772697,
          -0.7977646312968549,
          0.8358876122751778,
          2.2146344282961086,
          -1.2310989399862209,
          1.5787976507912858,
          0.4277023542750409,
          0.4714535911523593,
          -0.6130335395192607,
          -0.2190006682888357,
          0.1427114866115953,
          0.8067733948772188,
          -0.13196912385356796,
          0.2225136183425238,
          0.08970339406595677,
          0.48568837887014427,
          -0.09380129204078046,
          1.3403068833877072,
          0.39700045699838266,
          0.9967077564660008,
          0.7750367176629562,
          -0.42240095385441434,
          -1.1585624594425623,
          -1.0242266547551049,
          0.1104521392124219,
          0.4329795547704835,
          0.9498326109312207,
          -0.724801288623274,
          -1.2544871905657253,
          -0.1121904020466736,
          1.4924131732855943,
          1.7574708482455839,
          0.7844983327501531,
          1.3843612130266856,
          -1.3570927209936914,
          0.41621295533200736,
          0.8493293037052111,
          0.9215011811171258,
          1.0612038021861123,
          -0.11736195541293107,
          0.604443712641654,
          0.7530102489289536,
          -0.44475351247942607,
          -0.4074864623740178,
          0.04532665117285895,
          -1.710486871473883,
          -1.180632803318249,
          -1.0194785020787356,
          -0.2873878080625621,
          -0.38313156282065075,
          0.3519135012856905,
          -0.892249840949631,
          -1.5310558380872876,
          -0.8956839831632065,
          -0.4089702432090396,
          -1.5700775629787924,
          -1.4642421686220066,
          -1.4852160891896857,
          0.4242270764137463,
          -0.7101870094387682,
          0.43459589920061
         ],
         "yaxis": "y14"
        },
        {
         "line": {
          "color": "rgba(128, 128, 128, 1.0)",
          "dash": "solid",
          "shape": "linear",
          "width": 1.3
         },
         "marker": {
          "size": 2,
          "symbol": "circle"
         },
         "mode": "markers",
         "name": "D",
         "text": "",
         "type": "scatter",
         "x": [
          0.7222831491201205,
          -2.296893373557001,
          -0.9514846621369799,
          0.4878656536717068,
          -1.204500985459564,
          -0.71657070536086,
          -2.6086380990757,
          -0.4645106846928102,
          0.6365012353242219,
          0.5484487769567372,
          1.1703198480595607,
          -0.7668137333809377,
          -0.5095147635392293,
          1.1517081315698932,
          -0.3170121084782209,
          1.0496050016970198,
          0.8117472747136824,
          -0.1962422196878374,
          0.02093483927191635,
          1.6629061494081,
          1.8972009358937585,
          0.740639715357248,
          -0.4162362834949462,
          -0.41027079985010284,
          -0.8084779105360417,
          0.7317122954613846,
          -2.0533645797842586,
          0.25973848437167424,
          1.2657945132888098,
          -1.104292497061763,
          -0.14908556947487261,
          -0.9792381695082234,
          0.19931844185183348,
          0.6353293320854605,
          0.23684686481465728,
          -0.00004328701907809816,
          -0.9584400643821612,
          -1.7721276090380729,
          0.4885363189218579,
          0.8153994614809292,
          1.8047938579452167,
          -0.11813571543306897,
          -0.35936368359341364,
          0.8854602574190062,
          0.9818414737260609,
          1.5604974436335939,
          0.25405005946705567,
          -0.014545398592931424,
          1.9537061002678235,
          -0.16066286797581827,
          0.41763070616142917,
          0.3543134045403085,
          0.6108391995996915,
          1.2001695196236635,
          0.10757293156127155,
          -1.417937377609837,
          1.0009288475656837,
          0.07278346072057543,
          -0.11355648884132326,
          1.5590187932866566,
          1.0497455983382646,
          -0.32828431874117314,
          1.3496036579759836,
          -0.09664953478072369,
          -0.8868912179847095,
          -0.288538546172643,
          0.47429991028781676,
          -0.37077973396465935,
          2.259007501258914,
          1.1295705479562885,
          -0.39940958412144123,
          2.4976455428056608,
          0.32944304579035905,
          -0.30906311859830454,
          -2.4190144896892,
          0.3899297113192504,
          -0.5788404558758334,
          -1.5868677398077473,
          0.5053865441811288,
          1.1846812384427776,
          0.6972874000180896,
          0.8203378111149934,
          -1.317316887758314,
          -0.9271318760034939,
          -0.3897576825508226,
          0.42853222437658417,
          0.9417738879405237,
          1.2777586978658635,
          -0.5348376571806567,
          0.4265725451300481,
          0.861345328889857,
          -0.3599043442189083,
          -1.4001968597624057,
          0.6274017191038457,
          0.4527475878800311,
          -0.7479558765701726,
          -0.02854602917519827,
          1.472720229867451,
          -0.5925202559393768,
          -1.4722353158995045
         ],
         "xaxis": "x15",
         "y": [
          -0.26522503792552254,
          -1.1425615889423173,
          -0.26163701936859746,
          1.4923223417703781,
          0.7264289776111549,
          -2.1464551341213878,
          -0.1385299663923213,
          0.5191769097241302,
          0.24998405485175337,
          0.04416682569297171,
          -1.4031880942613844,
          -0.22515664837213129,
          -0.15677734354915096,
          -0.5908021150505197,
          0.7573157073125226,
          -0.8191401233988489,
          0.2665345291796723,
          1.2162499594215463,
          -0.21294470021652956,
          0.5573424770690906,
          1.6754164535322895,
          1.2025684752364034,
          -2.172613082675401,
          0.7857879937866677,
          0.33188830353214943,
          -1.3336058284668435,
          -2.047347104623378,
          -0.11324985255820672,
          -0.9882835555184477,
          0.17453045638027517,
          -1.5101642160861162,
          1.3640072021726177,
          1.206170804213018,
          -0.2638399832977407,
          0.32746016782678833,
          0.36297685278103997,
          -0.660536666725527,
          1.4720246539576813,
          0.7934578047897171,
          0.03921398779772697,
          -0.7977646312968549,
          0.8358876122751778,
          2.2146344282961086,
          -1.2310989399862209,
          1.5787976507912858,
          0.4277023542750409,
          0.4714535911523593,
          -0.6130335395192607,
          -0.2190006682888357,
          0.1427114866115953,
          0.8067733948772188,
          -0.13196912385356796,
          0.2225136183425238,
          0.08970339406595677,
          0.48568837887014427,
          -0.09380129204078046,
          1.3403068833877072,
          0.39700045699838266,
          0.9967077564660008,
          0.7750367176629562,
          -0.42240095385441434,
          -1.1585624594425623,
          -1.0242266547551049,
          0.1104521392124219,
          0.4329795547704835,
          0.9498326109312207,
          -0.724801288623274,
          -1.2544871905657253,
          -0.1121904020466736,
          1.4924131732855943,
          1.7574708482455839,
          0.7844983327501531,
          1.3843612130266856,
          -1.3570927209936914,
          0.41621295533200736,
          0.8493293037052111,
          0.9215011811171258,
          1.0612038021861123,
          -0.11736195541293107,
          0.604443712641654,
          0.7530102489289536,
          -0.44475351247942607,
          -0.4074864623740178,
          0.04532665117285895,
          -1.710486871473883,
          -1.180632803318249,
          -1.0194785020787356,
          -0.2873878080625621,
          -0.38313156282065075,
          0.3519135012856905,
          -0.892249840949631,
          -1.5310558380872876,
          -0.8956839831632065,
          -0.4089702432090396,
          -1.5700775629787924,
          -1.4642421686220066,
          -1.4852160891896857,
          0.4242270764137463,
          -0.7101870094387682,
          0.43459589920061
         ],
         "yaxis": "y15"
        },
        {
         "histfunc": "count",
         "histnorm": "",
         "marker": {
          "color": "rgba(128, 0, 128, 1.0)",
          "line": {
           "color": "#4D5663",
           "width": 1.3
          }
         },
         "name": "D",
         "nbinsx": 10,
         "opacity": 0.8,
         "orientation": "v",
         "type": "histogram",
         "x": [
          -0.26522503792552254,
          -1.1425615889423173,
          -0.26163701936859746,
          1.4923223417703781,
          0.7264289776111549,
          -2.1464551341213878,
          -0.1385299663923213,
          0.5191769097241302,
          0.24998405485175337,
          0.04416682569297171,
          -1.4031880942613844,
          -0.22515664837213129,
          -0.15677734354915096,
          -0.5908021150505197,
          0.7573157073125226,
          -0.8191401233988489,
          0.2665345291796723,
          1.2162499594215463,
          -0.21294470021652956,
          0.5573424770690906,
          1.6754164535322895,
          1.2025684752364034,
          -2.172613082675401,
          0.7857879937866677,
          0.33188830353214943,
          -1.3336058284668435,
          -2.047347104623378,
          -0.11324985255820672,
          -0.9882835555184477,
          0.17453045638027517,
          -1.5101642160861162,
          1.3640072021726177,
          1.206170804213018,
          -0.2638399832977407,
          0.32746016782678833,
          0.36297685278103997,
          -0.660536666725527,
          1.4720246539576813,
          0.7934578047897171,
          0.03921398779772697,
          -0.7977646312968549,
          0.8358876122751778,
          2.2146344282961086,
          -1.2310989399862209,
          1.5787976507912858,
          0.4277023542750409,
          0.4714535911523593,
          -0.6130335395192607,
          -0.2190006682888357,
          0.1427114866115953,
          0.8067733948772188,
          -0.13196912385356796,
          0.2225136183425238,
          0.08970339406595677,
          0.48568837887014427,
          -0.09380129204078046,
          1.3403068833877072,
          0.39700045699838266,
          0.9967077564660008,
          0.7750367176629562,
          -0.42240095385441434,
          -1.1585624594425623,
          -1.0242266547551049,
          0.1104521392124219,
          0.4329795547704835,
          0.9498326109312207,
          -0.724801288623274,
          -1.2544871905657253,
          -0.1121904020466736,
          1.4924131732855943,
          1.7574708482455839,
          0.7844983327501531,
          1.3843612130266856,
          -1.3570927209936914,
          0.41621295533200736,
          0.8493293037052111,
          0.9215011811171258,
          1.0612038021861123,
          -0.11736195541293107,
          0.604443712641654,
          0.7530102489289536,
          -0.44475351247942607,
          -0.4074864623740178,
          0.04532665117285895,
          -1.710486871473883,
          -1.180632803318249,
          -1.0194785020787356,
          -0.2873878080625621,
          -0.38313156282065075,
          0.3519135012856905,
          -0.892249840949631,
          -1.5310558380872876,
          -0.8956839831632065,
          -0.4089702432090396,
          -1.5700775629787924,
          -1.4642421686220066,
          -1.4852160891896857,
          0.4242270764137463,
          -0.7101870094387682,
          0.43459589920061
         ],
         "xaxis": "x16",
         "yaxis": "y16"
        }
       ],
       "layout": {
        "bargap": 0.02,
        "legend": {
         "bgcolor": "#F5F6F9",
         "font": {
          "color": "#4D5663"
         }
        },
        "paper_bgcolor": "#F5F6F9",
        "plot_bgcolor": "#F5F6F9",
        "showlegend": false,
        "template": {
         "data": {
          "bar": [
           {
            "error_x": {
             "color": "#2a3f5f"
            },
            "error_y": {
             "color": "#2a3f5f"
            },
            "marker": {
             "line": {
              "color": "#E5ECF6",
              "width": 0.5
             },
             "pattern": {
              "fillmode": "overlay",
              "size": 10,
              "solidity": 0.2
             }
            },
            "type": "bar"
           }
          ],
          "barpolar": [
           {
            "marker": {
             "line": {
              "color": "#E5ECF6",
              "width": 0.5
             },
             "pattern": {
              "fillmode": "overlay",
              "size": 10,
              "solidity": 0.2
             }
            },
            "type": "barpolar"
           }
          ],
          "carpet": [
           {
            "aaxis": {
             "endlinecolor": "#2a3f5f",
             "gridcolor": "white",
             "linecolor": "white",
             "minorgridcolor": "white",
             "startlinecolor": "#2a3f5f"
            },
            "baxis": {
             "endlinecolor": "#2a3f5f",
             "gridcolor": "white",
             "linecolor": "white",
             "minorgridcolor": "white",
             "startlinecolor": "#2a3f5f"
            },
            "type": "carpet"
           }
          ],
          "choropleth": [
           {
            "colorbar": {
             "outlinewidth": 0,
             "ticks": ""
            },
            "type": "choropleth"
           }
          ],
          "contour": [
           {
            "colorbar": {
             "outlinewidth": 0,
             "ticks": ""
            },
            "colorscale": [
             [
              0,
              "#0d0887"
             ],
             [
              0.1111111111111111,
              "#46039f"
             ],
             [
              0.2222222222222222,
              "#7201a8"
             ],
             [
              0.3333333333333333,
              "#9c179e"
             ],
             [
              0.4444444444444444,
              "#bd3786"
             ],
             [
              0.5555555555555556,
              "#d8576b"
             ],
             [
              0.6666666666666666,
              "#ed7953"
             ],
             [
              0.7777777777777778,
              "#fb9f3a"
             ],
             [
              0.8888888888888888,
              "#fdca26"
             ],
             [
              1,
              "#f0f921"
             ]
            ],
            "type": "contour"
           }
          ],
          "contourcarpet": [
           {
            "colorbar": {
             "outlinewidth": 0,
             "ticks": ""
            },
            "type": "contourcarpet"
           }
          ],
          "heatmap": [
           {
            "colorbar": {
             "outlinewidth": 0,
             "ticks": ""
            },
            "colorscale": [
             [
              0,
              "#0d0887"
             ],
             [
              0.1111111111111111,
              "#46039f"
             ],
             [
              0.2222222222222222,
              "#7201a8"
             ],
             [
              0.3333333333333333,
              "#9c179e"
             ],
             [
              0.4444444444444444,
              "#bd3786"
             ],
             [
              0.5555555555555556,
              "#d8576b"
             ],
             [
              0.6666666666666666,
              "#ed7953"
             ],
             [
              0.7777777777777778,
              "#fb9f3a"
             ],
             [
              0.8888888888888888,
              "#fdca26"
             ],
             [
              1,
              "#f0f921"
             ]
            ],
            "type": "heatmap"
           }
          ],
          "heatmapgl": [
           {
            "colorbar": {
             "outlinewidth": 0,
             "ticks": ""
            },
            "colorscale": [
             [
              0,
              "#0d0887"
             ],
             [
              0.1111111111111111,
              "#46039f"
             ],
             [
              0.2222222222222222,
              "#7201a8"
             ],
             [
              0.3333333333333333,
              "#9c179e"
             ],
             [
              0.4444444444444444,
              "#bd3786"
             ],
             [
              0.5555555555555556,
              "#d8576b"
             ],
             [
              0.6666666666666666,
              "#ed7953"
             ],
             [
              0.7777777777777778,
              "#fb9f3a"
             ],
             [
              0.8888888888888888,
              "#fdca26"
             ],
             [
              1,
              "#f0f921"
             ]
            ],
            "type": "heatmapgl"
           }
          ],
          "histogram": [
           {
            "marker": {
             "pattern": {
              "fillmode": "overlay",
              "size": 10,
              "solidity": 0.2
             }
            },
            "type": "histogram"
           }
          ],
          "histogram2d": [
           {
            "colorbar": {
             "outlinewidth": 0,
             "ticks": ""
            },
            "colorscale": [
             [
              0,
              "#0d0887"
             ],
             [
              0.1111111111111111,
              "#46039f"
             ],
             [
              0.2222222222222222,
              "#7201a8"
             ],
             [
              0.3333333333333333,
              "#9c179e"
             ],
             [
              0.4444444444444444,
              "#bd3786"
             ],
             [
              0.5555555555555556,
              "#d8576b"
             ],
             [
              0.6666666666666666,
              "#ed7953"
             ],
             [
              0.7777777777777778,
              "#fb9f3a"
             ],
             [
              0.8888888888888888,
              "#fdca26"
             ],
             [
              1,
              "#f0f921"
             ]
            ],
            "type": "histogram2d"
           }
          ],
          "histogram2dcontour": [
           {
            "colorbar": {
             "outlinewidth": 0,
             "ticks": ""
            },
            "colorscale": [
             [
              0,
              "#0d0887"
             ],
             [
              0.1111111111111111,
              "#46039f"
             ],
             [
              0.2222222222222222,
              "#7201a8"
             ],
             [
              0.3333333333333333,
              "#9c179e"
             ],
             [
              0.4444444444444444,
              "#bd3786"
             ],
             [
              0.5555555555555556,
              "#d8576b"
             ],
             [
              0.6666666666666666,
              "#ed7953"
             ],
             [
              0.7777777777777778,
              "#fb9f3a"
             ],
             [
              0.8888888888888888,
              "#fdca26"
             ],
             [
              1,
              "#f0f921"
             ]
            ],
            "type": "histogram2dcontour"
           }
          ],
          "mesh3d": [
           {
            "colorbar": {
             "outlinewidth": 0,
             "ticks": ""
            },
            "type": "mesh3d"
           }
          ],
          "parcoords": [
           {
            "line": {
             "colorbar": {
              "outlinewidth": 0,
              "ticks": ""
             }
            },
            "type": "parcoords"
           }
          ],
          "pie": [
           {
            "automargin": true,
            "type": "pie"
           }
          ],
          "scatter": [
           {
            "fillpattern": {
             "fillmode": "overlay",
             "size": 10,
             "solidity": 0.2
            },
            "type": "scatter"
           }
          ],
          "scatter3d": [
           {
            "line": {
             "colorbar": {
              "outlinewidth": 0,
              "ticks": ""
             }
            },
            "marker": {
             "colorbar": {
              "outlinewidth": 0,
              "ticks": ""
             }
            },
            "type": "scatter3d"
           }
          ],
          "scattercarpet": [
           {
            "marker": {
             "colorbar": {
              "outlinewidth": 0,
              "ticks": ""
             }
            },
            "type": "scattercarpet"
           }
          ],
          "scattergeo": [
           {
            "marker": {
             "colorbar": {
              "outlinewidth": 0,
              "ticks": ""
             }
            },
            "type": "scattergeo"
           }
          ],
          "scattergl": [
           {
            "marker": {
             "colorbar": {
              "outlinewidth": 0,
              "ticks": ""
             }
            },
            "type": "scattergl"
           }
          ],
          "scattermapbox": [
           {
            "marker": {
             "colorbar": {
              "outlinewidth": 0,
              "ticks": ""
             }
            },
            "type": "scattermapbox"
           }
          ],
          "scatterpolar": [
           {
            "marker": {
             "colorbar": {
              "outlinewidth": 0,
              "ticks": ""
             }
            },
            "type": "scatterpolar"
           }
          ],
          "scatterpolargl": [
           {
            "marker": {
             "colorbar": {
              "outlinewidth": 0,
              "ticks": ""
             }
            },
            "type": "scatterpolargl"
           }
          ],
          "scatterternary": [
           {
            "marker": {
             "colorbar": {
              "outlinewidth": 0,
              "ticks": ""
             }
            },
            "type": "scatterternary"
           }
          ],
          "surface": [
           {
            "colorbar": {
             "outlinewidth": 0,
             "ticks": ""
            },
            "colorscale": [
             [
              0,
              "#0d0887"
             ],
             [
              0.1111111111111111,
              "#46039f"
             ],
             [
              0.2222222222222222,
              "#7201a8"
             ],
             [
              0.3333333333333333,
              "#9c179e"
             ],
             [
              0.4444444444444444,
              "#bd3786"
             ],
             [
              0.5555555555555556,
              "#d8576b"
             ],
             [
              0.6666666666666666,
              "#ed7953"
             ],
             [
              0.7777777777777778,
              "#fb9f3a"
             ],
             [
              0.8888888888888888,
              "#fdca26"
             ],
             [
              1,
              "#f0f921"
             ]
            ],
            "type": "surface"
           }
          ],
          "table": [
           {
            "cells": {
             "fill": {
              "color": "#EBF0F8"
             },
             "line": {
              "color": "white"
             }
            },
            "header": {
             "fill": {
              "color": "#C8D4E3"
             },
             "line": {
              "color": "white"
             }
            },
            "type": "table"
           }
          ]
         },
         "layout": {
          "annotationdefaults": {
           "arrowcolor": "#2a3f5f",
           "arrowhead": 0,
           "arrowwidth": 1
          },
          "autotypenumbers": "strict",
          "coloraxis": {
           "colorbar": {
            "outlinewidth": 0,
            "ticks": ""
           }
          },
          "colorscale": {
           "diverging": [
            [
             0,
             "#8e0152"
            ],
            [
             0.1,
             "#c51b7d"
            ],
            [
             0.2,
             "#de77ae"
            ],
            [
             0.3,
             "#f1b6da"
            ],
            [
             0.4,
             "#fde0ef"
            ],
            [
             0.5,
             "#f7f7f7"
            ],
            [
             0.6,
             "#e6f5d0"
            ],
            [
             0.7,
             "#b8e186"
            ],
            [
             0.8,
             "#7fbc41"
            ],
            [
             0.9,
             "#4d9221"
            ],
            [
             1,
             "#276419"
            ]
           ],
           "sequential": [
            [
             0,
             "#0d0887"
            ],
            [
             0.1111111111111111,
             "#46039f"
            ],
            [
             0.2222222222222222,
             "#7201a8"
            ],
            [
             0.3333333333333333,
             "#9c179e"
            ],
            [
             0.4444444444444444,
             "#bd3786"
            ],
            [
             0.5555555555555556,
             "#d8576b"
            ],
            [
             0.6666666666666666,
             "#ed7953"
            ],
            [
             0.7777777777777778,
             "#fb9f3a"
            ],
            [
             0.8888888888888888,
             "#fdca26"
            ],
            [
             1,
             "#f0f921"
            ]
           ],
           "sequentialminus": [
            [
             0,
             "#0d0887"
            ],
            [
             0.1111111111111111,
             "#46039f"
            ],
            [
             0.2222222222222222,
             "#7201a8"
            ],
            [
             0.3333333333333333,
             "#9c179e"
            ],
            [
             0.4444444444444444,
             "#bd3786"
            ],
            [
             0.5555555555555556,
             "#d8576b"
            ],
            [
             0.6666666666666666,
             "#ed7953"
            ],
            [
             0.7777777777777778,
             "#fb9f3a"
            ],
            [
             0.8888888888888888,
             "#fdca26"
            ],
            [
             1,
             "#f0f921"
            ]
           ]
          },
          "colorway": [
           "#636efa",
           "#EF553B",
           "#00cc96",
           "#ab63fa",
           "#FFA15A",
           "#19d3f3",
           "#FF6692",
           "#B6E880",
           "#FF97FF",
           "#FECB52"
          ],
          "font": {
           "color": "#2a3f5f"
          },
          "geo": {
           "bgcolor": "white",
           "lakecolor": "white",
           "landcolor": "#E5ECF6",
           "showlakes": true,
           "showland": true,
           "subunitcolor": "white"
          },
          "hoverlabel": {
           "align": "left"
          },
          "hovermode": "closest",
          "mapbox": {
           "style": "light"
          },
          "paper_bgcolor": "white",
          "plot_bgcolor": "#E5ECF6",
          "polar": {
           "angularaxis": {
            "gridcolor": "white",
            "linecolor": "white",
            "ticks": ""
           },
           "bgcolor": "#E5ECF6",
           "radialaxis": {
            "gridcolor": "white",
            "linecolor": "white",
            "ticks": ""
           }
          },
          "scene": {
           "xaxis": {
            "backgroundcolor": "#E5ECF6",
            "gridcolor": "white",
            "gridwidth": 2,
            "linecolor": "white",
            "showbackground": true,
            "ticks": "",
            "zerolinecolor": "white"
           },
           "yaxis": {
            "backgroundcolor": "#E5ECF6",
            "gridcolor": "white",
            "gridwidth": 2,
            "linecolor": "white",
            "showbackground": true,
            "ticks": "",
            "zerolinecolor": "white"
           },
           "zaxis": {
            "backgroundcolor": "#E5ECF6",
            "gridcolor": "white",
            "gridwidth": 2,
            "linecolor": "white",
            "showbackground": true,
            "ticks": "",
            "zerolinecolor": "white"
           }
          },
          "shapedefaults": {
           "line": {
            "color": "#2a3f5f"
           }
          },
          "ternary": {
           "aaxis": {
            "gridcolor": "white",
            "linecolor": "white",
            "ticks": ""
           },
           "baxis": {
            "gridcolor": "white",
            "linecolor": "white",
            "ticks": ""
           },
           "bgcolor": "#E5ECF6",
           "caxis": {
            "gridcolor": "white",
            "linecolor": "white",
            "ticks": ""
           }
          },
          "title": {
           "x": 0.05
          },
          "xaxis": {
           "automargin": true,
           "gridcolor": "white",
           "linecolor": "white",
           "ticks": "",
           "title": {
            "standoff": 15
           },
           "zerolinecolor": "white",
           "zerolinewidth": 2
          },
          "yaxis": {
           "automargin": true,
           "gridcolor": "white",
           "linecolor": "white",
           "ticks": "",
           "title": {
            "standoff": 15
           },
           "zerolinecolor": "white",
           "zerolinewidth": 2
          }
         }
        },
        "title": {
         "font": {
          "color": "#4D5663"
         }
        },
        "xaxis": {
         "anchor": "y",
         "domain": [
          0,
          0.2125
         ],
         "gridcolor": "#E1E5ED",
         "showgrid": false,
         "tickfont": {
          "color": "#4D5663"
         },
         "title": {
          "font": {
           "color": "#4D5663"
          },
          "text": ""
         },
         "zerolinecolor": "#E1E5ED"
        },
        "xaxis10": {
         "anchor": "y10",
         "domain": [
          0.2625,
          0.475
         ],
         "gridcolor": "#E1E5ED",
         "showgrid": false,
         "tickfont": {
          "color": "#4D5663"
         },
         "title": {
          "font": {
           "color": "#4D5663"
          },
          "text": ""
         },
         "zerolinecolor": "#E1E5ED"
        },
        "xaxis11": {
         "anchor": "y11",
         "domain": [
          0.525,
          0.7375
         ],
         "gridcolor": "#E1E5ED",
         "showgrid": false,
         "tickfont": {
          "color": "#4D5663"
         },
         "title": {
          "font": {
           "color": "#4D5663"
          },
          "text": ""
         },
         "zerolinecolor": "#E1E5ED"
        },
        "xaxis12": {
         "anchor": "y12",
         "domain": [
          0.7875,
          1
         ],
         "gridcolor": "#E1E5ED",
         "showgrid": false,
         "tickfont": {
          "color": "#4D5663"
         },
         "title": {
          "font": {
           "color": "#4D5663"
          },
          "text": ""
         },
         "zerolinecolor": "#E1E5ED"
        },
        "xaxis13": {
         "anchor": "y13",
         "domain": [
          0,
          0.2125
         ],
         "gridcolor": "#E1E5ED",
         "showgrid": false,
         "tickfont": {
          "color": "#4D5663"
         },
         "title": {
          "font": {
           "color": "#4D5663"
          },
          "text": ""
         },
         "zerolinecolor": "#E1E5ED"
        },
        "xaxis14": {
         "anchor": "y14",
         "domain": [
          0.2625,
          0.475
         ],
         "gridcolor": "#E1E5ED",
         "showgrid": false,
         "tickfont": {
          "color": "#4D5663"
         },
         "title": {
          "font": {
           "color": "#4D5663"
          },
          "text": ""
         },
         "zerolinecolor": "#E1E5ED"
        },
        "xaxis15": {
         "anchor": "y15",
         "domain": [
          0.525,
          0.7375
         ],
         "gridcolor": "#E1E5ED",
         "showgrid": false,
         "tickfont": {
          "color": "#4D5663"
         },
         "title": {
          "font": {
           "color": "#4D5663"
          },
          "text": ""
         },
         "zerolinecolor": "#E1E5ED"
        },
        "xaxis16": {
         "anchor": "y16",
         "domain": [
          0.7875,
          1
         ],
         "gridcolor": "#E1E5ED",
         "showgrid": false,
         "tickfont": {
          "color": "#4D5663"
         },
         "title": {
          "font": {
           "color": "#4D5663"
          },
          "text": ""
         },
         "zerolinecolor": "#E1E5ED"
        },
        "xaxis2": {
         "anchor": "y2",
         "domain": [
          0.2625,
          0.475
         ],
         "gridcolor": "#E1E5ED",
         "showgrid": false,
         "tickfont": {
          "color": "#4D5663"
         },
         "title": {
          "font": {
           "color": "#4D5663"
          },
          "text": ""
         },
         "zerolinecolor": "#E1E5ED"
        },
        "xaxis3": {
         "anchor": "y3",
         "domain": [
          0.525,
          0.7375
         ],
         "gridcolor": "#E1E5ED",
         "showgrid": false,
         "tickfont": {
          "color": "#4D5663"
         },
         "title": {
          "font": {
           "color": "#4D5663"
          },
          "text": ""
         },
         "zerolinecolor": "#E1E5ED"
        },
        "xaxis4": {
         "anchor": "y4",
         "domain": [
          0.7875,
          1
         ],
         "gridcolor": "#E1E5ED",
         "showgrid": false,
         "tickfont": {
          "color": "#4D5663"
         },
         "title": {
          "font": {
           "color": "#4D5663"
          },
          "text": ""
         },
         "zerolinecolor": "#E1E5ED"
        },
        "xaxis5": {
         "anchor": "y5",
         "domain": [
          0,
          0.2125
         ],
         "gridcolor": "#E1E5ED",
         "showgrid": false,
         "tickfont": {
          "color": "#4D5663"
         },
         "title": {
          "font": {
           "color": "#4D5663"
          },
          "text": ""
         },
         "zerolinecolor": "#E1E5ED"
        },
        "xaxis6": {
         "anchor": "y6",
         "domain": [
          0.2625,
          0.475
         ],
         "gridcolor": "#E1E5ED",
         "showgrid": false,
         "tickfont": {
          "color": "#4D5663"
         },
         "title": {
          "font": {
           "color": "#4D5663"
          },
          "text": ""
         },
         "zerolinecolor": "#E1E5ED"
        },
        "xaxis7": {
         "anchor": "y7",
         "domain": [
          0.525,
          0.7375
         ],
         "gridcolor": "#E1E5ED",
         "showgrid": false,
         "tickfont": {
          "color": "#4D5663"
         },
         "title": {
          "font": {
           "color": "#4D5663"
          },
          "text": ""
         },
         "zerolinecolor": "#E1E5ED"
        },
        "xaxis8": {
         "anchor": "y8",
         "domain": [
          0.7875,
          1
         ],
         "gridcolor": "#E1E5ED",
         "showgrid": false,
         "tickfont": {
          "color": "#4D5663"
         },
         "title": {
          "font": {
           "color": "#4D5663"
          },
          "text": ""
         },
         "zerolinecolor": "#E1E5ED"
        },
        "xaxis9": {
         "anchor": "y9",
         "domain": [
          0,
          0.2125
         ],
         "gridcolor": "#E1E5ED",
         "showgrid": false,
         "tickfont": {
          "color": "#4D5663"
         },
         "title": {
          "font": {
           "color": "#4D5663"
          },
          "text": ""
         },
         "zerolinecolor": "#E1E5ED"
        },
        "yaxis": {
         "anchor": "x",
         "domain": [
          0.8025,
          1
         ],
         "gridcolor": "#E1E5ED",
         "showgrid": false,
         "tickfont": {
          "color": "#4D5663"
         },
         "title": {
          "font": {
           "color": "#4D5663"
          },
          "text": ""
         },
         "zerolinecolor": "#E1E5ED"
        },
        "yaxis10": {
         "anchor": "x10",
         "domain": [
          0.2675,
          0.465
         ],
         "gridcolor": "#E1E5ED",
         "showgrid": false,
         "tickfont": {
          "color": "#4D5663"
         },
         "title": {
          "font": {
           "color": "#4D5663"
          },
          "text": ""
         },
         "zerolinecolor": "#E1E5ED"
        },
        "yaxis11": {
         "anchor": "x11",
         "domain": [
          0.2675,
          0.465
         ],
         "gridcolor": "#E1E5ED",
         "showgrid": false,
         "tickfont": {
          "color": "#4D5663"
         },
         "title": {
          "font": {
           "color": "#4D5663"
          },
          "text": ""
         },
         "zerolinecolor": "#E1E5ED"
        },
        "yaxis12": {
         "anchor": "x12",
         "domain": [
          0.2675,
          0.465
         ],
         "gridcolor": "#E1E5ED",
         "showgrid": false,
         "tickfont": {
          "color": "#4D5663"
         },
         "title": {
          "font": {
           "color": "#4D5663"
          },
          "text": ""
         },
         "zerolinecolor": "#E1E5ED"
        },
        "yaxis13": {
         "anchor": "x13",
         "domain": [
          0,
          0.1975
         ],
         "gridcolor": "#E1E5ED",
         "showgrid": false,
         "tickfont": {
          "color": "#4D5663"
         },
         "title": {
          "font": {
           "color": "#4D5663"
          },
          "text": ""
         },
         "zerolinecolor": "#E1E5ED"
        },
        "yaxis14": {
         "anchor": "x14",
         "domain": [
          0,
          0.1975
         ],
         "gridcolor": "#E1E5ED",
         "showgrid": false,
         "tickfont": {
          "color": "#4D5663"
         },
         "title": {
          "font": {
           "color": "#4D5663"
          },
          "text": ""
         },
         "zerolinecolor": "#E1E5ED"
        },
        "yaxis15": {
         "anchor": "x15",
         "domain": [
          0,
          0.1975
         ],
         "gridcolor": "#E1E5ED",
         "showgrid": false,
         "tickfont": {
          "color": "#4D5663"
         },
         "title": {
          "font": {
           "color": "#4D5663"
          },
          "text": ""
         },
         "zerolinecolor": "#E1E5ED"
        },
        "yaxis16": {
         "anchor": "x16",
         "domain": [
          0,
          0.1975
         ],
         "gridcolor": "#E1E5ED",
         "showgrid": false,
         "tickfont": {
          "color": "#4D5663"
         },
         "title": {
          "font": {
           "color": "#4D5663"
          },
          "text": ""
         },
         "zerolinecolor": "#E1E5ED"
        },
        "yaxis2": {
         "anchor": "x2",
         "domain": [
          0.8025,
          1
         ],
         "gridcolor": "#E1E5ED",
         "showgrid": false,
         "tickfont": {
          "color": "#4D5663"
         },
         "title": {
          "font": {
           "color": "#4D5663"
          },
          "text": ""
         },
         "zerolinecolor": "#E1E5ED"
        },
        "yaxis3": {
         "anchor": "x3",
         "domain": [
          0.8025,
          1
         ],
         "gridcolor": "#E1E5ED",
         "showgrid": false,
         "tickfont": {
          "color": "#4D5663"
         },
         "title": {
          "font": {
           "color": "#4D5663"
          },
          "text": ""
         },
         "zerolinecolor": "#E1E5ED"
        },
        "yaxis4": {
         "anchor": "x4",
         "domain": [
          0.8025,
          1
         ],
         "gridcolor": "#E1E5ED",
         "showgrid": false,
         "tickfont": {
          "color": "#4D5663"
         },
         "title": {
          "font": {
           "color": "#4D5663"
          },
          "text": ""
         },
         "zerolinecolor": "#E1E5ED"
        },
        "yaxis5": {
         "anchor": "x5",
         "domain": [
          0.535,
          0.7325
         ],
         "gridcolor": "#E1E5ED",
         "showgrid": false,
         "tickfont": {
          "color": "#4D5663"
         },
         "title": {
          "font": {
           "color": "#4D5663"
          },
          "text": ""
         },
         "zerolinecolor": "#E1E5ED"
        },
        "yaxis6": {
         "anchor": "x6",
         "domain": [
          0.535,
          0.7325
         ],
         "gridcolor": "#E1E5ED",
         "showgrid": false,
         "tickfont": {
          "color": "#4D5663"
         },
         "title": {
          "font": {
           "color": "#4D5663"
          },
          "text": ""
         },
         "zerolinecolor": "#E1E5ED"
        },
        "yaxis7": {
         "anchor": "x7",
         "domain": [
          0.535,
          0.7325
         ],
         "gridcolor": "#E1E5ED",
         "showgrid": false,
         "tickfont": {
          "color": "#4D5663"
         },
         "title": {
          "font": {
           "color": "#4D5663"
          },
          "text": ""
         },
         "zerolinecolor": "#E1E5ED"
        },
        "yaxis8": {
         "anchor": "x8",
         "domain": [
          0.535,
          0.7325
         ],
         "gridcolor": "#E1E5ED",
         "showgrid": false,
         "tickfont": {
          "color": "#4D5663"
         },
         "title": {
          "font": {
           "color": "#4D5663"
          },
          "text": ""
         },
         "zerolinecolor": "#E1E5ED"
        },
        "yaxis9": {
         "anchor": "x9",
         "domain": [
          0.2675,
          0.465
         ],
         "gridcolor": "#E1E5ED",
         "showgrid": false,
         "tickfont": {
          "color": "#4D5663"
         },
         "title": {
          "font": {
           "color": "#4D5663"
          },
          "text": ""
         },
         "zerolinecolor": "#E1E5ED"
        }
       }
      },
      "text/html": [
       "<div>                            <div id=\"9fcd3765-a8a6-41fa-8bd1-bd5f1e7ef311\" class=\"plotly-graph-div\" style=\"height:525px; width:100%;\"></div>            <script type=\"text/javascript\">                require([\"plotly\"], function(Plotly) {                    window.PLOTLYENV=window.PLOTLYENV || {};\n",
       "                    window.PLOTLYENV.BASE_URL='https://plot.ly';                                    if (document.getElementById(\"9fcd3765-a8a6-41fa-8bd1-bd5f1e7ef311\")) {                    Plotly.newPlot(                        \"9fcd3765-a8a6-41fa-8bd1-bd5f1e7ef311\",                        [{\"histfunc\":\"count\",\"histnorm\":\"\",\"marker\":{\"color\":\"rgba(255, 153, 51, 1.0)\",\"line\":{\"color\":\"#4D5663\",\"width\":1.3}},\"name\":\"A\",\"nbinsx\":10,\"opacity\":0.8,\"orientation\":\"v\",\"x\":[-0.12440004220450178,0.4288963942097568,-0.8175302115327353,0.6755147919275547,-0.6153104058460623,1.5107790308864097,1.2082100462808407,-0.7482335020176383,-0.8536714641638459,1.1461753667566097,-0.9560439248733608,-0.2623236721376535,0.6206454997331918,-2.7536593672709606,-2.551925579372688,-0.2957299816380712,0.4192856778036452,-0.6953491249380691,0.15475760941880773,0.48617380809704347,0.08693627070381736,1.9967457573480847,0.639658220349158,0.1231035628216723,-0.1992207583298977,-0.1553352084036998,0.02128437987210216,0.9300513211403425,0.10702418457184715,0.14128183963017696,0.3184902640984109,0.15654965123505066,0.0037720975098451907,0.8574989631151201,-1.524873156706026,1.2495059653824245,0.6073264855357553,-0.9875479485181257,-1.322169307348878,0.9584271726985903,0.0782706692974436,-1.704483872141633,0.44115665830040013,0.6622288163647291,0.6363588846845296,-1.734962860184126,-0.2912216451544937,0.4950586402213371,0.557612547389266,-0.06094266421931948,0.6869022064867679,-0.43415825429348504,0.3198079834489686,-0.2523467679119873,0.9131059077485624,-1.4506650781865362,-2.1524237796060404,-2.3173424895459673,-0.9433163103883199,-1.0491851949857525,1.2235234503502748,0.9677371433229299,-0.30767172753788974,-0.13469480143733428,-1.2423329913874182,1.8531858555119145,0.2112700497316099,0.5371965566890142,1.3730674720787115,1.434921988803041,-0.4359874816165674,0.3428091469169689,1.1070321770260403,-1.208607648829903,2.63117347542205,0.8825160660681278,-0.6623201166297342,-0.6306833549066874,-1.219241361331293,0.07525070940976299,0.07519785579755203,2.0305258977375433,0.5110479699335309,-0.7954677473214181,-0.7044593446025139,0.3767881524556384,0.3269154608386359,-0.06190339297760778,-0.4169257177901647,0.07500048057030348,-1.392003397255068,0.4097021895823168,-1.3790534978386195,0.051186016716467796,0.29304475955680076,-1.0396697959748253,1.7724847298638957,0.9293382363986284,0.8248476489508761,-0.22462868204430908],\"xaxis\":\"x\",\"yaxis\":\"y\",\"type\":\"histogram\"},{\"line\":{\"color\":\"rgba(128, 128, 128, 1.0)\",\"dash\":\"solid\",\"shape\":\"linear\",\"width\":1.3},\"marker\":{\"size\":2,\"symbol\":\"circle\"},\"mode\":\"markers\",\"name\":\"A\",\"text\":\"\",\"x\":[-0.3292325397486561,-0.17306522699908652,-0.6464893575702781,0.035165550743715045,-0.7975115999666432,-1.430328480017783,0.26116558389628347,0.07960050613028784,0.7028102915581942,2.0570382035915005,-0.5068918951122974,-0.7636371272817802,-0.4273639294913696,1.9713152588974416,-0.24174708148803523,-0.5717925095990226,-0.03146683755804916,0.6564120750201057,-0.652438690736643,-0.9056675434703751,-1.076584825682077,1.0776390136450578,-0.356327853903885,-0.5848105957530477,-0.24535200012712352,0.444403228371304,-1.5351513633084226,1.7811615156793303,-0.9247780299987302,0.31197270302490065,0.5550095485631508,-0.6185607852307881,-1.1388129539863996,-1.266412441215088,0.5979035395425927,1.978510932245443,0.06511097243906205,-0.5467623530523096,-1.178444759499918,-0.007838906241009677,-0.49944841820271535,-0.9303042630160602,0.9759709785816392,0.5172466497800202,-1.1444394974675458,-1.7784613832164344,0.6638154792009108,-0.3622885492260522,1.3589544727914418,-0.5015129319685158,-0.5429978811817414,0.10793978065134847,-1.0240025991923145,-1.0308103961262272,1.0974553509396936,-0.2708058472723366,1.5055398215120048,-0.18215823631142825,1.7955669320067176,0.7691852071196374,0.631587772358769,0.10386441645062747,0.07955685662895058,1.429489477411851,-0.08232008806820637,0.7348310083142334,0.3477679524781943,-0.259581561491272,-1.3952556296419927,-0.8754676875006271,1.6260696308729057,0.9479491547842962,0.02757355901737411,-0.15976649349700167,-0.2417770491794492,-0.6396560158854687,0.5211048472942529,-1.7939978388073674,0.46535042408233745,-0.02436409592451531,0.21566909214220353,-2.303823790069858,1.3527164139007362,1.4973038258870448,-1.3369400086152066,0.8013792393872382,1.454200833131103,0.23862706580293014,0.32212990417758075,0.6816575643769174,-0.7105082611355769,-1.109037760046857,0.5375768406827974,0.7037831800759476,-0.7304877597086991,0.8158754408165058,0.9573349468546526,-0.33959823506780945,-2.5038225065530737,-0.4634758667183664],\"xaxis\":\"x2\",\"y\":[-0.12440004220450178,0.4288963942097568,-0.8175302115327353,0.6755147919275547,-0.6153104058460623,1.5107790308864097,1.2082100462808407,-0.7482335020176383,-0.8536714641638459,1.1461753667566097,-0.9560439248733608,-0.2623236721376535,0.6206454997331918,-2.7536593672709606,-2.551925579372688,-0.2957299816380712,0.4192856778036452,-0.6953491249380691,0.15475760941880773,0.48617380809704347,0.08693627070381736,1.9967457573480847,0.639658220349158,0.1231035628216723,-0.1992207583298977,-0.1553352084036998,0.02128437987210216,0.9300513211403425,0.10702418457184715,0.14128183963017696,0.3184902640984109,0.15654965123505066,0.0037720975098451907,0.8574989631151201,-1.524873156706026,1.2495059653824245,0.6073264855357553,-0.9875479485181257,-1.322169307348878,0.9584271726985903,0.0782706692974436,-1.704483872141633,0.44115665830040013,0.6622288163647291,0.6363588846845296,-1.734962860184126,-0.2912216451544937,0.4950586402213371,0.557612547389266,-0.06094266421931948,0.6869022064867679,-0.43415825429348504,0.3198079834489686,-0.2523467679119873,0.9131059077485624,-1.4506650781865362,-2.1524237796060404,-2.3173424895459673,-0.9433163103883199,-1.0491851949857525,1.2235234503502748,0.9677371433229299,-0.30767172753788974,-0.13469480143733428,-1.2423329913874182,1.8531858555119145,0.2112700497316099,0.5371965566890142,1.3730674720787115,1.434921988803041,-0.4359874816165674,0.3428091469169689,1.1070321770260403,-1.208607648829903,2.63117347542205,0.8825160660681278,-0.6623201166297342,-0.6306833549066874,-1.219241361331293,0.07525070940976299,0.07519785579755203,2.0305258977375433,0.5110479699335309,-0.7954677473214181,-0.7044593446025139,0.3767881524556384,0.3269154608386359,-0.06190339297760778,-0.4169257177901647,0.07500048057030348,-1.392003397255068,0.4097021895823168,-1.3790534978386195,0.051186016716467796,0.29304475955680076,-1.0396697959748253,1.7724847298638957,0.9293382363986284,0.8248476489508761,-0.22462868204430908],\"yaxis\":\"y2\",\"type\":\"scatter\"},{\"line\":{\"color\":\"rgba(128, 128, 128, 1.0)\",\"dash\":\"solid\",\"shape\":\"linear\",\"width\":1.3},\"marker\":{\"size\":2,\"symbol\":\"circle\"},\"mode\":\"markers\",\"name\":\"A\",\"text\":\"\",\"x\":[0.7222831491201205,-2.296893373557001,-0.9514846621369799,0.4878656536717068,-1.204500985459564,-0.71657070536086,-2.6086380990757,-0.4645106846928102,0.6365012353242219,0.5484487769567372,1.1703198480595607,-0.7668137333809377,-0.5095147635392293,1.1517081315698932,-0.3170121084782209,1.0496050016970198,0.8117472747136824,-0.1962422196878374,0.02093483927191635,1.6629061494081,1.8972009358937585,0.740639715357248,-0.4162362834949462,-0.41027079985010284,-0.8084779105360417,0.7317122954613846,-2.0533645797842586,0.25973848437167424,1.2657945132888098,-1.104292497061763,-0.14908556947487261,-0.9792381695082234,0.19931844185183348,0.6353293320854605,0.23684686481465728,-4.328701907809816e-05,-0.9584400643821612,-1.7721276090380729,0.4885363189218579,0.8153994614809292,1.8047938579452167,-0.11813571543306897,-0.35936368359341364,0.8854602574190062,0.9818414737260609,1.5604974436335939,0.25405005946705567,-0.014545398592931424,1.9537061002678235,-0.16066286797581827,0.41763070616142917,0.3543134045403085,0.6108391995996915,1.2001695196236635,0.10757293156127155,-1.417937377609837,1.0009288475656837,0.07278346072057543,-0.11355648884132326,1.5590187932866566,1.0497455983382646,-0.32828431874117314,1.3496036579759836,-0.09664953478072369,-0.8868912179847095,-0.288538546172643,0.47429991028781676,-0.37077973396465935,2.259007501258914,1.1295705479562885,-0.39940958412144123,2.4976455428056608,0.32944304579035905,-0.30906311859830454,-2.4190144896892,0.3899297113192504,-0.5788404558758334,-1.5868677398077473,0.5053865441811288,1.1846812384427776,0.6972874000180896,0.8203378111149934,-1.317316887758314,-0.9271318760034939,-0.3897576825508226,0.42853222437658417,0.9417738879405237,1.2777586978658635,-0.5348376571806567,0.4265725451300481,0.861345328889857,-0.3599043442189083,-1.4001968597624057,0.6274017191038457,0.4527475878800311,-0.7479558765701726,-0.02854602917519827,1.472720229867451,-0.5925202559393768,-1.4722353158995045],\"xaxis\":\"x3\",\"y\":[-0.12440004220450178,0.4288963942097568,-0.8175302115327353,0.6755147919275547,-0.6153104058460623,1.5107790308864097,1.2082100462808407,-0.7482335020176383,-0.8536714641638459,1.1461753667566097,-0.9560439248733608,-0.2623236721376535,0.6206454997331918,-2.7536593672709606,-2.551925579372688,-0.2957299816380712,0.4192856778036452,-0.6953491249380691,0.15475760941880773,0.48617380809704347,0.08693627070381736,1.9967457573480847,0.639658220349158,0.1231035628216723,-0.1992207583298977,-0.1553352084036998,0.02128437987210216,0.9300513211403425,0.10702418457184715,0.14128183963017696,0.3184902640984109,0.15654965123505066,0.0037720975098451907,0.8574989631151201,-1.524873156706026,1.2495059653824245,0.6073264855357553,-0.9875479485181257,-1.322169307348878,0.9584271726985903,0.0782706692974436,-1.704483872141633,0.44115665830040013,0.6622288163647291,0.6363588846845296,-1.734962860184126,-0.2912216451544937,0.4950586402213371,0.557612547389266,-0.06094266421931948,0.6869022064867679,-0.43415825429348504,0.3198079834489686,-0.2523467679119873,0.9131059077485624,-1.4506650781865362,-2.1524237796060404,-2.3173424895459673,-0.9433163103883199,-1.0491851949857525,1.2235234503502748,0.9677371433229299,-0.30767172753788974,-0.13469480143733428,-1.2423329913874182,1.8531858555119145,0.2112700497316099,0.5371965566890142,1.3730674720787115,1.434921988803041,-0.4359874816165674,0.3428091469169689,1.1070321770260403,-1.208607648829903,2.63117347542205,0.8825160660681278,-0.6623201166297342,-0.6306833549066874,-1.219241361331293,0.07525070940976299,0.07519785579755203,2.0305258977375433,0.5110479699335309,-0.7954677473214181,-0.7044593446025139,0.3767881524556384,0.3269154608386359,-0.06190339297760778,-0.4169257177901647,0.07500048057030348,-1.392003397255068,0.4097021895823168,-1.3790534978386195,0.051186016716467796,0.29304475955680076,-1.0396697959748253,1.7724847298638957,0.9293382363986284,0.8248476489508761,-0.22462868204430908],\"yaxis\":\"y3\",\"type\":\"scatter\"},{\"line\":{\"color\":\"rgba(128, 128, 128, 1.0)\",\"dash\":\"solid\",\"shape\":\"linear\",\"width\":1.3},\"marker\":{\"size\":2,\"symbol\":\"circle\"},\"mode\":\"markers\",\"name\":\"A\",\"text\":\"\",\"x\":[-0.26522503792552254,-1.1425615889423173,-0.26163701936859746,1.4923223417703781,0.7264289776111549,-2.1464551341213878,-0.1385299663923213,0.5191769097241302,0.24998405485175337,0.04416682569297171,-1.4031880942613844,-0.22515664837213129,-0.15677734354915096,-0.5908021150505197,0.7573157073125226,-0.8191401233988489,0.2665345291796723,1.2162499594215463,-0.21294470021652956,0.5573424770690906,1.6754164535322895,1.2025684752364034,-2.172613082675401,0.7857879937866677,0.33188830353214943,-1.3336058284668435,-2.047347104623378,-0.11324985255820672,-0.9882835555184477,0.17453045638027517,-1.5101642160861162,1.3640072021726177,1.206170804213018,-0.2638399832977407,0.32746016782678833,0.36297685278103997,-0.660536666725527,1.4720246539576813,0.7934578047897171,0.03921398779772697,-0.7977646312968549,0.8358876122751778,2.2146344282961086,-1.2310989399862209,1.5787976507912858,0.4277023542750409,0.4714535911523593,-0.6130335395192607,-0.2190006682888357,0.1427114866115953,0.8067733948772188,-0.13196912385356796,0.2225136183425238,0.08970339406595677,0.48568837887014427,-0.09380129204078046,1.3403068833877072,0.39700045699838266,0.9967077564660008,0.7750367176629562,-0.42240095385441434,-1.1585624594425623,-1.0242266547551049,0.1104521392124219,0.4329795547704835,0.9498326109312207,-0.724801288623274,-1.2544871905657253,-0.1121904020466736,1.4924131732855943,1.7574708482455839,0.7844983327501531,1.3843612130266856,-1.3570927209936914,0.41621295533200736,0.8493293037052111,0.9215011811171258,1.0612038021861123,-0.11736195541293107,0.604443712641654,0.7530102489289536,-0.44475351247942607,-0.4074864623740178,0.04532665117285895,-1.710486871473883,-1.180632803318249,-1.0194785020787356,-0.2873878080625621,-0.38313156282065075,0.3519135012856905,-0.892249840949631,-1.5310558380872876,-0.8956839831632065,-0.4089702432090396,-1.5700775629787924,-1.4642421686220066,-1.4852160891896857,0.4242270764137463,-0.7101870094387682,0.43459589920061],\"xaxis\":\"x4\",\"y\":[-0.12440004220450178,0.4288963942097568,-0.8175302115327353,0.6755147919275547,-0.6153104058460623,1.5107790308864097,1.2082100462808407,-0.7482335020176383,-0.8536714641638459,1.1461753667566097,-0.9560439248733608,-0.2623236721376535,0.6206454997331918,-2.7536593672709606,-2.551925579372688,-0.2957299816380712,0.4192856778036452,-0.6953491249380691,0.15475760941880773,0.48617380809704347,0.08693627070381736,1.9967457573480847,0.639658220349158,0.1231035628216723,-0.1992207583298977,-0.1553352084036998,0.02128437987210216,0.9300513211403425,0.10702418457184715,0.14128183963017696,0.3184902640984109,0.15654965123505066,0.0037720975098451907,0.8574989631151201,-1.524873156706026,1.2495059653824245,0.6073264855357553,-0.9875479485181257,-1.322169307348878,0.9584271726985903,0.0782706692974436,-1.704483872141633,0.44115665830040013,0.6622288163647291,0.6363588846845296,-1.734962860184126,-0.2912216451544937,0.4950586402213371,0.557612547389266,-0.06094266421931948,0.6869022064867679,-0.43415825429348504,0.3198079834489686,-0.2523467679119873,0.9131059077485624,-1.4506650781865362,-2.1524237796060404,-2.3173424895459673,-0.9433163103883199,-1.0491851949857525,1.2235234503502748,0.9677371433229299,-0.30767172753788974,-0.13469480143733428,-1.2423329913874182,1.8531858555119145,0.2112700497316099,0.5371965566890142,1.3730674720787115,1.434921988803041,-0.4359874816165674,0.3428091469169689,1.1070321770260403,-1.208607648829903,2.63117347542205,0.8825160660681278,-0.6623201166297342,-0.6306833549066874,-1.219241361331293,0.07525070940976299,0.07519785579755203,2.0305258977375433,0.5110479699335309,-0.7954677473214181,-0.7044593446025139,0.3767881524556384,0.3269154608386359,-0.06190339297760778,-0.4169257177901647,0.07500048057030348,-1.392003397255068,0.4097021895823168,-1.3790534978386195,0.051186016716467796,0.29304475955680076,-1.0396697959748253,1.7724847298638957,0.9293382363986284,0.8248476489508761,-0.22462868204430908],\"yaxis\":\"y4\",\"type\":\"scatter\"},{\"line\":{\"color\":\"rgba(128, 128, 128, 1.0)\",\"dash\":\"solid\",\"shape\":\"linear\",\"width\":1.3},\"marker\":{\"size\":2,\"symbol\":\"circle\"},\"mode\":\"markers\",\"name\":\"B\",\"text\":\"\",\"x\":[-0.12440004220450178,0.4288963942097568,-0.8175302115327353,0.6755147919275547,-0.6153104058460623,1.5107790308864097,1.2082100462808407,-0.7482335020176383,-0.8536714641638459,1.1461753667566097,-0.9560439248733608,-0.2623236721376535,0.6206454997331918,-2.7536593672709606,-2.551925579372688,-0.2957299816380712,0.4192856778036452,-0.6953491249380691,0.15475760941880773,0.48617380809704347,0.08693627070381736,1.9967457573480847,0.639658220349158,0.1231035628216723,-0.1992207583298977,-0.1553352084036998,0.02128437987210216,0.9300513211403425,0.10702418457184715,0.14128183963017696,0.3184902640984109,0.15654965123505066,0.0037720975098451907,0.8574989631151201,-1.524873156706026,1.2495059653824245,0.6073264855357553,-0.9875479485181257,-1.322169307348878,0.9584271726985903,0.0782706692974436,-1.704483872141633,0.44115665830040013,0.6622288163647291,0.6363588846845296,-1.734962860184126,-0.2912216451544937,0.4950586402213371,0.557612547389266,-0.06094266421931948,0.6869022064867679,-0.43415825429348504,0.3198079834489686,-0.2523467679119873,0.9131059077485624,-1.4506650781865362,-2.1524237796060404,-2.3173424895459673,-0.9433163103883199,-1.0491851949857525,1.2235234503502748,0.9677371433229299,-0.30767172753788974,-0.13469480143733428,-1.2423329913874182,1.8531858555119145,0.2112700497316099,0.5371965566890142,1.3730674720787115,1.434921988803041,-0.4359874816165674,0.3428091469169689,1.1070321770260403,-1.208607648829903,2.63117347542205,0.8825160660681278,-0.6623201166297342,-0.6306833549066874,-1.219241361331293,0.07525070940976299,0.07519785579755203,2.0305258977375433,0.5110479699335309,-0.7954677473214181,-0.7044593446025139,0.3767881524556384,0.3269154608386359,-0.06190339297760778,-0.4169257177901647,0.07500048057030348,-1.392003397255068,0.4097021895823168,-1.3790534978386195,0.051186016716467796,0.29304475955680076,-1.0396697959748253,1.7724847298638957,0.9293382363986284,0.8248476489508761,-0.22462868204430908],\"xaxis\":\"x5\",\"y\":[-0.3292325397486561,-0.17306522699908652,-0.6464893575702781,0.035165550743715045,-0.7975115999666432,-1.430328480017783,0.26116558389628347,0.07960050613028784,0.7028102915581942,2.0570382035915005,-0.5068918951122974,-0.7636371272817802,-0.4273639294913696,1.9713152588974416,-0.24174708148803523,-0.5717925095990226,-0.03146683755804916,0.6564120750201057,-0.652438690736643,-0.9056675434703751,-1.076584825682077,1.0776390136450578,-0.356327853903885,-0.5848105957530477,-0.24535200012712352,0.444403228371304,-1.5351513633084226,1.7811615156793303,-0.9247780299987302,0.31197270302490065,0.5550095485631508,-0.6185607852307881,-1.1388129539863996,-1.266412441215088,0.5979035395425927,1.978510932245443,0.06511097243906205,-0.5467623530523096,-1.178444759499918,-0.007838906241009677,-0.49944841820271535,-0.9303042630160602,0.9759709785816392,0.5172466497800202,-1.1444394974675458,-1.7784613832164344,0.6638154792009108,-0.3622885492260522,1.3589544727914418,-0.5015129319685158,-0.5429978811817414,0.10793978065134847,-1.0240025991923145,-1.0308103961262272,1.0974553509396936,-0.2708058472723366,1.5055398215120048,-0.18215823631142825,1.7955669320067176,0.7691852071196374,0.631587772358769,0.10386441645062747,0.07955685662895058,1.429489477411851,-0.08232008806820637,0.7348310083142334,0.3477679524781943,-0.259581561491272,-1.3952556296419927,-0.8754676875006271,1.6260696308729057,0.9479491547842962,0.02757355901737411,-0.15976649349700167,-0.2417770491794492,-0.6396560158854687,0.5211048472942529,-1.7939978388073674,0.46535042408233745,-0.02436409592451531,0.21566909214220353,-2.303823790069858,1.3527164139007362,1.4973038258870448,-1.3369400086152066,0.8013792393872382,1.454200833131103,0.23862706580293014,0.32212990417758075,0.6816575643769174,-0.7105082611355769,-1.109037760046857,0.5375768406827974,0.7037831800759476,-0.7304877597086991,0.8158754408165058,0.9573349468546526,-0.33959823506780945,-2.5038225065530737,-0.4634758667183664],\"yaxis\":\"y5\",\"type\":\"scatter\"},{\"histfunc\":\"count\",\"histnorm\":\"\",\"marker\":{\"color\":\"rgba(55, 128, 191, 1.0)\",\"line\":{\"color\":\"#4D5663\",\"width\":1.3}},\"name\":\"B\",\"nbinsx\":10,\"opacity\":0.8,\"orientation\":\"v\",\"x\":[-0.3292325397486561,-0.17306522699908652,-0.6464893575702781,0.035165550743715045,-0.7975115999666432,-1.430328480017783,0.26116558389628347,0.07960050613028784,0.7028102915581942,2.0570382035915005,-0.5068918951122974,-0.7636371272817802,-0.4273639294913696,1.9713152588974416,-0.24174708148803523,-0.5717925095990226,-0.03146683755804916,0.6564120750201057,-0.652438690736643,-0.9056675434703751,-1.076584825682077,1.0776390136450578,-0.356327853903885,-0.5848105957530477,-0.24535200012712352,0.444403228371304,-1.5351513633084226,1.7811615156793303,-0.9247780299987302,0.31197270302490065,0.5550095485631508,-0.6185607852307881,-1.1388129539863996,-1.266412441215088,0.5979035395425927,1.978510932245443,0.06511097243906205,-0.5467623530523096,-1.178444759499918,-0.007838906241009677,-0.49944841820271535,-0.9303042630160602,0.9759709785816392,0.5172466497800202,-1.1444394974675458,-1.7784613832164344,0.6638154792009108,-0.3622885492260522,1.3589544727914418,-0.5015129319685158,-0.5429978811817414,0.10793978065134847,-1.0240025991923145,-1.0308103961262272,1.0974553509396936,-0.2708058472723366,1.5055398215120048,-0.18215823631142825,1.7955669320067176,0.7691852071196374,0.631587772358769,0.10386441645062747,0.07955685662895058,1.429489477411851,-0.08232008806820637,0.7348310083142334,0.3477679524781943,-0.259581561491272,-1.3952556296419927,-0.8754676875006271,1.6260696308729057,0.9479491547842962,0.02757355901737411,-0.15976649349700167,-0.2417770491794492,-0.6396560158854687,0.5211048472942529,-1.7939978388073674,0.46535042408233745,-0.02436409592451531,0.21566909214220353,-2.303823790069858,1.3527164139007362,1.4973038258870448,-1.3369400086152066,0.8013792393872382,1.454200833131103,0.23862706580293014,0.32212990417758075,0.6816575643769174,-0.7105082611355769,-1.109037760046857,0.5375768406827974,0.7037831800759476,-0.7304877597086991,0.8158754408165058,0.9573349468546526,-0.33959823506780945,-2.5038225065530737,-0.4634758667183664],\"xaxis\":\"x6\",\"yaxis\":\"y6\",\"type\":\"histogram\"},{\"line\":{\"color\":\"rgba(128, 128, 128, 1.0)\",\"dash\":\"solid\",\"shape\":\"linear\",\"width\":1.3},\"marker\":{\"size\":2,\"symbol\":\"circle\"},\"mode\":\"markers\",\"name\":\"B\",\"text\":\"\",\"x\":[0.7222831491201205,-2.296893373557001,-0.9514846621369799,0.4878656536717068,-1.204500985459564,-0.71657070536086,-2.6086380990757,-0.4645106846928102,0.6365012353242219,0.5484487769567372,1.1703198480595607,-0.7668137333809377,-0.5095147635392293,1.1517081315698932,-0.3170121084782209,1.0496050016970198,0.8117472747136824,-0.1962422196878374,0.02093483927191635,1.6629061494081,1.8972009358937585,0.740639715357248,-0.4162362834949462,-0.41027079985010284,-0.8084779105360417,0.7317122954613846,-2.0533645797842586,0.25973848437167424,1.2657945132888098,-1.104292497061763,-0.14908556947487261,-0.9792381695082234,0.19931844185183348,0.6353293320854605,0.23684686481465728,-4.328701907809816e-05,-0.9584400643821612,-1.7721276090380729,0.4885363189218579,0.8153994614809292,1.8047938579452167,-0.11813571543306897,-0.35936368359341364,0.8854602574190062,0.9818414737260609,1.5604974436335939,0.25405005946705567,-0.014545398592931424,1.9537061002678235,-0.16066286797581827,0.41763070616142917,0.3543134045403085,0.6108391995996915,1.2001695196236635,0.10757293156127155,-1.417937377609837,1.0009288475656837,0.07278346072057543,-0.11355648884132326,1.5590187932866566,1.0497455983382646,-0.32828431874117314,1.3496036579759836,-0.09664953478072369,-0.8868912179847095,-0.288538546172643,0.47429991028781676,-0.37077973396465935,2.259007501258914,1.1295705479562885,-0.39940958412144123,2.4976455428056608,0.32944304579035905,-0.30906311859830454,-2.4190144896892,0.3899297113192504,-0.5788404558758334,-1.5868677398077473,0.5053865441811288,1.1846812384427776,0.6972874000180896,0.8203378111149934,-1.317316887758314,-0.9271318760034939,-0.3897576825508226,0.42853222437658417,0.9417738879405237,1.2777586978658635,-0.5348376571806567,0.4265725451300481,0.861345328889857,-0.3599043442189083,-1.4001968597624057,0.6274017191038457,0.4527475878800311,-0.7479558765701726,-0.02854602917519827,1.472720229867451,-0.5925202559393768,-1.4722353158995045],\"xaxis\":\"x7\",\"y\":[-0.3292325397486561,-0.17306522699908652,-0.6464893575702781,0.035165550743715045,-0.7975115999666432,-1.430328480017783,0.26116558389628347,0.07960050613028784,0.7028102915581942,2.0570382035915005,-0.5068918951122974,-0.7636371272817802,-0.4273639294913696,1.9713152588974416,-0.24174708148803523,-0.5717925095990226,-0.03146683755804916,0.6564120750201057,-0.652438690736643,-0.9056675434703751,-1.076584825682077,1.0776390136450578,-0.356327853903885,-0.5848105957530477,-0.24535200012712352,0.444403228371304,-1.5351513633084226,1.7811615156793303,-0.9247780299987302,0.31197270302490065,0.5550095485631508,-0.6185607852307881,-1.1388129539863996,-1.266412441215088,0.5979035395425927,1.978510932245443,0.06511097243906205,-0.5467623530523096,-1.178444759499918,-0.007838906241009677,-0.49944841820271535,-0.9303042630160602,0.9759709785816392,0.5172466497800202,-1.1444394974675458,-1.7784613832164344,0.6638154792009108,-0.3622885492260522,1.3589544727914418,-0.5015129319685158,-0.5429978811817414,0.10793978065134847,-1.0240025991923145,-1.0308103961262272,1.0974553509396936,-0.2708058472723366,1.5055398215120048,-0.18215823631142825,1.7955669320067176,0.7691852071196374,0.631587772358769,0.10386441645062747,0.07955685662895058,1.429489477411851,-0.08232008806820637,0.7348310083142334,0.3477679524781943,-0.259581561491272,-1.3952556296419927,-0.8754676875006271,1.6260696308729057,0.9479491547842962,0.02757355901737411,-0.15976649349700167,-0.2417770491794492,-0.6396560158854687,0.5211048472942529,-1.7939978388073674,0.46535042408233745,-0.02436409592451531,0.21566909214220353,-2.303823790069858,1.3527164139007362,1.4973038258870448,-1.3369400086152066,0.8013792393872382,1.454200833131103,0.23862706580293014,0.32212990417758075,0.6816575643769174,-0.7105082611355769,-1.109037760046857,0.5375768406827974,0.7037831800759476,-0.7304877597086991,0.8158754408165058,0.9573349468546526,-0.33959823506780945,-2.5038225065530737,-0.4634758667183664],\"yaxis\":\"y7\",\"type\":\"scatter\"},{\"line\":{\"color\":\"rgba(128, 128, 128, 1.0)\",\"dash\":\"solid\",\"shape\":\"linear\",\"width\":1.3},\"marker\":{\"size\":2,\"symbol\":\"circle\"},\"mode\":\"markers\",\"name\":\"B\",\"text\":\"\",\"x\":[-0.26522503792552254,-1.1425615889423173,-0.26163701936859746,1.4923223417703781,0.7264289776111549,-2.1464551341213878,-0.1385299663923213,0.5191769097241302,0.24998405485175337,0.04416682569297171,-1.4031880942613844,-0.22515664837213129,-0.15677734354915096,-0.5908021150505197,0.7573157073125226,-0.8191401233988489,0.2665345291796723,1.2162499594215463,-0.21294470021652956,0.5573424770690906,1.6754164535322895,1.2025684752364034,-2.172613082675401,0.7857879937866677,0.33188830353214943,-1.3336058284668435,-2.047347104623378,-0.11324985255820672,-0.9882835555184477,0.17453045638027517,-1.5101642160861162,1.3640072021726177,1.206170804213018,-0.2638399832977407,0.32746016782678833,0.36297685278103997,-0.660536666725527,1.4720246539576813,0.7934578047897171,0.03921398779772697,-0.7977646312968549,0.8358876122751778,2.2146344282961086,-1.2310989399862209,1.5787976507912858,0.4277023542750409,0.4714535911523593,-0.6130335395192607,-0.2190006682888357,0.1427114866115953,0.8067733948772188,-0.13196912385356796,0.2225136183425238,0.08970339406595677,0.48568837887014427,-0.09380129204078046,1.3403068833877072,0.39700045699838266,0.9967077564660008,0.7750367176629562,-0.42240095385441434,-1.1585624594425623,-1.0242266547551049,0.1104521392124219,0.4329795547704835,0.9498326109312207,-0.724801288623274,-1.2544871905657253,-0.1121904020466736,1.4924131732855943,1.7574708482455839,0.7844983327501531,1.3843612130266856,-1.3570927209936914,0.41621295533200736,0.8493293037052111,0.9215011811171258,1.0612038021861123,-0.11736195541293107,0.604443712641654,0.7530102489289536,-0.44475351247942607,-0.4074864623740178,0.04532665117285895,-1.710486871473883,-1.180632803318249,-1.0194785020787356,-0.2873878080625621,-0.38313156282065075,0.3519135012856905,-0.892249840949631,-1.5310558380872876,-0.8956839831632065,-0.4089702432090396,-1.5700775629787924,-1.4642421686220066,-1.4852160891896857,0.4242270764137463,-0.7101870094387682,0.43459589920061],\"xaxis\":\"x8\",\"y\":[-0.3292325397486561,-0.17306522699908652,-0.6464893575702781,0.035165550743715045,-0.7975115999666432,-1.430328480017783,0.26116558389628347,0.07960050613028784,0.7028102915581942,2.0570382035915005,-0.5068918951122974,-0.7636371272817802,-0.4273639294913696,1.9713152588974416,-0.24174708148803523,-0.5717925095990226,-0.03146683755804916,0.6564120750201057,-0.652438690736643,-0.9056675434703751,-1.076584825682077,1.0776390136450578,-0.356327853903885,-0.5848105957530477,-0.24535200012712352,0.444403228371304,-1.5351513633084226,1.7811615156793303,-0.9247780299987302,0.31197270302490065,0.5550095485631508,-0.6185607852307881,-1.1388129539863996,-1.266412441215088,0.5979035395425927,1.978510932245443,0.06511097243906205,-0.5467623530523096,-1.178444759499918,-0.007838906241009677,-0.49944841820271535,-0.9303042630160602,0.9759709785816392,0.5172466497800202,-1.1444394974675458,-1.7784613832164344,0.6638154792009108,-0.3622885492260522,1.3589544727914418,-0.5015129319685158,-0.5429978811817414,0.10793978065134847,-1.0240025991923145,-1.0308103961262272,1.0974553509396936,-0.2708058472723366,1.5055398215120048,-0.18215823631142825,1.7955669320067176,0.7691852071196374,0.631587772358769,0.10386441645062747,0.07955685662895058,1.429489477411851,-0.08232008806820637,0.7348310083142334,0.3477679524781943,-0.259581561491272,-1.3952556296419927,-0.8754676875006271,1.6260696308729057,0.9479491547842962,0.02757355901737411,-0.15976649349700167,-0.2417770491794492,-0.6396560158854687,0.5211048472942529,-1.7939978388073674,0.46535042408233745,-0.02436409592451531,0.21566909214220353,-2.303823790069858,1.3527164139007362,1.4973038258870448,-1.3369400086152066,0.8013792393872382,1.454200833131103,0.23862706580293014,0.32212990417758075,0.6816575643769174,-0.7105082611355769,-1.109037760046857,0.5375768406827974,0.7037831800759476,-0.7304877597086991,0.8158754408165058,0.9573349468546526,-0.33959823506780945,-2.5038225065530737,-0.4634758667183664],\"yaxis\":\"y8\",\"type\":\"scatter\"},{\"line\":{\"color\":\"rgba(128, 128, 128, 1.0)\",\"dash\":\"solid\",\"shape\":\"linear\",\"width\":1.3},\"marker\":{\"size\":2,\"symbol\":\"circle\"},\"mode\":\"markers\",\"name\":\"C\",\"text\":\"\",\"x\":[-0.12440004220450178,0.4288963942097568,-0.8175302115327353,0.6755147919275547,-0.6153104058460623,1.5107790308864097,1.2082100462808407,-0.7482335020176383,-0.8536714641638459,1.1461753667566097,-0.9560439248733608,-0.2623236721376535,0.6206454997331918,-2.7536593672709606,-2.551925579372688,-0.2957299816380712,0.4192856778036452,-0.6953491249380691,0.15475760941880773,0.48617380809704347,0.08693627070381736,1.9967457573480847,0.639658220349158,0.1231035628216723,-0.1992207583298977,-0.1553352084036998,0.02128437987210216,0.9300513211403425,0.10702418457184715,0.14128183963017696,0.3184902640984109,0.15654965123505066,0.0037720975098451907,0.8574989631151201,-1.524873156706026,1.2495059653824245,0.6073264855357553,-0.9875479485181257,-1.322169307348878,0.9584271726985903,0.0782706692974436,-1.704483872141633,0.44115665830040013,0.6622288163647291,0.6363588846845296,-1.734962860184126,-0.2912216451544937,0.4950586402213371,0.557612547389266,-0.06094266421931948,0.6869022064867679,-0.43415825429348504,0.3198079834489686,-0.2523467679119873,0.9131059077485624,-1.4506650781865362,-2.1524237796060404,-2.3173424895459673,-0.9433163103883199,-1.0491851949857525,1.2235234503502748,0.9677371433229299,-0.30767172753788974,-0.13469480143733428,-1.2423329913874182,1.8531858555119145,0.2112700497316099,0.5371965566890142,1.3730674720787115,1.434921988803041,-0.4359874816165674,0.3428091469169689,1.1070321770260403,-1.208607648829903,2.63117347542205,0.8825160660681278,-0.6623201166297342,-0.6306833549066874,-1.219241361331293,0.07525070940976299,0.07519785579755203,2.0305258977375433,0.5110479699335309,-0.7954677473214181,-0.7044593446025139,0.3767881524556384,0.3269154608386359,-0.06190339297760778,-0.4169257177901647,0.07500048057030348,-1.392003397255068,0.4097021895823168,-1.3790534978386195,0.051186016716467796,0.29304475955680076,-1.0396697959748253,1.7724847298638957,0.9293382363986284,0.8248476489508761,-0.22462868204430908],\"xaxis\":\"x9\",\"y\":[0.7222831491201205,-2.296893373557001,-0.9514846621369799,0.4878656536717068,-1.204500985459564,-0.71657070536086,-2.6086380990757,-0.4645106846928102,0.6365012353242219,0.5484487769567372,1.1703198480595607,-0.7668137333809377,-0.5095147635392293,1.1517081315698932,-0.3170121084782209,1.0496050016970198,0.8117472747136824,-0.1962422196878374,0.02093483927191635,1.6629061494081,1.8972009358937585,0.740639715357248,-0.4162362834949462,-0.41027079985010284,-0.8084779105360417,0.7317122954613846,-2.0533645797842586,0.25973848437167424,1.2657945132888098,-1.104292497061763,-0.14908556947487261,-0.9792381695082234,0.19931844185183348,0.6353293320854605,0.23684686481465728,-4.328701907809816e-05,-0.9584400643821612,-1.7721276090380729,0.4885363189218579,0.8153994614809292,1.8047938579452167,-0.11813571543306897,-0.35936368359341364,0.8854602574190062,0.9818414737260609,1.5604974436335939,0.25405005946705567,-0.014545398592931424,1.9537061002678235,-0.16066286797581827,0.41763070616142917,0.3543134045403085,0.6108391995996915,1.2001695196236635,0.10757293156127155,-1.417937377609837,1.0009288475656837,0.07278346072057543,-0.11355648884132326,1.5590187932866566,1.0497455983382646,-0.32828431874117314,1.3496036579759836,-0.09664953478072369,-0.8868912179847095,-0.288538546172643,0.47429991028781676,-0.37077973396465935,2.259007501258914,1.1295705479562885,-0.39940958412144123,2.4976455428056608,0.32944304579035905,-0.30906311859830454,-2.4190144896892,0.3899297113192504,-0.5788404558758334,-1.5868677398077473,0.5053865441811288,1.1846812384427776,0.6972874000180896,0.8203378111149934,-1.317316887758314,-0.9271318760034939,-0.3897576825508226,0.42853222437658417,0.9417738879405237,1.2777586978658635,-0.5348376571806567,0.4265725451300481,0.861345328889857,-0.3599043442189083,-1.4001968597624057,0.6274017191038457,0.4527475878800311,-0.7479558765701726,-0.02854602917519827,1.472720229867451,-0.5925202559393768,-1.4722353158995045],\"yaxis\":\"y9\",\"type\":\"scatter\"},{\"line\":{\"color\":\"rgba(128, 128, 128, 1.0)\",\"dash\":\"solid\",\"shape\":\"linear\",\"width\":1.3},\"marker\":{\"size\":2,\"symbol\":\"circle\"},\"mode\":\"markers\",\"name\":\"C\",\"text\":\"\",\"x\":[-0.3292325397486561,-0.17306522699908652,-0.6464893575702781,0.035165550743715045,-0.7975115999666432,-1.430328480017783,0.26116558389628347,0.07960050613028784,0.7028102915581942,2.0570382035915005,-0.5068918951122974,-0.7636371272817802,-0.4273639294913696,1.9713152588974416,-0.24174708148803523,-0.5717925095990226,-0.03146683755804916,0.6564120750201057,-0.652438690736643,-0.9056675434703751,-1.076584825682077,1.0776390136450578,-0.356327853903885,-0.5848105957530477,-0.24535200012712352,0.444403228371304,-1.5351513633084226,1.7811615156793303,-0.9247780299987302,0.31197270302490065,0.5550095485631508,-0.6185607852307881,-1.1388129539863996,-1.266412441215088,0.5979035395425927,1.978510932245443,0.06511097243906205,-0.5467623530523096,-1.178444759499918,-0.007838906241009677,-0.49944841820271535,-0.9303042630160602,0.9759709785816392,0.5172466497800202,-1.1444394974675458,-1.7784613832164344,0.6638154792009108,-0.3622885492260522,1.3589544727914418,-0.5015129319685158,-0.5429978811817414,0.10793978065134847,-1.0240025991923145,-1.0308103961262272,1.0974553509396936,-0.2708058472723366,1.5055398215120048,-0.18215823631142825,1.7955669320067176,0.7691852071196374,0.631587772358769,0.10386441645062747,0.07955685662895058,1.429489477411851,-0.08232008806820637,0.7348310083142334,0.3477679524781943,-0.259581561491272,-1.3952556296419927,-0.8754676875006271,1.6260696308729057,0.9479491547842962,0.02757355901737411,-0.15976649349700167,-0.2417770491794492,-0.6396560158854687,0.5211048472942529,-1.7939978388073674,0.46535042408233745,-0.02436409592451531,0.21566909214220353,-2.303823790069858,1.3527164139007362,1.4973038258870448,-1.3369400086152066,0.8013792393872382,1.454200833131103,0.23862706580293014,0.32212990417758075,0.6816575643769174,-0.7105082611355769,-1.109037760046857,0.5375768406827974,0.7037831800759476,-0.7304877597086991,0.8158754408165058,0.9573349468546526,-0.33959823506780945,-2.5038225065530737,-0.4634758667183664],\"xaxis\":\"x10\",\"y\":[0.7222831491201205,-2.296893373557001,-0.9514846621369799,0.4878656536717068,-1.204500985459564,-0.71657070536086,-2.6086380990757,-0.4645106846928102,0.6365012353242219,0.5484487769567372,1.1703198480595607,-0.7668137333809377,-0.5095147635392293,1.1517081315698932,-0.3170121084782209,1.0496050016970198,0.8117472747136824,-0.1962422196878374,0.02093483927191635,1.6629061494081,1.8972009358937585,0.740639715357248,-0.4162362834949462,-0.41027079985010284,-0.8084779105360417,0.7317122954613846,-2.0533645797842586,0.25973848437167424,1.2657945132888098,-1.104292497061763,-0.14908556947487261,-0.9792381695082234,0.19931844185183348,0.6353293320854605,0.23684686481465728,-4.328701907809816e-05,-0.9584400643821612,-1.7721276090380729,0.4885363189218579,0.8153994614809292,1.8047938579452167,-0.11813571543306897,-0.35936368359341364,0.8854602574190062,0.9818414737260609,1.5604974436335939,0.25405005946705567,-0.014545398592931424,1.9537061002678235,-0.16066286797581827,0.41763070616142917,0.3543134045403085,0.6108391995996915,1.2001695196236635,0.10757293156127155,-1.417937377609837,1.0009288475656837,0.07278346072057543,-0.11355648884132326,1.5590187932866566,1.0497455983382646,-0.32828431874117314,1.3496036579759836,-0.09664953478072369,-0.8868912179847095,-0.288538546172643,0.47429991028781676,-0.37077973396465935,2.259007501258914,1.1295705479562885,-0.39940958412144123,2.4976455428056608,0.32944304579035905,-0.30906311859830454,-2.4190144896892,0.3899297113192504,-0.5788404558758334,-1.5868677398077473,0.5053865441811288,1.1846812384427776,0.6972874000180896,0.8203378111149934,-1.317316887758314,-0.9271318760034939,-0.3897576825508226,0.42853222437658417,0.9417738879405237,1.2777586978658635,-0.5348376571806567,0.4265725451300481,0.861345328889857,-0.3599043442189083,-1.4001968597624057,0.6274017191038457,0.4527475878800311,-0.7479558765701726,-0.02854602917519827,1.472720229867451,-0.5925202559393768,-1.4722353158995045],\"yaxis\":\"y10\",\"type\":\"scatter\"},{\"histfunc\":\"count\",\"histnorm\":\"\",\"marker\":{\"color\":\"rgba(50, 171, 96, 1.0)\",\"line\":{\"color\":\"#4D5663\",\"width\":1.3}},\"name\":\"C\",\"nbinsx\":10,\"opacity\":0.8,\"orientation\":\"v\",\"x\":[0.7222831491201205,-2.296893373557001,-0.9514846621369799,0.4878656536717068,-1.204500985459564,-0.71657070536086,-2.6086380990757,-0.4645106846928102,0.6365012353242219,0.5484487769567372,1.1703198480595607,-0.7668137333809377,-0.5095147635392293,1.1517081315698932,-0.3170121084782209,1.0496050016970198,0.8117472747136824,-0.1962422196878374,0.02093483927191635,1.6629061494081,1.8972009358937585,0.740639715357248,-0.4162362834949462,-0.41027079985010284,-0.8084779105360417,0.7317122954613846,-2.0533645797842586,0.25973848437167424,1.2657945132888098,-1.104292497061763,-0.14908556947487261,-0.9792381695082234,0.19931844185183348,0.6353293320854605,0.23684686481465728,-4.328701907809816e-05,-0.9584400643821612,-1.7721276090380729,0.4885363189218579,0.8153994614809292,1.8047938579452167,-0.11813571543306897,-0.35936368359341364,0.8854602574190062,0.9818414737260609,1.5604974436335939,0.25405005946705567,-0.014545398592931424,1.9537061002678235,-0.16066286797581827,0.41763070616142917,0.3543134045403085,0.6108391995996915,1.2001695196236635,0.10757293156127155,-1.417937377609837,1.0009288475656837,0.07278346072057543,-0.11355648884132326,1.5590187932866566,1.0497455983382646,-0.32828431874117314,1.3496036579759836,-0.09664953478072369,-0.8868912179847095,-0.288538546172643,0.47429991028781676,-0.37077973396465935,2.259007501258914,1.1295705479562885,-0.39940958412144123,2.4976455428056608,0.32944304579035905,-0.30906311859830454,-2.4190144896892,0.3899297113192504,-0.5788404558758334,-1.5868677398077473,0.5053865441811288,1.1846812384427776,0.6972874000180896,0.8203378111149934,-1.317316887758314,-0.9271318760034939,-0.3897576825508226,0.42853222437658417,0.9417738879405237,1.2777586978658635,-0.5348376571806567,0.4265725451300481,0.861345328889857,-0.3599043442189083,-1.4001968597624057,0.6274017191038457,0.4527475878800311,-0.7479558765701726,-0.02854602917519827,1.472720229867451,-0.5925202559393768,-1.4722353158995045],\"xaxis\":\"x11\",\"yaxis\":\"y11\",\"type\":\"histogram\"},{\"line\":{\"color\":\"rgba(128, 128, 128, 1.0)\",\"dash\":\"solid\",\"shape\":\"linear\",\"width\":1.3},\"marker\":{\"size\":2,\"symbol\":\"circle\"},\"mode\":\"markers\",\"name\":\"C\",\"text\":\"\",\"x\":[-0.26522503792552254,-1.1425615889423173,-0.26163701936859746,1.4923223417703781,0.7264289776111549,-2.1464551341213878,-0.1385299663923213,0.5191769097241302,0.24998405485175337,0.04416682569297171,-1.4031880942613844,-0.22515664837213129,-0.15677734354915096,-0.5908021150505197,0.7573157073125226,-0.8191401233988489,0.2665345291796723,1.2162499594215463,-0.21294470021652956,0.5573424770690906,1.6754164535322895,1.2025684752364034,-2.172613082675401,0.7857879937866677,0.33188830353214943,-1.3336058284668435,-2.047347104623378,-0.11324985255820672,-0.9882835555184477,0.17453045638027517,-1.5101642160861162,1.3640072021726177,1.206170804213018,-0.2638399832977407,0.32746016782678833,0.36297685278103997,-0.660536666725527,1.4720246539576813,0.7934578047897171,0.03921398779772697,-0.7977646312968549,0.8358876122751778,2.2146344282961086,-1.2310989399862209,1.5787976507912858,0.4277023542750409,0.4714535911523593,-0.6130335395192607,-0.2190006682888357,0.1427114866115953,0.8067733948772188,-0.13196912385356796,0.2225136183425238,0.08970339406595677,0.48568837887014427,-0.09380129204078046,1.3403068833877072,0.39700045699838266,0.9967077564660008,0.7750367176629562,-0.42240095385441434,-1.1585624594425623,-1.0242266547551049,0.1104521392124219,0.4329795547704835,0.9498326109312207,-0.724801288623274,-1.2544871905657253,-0.1121904020466736,1.4924131732855943,1.7574708482455839,0.7844983327501531,1.3843612130266856,-1.3570927209936914,0.41621295533200736,0.8493293037052111,0.9215011811171258,1.0612038021861123,-0.11736195541293107,0.604443712641654,0.7530102489289536,-0.44475351247942607,-0.4074864623740178,0.04532665117285895,-1.710486871473883,-1.180632803318249,-1.0194785020787356,-0.2873878080625621,-0.38313156282065075,0.3519135012856905,-0.892249840949631,-1.5310558380872876,-0.8956839831632065,-0.4089702432090396,-1.5700775629787924,-1.4642421686220066,-1.4852160891896857,0.4242270764137463,-0.7101870094387682,0.43459589920061],\"xaxis\":\"x12\",\"y\":[0.7222831491201205,-2.296893373557001,-0.9514846621369799,0.4878656536717068,-1.204500985459564,-0.71657070536086,-2.6086380990757,-0.4645106846928102,0.6365012353242219,0.5484487769567372,1.1703198480595607,-0.7668137333809377,-0.5095147635392293,1.1517081315698932,-0.3170121084782209,1.0496050016970198,0.8117472747136824,-0.1962422196878374,0.02093483927191635,1.6629061494081,1.8972009358937585,0.740639715357248,-0.4162362834949462,-0.41027079985010284,-0.8084779105360417,0.7317122954613846,-2.0533645797842586,0.25973848437167424,1.2657945132888098,-1.104292497061763,-0.14908556947487261,-0.9792381695082234,0.19931844185183348,0.6353293320854605,0.23684686481465728,-4.328701907809816e-05,-0.9584400643821612,-1.7721276090380729,0.4885363189218579,0.8153994614809292,1.8047938579452167,-0.11813571543306897,-0.35936368359341364,0.8854602574190062,0.9818414737260609,1.5604974436335939,0.25405005946705567,-0.014545398592931424,1.9537061002678235,-0.16066286797581827,0.41763070616142917,0.3543134045403085,0.6108391995996915,1.2001695196236635,0.10757293156127155,-1.417937377609837,1.0009288475656837,0.07278346072057543,-0.11355648884132326,1.5590187932866566,1.0497455983382646,-0.32828431874117314,1.3496036579759836,-0.09664953478072369,-0.8868912179847095,-0.288538546172643,0.47429991028781676,-0.37077973396465935,2.259007501258914,1.1295705479562885,-0.39940958412144123,2.4976455428056608,0.32944304579035905,-0.30906311859830454,-2.4190144896892,0.3899297113192504,-0.5788404558758334,-1.5868677398077473,0.5053865441811288,1.1846812384427776,0.6972874000180896,0.8203378111149934,-1.317316887758314,-0.9271318760034939,-0.3897576825508226,0.42853222437658417,0.9417738879405237,1.2777586978658635,-0.5348376571806567,0.4265725451300481,0.861345328889857,-0.3599043442189083,-1.4001968597624057,0.6274017191038457,0.4527475878800311,-0.7479558765701726,-0.02854602917519827,1.472720229867451,-0.5925202559393768,-1.4722353158995045],\"yaxis\":\"y12\",\"type\":\"scatter\"},{\"line\":{\"color\":\"rgba(128, 128, 128, 1.0)\",\"dash\":\"solid\",\"shape\":\"linear\",\"width\":1.3},\"marker\":{\"size\":2,\"symbol\":\"circle\"},\"mode\":\"markers\",\"name\":\"D\",\"text\":\"\",\"x\":[-0.12440004220450178,0.4288963942097568,-0.8175302115327353,0.6755147919275547,-0.6153104058460623,1.5107790308864097,1.2082100462808407,-0.7482335020176383,-0.8536714641638459,1.1461753667566097,-0.9560439248733608,-0.2623236721376535,0.6206454997331918,-2.7536593672709606,-2.551925579372688,-0.2957299816380712,0.4192856778036452,-0.6953491249380691,0.15475760941880773,0.48617380809704347,0.08693627070381736,1.9967457573480847,0.639658220349158,0.1231035628216723,-0.1992207583298977,-0.1553352084036998,0.02128437987210216,0.9300513211403425,0.10702418457184715,0.14128183963017696,0.3184902640984109,0.15654965123505066,0.0037720975098451907,0.8574989631151201,-1.524873156706026,1.2495059653824245,0.6073264855357553,-0.9875479485181257,-1.322169307348878,0.9584271726985903,0.0782706692974436,-1.704483872141633,0.44115665830040013,0.6622288163647291,0.6363588846845296,-1.734962860184126,-0.2912216451544937,0.4950586402213371,0.557612547389266,-0.06094266421931948,0.6869022064867679,-0.43415825429348504,0.3198079834489686,-0.2523467679119873,0.9131059077485624,-1.4506650781865362,-2.1524237796060404,-2.3173424895459673,-0.9433163103883199,-1.0491851949857525,1.2235234503502748,0.9677371433229299,-0.30767172753788974,-0.13469480143733428,-1.2423329913874182,1.8531858555119145,0.2112700497316099,0.5371965566890142,1.3730674720787115,1.434921988803041,-0.4359874816165674,0.3428091469169689,1.1070321770260403,-1.208607648829903,2.63117347542205,0.8825160660681278,-0.6623201166297342,-0.6306833549066874,-1.219241361331293,0.07525070940976299,0.07519785579755203,2.0305258977375433,0.5110479699335309,-0.7954677473214181,-0.7044593446025139,0.3767881524556384,0.3269154608386359,-0.06190339297760778,-0.4169257177901647,0.07500048057030348,-1.392003397255068,0.4097021895823168,-1.3790534978386195,0.051186016716467796,0.29304475955680076,-1.0396697959748253,1.7724847298638957,0.9293382363986284,0.8248476489508761,-0.22462868204430908],\"xaxis\":\"x13\",\"y\":[-0.26522503792552254,-1.1425615889423173,-0.26163701936859746,1.4923223417703781,0.7264289776111549,-2.1464551341213878,-0.1385299663923213,0.5191769097241302,0.24998405485175337,0.04416682569297171,-1.4031880942613844,-0.22515664837213129,-0.15677734354915096,-0.5908021150505197,0.7573157073125226,-0.8191401233988489,0.2665345291796723,1.2162499594215463,-0.21294470021652956,0.5573424770690906,1.6754164535322895,1.2025684752364034,-2.172613082675401,0.7857879937866677,0.33188830353214943,-1.3336058284668435,-2.047347104623378,-0.11324985255820672,-0.9882835555184477,0.17453045638027517,-1.5101642160861162,1.3640072021726177,1.206170804213018,-0.2638399832977407,0.32746016782678833,0.36297685278103997,-0.660536666725527,1.4720246539576813,0.7934578047897171,0.03921398779772697,-0.7977646312968549,0.8358876122751778,2.2146344282961086,-1.2310989399862209,1.5787976507912858,0.4277023542750409,0.4714535911523593,-0.6130335395192607,-0.2190006682888357,0.1427114866115953,0.8067733948772188,-0.13196912385356796,0.2225136183425238,0.08970339406595677,0.48568837887014427,-0.09380129204078046,1.3403068833877072,0.39700045699838266,0.9967077564660008,0.7750367176629562,-0.42240095385441434,-1.1585624594425623,-1.0242266547551049,0.1104521392124219,0.4329795547704835,0.9498326109312207,-0.724801288623274,-1.2544871905657253,-0.1121904020466736,1.4924131732855943,1.7574708482455839,0.7844983327501531,1.3843612130266856,-1.3570927209936914,0.41621295533200736,0.8493293037052111,0.9215011811171258,1.0612038021861123,-0.11736195541293107,0.604443712641654,0.7530102489289536,-0.44475351247942607,-0.4074864623740178,0.04532665117285895,-1.710486871473883,-1.180632803318249,-1.0194785020787356,-0.2873878080625621,-0.38313156282065075,0.3519135012856905,-0.892249840949631,-1.5310558380872876,-0.8956839831632065,-0.4089702432090396,-1.5700775629787924,-1.4642421686220066,-1.4852160891896857,0.4242270764137463,-0.7101870094387682,0.43459589920061],\"yaxis\":\"y13\",\"type\":\"scatter\"},{\"line\":{\"color\":\"rgba(128, 128, 128, 1.0)\",\"dash\":\"solid\",\"shape\":\"linear\",\"width\":1.3},\"marker\":{\"size\":2,\"symbol\":\"circle\"},\"mode\":\"markers\",\"name\":\"D\",\"text\":\"\",\"x\":[-0.3292325397486561,-0.17306522699908652,-0.6464893575702781,0.035165550743715045,-0.7975115999666432,-1.430328480017783,0.26116558389628347,0.07960050613028784,0.7028102915581942,2.0570382035915005,-0.5068918951122974,-0.7636371272817802,-0.4273639294913696,1.9713152588974416,-0.24174708148803523,-0.5717925095990226,-0.03146683755804916,0.6564120750201057,-0.652438690736643,-0.9056675434703751,-1.076584825682077,1.0776390136450578,-0.356327853903885,-0.5848105957530477,-0.24535200012712352,0.444403228371304,-1.5351513633084226,1.7811615156793303,-0.9247780299987302,0.31197270302490065,0.5550095485631508,-0.6185607852307881,-1.1388129539863996,-1.266412441215088,0.5979035395425927,1.978510932245443,0.06511097243906205,-0.5467623530523096,-1.178444759499918,-0.007838906241009677,-0.49944841820271535,-0.9303042630160602,0.9759709785816392,0.5172466497800202,-1.1444394974675458,-1.7784613832164344,0.6638154792009108,-0.3622885492260522,1.3589544727914418,-0.5015129319685158,-0.5429978811817414,0.10793978065134847,-1.0240025991923145,-1.0308103961262272,1.0974553509396936,-0.2708058472723366,1.5055398215120048,-0.18215823631142825,1.7955669320067176,0.7691852071196374,0.631587772358769,0.10386441645062747,0.07955685662895058,1.429489477411851,-0.08232008806820637,0.7348310083142334,0.3477679524781943,-0.259581561491272,-1.3952556296419927,-0.8754676875006271,1.6260696308729057,0.9479491547842962,0.02757355901737411,-0.15976649349700167,-0.2417770491794492,-0.6396560158854687,0.5211048472942529,-1.7939978388073674,0.46535042408233745,-0.02436409592451531,0.21566909214220353,-2.303823790069858,1.3527164139007362,1.4973038258870448,-1.3369400086152066,0.8013792393872382,1.454200833131103,0.23862706580293014,0.32212990417758075,0.6816575643769174,-0.7105082611355769,-1.109037760046857,0.5375768406827974,0.7037831800759476,-0.7304877597086991,0.8158754408165058,0.9573349468546526,-0.33959823506780945,-2.5038225065530737,-0.4634758667183664],\"xaxis\":\"x14\",\"y\":[-0.26522503792552254,-1.1425615889423173,-0.26163701936859746,1.4923223417703781,0.7264289776111549,-2.1464551341213878,-0.1385299663923213,0.5191769097241302,0.24998405485175337,0.04416682569297171,-1.4031880942613844,-0.22515664837213129,-0.15677734354915096,-0.5908021150505197,0.7573157073125226,-0.8191401233988489,0.2665345291796723,1.2162499594215463,-0.21294470021652956,0.5573424770690906,1.6754164535322895,1.2025684752364034,-2.172613082675401,0.7857879937866677,0.33188830353214943,-1.3336058284668435,-2.047347104623378,-0.11324985255820672,-0.9882835555184477,0.17453045638027517,-1.5101642160861162,1.3640072021726177,1.206170804213018,-0.2638399832977407,0.32746016782678833,0.36297685278103997,-0.660536666725527,1.4720246539576813,0.7934578047897171,0.03921398779772697,-0.7977646312968549,0.8358876122751778,2.2146344282961086,-1.2310989399862209,1.5787976507912858,0.4277023542750409,0.4714535911523593,-0.6130335395192607,-0.2190006682888357,0.1427114866115953,0.8067733948772188,-0.13196912385356796,0.2225136183425238,0.08970339406595677,0.48568837887014427,-0.09380129204078046,1.3403068833877072,0.39700045699838266,0.9967077564660008,0.7750367176629562,-0.42240095385441434,-1.1585624594425623,-1.0242266547551049,0.1104521392124219,0.4329795547704835,0.9498326109312207,-0.724801288623274,-1.2544871905657253,-0.1121904020466736,1.4924131732855943,1.7574708482455839,0.7844983327501531,1.3843612130266856,-1.3570927209936914,0.41621295533200736,0.8493293037052111,0.9215011811171258,1.0612038021861123,-0.11736195541293107,0.604443712641654,0.7530102489289536,-0.44475351247942607,-0.4074864623740178,0.04532665117285895,-1.710486871473883,-1.180632803318249,-1.0194785020787356,-0.2873878080625621,-0.38313156282065075,0.3519135012856905,-0.892249840949631,-1.5310558380872876,-0.8956839831632065,-0.4089702432090396,-1.5700775629787924,-1.4642421686220066,-1.4852160891896857,0.4242270764137463,-0.7101870094387682,0.43459589920061],\"yaxis\":\"y14\",\"type\":\"scatter\"},{\"line\":{\"color\":\"rgba(128, 128, 128, 1.0)\",\"dash\":\"solid\",\"shape\":\"linear\",\"width\":1.3},\"marker\":{\"size\":2,\"symbol\":\"circle\"},\"mode\":\"markers\",\"name\":\"D\",\"text\":\"\",\"x\":[0.7222831491201205,-2.296893373557001,-0.9514846621369799,0.4878656536717068,-1.204500985459564,-0.71657070536086,-2.6086380990757,-0.4645106846928102,0.6365012353242219,0.5484487769567372,1.1703198480595607,-0.7668137333809377,-0.5095147635392293,1.1517081315698932,-0.3170121084782209,1.0496050016970198,0.8117472747136824,-0.1962422196878374,0.02093483927191635,1.6629061494081,1.8972009358937585,0.740639715357248,-0.4162362834949462,-0.41027079985010284,-0.8084779105360417,0.7317122954613846,-2.0533645797842586,0.25973848437167424,1.2657945132888098,-1.104292497061763,-0.14908556947487261,-0.9792381695082234,0.19931844185183348,0.6353293320854605,0.23684686481465728,-4.328701907809816e-05,-0.9584400643821612,-1.7721276090380729,0.4885363189218579,0.8153994614809292,1.8047938579452167,-0.11813571543306897,-0.35936368359341364,0.8854602574190062,0.9818414737260609,1.5604974436335939,0.25405005946705567,-0.014545398592931424,1.9537061002678235,-0.16066286797581827,0.41763070616142917,0.3543134045403085,0.6108391995996915,1.2001695196236635,0.10757293156127155,-1.417937377609837,1.0009288475656837,0.07278346072057543,-0.11355648884132326,1.5590187932866566,1.0497455983382646,-0.32828431874117314,1.3496036579759836,-0.09664953478072369,-0.8868912179847095,-0.288538546172643,0.47429991028781676,-0.37077973396465935,2.259007501258914,1.1295705479562885,-0.39940958412144123,2.4976455428056608,0.32944304579035905,-0.30906311859830454,-2.4190144896892,0.3899297113192504,-0.5788404558758334,-1.5868677398077473,0.5053865441811288,1.1846812384427776,0.6972874000180896,0.8203378111149934,-1.317316887758314,-0.9271318760034939,-0.3897576825508226,0.42853222437658417,0.9417738879405237,1.2777586978658635,-0.5348376571806567,0.4265725451300481,0.861345328889857,-0.3599043442189083,-1.4001968597624057,0.6274017191038457,0.4527475878800311,-0.7479558765701726,-0.02854602917519827,1.472720229867451,-0.5925202559393768,-1.4722353158995045],\"xaxis\":\"x15\",\"y\":[-0.26522503792552254,-1.1425615889423173,-0.26163701936859746,1.4923223417703781,0.7264289776111549,-2.1464551341213878,-0.1385299663923213,0.5191769097241302,0.24998405485175337,0.04416682569297171,-1.4031880942613844,-0.22515664837213129,-0.15677734354915096,-0.5908021150505197,0.7573157073125226,-0.8191401233988489,0.2665345291796723,1.2162499594215463,-0.21294470021652956,0.5573424770690906,1.6754164535322895,1.2025684752364034,-2.172613082675401,0.7857879937866677,0.33188830353214943,-1.3336058284668435,-2.047347104623378,-0.11324985255820672,-0.9882835555184477,0.17453045638027517,-1.5101642160861162,1.3640072021726177,1.206170804213018,-0.2638399832977407,0.32746016782678833,0.36297685278103997,-0.660536666725527,1.4720246539576813,0.7934578047897171,0.03921398779772697,-0.7977646312968549,0.8358876122751778,2.2146344282961086,-1.2310989399862209,1.5787976507912858,0.4277023542750409,0.4714535911523593,-0.6130335395192607,-0.2190006682888357,0.1427114866115953,0.8067733948772188,-0.13196912385356796,0.2225136183425238,0.08970339406595677,0.48568837887014427,-0.09380129204078046,1.3403068833877072,0.39700045699838266,0.9967077564660008,0.7750367176629562,-0.42240095385441434,-1.1585624594425623,-1.0242266547551049,0.1104521392124219,0.4329795547704835,0.9498326109312207,-0.724801288623274,-1.2544871905657253,-0.1121904020466736,1.4924131732855943,1.7574708482455839,0.7844983327501531,1.3843612130266856,-1.3570927209936914,0.41621295533200736,0.8493293037052111,0.9215011811171258,1.0612038021861123,-0.11736195541293107,0.604443712641654,0.7530102489289536,-0.44475351247942607,-0.4074864623740178,0.04532665117285895,-1.710486871473883,-1.180632803318249,-1.0194785020787356,-0.2873878080625621,-0.38313156282065075,0.3519135012856905,-0.892249840949631,-1.5310558380872876,-0.8956839831632065,-0.4089702432090396,-1.5700775629787924,-1.4642421686220066,-1.4852160891896857,0.4242270764137463,-0.7101870094387682,0.43459589920061],\"yaxis\":\"y15\",\"type\":\"scatter\"},{\"histfunc\":\"count\",\"histnorm\":\"\",\"marker\":{\"color\":\"rgba(128, 0, 128, 1.0)\",\"line\":{\"color\":\"#4D5663\",\"width\":1.3}},\"name\":\"D\",\"nbinsx\":10,\"opacity\":0.8,\"orientation\":\"v\",\"x\":[-0.26522503792552254,-1.1425615889423173,-0.26163701936859746,1.4923223417703781,0.7264289776111549,-2.1464551341213878,-0.1385299663923213,0.5191769097241302,0.24998405485175337,0.04416682569297171,-1.4031880942613844,-0.22515664837213129,-0.15677734354915096,-0.5908021150505197,0.7573157073125226,-0.8191401233988489,0.2665345291796723,1.2162499594215463,-0.21294470021652956,0.5573424770690906,1.6754164535322895,1.2025684752364034,-2.172613082675401,0.7857879937866677,0.33188830353214943,-1.3336058284668435,-2.047347104623378,-0.11324985255820672,-0.9882835555184477,0.17453045638027517,-1.5101642160861162,1.3640072021726177,1.206170804213018,-0.2638399832977407,0.32746016782678833,0.36297685278103997,-0.660536666725527,1.4720246539576813,0.7934578047897171,0.03921398779772697,-0.7977646312968549,0.8358876122751778,2.2146344282961086,-1.2310989399862209,1.5787976507912858,0.4277023542750409,0.4714535911523593,-0.6130335395192607,-0.2190006682888357,0.1427114866115953,0.8067733948772188,-0.13196912385356796,0.2225136183425238,0.08970339406595677,0.48568837887014427,-0.09380129204078046,1.3403068833877072,0.39700045699838266,0.9967077564660008,0.7750367176629562,-0.42240095385441434,-1.1585624594425623,-1.0242266547551049,0.1104521392124219,0.4329795547704835,0.9498326109312207,-0.724801288623274,-1.2544871905657253,-0.1121904020466736,1.4924131732855943,1.7574708482455839,0.7844983327501531,1.3843612130266856,-1.3570927209936914,0.41621295533200736,0.8493293037052111,0.9215011811171258,1.0612038021861123,-0.11736195541293107,0.604443712641654,0.7530102489289536,-0.44475351247942607,-0.4074864623740178,0.04532665117285895,-1.710486871473883,-1.180632803318249,-1.0194785020787356,-0.2873878080625621,-0.38313156282065075,0.3519135012856905,-0.892249840949631,-1.5310558380872876,-0.8956839831632065,-0.4089702432090396,-1.5700775629787924,-1.4642421686220066,-1.4852160891896857,0.4242270764137463,-0.7101870094387682,0.43459589920061],\"xaxis\":\"x16\",\"yaxis\":\"y16\",\"type\":\"histogram\"}],                        {\"bargap\":0.02,\"legend\":{\"bgcolor\":\"#F5F6F9\",\"font\":{\"color\":\"#4D5663\"}},\"paper_bgcolor\":\"#F5F6F9\",\"plot_bgcolor\":\"#F5F6F9\",\"showlegend\":false,\"template\":{\"data\":{\"barpolar\":[{\"marker\":{\"line\":{\"color\":\"#E5ECF6\",\"width\":0.5},\"pattern\":{\"fillmode\":\"overlay\",\"size\":10,\"solidity\":0.2}},\"type\":\"barpolar\"}],\"bar\":[{\"error_x\":{\"color\":\"#2a3f5f\"},\"error_y\":{\"color\":\"#2a3f5f\"},\"marker\":{\"line\":{\"color\":\"#E5ECF6\",\"width\":0.5},\"pattern\":{\"fillmode\":\"overlay\",\"size\":10,\"solidity\":0.2}},\"type\":\"bar\"}],\"carpet\":[{\"aaxis\":{\"endlinecolor\":\"#2a3f5f\",\"gridcolor\":\"white\",\"linecolor\":\"white\",\"minorgridcolor\":\"white\",\"startlinecolor\":\"#2a3f5f\"},\"baxis\":{\"endlinecolor\":\"#2a3f5f\",\"gridcolor\":\"white\",\"linecolor\":\"white\",\"minorgridcolor\":\"white\",\"startlinecolor\":\"#2a3f5f\"},\"type\":\"carpet\"}],\"choropleth\":[{\"colorbar\":{\"outlinewidth\":0,\"ticks\":\"\"},\"type\":\"choropleth\"}],\"contourcarpet\":[{\"colorbar\":{\"outlinewidth\":0,\"ticks\":\"\"},\"type\":\"contourcarpet\"}],\"contour\":[{\"colorbar\":{\"outlinewidth\":0,\"ticks\":\"\"},\"colorscale\":[[0.0,\"#0d0887\"],[0.1111111111111111,\"#46039f\"],[0.2222222222222222,\"#7201a8\"],[0.3333333333333333,\"#9c179e\"],[0.4444444444444444,\"#bd3786\"],[0.5555555555555556,\"#d8576b\"],[0.6666666666666666,\"#ed7953\"],[0.7777777777777778,\"#fb9f3a\"],[0.8888888888888888,\"#fdca26\"],[1.0,\"#f0f921\"]],\"type\":\"contour\"}],\"heatmapgl\":[{\"colorbar\":{\"outlinewidth\":0,\"ticks\":\"\"},\"colorscale\":[[0.0,\"#0d0887\"],[0.1111111111111111,\"#46039f\"],[0.2222222222222222,\"#7201a8\"],[0.3333333333333333,\"#9c179e\"],[0.4444444444444444,\"#bd3786\"],[0.5555555555555556,\"#d8576b\"],[0.6666666666666666,\"#ed7953\"],[0.7777777777777778,\"#fb9f3a\"],[0.8888888888888888,\"#fdca26\"],[1.0,\"#f0f921\"]],\"type\":\"heatmapgl\"}],\"heatmap\":[{\"colorbar\":{\"outlinewidth\":0,\"ticks\":\"\"},\"colorscale\":[[0.0,\"#0d0887\"],[0.1111111111111111,\"#46039f\"],[0.2222222222222222,\"#7201a8\"],[0.3333333333333333,\"#9c179e\"],[0.4444444444444444,\"#bd3786\"],[0.5555555555555556,\"#d8576b\"],[0.6666666666666666,\"#ed7953\"],[0.7777777777777778,\"#fb9f3a\"],[0.8888888888888888,\"#fdca26\"],[1.0,\"#f0f921\"]],\"type\":\"heatmap\"}],\"histogram2dcontour\":[{\"colorbar\":{\"outlinewidth\":0,\"ticks\":\"\"},\"colorscale\":[[0.0,\"#0d0887\"],[0.1111111111111111,\"#46039f\"],[0.2222222222222222,\"#7201a8\"],[0.3333333333333333,\"#9c179e\"],[0.4444444444444444,\"#bd3786\"],[0.5555555555555556,\"#d8576b\"],[0.6666666666666666,\"#ed7953\"],[0.7777777777777778,\"#fb9f3a\"],[0.8888888888888888,\"#fdca26\"],[1.0,\"#f0f921\"]],\"type\":\"histogram2dcontour\"}],\"histogram2d\":[{\"colorbar\":{\"outlinewidth\":0,\"ticks\":\"\"},\"colorscale\":[[0.0,\"#0d0887\"],[0.1111111111111111,\"#46039f\"],[0.2222222222222222,\"#7201a8\"],[0.3333333333333333,\"#9c179e\"],[0.4444444444444444,\"#bd3786\"],[0.5555555555555556,\"#d8576b\"],[0.6666666666666666,\"#ed7953\"],[0.7777777777777778,\"#fb9f3a\"],[0.8888888888888888,\"#fdca26\"],[1.0,\"#f0f921\"]],\"type\":\"histogram2d\"}],\"histogram\":[{\"marker\":{\"pattern\":{\"fillmode\":\"overlay\",\"size\":10,\"solidity\":0.2}},\"type\":\"histogram\"}],\"mesh3d\":[{\"colorbar\":{\"outlinewidth\":0,\"ticks\":\"\"},\"type\":\"mesh3d\"}],\"parcoords\":[{\"line\":{\"colorbar\":{\"outlinewidth\":0,\"ticks\":\"\"}},\"type\":\"parcoords\"}],\"pie\":[{\"automargin\":true,\"type\":\"pie\"}],\"scatter3d\":[{\"line\":{\"colorbar\":{\"outlinewidth\":0,\"ticks\":\"\"}},\"marker\":{\"colorbar\":{\"outlinewidth\":0,\"ticks\":\"\"}},\"type\":\"scatter3d\"}],\"scattercarpet\":[{\"marker\":{\"colorbar\":{\"outlinewidth\":0,\"ticks\":\"\"}},\"type\":\"scattercarpet\"}],\"scattergeo\":[{\"marker\":{\"colorbar\":{\"outlinewidth\":0,\"ticks\":\"\"}},\"type\":\"scattergeo\"}],\"scattergl\":[{\"marker\":{\"colorbar\":{\"outlinewidth\":0,\"ticks\":\"\"}},\"type\":\"scattergl\"}],\"scattermapbox\":[{\"marker\":{\"colorbar\":{\"outlinewidth\":0,\"ticks\":\"\"}},\"type\":\"scattermapbox\"}],\"scatterpolargl\":[{\"marker\":{\"colorbar\":{\"outlinewidth\":0,\"ticks\":\"\"}},\"type\":\"scatterpolargl\"}],\"scatterpolar\":[{\"marker\":{\"colorbar\":{\"outlinewidth\":0,\"ticks\":\"\"}},\"type\":\"scatterpolar\"}],\"scatter\":[{\"fillpattern\":{\"fillmode\":\"overlay\",\"size\":10,\"solidity\":0.2},\"type\":\"scatter\"}],\"scatterternary\":[{\"marker\":{\"colorbar\":{\"outlinewidth\":0,\"ticks\":\"\"}},\"type\":\"scatterternary\"}],\"surface\":[{\"colorbar\":{\"outlinewidth\":0,\"ticks\":\"\"},\"colorscale\":[[0.0,\"#0d0887\"],[0.1111111111111111,\"#46039f\"],[0.2222222222222222,\"#7201a8\"],[0.3333333333333333,\"#9c179e\"],[0.4444444444444444,\"#bd3786\"],[0.5555555555555556,\"#d8576b\"],[0.6666666666666666,\"#ed7953\"],[0.7777777777777778,\"#fb9f3a\"],[0.8888888888888888,\"#fdca26\"],[1.0,\"#f0f921\"]],\"type\":\"surface\"}],\"table\":[{\"cells\":{\"fill\":{\"color\":\"#EBF0F8\"},\"line\":{\"color\":\"white\"}},\"header\":{\"fill\":{\"color\":\"#C8D4E3\"},\"line\":{\"color\":\"white\"}},\"type\":\"table\"}]},\"layout\":{\"annotationdefaults\":{\"arrowcolor\":\"#2a3f5f\",\"arrowhead\":0,\"arrowwidth\":1},\"autotypenumbers\":\"strict\",\"coloraxis\":{\"colorbar\":{\"outlinewidth\":0,\"ticks\":\"\"}},\"colorscale\":{\"diverging\":[[0,\"#8e0152\"],[0.1,\"#c51b7d\"],[0.2,\"#de77ae\"],[0.3,\"#f1b6da\"],[0.4,\"#fde0ef\"],[0.5,\"#f7f7f7\"],[0.6,\"#e6f5d0\"],[0.7,\"#b8e186\"],[0.8,\"#7fbc41\"],[0.9,\"#4d9221\"],[1,\"#276419\"]],\"sequential\":[[0.0,\"#0d0887\"],[0.1111111111111111,\"#46039f\"],[0.2222222222222222,\"#7201a8\"],[0.3333333333333333,\"#9c179e\"],[0.4444444444444444,\"#bd3786\"],[0.5555555555555556,\"#d8576b\"],[0.6666666666666666,\"#ed7953\"],[0.7777777777777778,\"#fb9f3a\"],[0.8888888888888888,\"#fdca26\"],[1.0,\"#f0f921\"]],\"sequentialminus\":[[0.0,\"#0d0887\"],[0.1111111111111111,\"#46039f\"],[0.2222222222222222,\"#7201a8\"],[0.3333333333333333,\"#9c179e\"],[0.4444444444444444,\"#bd3786\"],[0.5555555555555556,\"#d8576b\"],[0.6666666666666666,\"#ed7953\"],[0.7777777777777778,\"#fb9f3a\"],[0.8888888888888888,\"#fdca26\"],[1.0,\"#f0f921\"]]},\"colorway\":[\"#636efa\",\"#EF553B\",\"#00cc96\",\"#ab63fa\",\"#FFA15A\",\"#19d3f3\",\"#FF6692\",\"#B6E880\",\"#FF97FF\",\"#FECB52\"],\"font\":{\"color\":\"#2a3f5f\"},\"geo\":{\"bgcolor\":\"white\",\"lakecolor\":\"white\",\"landcolor\":\"#E5ECF6\",\"showlakes\":true,\"showland\":true,\"subunitcolor\":\"white\"},\"hoverlabel\":{\"align\":\"left\"},\"hovermode\":\"closest\",\"mapbox\":{\"style\":\"light\"},\"paper_bgcolor\":\"white\",\"plot_bgcolor\":\"#E5ECF6\",\"polar\":{\"angularaxis\":{\"gridcolor\":\"white\",\"linecolor\":\"white\",\"ticks\":\"\"},\"bgcolor\":\"#E5ECF6\",\"radialaxis\":{\"gridcolor\":\"white\",\"linecolor\":\"white\",\"ticks\":\"\"}},\"scene\":{\"xaxis\":{\"backgroundcolor\":\"#E5ECF6\",\"gridcolor\":\"white\",\"gridwidth\":2,\"linecolor\":\"white\",\"showbackground\":true,\"ticks\":\"\",\"zerolinecolor\":\"white\"},\"yaxis\":{\"backgroundcolor\":\"#E5ECF6\",\"gridcolor\":\"white\",\"gridwidth\":2,\"linecolor\":\"white\",\"showbackground\":true,\"ticks\":\"\",\"zerolinecolor\":\"white\"},\"zaxis\":{\"backgroundcolor\":\"#E5ECF6\",\"gridcolor\":\"white\",\"gridwidth\":2,\"linecolor\":\"white\",\"showbackground\":true,\"ticks\":\"\",\"zerolinecolor\":\"white\"}},\"shapedefaults\":{\"line\":{\"color\":\"#2a3f5f\"}},\"ternary\":{\"aaxis\":{\"gridcolor\":\"white\",\"linecolor\":\"white\",\"ticks\":\"\"},\"baxis\":{\"gridcolor\":\"white\",\"linecolor\":\"white\",\"ticks\":\"\"},\"bgcolor\":\"#E5ECF6\",\"caxis\":{\"gridcolor\":\"white\",\"linecolor\":\"white\",\"ticks\":\"\"}},\"title\":{\"x\":0.05},\"xaxis\":{\"automargin\":true,\"gridcolor\":\"white\",\"linecolor\":\"white\",\"ticks\":\"\",\"title\":{\"standoff\":15},\"zerolinecolor\":\"white\",\"zerolinewidth\":2},\"yaxis\":{\"automargin\":true,\"gridcolor\":\"white\",\"linecolor\":\"white\",\"ticks\":\"\",\"title\":{\"standoff\":15},\"zerolinecolor\":\"white\",\"zerolinewidth\":2}}},\"title\":{\"font\":{\"color\":\"#4D5663\"}},\"xaxis\":{\"anchor\":\"y\",\"domain\":[0.0,0.2125],\"gridcolor\":\"#E1E5ED\",\"showgrid\":false,\"tickfont\":{\"color\":\"#4D5663\"},\"title\":{\"font\":{\"color\":\"#4D5663\"},\"text\":\"\"},\"zerolinecolor\":\"#E1E5ED\"},\"yaxis\":{\"anchor\":\"x\",\"domain\":[0.8025,1.0],\"gridcolor\":\"#E1E5ED\",\"showgrid\":false,\"tickfont\":{\"color\":\"#4D5663\"},\"title\":{\"font\":{\"color\":\"#4D5663\"},\"text\":\"\"},\"zerolinecolor\":\"#E1E5ED\"},\"xaxis2\":{\"anchor\":\"y2\",\"domain\":[0.2625,0.475],\"gridcolor\":\"#E1E5ED\",\"showgrid\":false,\"tickfont\":{\"color\":\"#4D5663\"},\"title\":{\"font\":{\"color\":\"#4D5663\"},\"text\":\"\"},\"zerolinecolor\":\"#E1E5ED\"},\"yaxis2\":{\"anchor\":\"x2\",\"domain\":[0.8025,1.0],\"gridcolor\":\"#E1E5ED\",\"showgrid\":false,\"tickfont\":{\"color\":\"#4D5663\"},\"title\":{\"font\":{\"color\":\"#4D5663\"},\"text\":\"\"},\"zerolinecolor\":\"#E1E5ED\"},\"xaxis3\":{\"anchor\":\"y3\",\"domain\":[0.525,0.7375],\"gridcolor\":\"#E1E5ED\",\"showgrid\":false,\"tickfont\":{\"color\":\"#4D5663\"},\"title\":{\"font\":{\"color\":\"#4D5663\"},\"text\":\"\"},\"zerolinecolor\":\"#E1E5ED\"},\"yaxis3\":{\"anchor\":\"x3\",\"domain\":[0.8025,1.0],\"gridcolor\":\"#E1E5ED\",\"showgrid\":false,\"tickfont\":{\"color\":\"#4D5663\"},\"title\":{\"font\":{\"color\":\"#4D5663\"},\"text\":\"\"},\"zerolinecolor\":\"#E1E5ED\"},\"xaxis4\":{\"anchor\":\"y4\",\"domain\":[0.7875,1.0],\"gridcolor\":\"#E1E5ED\",\"showgrid\":false,\"tickfont\":{\"color\":\"#4D5663\"},\"title\":{\"font\":{\"color\":\"#4D5663\"},\"text\":\"\"},\"zerolinecolor\":\"#E1E5ED\"},\"yaxis4\":{\"anchor\":\"x4\",\"domain\":[0.8025,1.0],\"gridcolor\":\"#E1E5ED\",\"showgrid\":false,\"tickfont\":{\"color\":\"#4D5663\"},\"title\":{\"font\":{\"color\":\"#4D5663\"},\"text\":\"\"},\"zerolinecolor\":\"#E1E5ED\"},\"xaxis5\":{\"anchor\":\"y5\",\"domain\":[0.0,0.2125],\"gridcolor\":\"#E1E5ED\",\"showgrid\":false,\"tickfont\":{\"color\":\"#4D5663\"},\"title\":{\"font\":{\"color\":\"#4D5663\"},\"text\":\"\"},\"zerolinecolor\":\"#E1E5ED\"},\"yaxis5\":{\"anchor\":\"x5\",\"domain\":[0.535,0.7325],\"gridcolor\":\"#E1E5ED\",\"showgrid\":false,\"tickfont\":{\"color\":\"#4D5663\"},\"title\":{\"font\":{\"color\":\"#4D5663\"},\"text\":\"\"},\"zerolinecolor\":\"#E1E5ED\"},\"xaxis6\":{\"anchor\":\"y6\",\"domain\":[0.2625,0.475],\"gridcolor\":\"#E1E5ED\",\"showgrid\":false,\"tickfont\":{\"color\":\"#4D5663\"},\"title\":{\"font\":{\"color\":\"#4D5663\"},\"text\":\"\"},\"zerolinecolor\":\"#E1E5ED\"},\"yaxis6\":{\"anchor\":\"x6\",\"domain\":[0.535,0.7325],\"gridcolor\":\"#E1E5ED\",\"showgrid\":false,\"tickfont\":{\"color\":\"#4D5663\"},\"title\":{\"font\":{\"color\":\"#4D5663\"},\"text\":\"\"},\"zerolinecolor\":\"#E1E5ED\"},\"xaxis7\":{\"anchor\":\"y7\",\"domain\":[0.525,0.7375],\"gridcolor\":\"#E1E5ED\",\"showgrid\":false,\"tickfont\":{\"color\":\"#4D5663\"},\"title\":{\"font\":{\"color\":\"#4D5663\"},\"text\":\"\"},\"zerolinecolor\":\"#E1E5ED\"},\"yaxis7\":{\"anchor\":\"x7\",\"domain\":[0.535,0.7325],\"gridcolor\":\"#E1E5ED\",\"showgrid\":false,\"tickfont\":{\"color\":\"#4D5663\"},\"title\":{\"font\":{\"color\":\"#4D5663\"},\"text\":\"\"},\"zerolinecolor\":\"#E1E5ED\"},\"xaxis8\":{\"anchor\":\"y8\",\"domain\":[0.7875,1.0],\"gridcolor\":\"#E1E5ED\",\"showgrid\":false,\"tickfont\":{\"color\":\"#4D5663\"},\"title\":{\"font\":{\"color\":\"#4D5663\"},\"text\":\"\"},\"zerolinecolor\":\"#E1E5ED\"},\"yaxis8\":{\"anchor\":\"x8\",\"domain\":[0.535,0.7325],\"gridcolor\":\"#E1E5ED\",\"showgrid\":false,\"tickfont\":{\"color\":\"#4D5663\"},\"title\":{\"font\":{\"color\":\"#4D5663\"},\"text\":\"\"},\"zerolinecolor\":\"#E1E5ED\"},\"xaxis9\":{\"anchor\":\"y9\",\"domain\":[0.0,0.2125],\"gridcolor\":\"#E1E5ED\",\"showgrid\":false,\"tickfont\":{\"color\":\"#4D5663\"},\"title\":{\"font\":{\"color\":\"#4D5663\"},\"text\":\"\"},\"zerolinecolor\":\"#E1E5ED\"},\"yaxis9\":{\"anchor\":\"x9\",\"domain\":[0.2675,0.465],\"gridcolor\":\"#E1E5ED\",\"showgrid\":false,\"tickfont\":{\"color\":\"#4D5663\"},\"title\":{\"font\":{\"color\":\"#4D5663\"},\"text\":\"\"},\"zerolinecolor\":\"#E1E5ED\"},\"xaxis10\":{\"anchor\":\"y10\",\"domain\":[0.2625,0.475],\"gridcolor\":\"#E1E5ED\",\"showgrid\":false,\"tickfont\":{\"color\":\"#4D5663\"},\"title\":{\"font\":{\"color\":\"#4D5663\"},\"text\":\"\"},\"zerolinecolor\":\"#E1E5ED\"},\"yaxis10\":{\"anchor\":\"x10\",\"domain\":[0.2675,0.465],\"gridcolor\":\"#E1E5ED\",\"showgrid\":false,\"tickfont\":{\"color\":\"#4D5663\"},\"title\":{\"font\":{\"color\":\"#4D5663\"},\"text\":\"\"},\"zerolinecolor\":\"#E1E5ED\"},\"xaxis11\":{\"anchor\":\"y11\",\"domain\":[0.525,0.7375],\"gridcolor\":\"#E1E5ED\",\"showgrid\":false,\"tickfont\":{\"color\":\"#4D5663\"},\"title\":{\"font\":{\"color\":\"#4D5663\"},\"text\":\"\"},\"zerolinecolor\":\"#E1E5ED\"},\"yaxis11\":{\"anchor\":\"x11\",\"domain\":[0.2675,0.465],\"gridcolor\":\"#E1E5ED\",\"showgrid\":false,\"tickfont\":{\"color\":\"#4D5663\"},\"title\":{\"font\":{\"color\":\"#4D5663\"},\"text\":\"\"},\"zerolinecolor\":\"#E1E5ED\"},\"xaxis12\":{\"anchor\":\"y12\",\"domain\":[0.7875,1.0],\"gridcolor\":\"#E1E5ED\",\"showgrid\":false,\"tickfont\":{\"color\":\"#4D5663\"},\"title\":{\"font\":{\"color\":\"#4D5663\"},\"text\":\"\"},\"zerolinecolor\":\"#E1E5ED\"},\"yaxis12\":{\"anchor\":\"x12\",\"domain\":[0.2675,0.465],\"gridcolor\":\"#E1E5ED\",\"showgrid\":false,\"tickfont\":{\"color\":\"#4D5663\"},\"title\":{\"font\":{\"color\":\"#4D5663\"},\"text\":\"\"},\"zerolinecolor\":\"#E1E5ED\"},\"xaxis13\":{\"anchor\":\"y13\",\"domain\":[0.0,0.2125],\"gridcolor\":\"#E1E5ED\",\"showgrid\":false,\"tickfont\":{\"color\":\"#4D5663\"},\"title\":{\"font\":{\"color\":\"#4D5663\"},\"text\":\"\"},\"zerolinecolor\":\"#E1E5ED\"},\"yaxis13\":{\"anchor\":\"x13\",\"domain\":[0.0,0.1975],\"gridcolor\":\"#E1E5ED\",\"showgrid\":false,\"tickfont\":{\"color\":\"#4D5663\"},\"title\":{\"font\":{\"color\":\"#4D5663\"},\"text\":\"\"},\"zerolinecolor\":\"#E1E5ED\"},\"xaxis14\":{\"anchor\":\"y14\",\"domain\":[0.2625,0.475],\"gridcolor\":\"#E1E5ED\",\"showgrid\":false,\"tickfont\":{\"color\":\"#4D5663\"},\"title\":{\"font\":{\"color\":\"#4D5663\"},\"text\":\"\"},\"zerolinecolor\":\"#E1E5ED\"},\"yaxis14\":{\"anchor\":\"x14\",\"domain\":[0.0,0.1975],\"gridcolor\":\"#E1E5ED\",\"showgrid\":false,\"tickfont\":{\"color\":\"#4D5663\"},\"title\":{\"font\":{\"color\":\"#4D5663\"},\"text\":\"\"},\"zerolinecolor\":\"#E1E5ED\"},\"xaxis15\":{\"anchor\":\"y15\",\"domain\":[0.525,0.7375],\"gridcolor\":\"#E1E5ED\",\"showgrid\":false,\"tickfont\":{\"color\":\"#4D5663\"},\"title\":{\"font\":{\"color\":\"#4D5663\"},\"text\":\"\"},\"zerolinecolor\":\"#E1E5ED\"},\"yaxis15\":{\"anchor\":\"x15\",\"domain\":[0.0,0.1975],\"gridcolor\":\"#E1E5ED\",\"showgrid\":false,\"tickfont\":{\"color\":\"#4D5663\"},\"title\":{\"font\":{\"color\":\"#4D5663\"},\"text\":\"\"},\"zerolinecolor\":\"#E1E5ED\"},\"xaxis16\":{\"anchor\":\"y16\",\"domain\":[0.7875,1.0],\"gridcolor\":\"#E1E5ED\",\"showgrid\":false,\"tickfont\":{\"color\":\"#4D5663\"},\"title\":{\"font\":{\"color\":\"#4D5663\"},\"text\":\"\"},\"zerolinecolor\":\"#E1E5ED\"},\"yaxis16\":{\"anchor\":\"x16\",\"domain\":[0.0,0.1975],\"gridcolor\":\"#E1E5ED\",\"showgrid\":false,\"tickfont\":{\"color\":\"#4D5663\"},\"title\":{\"font\":{\"color\":\"#4D5663\"},\"text\":\"\"},\"zerolinecolor\":\"#E1E5ED\"}},                        {\"showLink\": true, \"linkText\": \"Export to plot.ly\", \"plotlyServerURL\": \"https://plot.ly\", \"responsive\": true}                    ).then(function(){\n",
       "                            \n",
       "var gd = document.getElementById('9fcd3765-a8a6-41fa-8bd1-bd5f1e7ef311');\n",
       "var x = new MutationObserver(function (mutations, observer) {{\n",
       "        var display = window.getComputedStyle(gd).display;\n",
       "        if (!display || display === 'none') {{\n",
       "            console.log([gd, 'removed!']);\n",
       "            Plotly.purge(gd);\n",
       "            observer.disconnect();\n",
       "        }}\n",
       "}});\n",
       "\n",
       "// Listen for the removal of the full notebook cells\n",
       "var notebookContainer = gd.closest('#notebook-container');\n",
       "if (notebookContainer) {{\n",
       "    x.observe(notebookContainer, {childList: true});\n",
       "}}\n",
       "\n",
       "// Listen for the clearing of the current output cell\n",
       "var outputEl = gd.closest('.output');\n",
       "if (outputEl) {{\n",
       "    x.observe(outputEl, {childList: true});\n",
       "}}\n",
       "\n",
       "                        })                };                });            </script>        </div>"
      ]
     },
     "metadata": {},
     "output_type": "display_data"
    }
   ],
   "source": [
    "df.scatter_matrix()"
   ]
  }
 ],
 "metadata": {
  "kernelspec": {
   "display_name": "Python 3",
   "language": "python",
   "name": "python3"
  },
  "language_info": {
   "codemirror_mode": {
    "name": "ipython",
    "version": 3
   },
   "file_extension": ".py",
   "mimetype": "text/x-python",
   "name": "python",
   "nbconvert_exporter": "python",
   "pygments_lexer": "ipython3",
   "version": "3.11.5"
  }
 },
 "nbformat": 4,
 "nbformat_minor": 0
}
